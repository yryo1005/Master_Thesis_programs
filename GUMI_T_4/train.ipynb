{
 "cells": [
  {
   "cell_type": "markdown",
   "metadata": {},
   "source": [
    "# Cross Attentionが2層, Layer Normalization無し"
   ]
  },
  {
   "cell_type": "markdown",
   "metadata": {},
   "source": [
    "- イラスト画像を学習に用いない\n",
    "- 文字が含まれる画像を学習に用いない\n",
    "- 固有名詞を含む大喜利を学習に用いない\n",
    "- 大喜利の最小の星の数: 0\n",
    "- 単語の最小出現回数: 32\n",
    "- 大喜利の最小単語数: 4\n",
    "- 大喜利の最大単語数: 31\n",
    "- EPOCH: 25\n",
    "- BATCH SIZE: 64\n",
    "- LEARNING RATE: 0.0001\n",
    "- FEATURE DIM: 1024\n",
    "- NUM_HEAD: 8"
   ]
  },
  {
   "cell_type": "code",
   "execution_count": null,
   "metadata": {},
   "outputs": [
    {
     "name": "stdout",
     "output_type": "stream",
     "text": [
      "19\n",
      "2025-01-08 14:57:56.680148: E external/local_xla/xla/stream_executor/cuda/cuda_fft.cc:485] Unable to register cuFFT factory: Attempting to register factory for plugin cuFFT when one has already been registered\n",
      "2025-01-08 14:57:56.838697: E external/local_xla/xla/stream_executor/cuda/cuda_dnn.cc:8454] Unable to register cuDNN factory: Attempting to register factory for plugin cuDNN when one has already been registered\n",
      "2025-01-08 14:57:56.881099: E external/local_xla/xla/stream_executor/cuda/cuda_blas.cc:1452] Unable to register cuBLAS factory: Attempting to register factory for plugin cuBLAS when one has already been registered\n",
      "2025-01-08 14:57:57.201538: I tensorflow/core/platform/cpu_feature_guard.cc:210] This TensorFlow binary is optimized to use available CPU instructions in performance-critical operations.\n",
      "To enable the following instructions: AVX2 FMA, in other operations, rebuild TensorFlow with the appropriate compiler flags.\n",
      "2025-01-08 14:57:58.498330: W tensorflow/compiler/tf2tensorrt/utils/py_utils.cc:38] TF-TRT Warning: Could not find TensorRT\n",
      "Cloning into 'Japanese_BPEEncoder_V2'...\n",
      "remote: Enumerating objects: 43, done.\u001b[K\n",
      "remote: Counting objects: 100% (43/43), done.\u001b[K\n",
      "remote: Compressing objects: 100% (26/26), done.\u001b[K\n",
      "remote: Total 43 (delta 24), reused 35 (delta 16), pack-reused 0 (from 0)\u001b[K\n",
      "Receiving objects: 100% (43/43), 1.14 MiB | 5.51 MiB/s, done.\n",
      "Resolving deltas: 100% (24/24), done.\n",
      "result directory: ../../results/GUMI_T/False_False_False_0_32_4_31_25_64_0.0001_1024_8/\n",
      "100%|█████████████████████████████████| 668970/668970 [06:48<00:00, 1637.31it/s]\n",
      "100%|█████████████████████████████| 2135982/2135982 [00:03<00:00, 688406.12it/s]\n",
      "100%|█████████████████████████████| 2051435/2051435 [00:02<00:00, 968920.23it/s]\n",
      "学習に用いる大喜利の数: 2030920\n",
      " 検証に用いる大喜利の数: 20515\n",
      " 使用する画像の数: 244286\n",
      " 単語の種類: 16705\n",
      "100%|███████████████████████████████| 244286/244286 [00:00<00:00, 308997.96it/s]\n",
      "100%|█████████████████████████████| 2030920/2030920 [00:06<00:00, 292529.28it/s]\n",
      "num data: 2030920\n",
      "100%|█████████████████████████████████| 20515/20515 [00:00<00:00, 599282.27it/s]\n",
      "num data: 20515\n",
      "Epoch 1/25: 100%|█| 31734/31734 [1:11:51<00:00,  7.36it/s, train_loss=4.4, train\n",
      "Evaluating: 100%|█| 321/321 [00:45<00:00,  7.09it/s, test_loss=4.1, test_accurac\n",
      "Epoch: 1/25, Train Loss: 4.3960, Train Accuracy: 0.2871, Test Loss: 4.0776, Test Accuracy: 0.3117\n",
      "-------------------------\n",
      "Epoch 2/25: 100%|█| 31734/31734 [1:11:57<00:00,  7.35it/s, train_loss=3.91, trai\n",
      "Evaluating: 100%|█| 321/321 [00:48<00:00,  6.68it/s, test_loss=3.97, test_accura\n",
      "Epoch: 2/25, Train Loss: 3.9073, Train Accuracy: 0.3253, Test Loss: 3.9498, Test Accuracy: 0.3249\n",
      "-------------------------\n",
      "Epoch 3/25: 100%|█| 31734/31734 [1:12:00<00:00,  7.34it/s, train_loss=3.74, trai\n",
      "Evaluating: 100%|█| 321/321 [00:47<00:00,  6.76it/s, test_loss=3.92, test_accura\n",
      "Epoch: 3/25, Train Loss: 3.7366, Train Accuracy: 0.3401, Test Loss: 3.9157, Test Accuracy: 0.3297\n",
      "-------------------------\n",
      "Epoch 4/25: 100%|█| 31734/31734 [1:12:06<00:00,  7.33it/s, train_loss=3.63, trai\n",
      "Evaluating: 100%|█| 321/321 [00:48<00:00,  6.68it/s, test_loss=3.91, test_accura\n",
      "Epoch: 4/25, Train Loss: 3.6261, Train Accuracy: 0.3500, Test Loss: 3.9125, Test Accuracy: 0.3311\n",
      "-------------------------\n",
      "Epoch 5/25: 100%|█| 31734/31734 [1:12:02<00:00,  7.34it/s, train_loss=3.54, trai\n",
      "Evaluating: 100%|█| 321/321 [00:51<00:00,  6.28it/s, test_loss=3.94, test_accura\n",
      "Epoch: 5/25, Train Loss: 3.5428, Train Accuracy: 0.3578, Test Loss: 3.9261, Test Accuracy: 0.3318\n",
      "-------------------------\n",
      "Epoch 6/25:  81%|▊| 25686/31734 [1:00:00<11:01,  9.14it/s, train_loss=3.48, trai"
     ]
    }
   ],
   "source": [
    "import os\n",
    "\n",
    "num_workers = int(os.cpu_count() * 0.7)\n",
    "print(num_workers)\n",
    "\n",
    "!python train.py \\\n",
    "    --num_workers {num_workers} \\\n",
    "    --min_star 0 \\\n",
    "    --min_apper_word 32 \\\n",
    "    --min_sentence_length 4\\\n",
    "    --max_sentence_length 31 \\\n",
    "    --epoch 25 \\\n",
    "    --batch_size 64 \\\n",
    "    --learning_rate 0.0001 \\\n",
    "    --feature_dim 1024 \\\n",
    "    --num_heads 8"
   ]
  },
  {
   "cell_type": "markdown",
   "metadata": {},
   "source": [
    "- イラスト画像を学習に用いない\n",
    "- 文字が含まれる画像を学習に用いない\n",
    "- 固有名詞を含む大喜利を学習に用いない\n",
    "- 大喜利の最小の星の数: 0\n",
    "- 単語の最小出現回数: 32\n",
    "- 大喜利の最小単語数: 4\n",
    "- 大喜利の最大単語数: 31\n",
    "- EPOCH: 25\n",
    "- BATCH SIZE: **256**\n",
    "- LEARNING RATE: 0.0001\n",
    "- FEATURE DIM: 1024\n",
    "- NUM_HEAD: 8"
   ]
  },
  {
   "cell_type": "code",
   "execution_count": null,
   "metadata": {},
   "outputs": [],
   "source": [
    "import os\n",
    "\n",
    "num_workers = int(os.cpu_count() * 0.8)\n",
    "print(num_workers)\n",
    "\n",
    "!python train.py \\\n",
    "    --num_workers {num_workers} \\\n",
    "    --min_star 0 \\\n",
    "    --min_apper_word 32 \\\n",
    "    --min_sentence_length 4\\\n",
    "    --max_sentence_length 31 \\\n",
    "    --epoch 25 \\\n",
    "    --batch_size 256 \\\n",
    "    --learning_rate 0.0001 \\\n",
    "    --feature_dim 1024 \\\n",
    "    --num_heads 8"
   ]
  },
  {
   "cell_type": "markdown",
   "metadata": {},
   "source": [
    "- イラスト画像を学習に用いない\n",
    "- 文字が含まれる画像を学習に用いない\n",
    "- 固有名詞を含む大喜利を学習に用いない\n",
    "- 大喜利の最小の星の数: 0\n",
    "- 単語の最小出現回数: 32\n",
    "- 大喜利の最小単語数: 4\n",
    "- 大喜利の最大単語数: 31\n",
    "- EPOCH: 25\n",
    "- BATCH SIZE: 32\n",
    "- LEARNING RATE: 0.0001\n",
    "- FEATURE DIM: 1024\n",
    "- NUM_HEAD: 8"
   ]
  },
  {
   "cell_type": "code",
   "execution_count": null,
   "metadata": {},
   "outputs": [],
   "source": [
    "import os\n",
    "\n",
    "num_workers = int(os.cpu_count() * 0.8)\n",
    "print(num_workers)\n",
    "\n",
    "!python train.py \\\n",
    "    --num_workers {num_workers} \\\n",
    "    --min_star 0 \\\n",
    "    --min_apper_word 32 \\\n",
    "    --min_sentence_length 4\\\n",
    "    --max_sentence_length 31 \\\n",
    "    --epoch 25 \\\n",
    "    --batch_size 32 \\\n",
    "    --learning_rate 0.0001 \\\n",
    "    --feature_dim 1024 \\\n",
    "    --num_heads 8"
   ]
  },
  {
   "cell_type": "markdown",
   "metadata": {},
   "source": [
    "# 2024/1/6"
   ]
  },
  {
   "cell_type": "markdown",
   "metadata": {},
   "source": [
    "- イラスト画像を学習に用いない\n",
    "- 文字が含まれる画像を学習に用いない\n",
    "- 固有名詞を含む大喜利を学習に用いない\n",
    "- 大喜利の最小の星の数: 0\n",
    "- 単語の最小出現回数: 32\n",
    "- 大喜利の最小単語数: 4\n",
    "- 大喜利の最大単語数: 31\n",
    "- EPOCH: 25\n",
    "- BATCH SIZE: **128**\n",
    "- LEARNING RATE: 0.0001\n",
    "- FEATURE DIM: 1024\n",
    "- NUM_HEAD: 8"
   ]
  },
  {
   "cell_type": "code",
   "execution_count": null,
   "metadata": {},
   "outputs": [],
   "source": [
    "import os\n",
    "\n",
    "num_workers = int(os.cpu_count() * 0.8)\n",
    "print(num_workers)\n",
    "\n",
    "!python train.py \\\n",
    "    --num_workers {num_workers} \\\n",
    "    --min_star 0 \\\n",
    "    --min_apper_word 32 \\\n",
    "    --min_sentence_length 4\\\n",
    "    --max_sentence_length 31 \\\n",
    "    --epoch 25 \\\n",
    "    --batch_size 128 \\\n",
    "    --learning_rate 0.0001 \\\n",
    "    --feature_dim 1024 \\\n",
    "    --num_heads 8"
   ]
  },
  {
   "cell_type": "markdown",
   "metadata": {},
   "source": [
    "- イラスト画像を学習に用いない\n",
    "- 文字が含まれる画像を学習に用いない\n",
    "- 固有名詞を含む大喜利を学習に用いない\n",
    "- 大喜利の最小の星の数: 0\n",
    "- 単語の最小出現回数: 32\n",
    "- 大喜利の最小単語数: 4\n",
    "- 大喜利の最大単語数: 31\n",
    "- EPOCH: 25\n",
    "- BATCH SIZE: 512\n",
    "- LEARNING RATE: 0.001\n",
    "- FEATURE DIM: 1024\n",
    "- NUM_HEAD: 4"
   ]
  },
  {
   "cell_type": "code",
   "execution_count": null,
   "metadata": {},
   "outputs": [
    {
     "name": "stdout",
     "output_type": "stream",
     "text": [
      "22\n"
     ]
    }
   ],
   "source": [
    "import os\n",
    "\n",
    "num_workers = int(os.cpu_count() * 0.8)\n",
    "print(num_workers)\n",
    "\n",
    "!python train.py \\\n",
    "    --num_workers {num_workers} \\\n",
    "    --min_star 0 \\\n",
    "    --min_apper_word 32 \\\n",
    "    --min_sentence_length 4\\\n",
    "    --max_sentence_length 31 \\\n",
    "    --epoch 25 \\\n",
    "    --batch_size 512 \\\n",
    "    --learning_rate 0.001 \\\n",
    "    --feature_dim 1024 \\\n",
    "    --num_heads 4"
   ]
  },
  {
   "cell_type": "markdown",
   "metadata": {},
   "source": [
    "- イラスト画像を学習に用いない\n",
    "- 文字が含まれる画像を学習に用いない\n",
    "- 固有名詞を含む大喜利を学習に用いない\n",
    "- 大喜利の最小の星の数: 0\n",
    "- 単語の最小出現回数: 32\n",
    "- 大喜利の最小単語数: 4\n",
    "- 大喜利の最大単語数: 31\n",
    "- EPOCH: 25\n",
    "- BATCH SIZE: **1024**\n",
    "- LEARNING RATE: 0.001\n",
    "- FEATURE DIM: 1024\n",
    "- NUM_HEAD: 4"
   ]
  },
  {
   "cell_type": "code",
   "execution_count": null,
   "metadata": {},
   "outputs": [],
   "source": [
    "import os\n",
    "\n",
    "num_workers = int(os.cpu_count() * 0.8)\n",
    "print(num_workers)\n",
    "\n",
    "!python train.py \\\n",
    "    --num_workers {num_workers} \\\n",
    "    --min_star 0 \\\n",
    "    --min_apper_word 32 \\\n",
    "    --min_sentence_length 4\\\n",
    "    --max_sentence_length 31 \\\n",
    "    --epoch 25 \\\n",
    "    --batch_size 1024 \\\n",
    "    --learning_rate 0.001 \\\n",
    "    --feature_dim 1024 \\\n",
    "    --num_heads 4"
   ]
  },
  {
   "cell_type": "markdown",
   "metadata": {},
   "source": [
    "- イラスト画像を学習に用いない\n",
    "- 文字が含まれる画像を学習に用いない\n",
    "- 固有名詞を含む大喜利を学習に用いない\n",
    "- 大喜利の最小の星の数: 0\n",
    "- 単語の最小出現回数: 32\n",
    "- 大喜利の最小単語数: 4\n",
    "- 大喜利の最大単語数: 31\n",
    "- EPOCH: 25\n",
    "- BATCH SIZE: **256**\n",
    "- LEARNING RATE: 0.001\n",
    "- FEATURE DIM: 1024\n",
    "- NUM_HEAD: 4"
   ]
  },
  {
   "cell_type": "code",
   "execution_count": null,
   "metadata": {},
   "outputs": [],
   "source": [
    "import os\n",
    "\n",
    "num_workers = int(os.cpu_count() * 0.8)\n",
    "print(num_workers)\n",
    "\n",
    "!python train.py \\\n",
    "    --num_workers {num_workers} \\\n",
    "    --min_star 0 \\\n",
    "    --min_apper_word 32 \\\n",
    "    --min_sentence_length 4\\\n",
    "    --max_sentence_length 31 \\\n",
    "    --epoch 25 \\\n",
    "    --batch_size 256 \\\n",
    "    --learning_rate 0.001 \\\n",
    "    --feature_dim 1024 \\\n",
    "    --num_heads 4"
   ]
  },
  {
   "cell_type": "markdown",
   "metadata": {},
   "source": [
    "- イラスト画像を学習に用いない\n",
    "- 文字が含まれる画像を学習に用いない\n",
    "- 固有名詞を含む大喜利を学習に用いない\n",
    "- 大喜利の最小の星の数: 0\n",
    "- 単語の最小出現回数: 32\n",
    "- 大喜利の最小単語数: 4\n",
    "- 大喜利の最大単語数: 31\n",
    "- EPOCH: 25\n",
    "- BATCH SIZE: 512\n",
    "- LEARNING RATE: **0.0001**\n",
    "- FEATURE DIM: 1024\n",
    "- NUM_HEAD: 4"
   ]
  },
  {
   "cell_type": "code",
   "execution_count": null,
   "metadata": {},
   "outputs": [],
   "source": [
    "import os\n",
    "\n",
    "num_workers = int(os.cpu_count() * 0.8)\n",
    "print(num_workers)\n",
    "\n",
    "!python train.py \\\n",
    "    --num_workers {num_workers} \\\n",
    "    --min_star 0 \\\n",
    "    --min_apper_word 32 \\\n",
    "    --min_sentence_length 4\\\n",
    "    --max_sentence_length 31 \\\n",
    "    --epoch 25 \\\n",
    "    --batch_size 512 \\\n",
    "    --learning_rate 0.0001 \\\n",
    "    --feature_dim 1024 \\\n",
    "    --num_heads 4"
   ]
  },
  {
   "cell_type": "markdown",
   "metadata": {},
   "source": [
    "- イラスト画像を学習に用いない\n",
    "- 文字が含まれる画像を学習に用いない\n",
    "- 固有名詞を含む大喜利を学習に用いない\n",
    "- 大喜利の最小の星の数: 0\n",
    "- 単語の最小出現回数: 32\n",
    "- 大喜利の最小単語数: 4\n",
    "- 大喜利の最大単語数: 31\n",
    "- EPOCH: 25\n",
    "- BATCH SIZE: **128**\n",
    "- LEARNING RATE: **0.0001**\n",
    "- FEATURE DIM: 1024\n",
    "- NUM_HEAD: 4"
   ]
  },
  {
   "cell_type": "code",
   "execution_count": null,
   "metadata": {},
   "outputs": [
    {
     "name": "stdout",
     "output_type": "stream",
     "text": [
      "22\n",
      "2025-01-01 16:05:15.435582: E external/local_xla/xla/stream_executor/cuda/cuda_fft.cc:485] Unable to register cuFFT factory: Attempting to register factory for plugin cuFFT when one has already been registered\n",
      "2025-01-01 16:05:15.588423: E external/local_xla/xla/stream_executor/cuda/cuda_dnn.cc:8454] Unable to register cuDNN factory: Attempting to register factory for plugin cuDNN when one has already been registered\n",
      "2025-01-01 16:05:15.630806: E external/local_xla/xla/stream_executor/cuda/cuda_blas.cc:1452] Unable to register cuBLAS factory: Attempting to register factory for plugin cuBLAS when one has already been registered\n",
      "2025-01-01 16:05:15.933524: I tensorflow/core/platform/cpu_feature_guard.cc:210] This TensorFlow binary is optimized to use available CPU instructions in performance-critical operations.\n",
      "To enable the following instructions: AVX2 FMA, in other operations, rebuild TensorFlow with the appropriate compiler flags.\n",
      "2025-01-01 16:05:17.033499: W tensorflow/compiler/tf2tensorrt/utils/py_utils.cc:38] TF-TRT Warning: Could not find TensorRT\n",
      "result directory: ../../results/GUMI_T/False_False_False_0_32_4_31_25_128_0.0001_1024_4/\n",
      " 39%|████████████▊                    | 260451/668970 [02:36<04:06, 1654.64it/s]"
     ]
    }
   ],
   "source": [
    "import os\n",
    "\n",
    "num_workers = int(os.cpu_count() * 0.8)\n",
    "print(num_workers)\n",
    "\n",
    "!python train.py \\\n",
    "    --num_workers {num_workers} \\\n",
    "    --min_star 0 \\\n",
    "    --min_apper_word 32 \\\n",
    "    --min_sentence_length 4\\\n",
    "    --max_sentence_length 31 \\\n",
    "    --epoch 25 \\\n",
    "    --batch_size 128 \\\n",
    "    --learning_rate 0.0001 \\\n",
    "    --feature_dim 1024 \\\n",
    "    --num_heads 4"
   ]
  }
 ],
 "metadata": {
  "kernelspec": {
   "display_name": "Colab_20241111",
   "language": "python",
   "name": "python3"
  },
  "language_info": {
   "codemirror_mode": {
    "name": "ipython",
    "version": 3
   },
   "file_extension": ".py",
   "mimetype": "text/x-python",
   "name": "python",
   "nbconvert_exporter": "python",
   "pygments_lexer": "ipython3",
   "version": "3.10.12"
  }
 },
 "nbformat": 4,
 "nbformat_minor": 2
}
