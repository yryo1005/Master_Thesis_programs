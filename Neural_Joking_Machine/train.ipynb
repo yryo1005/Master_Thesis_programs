{
 "cells": [
  {
   "cell_type": "markdown",
   "metadata": {},
   "source": [
    "- イラスト画像を学習に用いない\n",
    "- 文字が含まれる画像を学習に用いない\n",
    "- 固有名詞を含む大喜利を学習に用いない\n",
    "- 大喜利の最小の星の数: 0\n",
    "- 単語の最小出現回数: 32\n",
    "- 大喜利の最小単語数: 4\n",
    "- 大喜利の最大単語数: 31\n",
    "- EPOCH: 25\n",
    "- BATCH SIZE: 64\n",
    "- LEARNING RATE: 0.0001\n",
    "- FEATURE DIM: 1024"
   ]
  },
  {
   "cell_type": "code",
   "execution_count": null,
   "metadata": {},
   "outputs": [
    {
     "name": "stdout",
     "output_type": "stream",
     "text": [
      "19\n",
      "result directory: ../../results/Neural_Joking_Machine/False_False_False_0_32_4_31_25_64_0.0001_1024/\n",
      "学習に用いる大喜利の数: 2030920\n",
      " 検証に用いる大喜利の数: 20515\n",
      " 使用する画像の数: 244286\n",
      " 単語の種類: 16705\n",
      "100%|███████████████████████████████| 244286/244286 [00:00<00:00, 348812.82it/s]\n",
      "100%|█████████████████████████████| 2030920/2030920 [00:06<00:00, 318744.09it/s]\n",
      "num data: 2030920\n",
      "100%|█████████████████████████████████| 20515/20515 [00:00<00:00, 717344.14it/s]\n",
      "num data: 20515\n",
      "Epoch 1/25: 100%|█| 31734/31734 [25:06<00:00, 21.07it/s, train_loss=4.47, train_\n",
      "Evaluating: 100%|█| 321/321 [00:07<00:00, 45.34it/s, test_loss=4.1, test_accurac\n",
      "Epoch: 1/25, Train Loss: 4.4687, Train Accuracy: 0.2852, Test Loss: 4.0737, Test Accuracy: 0.3187\n",
      "-------------------------\n",
      "Epoch 2/25:  25%|▎| 8048/31734 [06:21<18:34, 21.26it/s, train_loss=4.01, train_a"
     ]
    }
   ],
   "source": [
    "import os\n",
    "\n",
    "num_workers = int(os.cpu_count() * 0.8)\n",
    "print(num_workers)\n",
    "\n",
    "!python train.py \\\n",
    "    --num_workers {num_workers} \\\n",
    "    --min_star 0 \\\n",
    "    --min_apper_word 32 \\\n",
    "    --min_sentence_length 4\\\n",
    "    --max_sentence_length 31 \\\n",
    "    --epoch 25 \\\n",
    "    --batch_size 64 \\\n",
    "    --learning_rate 0.0001 \\\n",
    "    --feature_dim 1024"
   ]
  },
  {
   "cell_type": "markdown",
   "metadata": {},
   "source": [
    "- イラスト画像を学習に用いない\n",
    "- 文字が含まれる画像を学習に用いない\n",
    "- 固有名詞を含む大喜利を学習に用いない\n",
    "- 大喜利の最小の星の数: 0\n",
    "- 単語の最小出現回数: 32\n",
    "- 大喜利の最小単語数: 4\n",
    "- 大喜利の最大単語数: 31\n",
    "- EPOCH: 25\n",
    "- BATCH SIZE: **32**\n",
    "- LEARNING RATE: 0.0001\n",
    "- FEATURE DIM: 1024"
   ]
  },
  {
   "cell_type": "code",
   "execution_count": null,
   "metadata": {},
   "outputs": [
    {
     "name": "stdout",
     "output_type": "stream",
     "text": [
      "19\n",
      "result directory: ../../results/Neural_Joking_Machine/False_False_False_0_32_4_31_25_32_0.0001_1024/\n",
      "100%|██████████████████████████████████| 668970/668970 [16:18<00:00, 683.64it/s]\n",
      "100%|█████████████████████████████| 2135982/2135982 [00:06<00:00, 325229.57it/s]\n",
      "100%|█████████████████████████████| 2051435/2051435 [00:05<00:00, 378430.08it/s]\n",
      "学習に用いる大喜利の数: 2030920\n",
      " 検証に用いる大喜利の数: 20515\n",
      " 使用する画像の数: 244286\n",
      " 単語の種類: 16705\n",
      "100%|████████████████████████████████| 244286/244286 [00:07<00:00, 31313.22it/s]\n",
      "100%|█████████████████████████████| 2030920/2030920 [00:12<00:00, 163253.50it/s]\n",
      "num data: 2030920\n",
      "100%|█████████████████████████████████| 20515/20515 [00:00<00:00, 403544.35it/s]\n",
      "num data: 20515\n",
      "Epoch 1/25: 100%|█| 63467/63467 [33:33<00:00, 31.52it/s, train_loss=4.42, train_\n",
      "Evaluating: 100%|█| 642/642 [00:16<00:00, 38.13it/s, test_loss=4.09, test_accura\n",
      "Epoch: 1/25, Train Loss: 4.4231, Train Accuracy: 0.2899, Test Loss: 4.0819, Test Accuracy: 0.3192\n",
      "-------------------------\n",
      "Epoch 2/25: 100%|█| 63467/63467 [33:20<00:00, 31.73it/s, train_loss=3.94, train_\n",
      "Evaluating: 100%|█| 642/642 [00:09<00:00, 70.94it/s, test_loss=4.01, test_accura\n",
      "Epoch: 2/25, Train Loss: 3.9423, Train Accuracy: 0.3324, Test Loss: 3.9640, Test Accuracy: 0.3334\n",
      "-------------------------\n",
      "Epoch 3/25: 100%|█| 63467/63467 [33:27<00:00, 31.62it/s, train_loss=3.8, train_a\n",
      "Evaluating: 100%|█| 642/642 [00:08<00:00, 72.17it/s, test_loss=3.96, test_accura\n",
      "Epoch: 3/25, Train Loss: 3.7954, Train Accuracy: 0.3466, Test Loss: 3.9342, Test Accuracy: 0.3386\n",
      "-------------------------\n",
      "Epoch 4/25: 100%|█| 63467/63467 [33:22<00:00, 31.69it/s, train_loss=3.7, train_a\n",
      "Evaluating: 100%|█| 642/642 [00:08<00:00, 71.37it/s, test_loss=3.99, test_accura\n",
      "Epoch: 4/25, Train Loss: 3.7044, Train Accuracy: 0.3556, Test Loss: 3.9329, Test Accuracy: 0.3404\n",
      "-------------------------\n",
      "Epoch 5/25: 100%|█| 63467/63467 [33:27<00:00, 31.62it/s, train_loss=3.64, train_\n",
      "Evaluating: 100%|█| 642/642 [00:08<00:00, 72.45it/s, test_loss=3.98, test_accura\n",
      "Epoch: 5/25, Train Loss: 3.6366, Train Accuracy: 0.3624, Test Loss: 3.9456, Test Accuracy: 0.3413\n",
      "-------------------------\n",
      "Epoch 6/25: 100%|█| 63467/63467 [33:29<00:00, 31.58it/s, train_loss=3.58, train_\n",
      "Evaluating: 100%|█| 642/642 [00:09<00:00, 70.40it/s, test_loss=4, test_accuracy=\n",
      "Epoch: 6/25, Train Loss: 3.5815, Train Accuracy: 0.3680, Test Loss: 3.9675, Test Accuracy: 0.3410\n",
      "-------------------------\n",
      "Epoch 7/25: 100%|█| 63467/63467 [33:40<00:00, 31.41it/s, train_loss=3.53, train_\n",
      "Evaluating: 100%|█| 642/642 [00:08<00:00, 71.77it/s, test_loss=4.03, test_accura\n",
      "Epoch: 7/25, Train Loss: 3.5347, Train Accuracy: 0.3727, Test Loss: 3.9880, Test Accuracy: 0.3410\n",
      "-------------------------\n",
      "Epoch 8/25: 100%|█| 63467/63467 [33:35<00:00, 31.49it/s, train_loss=3.49, train_\n",
      "Evaluating: 100%|█| 642/642 [00:08<00:00, 72.31it/s, test_loss=4.06, test_accura\n",
      "Epoch: 8/25, Train Loss: 3.4938, Train Accuracy: 0.3770, Test Loss: 4.0146, Test Accuracy: 0.3401\n",
      "-------------------------\n",
      "Epoch 9/25: 100%|█| 63467/63467 [33:24<00:00, 31.66it/s, train_loss=3.46, train_\n",
      "Evaluating: 100%|█| 642/642 [00:09<00:00, 71.27it/s, test_loss=4.05, test_accura\n",
      "Epoch: 9/25, Train Loss: 3.4574, Train Accuracy: 0.3808, Test Loss: 4.0397, Test Accuracy: 0.3391\n",
      "-------------------------\n",
      "Epoch 10/25: 100%|█| 63467/63467 [33:44<00:00, 31.35it/s, train_loss=3.42, train\n",
      "Evaluating: 100%|█| 642/642 [00:08<00:00, 71.59it/s, test_loss=4.12, test_accura\n",
      "Epoch: 10/25, Train Loss: 3.4247, Train Accuracy: 0.3842, Test Loss: 4.0694, Test Accuracy: 0.3389\n",
      "-------------------------\n",
      "Epoch 11/25: 100%|█| 63467/63467 [33:38<00:00, 31.44it/s, train_loss=3.4, train_\n",
      "Evaluating: 100%|█| 642/642 [00:09<00:00, 70.48it/s, test_loss=4.1, test_accurac\n",
      "Epoch: 11/25, Train Loss: 3.3951, Train Accuracy: 0.3874, Test Loss: 4.0967, Test Accuracy: 0.3367\n",
      "-------------------------\n",
      "Epoch 12/25: 100%|█| 63467/63467 [33:40<00:00, 31.41it/s, train_loss=3.37, train\n",
      "Evaluating: 100%|█| 642/642 [00:09<00:00, 69.44it/s, test_loss=4.13, test_accura\n",
      "Epoch: 12/25, Train Loss: 3.3679, Train Accuracy: 0.3904, Test Loss: 4.1254, Test Accuracy: 0.3350\n",
      "-------------------------\n",
      "Epoch 13/25: 100%|█| 63467/63467 [33:35<00:00, 31.48it/s, train_loss=3.34, train\n",
      "Evaluating: 100%|█| 642/642 [00:09<00:00, 69.58it/s, test_loss=4.17, test_accura\n",
      "Epoch: 13/25, Train Loss: 3.3427, Train Accuracy: 0.3932, Test Loss: 4.1474, Test Accuracy: 0.3339\n",
      "-------------------------\n",
      "Epoch 14/25: 100%|█| 63467/63467 [33:50<00:00, 31.25it/s, train_loss=3.32, train\n",
      "Evaluating: 100%|█| 642/642 [00:09<00:00, 67.53it/s, test_loss=4.19, test_accura\n",
      "Epoch: 14/25, Train Loss: 3.3192, Train Accuracy: 0.3958, Test Loss: 4.1726, Test Accuracy: 0.3332\n",
      "-------------------------\n",
      "Epoch 15/25: 100%|█| 63467/63467 [33:42<00:00, 31.38it/s, train_loss=3.3, train_\n",
      "Evaluating: 100%|█| 642/642 [00:09<00:00, 71.27it/s, test_loss=4.25, test_accura\n",
      "Epoch: 15/25, Train Loss: 3.2979, Train Accuracy: 0.3981, Test Loss: 4.1999, Test Accuracy: 0.3329\n",
      "-------------------------\n",
      "Epoch 16/25: 100%|█| 63467/63467 [33:37<00:00, 31.46it/s, train_loss=3.28, train\n",
      "Evaluating: 100%|█| 642/642 [00:09<00:00, 69.04it/s, test_loss=4.25, test_accura\n",
      "Epoch: 16/25, Train Loss: 3.2779, Train Accuracy: 0.4005, Test Loss: 4.2214, Test Accuracy: 0.3325\n",
      "-------------------------\n",
      "Epoch 17/25:  39%|▍| 24717/63467 [13:17<23:20, 27.66it/s, train_loss=3.27, train"
     ]
    }
   ],
   "source": [
    "import os\n",
    "\n",
    "num_workers = int(os.cpu_count() * 0.8)\n",
    "print(num_workers)\n",
    "\n",
    "!python train.py \\\n",
    "    --num_workers {num_workers} \\\n",
    "    --min_star 0 \\\n",
    "    --min_apper_word 32 \\\n",
    "    --min_sentence_length 4\\\n",
    "    --max_sentence_length 31 \\\n",
    "    --epoch 25 \\\n",
    "    --batch_size 32 \\\n",
    "    --learning_rate 0.0001 \\\n",
    "    --feature_dim 1024"
   ]
  },
  {
   "cell_type": "markdown",
   "metadata": {},
   "source": [
    "- イラスト画像を学習に用いない\n",
    "- 文字が含まれる画像を学習に用いない\n",
    "- 固有名詞を含む大喜利を学習に用いない\n",
    "- 大喜利の最小の星の数: 0\n",
    "- 単語の最小出現回数: 32\n",
    "- 大喜利の最小単語数: 4\n",
    "- 大喜利の最大単語数: 31\n",
    "- EPOCH: 25\n",
    "- BATCH SIZE: **128**\n",
    "- LEARNING RATE: 0.0001\n",
    "- FEATURE DIM: 1024"
   ]
  },
  {
   "cell_type": "code",
   "execution_count": null,
   "metadata": {},
   "outputs": [],
   "source": [
    "import os\n",
    "\n",
    "num_workers = int(os.cpu_count() * 0.8)\n",
    "print(num_workers)\n",
    "\n",
    "!python train.py \\\n",
    "    --num_workers {num_workers} \\\n",
    "    --min_star 0 \\\n",
    "    --min_apper_word 32 \\\n",
    "    --min_sentence_length 4\\\n",
    "    --max_sentence_length 31 \\\n",
    "    --epoch 25 \\\n",
    "    --batch_size 128 \\\n",
    "    --learning_rate 0.0001 \\\n",
    "    --feature_dim 1024"
   ]
  },
  {
   "cell_type": "markdown",
   "metadata": {},
   "source": [
    "# OLD"
   ]
  },
  {
   "cell_type": "markdown",
   "metadata": {},
   "source": [
    "- イラスト画像を学習に用いない\n",
    "- 文字が含まれる画像を学習に用いない\n",
    "- 固有名詞を含む大喜利を学習に用いない\n",
    "- 大喜利の最小の星の数: 0\n",
    "- 単語の最小出現回数: 32\n",
    "- 大喜利の最小単語数: 4\n",
    "- 大喜利の最大単語数: 31\n",
    "- EPOCH: 25\n",
    "- BATCH SIZE: 512\n",
    "- LEARNING RATE: 0.001\n",
    "- FEATURE DIM: 1024"
   ]
  },
  {
   "cell_type": "code",
   "execution_count": 1,
   "metadata": {},
   "outputs": [
    {
     "name": "stdout",
     "output_type": "stream",
     "text": [
      "19\n",
      "result directory: ../../results/Neural_Joking_Machine/False_False_False_0_32_4_31_25_512_0.001_1024/\n",
      " 17%|█████▌                           | 113006/668970 [00:36<02:40, 3469.85it/s]"
     ]
    }
   ],
   "source": [
    "import os\n",
    "\n",
    "num_workers = int(os.cpu_count() * 0.8)\n",
    "print(num_workers)\n",
    "\n",
    "!python train.py \\\n",
    "    --num_workers {num_workers} \\\n",
    "    --min_star 0 \\\n",
    "    --min_apper_word 32 \\\n",
    "    --min_sentence_length 4\\\n",
    "    --max_sentence_length 31 \\\n",
    "    --epoch 25 \\\n",
    "    --batch_size 512 \\\n",
    "    --learning_rate 0.001 \\\n",
    "    --feature_dim 1024"
   ]
  },
  {
   "cell_type": "markdown",
   "metadata": {},
   "source": [
    "- イラスト画像を学習に用いない\n",
    "- 文字が含まれる画像を学習に用いない\n",
    "- 固有名詞を含む大喜利を学習に用いない\n",
    "- 大喜利の最小の星の数: 0\n",
    "- 単語の最小出現回数: 32\n",
    "- 大喜利の最小単語数: 4\n",
    "- 大喜利の最大単語数: 31\n",
    "- EPOCH: 25\n",
    "- BATCH SIZE: **1024**\n",
    "- LEARNING RATE: 0.001\n",
    "- FEATURE DIM: 1024"
   ]
  },
  {
   "cell_type": "code",
   "execution_count": null,
   "metadata": {},
   "outputs": [],
   "source": [
    "import os\n",
    "\n",
    "num_workers = int(os.cpu_count() * 0.8)\n",
    "print(num_workers)\n",
    "\n",
    "!python train.py \\\n",
    "    --num_workers {num_workers} \\\n",
    "    --min_star 0 \\\n",
    "    --min_apper_word 32 \\\n",
    "    --min_sentence_length 4\\\n",
    "    --max_sentence_length 31 \\\n",
    "    --epoch 25 \\\n",
    "    --batch_size 1024 \\\n",
    "    --learning_rate 0.001 \\\n",
    "    --feature_dim 1024"
   ]
  },
  {
   "cell_type": "markdown",
   "metadata": {},
   "source": [
    "- イラスト画像を学習に用いない\n",
    "- 文字が含まれる画像を学習に用いない\n",
    "- 固有名詞を含む大喜利を学習に用いない\n",
    "- 大喜利の最小の星の数: 0\n",
    "- 単語の最小出現回数: 32\n",
    "- 大喜利の最小単語数: 4\n",
    "- 大喜利の最大単語数: 31\n",
    "- EPOCH: 25\n",
    "- BATCH SIZE: **256**\n",
    "- LEARNING RATE: 0.001\n",
    "- FEATURE DIM: 1024"
   ]
  },
  {
   "cell_type": "code",
   "execution_count": null,
   "metadata": {},
   "outputs": [],
   "source": [
    "import os\n",
    "\n",
    "num_workers = int(os.cpu_count() * 0.8)\n",
    "print(num_workers)\n",
    "\n",
    "!python train.py \\\n",
    "    --num_workers {num_workers} \\\n",
    "    --min_star 0 \\\n",
    "    --min_apper_word 32 \\\n",
    "    --min_sentence_length 4\\\n",
    "    --max_sentence_length 31 \\\n",
    "    --epoch 25 \\\n",
    "    --batch_size 256 \\\n",
    "    --learning_rate 0.001 \\\n",
    "    --feature_dim 1024"
   ]
  },
  {
   "cell_type": "markdown",
   "metadata": {},
   "source": [
    "- イラスト画像を学習に用いない\n",
    "- 文字が含まれる画像を学習に用いない\n",
    "- 固有名詞を含む大喜利を学習に用いない\n",
    "- 大喜利の最小の星の数: 0\n",
    "- 単語の最小出現回数: 32\n",
    "- 大喜利の最小単語数: 4\n",
    "- 大喜利の最大単語数: 31\n",
    "- EPOCH: 25\n",
    "- BATCH SIZE: 512\n",
    "- LEARNING RATE: **0.0001**\n",
    "- FEATURE DIM: 1024"
   ]
  },
  {
   "cell_type": "code",
   "execution_count": 1,
   "metadata": {},
   "outputs": [
    {
     "name": "stdout",
     "output_type": "stream",
     "text": [
      "19\n",
      "result directory: ../../results/Neural_Joking_Machine/False_False_False_0_32_4_31_25_512_0.0001_1024/\n",
      " 24%|███████▊                         | 157432/668970 [01:26<04:18, 1982.04it/s]"
     ]
    }
   ],
   "source": [
    "import os\n",
    "\n",
    "num_workers = int(os.cpu_count() * 0.8)\n",
    "print(num_workers)\n",
    "\n",
    "!python train.py \\\n",
    "    --num_workers {num_workers} \\\n",
    "    --min_star 0 \\\n",
    "    --min_apper_word 32 \\\n",
    "    --min_sentence_length 4\\\n",
    "    --max_sentence_length 31 \\\n",
    "    --epoch 25 \\\n",
    "    --batch_size 512 \\\n",
    "    --learning_rate 0.0001 \\\n",
    "    --feature_dim 1024"
   ]
  },
  {
   "cell_type": "markdown",
   "metadata": {},
   "source": [
    "- イラスト画像を学習に用いない\n",
    "- 文字が含まれる画像を学習に用いない\n",
    "- 固有名詞を含む大喜利を学習に用いない\n",
    "- 大喜利の最小の星の数: 0\n",
    "- 単語の最小出現回数: 32\n",
    "- 大喜利の最小単語数: 4\n",
    "- 大喜利の最大単語数: 31\n",
    "- EPOCH: 25\n",
    "- BATCH SIZE: **256**\n",
    "- LEARNING RATE: **0.0001**\n",
    "- FEATURE DIM: 1024"
   ]
  },
  {
   "cell_type": "code",
   "execution_count": null,
   "metadata": {},
   "outputs": [],
   "source": [
    "import os\n",
    "\n",
    "num_workers = int(os.cpu_count() * 0.8)\n",
    "print(num_workers)\n",
    "\n",
    "!python train.py \\\n",
    "    --num_workers {num_workers} \\\n",
    "    --min_star 0 \\\n",
    "    --min_apper_word 32 \\\n",
    "    --min_sentence_length 4\\\n",
    "    --max_sentence_length 31 \\\n",
    "    --epoch 25 \\\n",
    "    --batch_size 256 \\\n",
    "    --learning_rate 0.0001 \\\n",
    "    --feature_dim 1024"
   ]
  },
  {
   "cell_type": "markdown",
   "metadata": {},
   "source": [
    "- イラスト画像を学習に用いない\n",
    "- 文字が含まれる画像を学習に用いない\n",
    "- 固有名詞を含む大喜利を学習に用いない\n",
    "- 大喜利の最小の星の数: 0\n",
    "- 単語の最小出現回数: 32\n",
    "- 大喜利の最小単語数: 4\n",
    "- 大喜利の最大単語数: 31\n",
    "- EPOCH: 25\n",
    "- BATCH SIZE: **1024**\n",
    "- LEARNING RATE: **0.0001**\n",
    "- FEATURE DIM: 1024"
   ]
  },
  {
   "cell_type": "code",
   "execution_count": null,
   "metadata": {},
   "outputs": [],
   "source": [
    "import os\n",
    "\n",
    "num_workers = int(os.cpu_count() * 0.8)\n",
    "print(num_workers)\n",
    "\n",
    "!python train.py \\\n",
    "    --num_workers {num_workers} \\\n",
    "    --min_star 0 \\\n",
    "    --min_apper_word 32 \\\n",
    "    --min_sentence_length 4\\\n",
    "    --max_sentence_length 31 \\\n",
    "    --epoch 25 \\\n",
    "    --batch_size 1024 \\\n",
    "    --learning_rate 0.0001 \\\n",
    "    --feature_dim 1024"
   ]
  }
 ],
 "metadata": {
  "kernelspec": {
   "display_name": "Python 3",
   "language": "python",
   "name": "python3"
  },
  "language_info": {
   "codemirror_mode": {
    "name": "ipython",
    "version": 3
   },
   "file_extension": ".py",
   "mimetype": "text/x-python",
   "name": "python",
   "nbconvert_exporter": "python",
   "pygments_lexer": "ipython3",
   "version": "3.10.12"
  }
 },
 "nbformat": 4,
 "nbformat_minor": 2
}
