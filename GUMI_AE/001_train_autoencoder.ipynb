{
 "cells": [
  {
   "cell_type": "markdown",
   "metadata": {},
   "source": [
    "# 001\n",
    "\n",
    "現実写真のみ、文字なし"
   ]
  },
  {
   "cell_type": "code",
   "execution_count": 1,
   "metadata": {},
   "outputs": [],
   "source": [
    "import os\n",
    "import json\n",
    "import numpy as np\n",
    "import shutil\n",
    "import matplotlib.pyplot as plt\n",
    "from PIL import Image\n",
    "from tqdm import tqdm\n",
    "from sklearn.model_selection import train_test_split\n",
    "\n",
    "import torch\n",
    "import torch.nn as nn\n",
    "import torch.nn.functional as F\n",
    "from torch import optim\n",
    "from torch.utils.data import Dataset, DataLoader\n",
    "import torchvision.models as models\n",
    "import torchvision.transforms as transforms\n",
    "\n",
    "import subprocess\n",
    "if not os.path.exists(\"Japanese_BPEEncoder_V2\"):\n",
    "    subprocess.run([\"git\", \"clone\", \"https://github.com/tanreinama/Japanese-BPEEncoder_V2.git\", \"Japanese_BPEEncoder_V2\"])\n",
    "from Japanese_BPEEncoder_V2.encode_swe import SWEEncoder_ja"
   ]
  },
  {
   "cell_type": "code",
   "execution_count": 15,
   "metadata": {},
   "outputs": [],
   "source": [
    "EXPERIENCE_NUMBER = \"001\"\n",
    "\n",
    "# PCによって変更する\n",
    "NUM_WORKERS = 20\n",
    "# データセットが既に存在する場合に，再度作り直すか\n",
    "RESET_DATA = False\n",
    "# Autoencoderを学習しなおすか\n",
    "RETRAIN_AUTOENCODER = False\n",
    "\n",
    "# 現実写真以外を使用するか\n",
    "USE_UNREAL_IMAGE = False\n",
    "# 文字を含む画像を使用するか\n",
    "USE_WORD_IMAGE = False\n",
    "# 固有名詞を含む大喜利を使用するか\n",
    "USE_UNIQUE_NOUN_BOKE = False\n",
    "\n",
    "# 大喜利の最小の星の数\n",
    "MIN_STAR = 0\n",
    "# 単語の最小出現回数\n",
    "MIN_APPER_WORD = 32\n",
    "# 大喜利の最小単語数\n",
    "MIN_SENTENCE_LENGTH = 4\n",
    "# 大喜利の最大単語数\n",
    "MAX_SENTENCE_LENGTH = 31\n",
    "\n",
    "RESULT_DIR = f\"../../results/GUMI_AE/{EXPERIENCE_NUMBER}/\"\n",
    "if not os.path.exists(\"../../results/GUMI_AE/\"):\n",
    "    os.mkdir(\"../../results/GUMI_AE/\")\n",
    "if not os.path.exists(RESULT_DIR):\n",
    "    os.mkdir(RESULT_DIR)\n",
    "\n",
    "# \n",
    "BATCH_SIZE_FOR_AUTOENCODER = 32\n",
    "EPOCH_FOR_AUTOENCODER = 25\n",
    "LEARNING_RATO_FOR_AUTOENCODER = 0.0001\n",
    "IMAGE_HEIGHT = 128\n",
    "IMAGE_WIDTH = 128\n",
    "IMAGE_FEATURE_DIM = 16384\n",
    "\n",
    "BATCH_SIZE_FOR_GENERATOR = 32\n",
    "EPOCH_FOR_GENERATOR = 25\n",
    "LEARNING_RATO_FOR_GENERATOR = 0.0001\n",
    "\n",
    "DATA_DIR = \"../../datas/boke_data_assemble/\"\n",
    "IMAGE_DIR = \"../../datas/boke_image/\"\n",
    "\n",
    "IMAGE_FEATURE_DIR = \"../../datas/encoded/autoencoder_image_feature/\"\n",
    "if not os.path.exists(IMAGE_FEATURE_DIR):\n",
    "    os.mkdir(IMAGE_FEATURE_DIR)"
   ]
  },
  {
   "cell_type": "code",
   "execution_count": 3,
   "metadata": {},
   "outputs": [
    {
     "data": {
      "text/plain": [
       "(228908, 25435)"
      ]
     },
     "execution_count": 3,
     "metadata": {},
     "output_type": "execute_result"
    }
   ],
   "source": [
    "if not os.path.exists(f\"{RESULT_DIR}test_image_paths.json\") or RESET_DATA:\n",
    "    image_paths = list()\n",
    "\n",
    "    for IP in tqdm(os.listdir(IMAGE_DIR)):\n",
    "        \n",
    "        N = int(IP.split(\".\")[0])\n",
    "        if not os.path.exists(f\"{DATA_DIR}{N}.json\"):\n",
    "            continue\n",
    "\n",
    "        with open(f\"{DATA_DIR}{N}.json\", \"r\") as f:\n",
    "            a = json.load(f)\n",
    "        \n",
    "        image_information = a[\"image_information\"]\n",
    "        is_photographic_probability = image_information[\"is_photographic_probability\"]\n",
    "        ocr = image_information[\"ocr\"]\n",
    "\n",
    "        # 現実写真以外を除去\n",
    "        if not USE_UNREAL_IMAGE:\n",
    "            if is_photographic_probability < 0.8: continue\n",
    "            \n",
    "        # 文字のある画像を除去\n",
    "        if not USE_WORD_IMAGE:\n",
    "            if len(ocr) != 0: continue\n",
    "        \n",
    "        image_paths.append(f\"{IMAGE_DIR}{IP}\")\n",
    "\n",
    "    train_image_paths, test_image_paths = train_test_split(image_paths, test_size = 0.1)\n",
    "\n",
    "    with open(f\"{RESULT_DIR}train_image_paths.json\", \"w\") as f:\n",
    "        json.dump(train_image_paths, f)\n",
    "    with open(f\"{RESULT_DIR}test_image_paths.json\", \"w\") as f:\n",
    "        json.dump(test_image_paths, f)\n",
    "    \n",
    "else:\n",
    "    with open(f\"{RESULT_DIR}train_image_paths.json\", \"r\") as f:\n",
    "        train_image_paths = json.load(f)\n",
    "    with open(f\"{RESULT_DIR}test_image_paths.json\", \"r\") as f:\n",
    "        test_image_paths = json.load(f)\n",
    "\n",
    "len(train_image_paths), len(test_image_paths)"
   ]
  },
  {
   "cell_type": "code",
   "execution_count": 4,
   "metadata": {},
   "outputs": [],
   "source": [
    "# 画像の前処理\n",
    "image_preprocess = transforms.Compose([\n",
    "    transforms.Resize((IMAGE_HEIGHT, IMAGE_WIDTH)),\n",
    "    transforms.ToTensor(),\n",
    "])\n",
    "\n",
    "# 画像のデータローダを作る関数\n",
    "def make_image_dataloader(image_paths, batch_size, num_workers = 4):\n",
    "\n",
    "    class LoadImageDataset(Dataset):\n",
    "        def __init__(self, image_paths):\n",
    "            \"\"\"\n",
    "                image_paths: 画像のパスからなるリスト\n",
    "            \"\"\"\n",
    "            self.image_paths = image_paths\n",
    "\n",
    "        def __len__(self):\n",
    "            return len(self.image_paths)\n",
    "\n",
    "        def __getitem__(self, idx):\n",
    "            image = Image.open(image_paths[idx]).convert(\"RGB\")\n",
    "\n",
    "            return image, self.image_paths[idx]\n",
    "    \n",
    "    def collate_fn_tf(batch):\n",
    "        images = torch.stack([image_preprocess(B[0]) for B in batch])\n",
    "        image_numbers = [B[1] for B in batch]\n",
    "\n",
    "        return images, image_numbers\n",
    "\n",
    "    print(f\"num data: {len(image_paths)}\")\n",
    "\n",
    "    dataset = LoadImageDataset(image_paths)\n",
    "    dataloader = DataLoader(\n",
    "        dataset, \n",
    "        batch_size = batch_size, \n",
    "        num_workers = num_workers, \n",
    "        collate_fn = collate_fn_tf\n",
    "    )\n",
    "\n",
    "    return dataloader"
   ]
  },
  {
   "cell_type": "code",
   "execution_count": 5,
   "metadata": {},
   "outputs": [],
   "source": [
    "class ImageEncoder(nn.Module):\n",
    "    def __init__(self, image_feature_dim):\n",
    "        \"\"\"\n",
    "            image_feature_dim: \n",
    "        \"\"\"\n",
    "        super(ImageEncoder, self).__init__()\n",
    "\n",
    "        self.conv1 = nn.Conv2d(3, 32, kernel_size = 3, stride = 2, padding = 1)\n",
    "        self.conv2 = nn.Conv2d(32, 64, kernel_size = 3, stride = 2, padding = 1)\n",
    "        self.conv3 = nn.Conv2d(64, 128, kernel_size = 3, stride = 2, padding = 1)\n",
    "        self.conv4 = nn.Conv2d(128, 256, kernel_size = 3, stride = 2, padding = 1)\n",
    "\n",
    "        self.fc1 = nn.Linear(16384, 16384)\n",
    "        self.fc2 = nn.Linear(16384, image_feature_dim)\n",
    "    \n",
    "    def forward(self, images):\n",
    "        x = F.leaky_relu( self.conv1(images) )\n",
    "        # 32, 64, 64\n",
    "        x = F.leaky_relu( self.conv2(x) )\n",
    "        # 64, 32, 32\n",
    "        x = F.leaky_relu( self.conv3(x) )\n",
    "        # 128, 16, 16\n",
    "        x = F.leaky_relu( self.conv4(x) )\n",
    "        # 256, 8, 8\n",
    "\n",
    "        x = nn.Flatten()(x)\n",
    "        x = F.leaky_relu(self.fc1(x))\n",
    "        return F.leaky_relu(self.fc2(x))\n",
    "\n",
    "class ImageDecoder(nn.Module):\n",
    "    def __init__(self, image_feature_dim):\n",
    "        \"\"\"\n",
    "            image_feature_dim: \n",
    "        \"\"\"\n",
    "        super(ImageDecoder, self).__init__()\n",
    "\n",
    "        self.fc1 = nn.Linear(image_feature_dim, 16384)\n",
    "\n",
    "        self.deconv1 = nn.ConvTranspose2d(256, 128, kernel_size = 3, stride = 2, padding = 1, output_padding = 1)\n",
    "        self.deconv2 = nn.ConvTranspose2d(128, 64, kernel_size = 3, stride = 2, padding = 1, output_padding = 1)\n",
    "        self.deconv3 = nn.ConvTranspose2d(64, 32, kernel_size = 3, stride = 2, padding = 1, output_padding = 1)\n",
    "        self.deconv4 = nn.ConvTranspose2d(32, 32, kernel_size = 3, stride = 2, padding = 1, output_padding = 1)\n",
    "        \n",
    "        self.conv1 = nn.Conv2d(32, 3, kernel_size = 3, stride = 1, padding = 1)\n",
    "    \n",
    "    def forward(self, image_features):\n",
    "        x = F.leaky_relu(self.fc1(image_features))\n",
    "        x = nn.Unflatten(1, (256, 8, 8))(x)\n",
    "        # 256, 8, 8\n",
    "\n",
    "        x = F.leaky_relu( self.deconv1(x) )\n",
    "        # 128, 16, 16\n",
    "        x = F.leaky_relu( self.deconv2(x) )\n",
    "        # 64, 32, 32\n",
    "        x = F.leaky_relu( self.deconv3(x) )\n",
    "        # 32, 64, 64\n",
    "        x = F.leaky_relu( self.deconv4(x) )\n",
    "        # 32, 128, 128\n",
    "        return nn.Sigmoid()( self.conv1(x) )\n",
    "        # 3, 128, 128\n",
    "\n",
    "ImageDecoder(IMAGE_FEATURE_DIM)(torch.zeros([1, IMAGE_FEATURE_DIM]))\n",
    "\n",
    "class Autoencoder(nn.Module):\n",
    "    def __init__(self, image_feature_dim):\n",
    "        \"\"\"\n",
    "            image_feature_dim: \n",
    "        \"\"\"\n",
    "        super(Autoencoder, self).__init__()\n",
    "\n",
    "        self.encoder = ImageEncoder(image_feature_dim)\n",
    "        self.decoder = ImageDecoder(image_feature_dim)\n",
    "    \n",
    "    def forward(self, images):\n",
    "        return self.decoder( self.encoder(images) )"
   ]
  },
  {
   "cell_type": "code",
   "execution_count": 6,
   "metadata": {},
   "outputs": [],
   "source": [
    "def predict_by_autoencoder(autoeuncoder, image_paths, device = \"cuda\"):\n",
    "    tmp_images = [image_preprocess(Image.open(IP)) for IP in image_paths]\n",
    "    images = torch.stack(tmp_images).to(device)\n",
    "\n",
    "    predict_images = autoencoder(images).permute(0, 2, 3, 1).cpu().detach().numpy()\n",
    "\n",
    "    fig = plt.figure()\n",
    "    for i in range(len(image_paths)):\n",
    "        ax = fig.add_subplot(2, len(image_paths), i + 1)\n",
    "        ax.imshow(tmp_images[i].permute(1, 2, 0))\n",
    "        ax.axis(\"off\")\n",
    "        ax.set_title(\"input\")\n",
    "\n",
    "        ax = fig.add_subplot(2, len(image_paths), len(image_paths) + i + 1)\n",
    "        ax.imshow(predict_images[i])\n",
    "        ax.axis(\"off\")\n",
    "        ax.set_title(\"predict\")\n",
    "    plt.show()"
   ]
  },
  {
   "cell_type": "code",
   "execution_count": 7,
   "metadata": {},
   "outputs": [],
   "source": [
    "if not os.path.exists(f\"{RESULT_DIR}autoencoder_history.png\") or RETRAIN_AUTOENCODER:\n",
    "    train_loss_history = []\n",
    "    test_loss_history = []\n",
    "\n",
    "    device = \"cuda\" if torch.cuda.is_available() else \"cpu\"\n",
    "    autoencoder = Autoencoder(image_feature_dim = IMAGE_FEATURE_DIM)\n",
    "    autoencoder.to(device)\n",
    "    optimizer = optim.AdamW(autoencoder.parameters(), lr = LEARNING_RATO_FOR_AUTOENCODER)\n",
    "\n",
    "    train_image_dataloader = make_image_dataloader(train_image_paths, batch_size = BATCH_SIZE_FOR_AUTOENCODER, num_workers = NUM_WORKERS)\n",
    "    test_image_dataloader = make_image_dataloader(test_image_paths, batch_size = BATCH_SIZE_FOR_AUTOENCODER, num_workers = NUM_WORKERS)\n",
    "\n",
    "    # 1イテレーション学習する関数\n",
    "    def train_step_for_autoencoder(autoencoder, optimizer, images):\n",
    "        optimizer.zero_grad()\n",
    "        outputs = autoencoder(images)\n",
    "        loss = nn.MSELoss()(outputs, images)\n",
    "        loss.backward()\n",
    "        optimizer.step()\n",
    "        return loss.item()\n",
    "\n",
    "    # 1イテレーション検証する関数\n",
    "    def test_step_for_autoencoder(model, images):\n",
    "        with torch.no_grad():\n",
    "            outputs = autoencoder(images)\n",
    "            loss = nn.MSELoss()(outputs, images)\n",
    "        return loss.item()\n",
    "\n",
    "    for epoch in range(EPOCH_FOR_AUTOENCODER):\n",
    "\n",
    "        # train\n",
    "        train_loss_obj = 0.0\n",
    "        autoencoder.train()\n",
    "        pb = tqdm(train_image_dataloader, desc = f\"Epoch {epoch+1}/{EPOCH_FOR_AUTOENCODER}\")\n",
    "        \n",
    "        for images, _ in pb:\n",
    "            images = images.float().to(\"cuda\")\n",
    "\n",
    "            loss = train_step_for_autoencoder(autoencoder, optimizer, images)\n",
    "            train_loss_obj += loss\n",
    "            pb.set_postfix({\"train_loss\": train_loss_obj / (pb.n + 1),})\n",
    "        train_loss = train_loss_obj / len(train_image_dataloader)\n",
    "\n",
    "        # test\n",
    "        test_loss_obj = 0.0\n",
    "        autoencoder.eval()\n",
    "        pb = tqdm(test_image_dataloader, desc = f\"Epoch {epoch+1}/{EPOCH_FOR_AUTOENCODER}\")\n",
    "        \n",
    "        for images, _ in pb:\n",
    "            images = images.to(device)\n",
    "\n",
    "            loss = test_step_for_autoencoder(autoencoder, images)\n",
    "            test_loss_obj += loss\n",
    "            pb.set_postfix({\"test_loss\": test_loss_obj / (pb.n + 1),})\n",
    "        test_loss = test_loss_obj / len(test_image_dataloader)\n",
    "\n",
    "        print(f\"Epoch: {epoch+1}/{EPOCH_FOR_AUTOENCODER}, \"\n",
    "            f\"Train Loss: {train_loss:.4f}, Test Loss: {test_loss:.4f}\")\n",
    "        print(\"-\" * 25)\n",
    "\n",
    "        train_loss_history.append(train_loss)\n",
    "        test_loss_history.append(test_loss)\n",
    "\n",
    "        # 検証誤差を更新した場合、重みを保存\n",
    "        if min(test_loss_history) == test_loss:\n",
    "            torch.save(autoencoder.state_dict(), f\"{RESULT_DIR}best_autoencoder_weights.pth\")\n",
    "\n",
    "        predict_by_autoencoder(autoencoder, test_image_paths[:5])\n",
    "\n",
    "    # 学習結果を保存\n",
    "    with open(f\"{RESULT_DIR}autoencoder_history.json\", \"w\") as f:\n",
    "        json.dump({\n",
    "            \"train_loss\": train_loss_history,\n",
    "            \"test_loss\": test_loss_history,\n",
    "        }, f)\n",
    "\n",
    "    # 学習結果を描画\n",
    "    fig = plt.figure(figsize = (5, 5))\n",
    "    ax = fig.add_subplot(1, 1, 1)\n",
    "    ax.plot(train_loss_history, label = \"train\")\n",
    "    ax.plot(test_loss_history, label = \"test\")\n",
    "    ax.set_xlabel(\"epoch\")\n",
    "    ax.set_ylabel(\"loss\")\n",
    "    ax.legend()\n",
    "    ax.grid()\n",
    "\n",
    "    fig.savefig(f\"{RESULT_DIR}autoencoder_history.png\")"
   ]
  },
  {
   "cell_type": "code",
   "execution_count": 8,
   "metadata": {},
   "outputs": [
    {
     "name": "stdout",
     "output_type": "stream",
     "text": [
      "学習に用いる大喜利の数: 2030920\n",
      " 検証に用いる大喜利の数: 20515\n",
      " 使用する画像の数: 244286\n",
      " 単語の種類: 16705\n"
     ]
    }
   ],
   "source": [
    "# データセットの作成\n",
    "if not os.path.exists(f\"{RESULT_DIR}index_to_word.json\") or RESET_DATA:\n",
    "    # tokenizer\n",
    "    with open('Japanese_BPEEncoder_V2/ja-swe32kfix.txt') as f:\n",
    "        bpe = f.read().split('\\n')\n",
    "\n",
    "    with open('Japanese_BPEEncoder_V2/emoji.json') as f:\n",
    "        emoji = json.loads(f.read())\n",
    "\n",
    "    tokenizer = SWEEncoder_ja(bpe, emoji)\n",
    "\n",
    "    tmp = list()\n",
    "    word_count_dict = dict()\n",
    "\n",
    "    for JP in tqdm(os.listdir(DATA_DIR)):\n",
    "        \n",
    "        N = int(JP.split(\".\")[0])\n",
    "\n",
    "        with open(f\"{DATA_DIR}{JP}\", \"r\") as f:\n",
    "            a = json.load(f)\n",
    "        \n",
    "        image_information = a[\"image_information\"]\n",
    "        is_photographic_probability = image_information[\"is_photographic_probability\"]\n",
    "        ocr = image_information[\"ocr\"]\n",
    "\n",
    "        # 現実写真以外を除去\n",
    "        if not USE_UNREAL_IMAGE:\n",
    "            if is_photographic_probability < 0.8: continue\n",
    "            \n",
    "        # 文字のある画像を除去\n",
    "        if not USE_WORD_IMAGE:\n",
    "            if len(ocr) != 0: continue\n",
    "        \n",
    "        bokes = a[\"bokes\"]\n",
    "\n",
    "        for B in bokes:\n",
    "            # 星が既定の数以下の大喜利を除去\n",
    "            if B[\"star\"] < MIN_STAR:\n",
    "                continue\n",
    "\n",
    "            # 固有名詞を含む大喜利を除去\n",
    "            if not USE_UNIQUE_NOUN_BOKE:\n",
    "                if len(B[\"unique_nouns\"]) != 0: continue\n",
    "\n",
    "            tokenized_boke = tokenizer.encode(B[\"boke\"])\n",
    "            # 単語数が既定の数でない大喜利を除去\n",
    "            if not MIN_SENTENCE_LENGTH <= len(tokenized_boke) < MAX_SENTENCE_LENGTH:\n",
    "                continue\n",
    "\n",
    "            for W in tokenized_boke:\n",
    "                try:\n",
    "                    word_count_dict[W] += 1\n",
    "                except:\n",
    "                    word_count_dict[W] = 1\n",
    "            \n",
    "            tmp.append({\n",
    "                \"image_number\": N,\n",
    "                \"tokenized_boke\": tokenized_boke\n",
    "            })\n",
    "\n",
    "    # 単語の最小出現回数を満たさない大喜利を除去\n",
    "    boke_datas = list()\n",
    "    words = list()\n",
    "\n",
    "    for D in tqdm(tmp):\n",
    "        flag = False\n",
    "        for W in D[\"tokenized_boke\"]:\n",
    "            if word_count_dict[W] < MIN_APPER_WORD:\n",
    "                flag = True\n",
    "                break\n",
    "        if flag: \n",
    "            continue\n",
    "        \n",
    "        boke_datas.append({\n",
    "            \"image_number\": D[\"image_number\"],\n",
    "            \"tokenized_boke\": D[\"tokenized_boke\"]\n",
    "        })\n",
    "        words += D[\"tokenized_boke\"]\n",
    "    words = set(words)\n",
    "    image_numbers = list(set([D[\"image_number\"] for D in boke_datas]))\n",
    "    del tmp\n",
    "\n",
    "    # tokenize\n",
    "    index_to_index = dict()\n",
    "\n",
    "    c = 3\n",
    "    for D in tqdm(boke_datas):\n",
    "        tmp = list()\n",
    "        for W in D[\"tokenized_boke\"]:\n",
    "            try:\n",
    "                index_to_index[W]\n",
    "            except:\n",
    "                index_to_index[W] = c\n",
    "                c += 1\n",
    "            tmp.append(index_to_index[W])\n",
    "        D[\"tokenized_boke\"] = [1] + tmp + [2]\n",
    "\n",
    "    index_to_word = {\n",
    "        V: tokenizer.decode([K]) for K, V in index_to_index.items()\n",
    "    }\n",
    "    index_to_word[0] = \"<PAD>\"\n",
    "    index_to_word[1] = \"<START>\"\n",
    "    index_to_word[2] = \"<END>\"\n",
    "\n",
    "    #\n",
    "    train_boke_datas, test_boke_datas = train_test_split(boke_datas, test_size = 0.01)\n",
    "\n",
    "    with open(f\"{RESULT_DIR}train_boke_datas.json\", \"w\") as f:\n",
    "        json.dump(train_boke_datas, f)\n",
    "    with open(f\"{RESULT_DIR}test_boke_datas.json\", \"w\") as f:\n",
    "        json.dump(test_boke_datas, f)\n",
    "    with open(f\"{RESULT_DIR}index_to_word.json\", \"w\") as f:\n",
    "        json.dump(index_to_word, f)\n",
    "\n",
    "else:\n",
    "    with open(f\"{RESULT_DIR}train_boke_datas.json\", \"r\") as f:\n",
    "        train_boke_datas = json.load(f)\n",
    "    with open(f\"{RESULT_DIR}test_boke_datas.json\", \"r\") as f:\n",
    "        test_boke_datas = json.load(f)\n",
    "    with open(f\"{RESULT_DIR}index_to_word.json\", \"r\") as f:\n",
    "        index_to_word = json.load(f)\n",
    "\n",
    "    image_numbers = [D[\"image_number\"] for D in train_boke_datas] + [D[\"image_number\"] for D in test_boke_datas]\n",
    "    image_numbers = list(set(image_numbers))\n",
    "\n",
    "print(f\"学習に用いる大喜利の数: {len(train_boke_datas)}\\n\", \n",
    "      f\"検証に用いる大喜利の数: {len(test_boke_datas)}\\n\",\n",
    "      f\"使用する画像の数: {len(image_numbers)}\\n\",\n",
    "      f\"単語の種類: {len(index_to_word)}\")"
   ]
  },
  {
   "cell_type": "code",
   "execution_count": 10,
   "metadata": {},
   "outputs": [
    {
     "name": "stderr",
     "output_type": "stream",
     "text": [
      "100%|██████████| 244286/244286 [00:00<00:00, 819390.20it/s]\n"
     ]
    },
    {
     "name": "stdout",
     "output_type": "stream",
     "text": [
      "num data: 244285\n"
     ]
    },
    {
     "name": "stderr",
     "output_type": "stream",
     "text": [
      "<ipython-input-10-ec220e3680c9>:18: FutureWarning: You are using `torch.load` with `weights_only=False` (the current default value), which uses the default pickle module implicitly. It is possible to construct malicious pickle data which will execute arbitrary code during unpickling (See https://github.com/pytorch/pytorch/blob/main/SECURITY.md#untrusted-models for more details). In a future release, the default value for `weights_only` will be flipped to `True`. This limits the functions that could be executed during unpickling. Arbitrary objects will no longer be allowed to be loaded via this mode unless they are explicitly allowlisted by the user via `torch.serialization.add_safe_globals`. We recommend you start setting `weights_only=True` for any use case where you don't have full control of the loaded file. Please open an issue on GitHub for any issues related to this experimental feature.\n",
      "  autoencoder.load_state_dict(torch.load(f\"{RESULT_DIR}best_autoencoder_weights.pth\"))\n",
      "100%|██████████| 1909/1909 [02:14<00:00, 14.15it/s]\n"
     ]
    }
   ],
   "source": [
    "# 画像を特徴量に変換する\n",
    "if RETRAIN_AUTOENCODER:\n",
    "    shutil.rmtree(IMAGE_FEATURE_DIR) \n",
    "    os.mkdir(IMAGE_FEATURE_DIR)\n",
    "\n",
    "tmp = list()\n",
    "for IN in tqdm(image_numbers):\n",
    "    if os.path.exists(f\"{IMAGE_FEATURE_DIR}{IN}.npy\"):\n",
    "        continue\n",
    "    tmp.append(f\"{IMAGE_DIR}{IN}.jpg\")\n",
    "\n",
    "if len(tmp) != 0:\n",
    "    image_dataloader = make_image_dataloader(tmp, batch_size = 128, num_workers = NUM_WORKERS)\n",
    "\n",
    "    # encoder of Autoencoder\n",
    "    device = torch.device(\"cuda\" if torch.cuda.is_available() else \"cpu\")\n",
    "    autoencoder = Autoencoder(image_feature_dim = IMAGE_FEATURE_DIM)\n",
    "    autoencoder.load_state_dict(torch.load(f\"{RESULT_DIR}best_autoencoder_weights.pth\"))\n",
    "    model = autoencoder.encoder\n",
    "    model = model.to(device)\n",
    "    model.eval()\n",
    "\n",
    "    for Is, IPs in tqdm(image_dataloader):\n",
    "        Is = Is.to(device)\n",
    "        features = model(Is).detach().cpu().numpy()\n",
    "\n",
    "        for f, IP in zip(features, IPs):\n",
    "            N = IP.split(\"/\")[-1].split(\".\")[0]\n",
    "            np.save(f\"{IMAGE_FEATURE_DIR}{N}\", f)"
   ]
  },
  {
   "cell_type": "code",
   "execution_count": 11,
   "metadata": {},
   "outputs": [],
   "source": [
    "# 大喜利生成モデルのクラス\n",
    "class BokeGeneratorModel(nn.Module):\n",
    "    def __init__(self, num_word, image_feature_dim, sentence_length, embedding_dim = 512):\n",
    "        \"\"\"\n",
    "            num_word: 学習に用いる単語の総数\n",
    "            image_feature_dim: 画像の特徴量の次元数\n",
    "            sentence_length: 入力する文章の単語数\n",
    "            embedding_dim: 単語の埋め込み次元数\n",
    "        \"\"\"\n",
    "        super(BokeGeneratorModel, self).__init__()\n",
    "        self.num_word = num_word\n",
    "        self.image_feature_dim = image_feature_dim\n",
    "        self.sentence_length = sentence_length\n",
    "        self.embedding_dim = embedding_dim\n",
    "        \n",
    "        self.fc1 = nn.Linear(image_feature_dim, embedding_dim)\n",
    "        self.embedding = nn.Embedding(num_word, embedding_dim, padding_idx = 0)\n",
    "        self.lstm = nn.LSTM(input_size = embedding_dim, hidden_size = embedding_dim, \n",
    "                            batch_first = True)\n",
    "        self.fc2 = nn.Linear(embedding_dim + embedding_dim, 2 * embedding_dim)\n",
    "        self.fc3 = nn.Linear(2 * embedding_dim, 2 * embedding_dim)\n",
    "        self.fc4 = nn.Linear(2 * embedding_dim, num_word)\n",
    "    \n",
    "    # LSTMの初期値は0で，画像の特徴量と文章の特徴量を全結合層の前で結合する\n",
    "    def forward(self, image_features, sentences):\n",
    "        \"\"\"\n",
    "            image_features: 画像の特徴量\n",
    "            sentences: 入力する文章\n",
    "        \"\"\"\n",
    "        x1 = F.leaky_relu(self.fc1(image_features))\n",
    "        x1 = x1.unsqueeze(1).repeat(1, self.sentence_length, 1)\n",
    "\n",
    "        x2 = self.embedding(sentences)\n",
    "        x2, _ = self.lstm(x2)\n",
    "\n",
    "        x = torch.cat((x1, x2), dim = -1)\n",
    "        x = F.leaky_relu(self.fc2(x))\n",
    "        x = F.leaky_relu(self.fc3(x))\n",
    "\n",
    "        return self.fc4(x)"
   ]
  },
  {
   "cell_type": "code",
   "execution_count": 14,
   "metadata": {},
   "outputs": [],
   "source": [
    "# 大喜利生成AIの学習用データローダを作る関数\n",
    "def make_dataloader(boke_datas, max_sentence_length, batch_size, num_workers = 4):\n",
    "    \"\"\"\n",
    "        boke_datas: {\"image_number\":画像のお題番号 ,\"tokenized_boke\":トークナイズされた大喜利}からなるリスト\n",
    "        max_sentence_length: 学習データの最大単語数(<START>, <END>トークンを含まない)\n",
    "        num_workers: データローダが使用するCPUのスレッド数\n",
    "    \"\"\"\n",
    "    class SentenceGeneratorDataset(Dataset):\n",
    "        def __init__(self, image_file_numbers, sentences, teacher_signals):\n",
    "            \"\"\"\n",
    "                image_file_numbers: 画像の番号からなるリスト\n",
    "                sentences: 入力文章からなるリスト\n",
    "                teacher_signals: 教師信号からなるリスト\n",
    "            \"\"\"\n",
    "            if len(image_file_numbers) != len(sentences) and len(teacher_signals) != len(sentences):\n",
    "                raise ValueError(\"データリストの長さが一致しません\")\n",
    "\n",
    "            self.image_file_numbers = image_file_numbers\n",
    "            self.sentences = sentences\n",
    "            self.teacher_signals = teacher_signals\n",
    "\n",
    "        def __len__(self):\n",
    "            return len(self.teacher_signals)\n",
    "\n",
    "        def __getitem__(self, idx):\n",
    "            image_feature = np.load(f\"{IMAGE_FEATURE_DIR}{self.image_file_numbers[idx]}.npy\")\n",
    "            sentence = self.sentences[idx]\n",
    "            teacher_signal = self.teacher_signals[idx]\n",
    "\n",
    "            return image_feature, sentence, teacher_signal\n",
    "\n",
    "    def collate_fn_tf(batch):\n",
    "        image_features = torch.tensor(np.array([B[0] for B in batch]))\n",
    "        sentences = torch.tensor(np.array([B[1] for B in batch]))\n",
    "        teacher_signals = torch.tensor(np.array([B[2] for B in batch]))\n",
    "\n",
    "        return image_features, sentences, teacher_signals\n",
    "\n",
    "    image_file_numbers = list()\n",
    "    sentences = list()\n",
    "    teacher_signals = list()\n",
    "\n",
    "    for D in tqdm(boke_datas):\n",
    "        image_file_numbers.append(D[\"image_number\"])\n",
    "        tmp = D[\"tokenized_boke\"] + [0] * (2 + max_sentence_length - len(D[\"tokenized_boke\"]))\n",
    "        sentences.append(tmp[:-1])\n",
    "        teacher_signals.append(tmp[1:])\n",
    "\n",
    "    dataset = SentenceGeneratorDataset(image_file_numbers, sentences, teacher_signals)\n",
    "    dataloader = DataLoader(\n",
    "        dataset, \n",
    "        batch_size = batch_size, \n",
    "        num_workers = num_workers, \n",
    "        collate_fn = collate_fn_tf\n",
    "    )\n",
    "\n",
    "    print(f\"num data: {len(teacher_signals)}\")\n",
    "\n",
    "    return dataloader"
   ]
  },
  {
   "cell_type": "code",
   "execution_count": 16,
   "metadata": {},
   "outputs": [
    {
     "name": "stderr",
     "output_type": "stream",
     "text": [
      "100%|██████████| 2030920/2030920 [00:04<00:00, 485735.64it/s] \n"
     ]
    },
    {
     "name": "stdout",
     "output_type": "stream",
     "text": [
      "num data: 2030920\n"
     ]
    },
    {
     "name": "stderr",
     "output_type": "stream",
     "text": [
      "100%|██████████| 20515/20515 [00:00<00:00, 1101503.47it/s]\n"
     ]
    },
    {
     "name": "stdout",
     "output_type": "stream",
     "text": [
      "num data: 20515\n"
     ]
    }
   ],
   "source": [
    "train_dataloader = make_dataloader(train_boke_datas, max_sentence_length = MAX_SENTENCE_LENGTH, batch_size = BATCH_SIZE_FOR_GENERATOR, num_workers = NUM_WORKERS)\n",
    "test_dataloader = make_dataloader(test_boke_datas, max_sentence_length = MAX_SENTENCE_LENGTH, batch_size = BATCH_SIZE_FOR_GENERATOR, num_workers = NUM_WORKERS)\n",
    "\n",
    "# モデルの学習\n",
    "train_loss_history = []\n",
    "train_accuracy_history = []\n",
    "test_loss_history = []\n",
    "test_accuracy_history = []\n",
    "\n",
    "device = \"cuda\" if torch.cuda.is_available() else \"cpu\"\n",
    "model = BokeGeneratorModel(num_word = len(index_to_word), \n",
    "                           image_feature_dim = IMAGE_FEATURE_DIM, \n",
    "                           sentence_length = MAX_SENTENCE_LENGTH + 1, \n",
    "                           embedding_dim = 2048)\n",
    "model.to(device)\n",
    "optimizer = optim.AdamW(model.parameters(), lr = LEARNING_RATO_FOR_GENERATOR)"
   ]
  },
  {
   "cell_type": "code",
   "execution_count": 18,
   "metadata": {},
   "outputs": [
    {
     "name": "stderr",
     "output_type": "stream",
     "text": [
      "Epoch 1/25: 100%|██████████| 63467/63467 [1:06:14<00:00, 15.97it/s, train_loss=4.31, train_accuracy=0.302]\n",
      "Evaluating: 100%|██████████| 642/642 [00:10<00:00, 63.79it/s, test_loss=4.04, test_accuracy=0.331]\n"
     ]
    },
    {
     "name": "stdout",
     "output_type": "stream",
     "text": [
      "Epoch: 1/25, Train Loss: 4.3109, Train Accuracy: 0.3024, Test Loss: 4.0182, Test Accuracy: 0.3294\n",
      "-------------------------\n"
     ]
    },
    {
     "name": "stderr",
     "output_type": "stream",
     "text": [
      "Epoch 2/25: 100%|██████████| 63467/63467 [51:36<00:00, 20.50it/s, train_loss=3.91, train_accuracy=0.343]\n",
      "Evaluating: 100%|██████████| 642/642 [00:10<00:00, 63.66it/s, test_loss=4.02, test_accuracy=0.341]\n"
     ]
    },
    {
     "name": "stdout",
     "output_type": "stream",
     "text": [
      "Epoch: 2/25, Train Loss: 3.9134, Train Accuracy: 0.3426, Test Loss: 3.9901, Test Accuracy: 0.3387\n",
      "-------------------------\n"
     ]
    },
    {
     "name": "stderr",
     "output_type": "stream",
     "text": [
      "Epoch 3/25: 100%|██████████| 63467/63467 [51:21<00:00, 20.59it/s, train_loss=3.77, train_accuracy=0.355]\n",
      "Evaluating: 100%|██████████| 642/642 [00:10<00:00, 63.98it/s, test_loss=4.03, test_accuracy=0.343]\n"
     ]
    },
    {
     "name": "stdout",
     "output_type": "stream",
     "text": [
      "Epoch: 3/25, Train Loss: 3.7687, Train Accuracy: 0.3554, Test Loss: 3.9988, Test Accuracy: 0.3400\n",
      "-------------------------\n"
     ]
    },
    {
     "name": "stderr",
     "output_type": "stream",
     "text": [
      "Epoch 4/25: 100%|██████████| 63467/63467 [51:26<00:00, 20.57it/s, train_loss=3.66, train_accuracy=0.365]\n",
      "Evaluating: 100%|██████████| 642/642 [00:09<00:00, 64.21it/s, test_loss=4.06, test_accuracy=0.339]\n"
     ]
    },
    {
     "name": "stdout",
     "output_type": "stream",
     "text": [
      "Epoch: 4/25, Train Loss: 3.6638, Train Accuracy: 0.3653, Test Loss: 4.0424, Test Accuracy: 0.3377\n",
      "-------------------------\n"
     ]
    },
    {
     "name": "stderr",
     "output_type": "stream",
     "text": [
      "Epoch 5/25: 100%|██████████| 63467/63467 [51:17<00:00, 20.62it/s, train_loss=3.57, train_accuracy=0.374]\n",
      "Evaluating: 100%|██████████| 642/642 [00:10<00:00, 63.61it/s, test_loss=4.09, test_accuracy=0.335]\n"
     ]
    },
    {
     "name": "stdout",
     "output_type": "stream",
     "text": [
      "Epoch: 5/25, Train Loss: 3.5691, Train Accuracy: 0.3745, Test Loss: 4.0826, Test Accuracy: 0.3345\n",
      "-------------------------\n"
     ]
    },
    {
     "name": "stderr",
     "output_type": "stream",
     "text": [
      "Epoch 6/25: 100%|██████████| 63467/63467 [51:27<00:00, 20.56it/s, train_loss=3.49, train_accuracy=0.383]\n",
      "Evaluating: 100%|██████████| 642/642 [00:10<00:00, 63.84it/s, test_loss=4.15, test_accuracy=0.334]\n"
     ]
    },
    {
     "name": "stdout",
     "output_type": "stream",
     "text": [
      "Epoch: 6/25, Train Loss: 3.4903, Train Accuracy: 0.3826, Test Loss: 4.1418, Test Accuracy: 0.3329\n",
      "-------------------------\n"
     ]
    },
    {
     "name": "stderr",
     "output_type": "stream",
     "text": [
      "Epoch 7/25: 100%|██████████| 63467/63467 [51:31<00:00, 20.53it/s, train_loss=3.42, train_accuracy=0.39] \n",
      "Evaluating: 100%|██████████| 642/642 [00:10<00:00, 63.91it/s, test_loss=4.24, test_accuracy=0.332]\n"
     ]
    },
    {
     "name": "stdout",
     "output_type": "stream",
     "text": [
      "Epoch: 7/25, Train Loss: 3.4242, Train Accuracy: 0.3899, Test Loss: 4.2204, Test Accuracy: 0.3301\n",
      "-------------------------\n"
     ]
    },
    {
     "name": "stderr",
     "output_type": "stream",
     "text": [
      "Epoch 8/25: 100%|██████████| 63467/63467 [51:32<00:00, 20.52it/s, train_loss=3.37, train_accuracy=0.396]\n",
      "Evaluating: 100%|██████████| 642/642 [00:10<00:00, 63.98it/s, test_loss=4.32, test_accuracy=0.331]\n"
     ]
    },
    {
     "name": "stdout",
     "output_type": "stream",
     "text": [
      "Epoch: 8/25, Train Loss: 3.3655, Train Accuracy: 0.3964, Test Loss: 4.2949, Test Accuracy: 0.3297\n",
      "-------------------------\n"
     ]
    },
    {
     "name": "stderr",
     "output_type": "stream",
     "text": [
      "Epoch 9/25: 100%|██████████| 63467/63467 [51:33<00:00, 20.52it/s, train_loss=3.31, train_accuracy=0.402]\n",
      "Evaluating: 100%|██████████| 642/642 [00:10<00:00, 64.04it/s, test_loss=4.37, test_accuracy=0.327]\n"
     ]
    },
    {
     "name": "stdout",
     "output_type": "stream",
     "text": [
      "Epoch: 9/25, Train Loss: 3.3148, Train Accuracy: 0.4023, Test Loss: 4.3549, Test Accuracy: 0.3263\n",
      "-------------------------\n"
     ]
    },
    {
     "name": "stderr",
     "output_type": "stream",
     "text": [
      "Epoch 10/25: 100%|██████████| 63467/63467 [51:32<00:00, 20.52it/s, train_loss=3.27, train_accuracy=0.408]\n",
      "Evaluating: 100%|██████████| 642/642 [00:10<00:00, 63.33it/s, test_loss=4.47, test_accuracy=0.327]\n"
     ]
    },
    {
     "name": "stdout",
     "output_type": "stream",
     "text": [
      "Epoch: 10/25, Train Loss: 3.2717, Train Accuracy: 0.4076, Test Loss: 4.4318, Test Accuracy: 0.3244\n",
      "-------------------------\n"
     ]
    },
    {
     "name": "stderr",
     "output_type": "stream",
     "text": [
      "Epoch 11/25: 100%|██████████| 63467/63467 [51:26<00:00, 20.56it/s, train_loss=3.23, train_accuracy=0.413]\n",
      "Evaluating: 100%|██████████| 642/642 [00:10<00:00, 63.63it/s, test_loss=4.51, test_accuracy=0.322]\n"
     ]
    },
    {
     "name": "stdout",
     "output_type": "stream",
     "text": [
      "Epoch: 11/25, Train Loss: 3.2316, Train Accuracy: 0.4126, Test Loss: 4.5028, Test Accuracy: 0.3214\n",
      "-------------------------\n"
     ]
    },
    {
     "name": "stderr",
     "output_type": "stream",
     "text": [
      "Epoch 12/25: 100%|██████████| 63467/63467 [51:30<00:00, 20.54it/s, train_loss=3.2, train_accuracy=0.417] \n",
      "Evaluating: 100%|██████████| 642/642 [00:10<00:00, 63.52it/s, test_loss=4.59, test_accuracy=0.323]\n"
     ]
    },
    {
     "name": "stdout",
     "output_type": "stream",
     "text": [
      "Epoch: 12/25, Train Loss: 3.1959, Train Accuracy: 0.4172, Test Loss: 4.5637, Test Accuracy: 0.3215\n",
      "-------------------------\n"
     ]
    },
    {
     "name": "stderr",
     "output_type": "stream",
     "text": [
      "Epoch 13/25: 100%|██████████| 63467/63467 [1:05:55<00:00, 16.05it/s, train_loss=3.17, train_accuracy=0.421]\n",
      "Evaluating: 100%|██████████| 642/642 [00:10<00:00, 63.72it/s, test_loss=4.63, test_accuracy=0.321]\n"
     ]
    },
    {
     "name": "stdout",
     "output_type": "stream",
     "text": [
      "Epoch: 13/25, Train Loss: 3.1661, Train Accuracy: 0.4212, Test Loss: 4.6092, Test Accuracy: 0.3196\n",
      "-------------------------\n"
     ]
    },
    {
     "name": "stderr",
     "output_type": "stream",
     "text": [
      "Epoch 14/25: 100%|██████████| 63467/63467 [51:31<00:00, 20.53it/s, train_loss=3.14, train_accuracy=0.425]\n",
      "Evaluating: 100%|██████████| 642/642 [00:10<00:00, 63.80it/s, test_loss=4.71, test_accuracy=0.321]\n"
     ]
    },
    {
     "name": "stdout",
     "output_type": "stream",
     "text": [
      "Epoch: 14/25, Train Loss: 3.1405, Train Accuracy: 0.4247, Test Loss: 4.6930, Test Accuracy: 0.3201\n",
      "-------------------------\n"
     ]
    },
    {
     "name": "stderr",
     "output_type": "stream",
     "text": [
      "Epoch 15/25: 100%|██████████| 63467/63467 [59:49<00:00, 17.68it/s, train_loss=3.11, train_accuracy=0.428]  \n",
      "Evaluating: 100%|██████████| 642/642 [00:10<00:00, 63.42it/s, test_loss=4.75, test_accuracy=0.32] \n"
     ]
    },
    {
     "name": "stdout",
     "output_type": "stream",
     "text": [
      "Epoch: 15/25, Train Loss: 3.1134, Train Accuracy: 0.4282, Test Loss: 4.7249, Test Accuracy: 0.3190\n",
      "-------------------------\n"
     ]
    },
    {
     "name": "stderr",
     "output_type": "stream",
     "text": [
      "Epoch 16/25: 100%|██████████| 63467/63467 [51:25<00:00, 20.57it/s, train_loss=3.09, train_accuracy=0.431]\n",
      "Evaluating: 100%|██████████| 642/642 [00:10<00:00, 63.44it/s, test_loss=4.81, test_accuracy=0.317]\n"
     ]
    },
    {
     "name": "stdout",
     "output_type": "stream",
     "text": [
      "Epoch: 16/25, Train Loss: 3.0926, Train Accuracy: 0.4311, Test Loss: 4.7834, Test Accuracy: 0.3156\n",
      "-------------------------\n"
     ]
    },
    {
     "name": "stderr",
     "output_type": "stream",
     "text": [
      "Epoch 17/25: 100%|██████████| 63467/63467 [51:21<00:00, 20.60it/s, train_loss=3.08, train_accuracy=0.434]\n",
      "Evaluating: 100%|██████████| 642/642 [00:10<00:00, 63.06it/s, test_loss=4.85, test_accuracy=0.317]\n"
     ]
    },
    {
     "name": "stdout",
     "output_type": "stream",
     "text": [
      "Epoch: 17/25, Train Loss: 3.0779, Train Accuracy: 0.4336, Test Loss: 4.8160, Test Accuracy: 0.3142\n",
      "-------------------------\n"
     ]
    },
    {
     "name": "stderr",
     "output_type": "stream",
     "text": [
      "Epoch 18/25: 100%|██████████| 63467/63467 [51:19<00:00, 20.61it/s, train_loss=3.06, train_accuracy=0.436]  \n",
      "Evaluating: 100%|██████████| 642/642 [00:10<00:00, 63.43it/s, test_loss=4.96, test_accuracy=0.32] \n"
     ]
    },
    {
     "name": "stdout",
     "output_type": "stream",
     "text": [
      "Epoch: 18/25, Train Loss: 3.0620, Train Accuracy: 0.4360, Test Loss: 4.9040, Test Accuracy: 0.3169\n",
      "-------------------------\n"
     ]
    },
    {
     "name": "stderr",
     "output_type": "stream",
     "text": [
      "Epoch 19/25: 100%|██████████| 63467/63467 [51:31<00:00, 20.53it/s, train_loss=3.05, train_accuracy=0.438] \n",
      "Evaluating: 100%|██████████| 642/642 [00:10<00:00, 63.16it/s, test_loss=5.12, test_accuracy=0.323]\n"
     ]
    },
    {
     "name": "stdout",
     "output_type": "stream",
     "text": [
      "Epoch: 19/25, Train Loss: 3.0467, Train Accuracy: 0.4381, Test Loss: 5.0753, Test Accuracy: 0.3204\n",
      "-------------------------\n"
     ]
    },
    {
     "name": "stderr",
     "output_type": "stream",
     "text": [
      "Epoch 20/25: 100%|██████████| 63467/63467 [51:32<00:00, 20.52it/s, train_loss=3.03, train_accuracy=0.44] \n",
      "Evaluating: 100%|██████████| 642/642 [00:10<00:00, 63.24it/s, test_loss=5.09, test_accuracy=0.321]\n"
     ]
    },
    {
     "name": "stdout",
     "output_type": "stream",
     "text": [
      "Epoch: 20/25, Train Loss: 3.0329, Train Accuracy: 0.4400, Test Loss: 5.0535, Test Accuracy: 0.3193\n",
      "-------------------------\n"
     ]
    },
    {
     "name": "stderr",
     "output_type": "stream",
     "text": [
      "Epoch 21/25: 100%|██████████| 63467/63467 [51:30<00:00, 20.54it/s, train_loss=3.03, train_accuracy=0.442]\n",
      "Evaluating: 100%|██████████| 642/642 [00:10<00:00, 63.15it/s, test_loss=4.98, test_accuracy=0.311]\n"
     ]
    },
    {
     "name": "stdout",
     "output_type": "stream",
     "text": [
      "Epoch: 21/25, Train Loss: 3.0313, Train Accuracy: 0.4416, Test Loss: 4.9360, Test Accuracy: 0.3081\n",
      "-------------------------\n"
     ]
    },
    {
     "name": "stderr",
     "output_type": "stream",
     "text": [
      "Epoch 22/25: 100%|██████████| 63467/63467 [51:31<00:00, 20.53it/s, train_loss=3.02, train_accuracy=0.443]\n",
      "Evaluating: 100%|██████████| 642/642 [00:10<00:00, 62.97it/s, test_loss=4.99, test_accuracy=0.307]\n"
     ]
    },
    {
     "name": "stdout",
     "output_type": "stream",
     "text": [
      "Epoch: 22/25, Train Loss: 3.0153, Train Accuracy: 0.4431, Test Loss: 4.9566, Test Accuracy: 0.3051\n",
      "-------------------------\n"
     ]
    },
    {
     "name": "stderr",
     "output_type": "stream",
     "text": [
      "Epoch 23/25: 100%|██████████| 63467/63467 [51:26<00:00, 20.56it/s, train_loss=3.01, train_accuracy=0.444]\n",
      "Evaluating: 100%|██████████| 642/642 [00:10<00:00, 63.45it/s, test_loss=5.03, test_accuracy=0.312]\n"
     ]
    },
    {
     "name": "stdout",
     "output_type": "stream",
     "text": [
      "Epoch: 23/25, Train Loss: 3.0058, Train Accuracy: 0.4445, Test Loss: 5.0097, Test Accuracy: 0.3110\n",
      "-------------------------\n"
     ]
    },
    {
     "name": "stderr",
     "output_type": "stream",
     "text": [
      "Epoch 24/25: 100%|██████████| 63467/63467 [51:21<00:00, 20.60it/s, train_loss=3, train_accuracy=0.446]   \n",
      "Evaluating: 100%|██████████| 642/642 [00:10<00:00, 63.63it/s, test_loss=5.15, test_accuracy=0.318]\n"
     ]
    },
    {
     "name": "stdout",
     "output_type": "stream",
     "text": [
      "Epoch: 24/25, Train Loss: 3.0009, Train Accuracy: 0.4456, Test Loss: 5.1278, Test Accuracy: 0.3164\n",
      "-------------------------\n"
     ]
    },
    {
     "name": "stderr",
     "output_type": "stream",
     "text": [
      "Epoch 25/25: 100%|██████████| 63467/63467 [51:24<00:00, 20.58it/s, train_loss=2.99, train_accuracy=0.447]\n",
      "Evaluating: 100%|██████████| 642/642 [00:10<00:00, 63.43it/s, test_loss=5.28, test_accuracy=0.318]\n"
     ]
    },
    {
     "name": "stdout",
     "output_type": "stream",
     "text": [
      "Epoch: 25/25, Train Loss: 2.9941, Train Accuracy: 0.4466, Test Loss: 5.2726, Test Accuracy: 0.3174\n",
      "-------------------------\n"
     ]
    },
    {
     "data": {
      "image/png": "[encoded data removed]",
      "text/plain": [
       "<Figure size 720x360 with 2 Axes>"
      ]
     },
     "metadata": {
      "needs_background": "light"
     },
     "output_type": "display_data"
    }
   ],
   "source": [
    "# 文章生成の精度を計算する関数\n",
    "def calculate_accuracy(teacher_signals, outputs):\n",
    "    \"\"\"\n",
    "        teacher_signals: 教師信号\n",
    "        outputs: モデルの出力\n",
    "    \"\"\"\n",
    "    _, predicted_words = outputs.max(dim = -1)\n",
    "    # パディングに対して精度を計算しない\n",
    "    mask = (teacher_signals != 0)\n",
    "    correct = ((predicted_words == teacher_signals) & mask).sum().item()\n",
    "    total = mask.sum().item()\n",
    "    accuracy = correct / total if total > 0 else 0.0\n",
    "    return accuracy\n",
    "\n",
    "# 1イテレーション学習する関数\n",
    "def train_step(model, optimizer, batch_data, batch_labels):\n",
    "    optimizer.zero_grad()\n",
    "    outputs = model(*batch_data)\n",
    "    # パディングに対して損失を計算しない\n",
    "    loss = F.cross_entropy(outputs.view(-1, outputs.size(-1)), batch_labels.view(-1),\n",
    "                           ignore_index = 0)\n",
    "    accuracy = calculate_accuracy(batch_labels, F.softmax(outputs, dim = -1))\n",
    "    loss.backward()\n",
    "    optimizer.step()\n",
    "    return loss.item(), accuracy\n",
    "\n",
    "# 1イテレーション検証する関数\n",
    "def evaluate(model, batch_data, batch_labels):\n",
    "    with torch.no_grad():\n",
    "        outputs = model(*batch_data)\n",
    "        loss = F.cross_entropy(outputs.view(-1, outputs.size(-1)), batch_labels.view(-1),\n",
    "                               ignore_index = 0)\n",
    "        accuracy = calculate_accuracy(batch_labels, F.softmax(outputs, dim = -1))\n",
    "    return loss.item(), accuracy\n",
    "\n",
    "for epoch in range(EPOCH_FOR_GENERATOR):\n",
    "\n",
    "    # train\n",
    "    train_loss_obj = 0.0\n",
    "    train_accuracy_obj = 0.0\n",
    "    model.train()\n",
    "    pb = tqdm(train_dataloader, desc = f\"Epoch {epoch+1}/{EPOCH_FOR_GENERATOR}\")\n",
    "    \n",
    "    for image_features, sentences, teacher_signals in pb:\n",
    "        image_features = image_features.to(device)\n",
    "        sentences = sentences.to(device)\n",
    "        teacher_signals = teacher_signals.to(device)\n",
    "        \n",
    "        loss, accuracy = train_step(model, optimizer, (image_features, sentences), teacher_signals)\n",
    "        train_loss_obj += loss\n",
    "        train_accuracy_obj += accuracy\n",
    "        pb.set_postfix({\"train_loss\": train_loss_obj / (pb.n + 1), \"train_accuracy\": train_accuracy_obj / (pb.n + 1)})\n",
    "\n",
    "    train_loss = train_loss_obj / len(train_dataloader)\n",
    "    train_accuracy = train_accuracy_obj / len(train_dataloader)\n",
    "\n",
    "    # test\n",
    "    test_loss_obj = 0.0\n",
    "    test_accuracy_obj = 0.0\n",
    "    model.eval()\n",
    "    pb = tqdm(test_dataloader, desc = \"Evaluating\")\n",
    "\n",
    "    for image_features, sentences, teacher_signals in pb:\n",
    "        image_features = image_features.to(device)\n",
    "        sentences = sentences.to(device)\n",
    "        teacher_signals = teacher_signals.to(device)\n",
    "\n",
    "        loss, accuracy = evaluate(model, (image_features, sentences), teacher_signals)\n",
    "        test_loss_obj += loss\n",
    "        test_accuracy_obj += accuracy\n",
    "        pb.set_postfix({\"test_loss\": test_loss_obj / (pb.n + 1), \"test_accuracy\": test_accuracy_obj / (pb.n + 1)})\n",
    "\n",
    "    test_loss = test_loss_obj / len(test_dataloader)\n",
    "    test_accuracy = test_accuracy_obj / len(test_dataloader)\n",
    "\n",
    "    print(f\"Epoch: {epoch+1}/{EPOCH_FOR_GENERATOR}, \"\n",
    "          f\"Train Loss: {train_loss:.4f}, Train Accuracy: {train_accuracy:.4f}, \"\n",
    "          f\"Test Loss: {test_loss:.4f}, Test Accuracy: {test_accuracy:.4f}\")\n",
    "    print(\"-\" * 25)\n",
    "\n",
    "    train_loss_history.append(train_loss)\n",
    "    train_accuracy_history.append(train_accuracy)\n",
    "    test_loss_history.append(test_loss)\n",
    "    test_accuracy_history.append(test_accuracy)\n",
    "\n",
    "    # 学習精度を更新した場合、重みを保存\n",
    "    if max(train_accuracy_history) == train_accuracy:\n",
    "        torch.save(model.state_dict(), f\"{RESULT_DIR}best_model_weights.pth\")\n",
    "\n",
    "# 学習結果を保存\n",
    "with open(f\"{RESULT_DIR}history.json\", \"w\") as f:\n",
    "    json.dump({\n",
    "        \"train_loss\": train_loss_history,\n",
    "        \"train_accuracy\": train_accuracy_history,\n",
    "        \"test_loss\": test_loss_history,\n",
    "        \"test_accuracy\": test_accuracy_history\n",
    "    }, f)\n",
    "\n",
    "# 学習結果を描画\n",
    "fig = plt.figure(figsize = (10, 5))\n",
    "ax = fig.add_subplot(1, 2, 1)\n",
    "ax.plot(train_loss_history, label = \"train\")\n",
    "ax.plot(test_loss_history, label = \"test\")\n",
    "ax.set_xlabel(\"epoch\")\n",
    "ax.set_ylabel(\"loss\")\n",
    "ax.legend()\n",
    "ax.grid()\n",
    "\n",
    "ax = fig.add_subplot(1, 2, 2)\n",
    "ax.plot(train_accuracy_history, label = \"train\")\n",
    "ax.plot(test_accuracy_history, label = \"test\")\n",
    "ax.set_xlabel(\"epoch\")\n",
    "ax.set_ylabel(\"accuracy\")\n",
    "ax.legend()\n",
    "ax.grid()\n",
    "\n",
    "fig.savefig(f\"{RESULT_DIR}history.png\")"
   ]
  }
 ],
 "metadata": {
  "kernelspec": {
   "display_name": "Colab_20241111",
   "language": "python",
   "name": "python3"
  },
  "language_info": {
   "codemirror_mode": {
    "name": "ipython",
    "version": 3
   },
   "file_extension": ".py",
   "mimetype": "text/x-python",
   "name": "python",
   "nbconvert_exporter": "python",
   "pygments_lexer": "ipython3",
   "version": "3.10.12"
  }
 },
 "nbformat": 4,
 "nbformat_minor": 2
}
