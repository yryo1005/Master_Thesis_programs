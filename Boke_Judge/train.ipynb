{
 "cells": [
  {
   "cell_type": "markdown",
   "metadata": {},
   "source": [
    "- イラスト画像を学習に用いない\n",
    "- 文字が含まれる画像を学習に用いない\n",
    "- 固有名詞を含む大喜利を学習に用いない\n",
    "- 負例としてキャプションを用いる\n",
    "- 負例としてほかの画像の大喜利を用いる（正例の1倍）\n",
    "- EPOCH: 15\n",
    "- BATCH SIZE: 64\n",
    "- LEARNING RATE: 0.001\n",
    "- FEATURE DIM: 1024"
   ]
  },
  {
   "cell_type": "code",
   "execution_count": 3,
   "metadata": {},
   "outputs": [
    {
     "name": "stdout",
     "output_type": "stream",
     "text": [
      "25\n",
      "2024-12-29 15:05:59.272002: E external/local_xla/xla/stream_executor/cuda/cuda_fft.cc:485] Unable to register cuFFT factory: Attempting to register factory for plugin cuFFT when one has already been registered\n",
      "2024-12-29 15:05:59.422004: E external/local_xla/xla/stream_executor/cuda/cuda_dnn.cc:8454] Unable to register cuDNN factory: Attempting to register factory for plugin cuDNN when one has already been registered\n",
      "2024-12-29 15:05:59.467146: E external/local_xla/xla/stream_executor/cuda/cuda_blas.cc:1452] Unable to register cuBLAS factory: Attempting to register factory for plugin cuBLAS when one has already been registered\n",
      "2024-12-29 15:05:59.771889: I tensorflow/core/platform/cpu_feature_guard.cc:210] This TensorFlow binary is optimized to use available CPU instructions in performance-critical operations.\n",
      "To enable the following instructions: AVX2 FMA, in other operations, rebuild TensorFlow with the appropriate compiler flags.\n",
      "2024-12-29 15:06:01.033116: W tensorflow/compiler/tf2tensorrt/utils/py_utils.cc:38] TF-TRT Warning: Could not find TensorRT\n",
      "result directory: ../../results/Boke_Judge/False_False_False_True_True_1_15_64_0.0001_1024/\n",
      "学習に用いる大喜利の数: 2297194\n",
      " 学習に用いるキャプションの数: 251799\n",
      " 検証に用いる大喜利の数: 23204\n",
      " 検証に用いるキャプションの数: 2544\n",
      "/home/user/workspace/Master_Thesis/Master_Thesis_programs/Boke_Judge/train.py:331: FutureWarning: You are using `torch.load` with `weights_only=False` (the current default value), which uses the default pickle module implicitly. It is possible to construct malicious pickle data which will execute arbitrary code during unpickling (See https://github.com/pytorch/pytorch/blob/main/SECURITY.md#untrusted-models for more details). In a future release, the default value for `weights_only` will be flipped to `True`. This limits the functions that could be executed during unpickling. Arbitrary objects will no longer be allowed to be loaded via this mode unless they are explicitly allowlisted by the user via `torch.serialization.add_safe_globals`. We recommend you start setting `weights_only=True` for any use case where you don't have full control of the loaded file. Please open an issue on GitHub for any issues related to this experimental feature.\n",
      "  model.load_state_dict(torch.load(f\"{RESULT_DIR}model_{len(train_loss_history):03}.pth\"))\n",
      "/home/user/workspace/Master_Thesis/Master_Thesis_programs/Boke_Judge/train.py:484: FutureWarning: You are using `torch.load` with `weights_only=False` (the current default value), which uses the default pickle module implicitly. It is possible to construct malicious pickle data which will execute arbitrary code during unpickling (See https://github.com/pytorch/pytorch/blob/main/SECURITY.md#untrusted-models for more details). In a future release, the default value for `weights_only` will be flipped to `True`. This limits the functions that could be executed during unpickling. Arbitrary objects will no longer be allowed to be loaded via this mode unless they are explicitly allowlisted by the user via `torch.serialization.add_safe_globals`. We recommend you start setting `weights_only=True` for any use case where you don't have full control of the loaded file. Please open an issue on GitHub for any issues related to this experimental feature.\n",
      "  self.boke_judge_model.load_state_dict(torch.load(weight_path))\n",
      "You are using the default legacy behaviour of the <class 'transformers.models.t5.tokenization_t5.T5Tokenizer'>. This is expected, and simply means that the `legacy` (previous) behavior will be used so nothing changes for you. If you want to use the new behaviour, set `legacy=False`. This should only be set if you understand what it means, and thoroughly read the reason why this was added as explained in https://github.com/huggingface/transformers/pull/24565\n",
      "evaluating caption...\n",
      " 11%|████▎                                   | 272/2544 [00:06<00:44, 50.58it/s]^C\n",
      " 11%|████▎                                   | 277/2544 [00:06<00:50, 44.77it/s]\n",
      "Traceback (most recent call last):\n",
      "  File \"/home/user/workspace/Master_Thesis/Master_Thesis_programs/Boke_Judge/train.py\", line 608, in <module>\n",
      "    evaluate_result_dict = evaluate_model(f\"{RESULT_DIR}best_model.pth\", feature_dim = FEATURE_DIM,\n",
      "  File \"/home/user/workspace/Master_Thesis/Master_Thesis_programs/Boke_Judge/train.py\", line 552, in evaluate_model\n",
      "    judge = boke_judge_ai(f\"../../datas/boke_image/{image_number}.jpg\",\n",
      "  File \"/home/user/workspace/Master_Thesis/Master_Thesis_programs/Boke_Judge/train.py\", line 512, in __call__\n",
      "    preprcessed_image = self.clip_preprocesser(image).unsqueeze(0).to(self.device)\n",
      "KeyboardInterrupt\n"
     ]
    }
   ],
   "source": [
    "import os\n",
    "\n",
    "num_workers = int(os.cpu_count() * 0.8)\n",
    "print(num_workers)\n",
    "\n",
    "!python train.py \\\n",
    "    --num_workers {num_workers} \\\n",
    "    --use_caption \\\n",
    "    --use_miss_boke \\\n",
    "    --num_ratio_miss_boke 1 \\\n",
    "    --epoch 15 \\\n",
    "    --batch_size 64 \\\n",
    "    --learning_rate 0.0001 \\\n",
    "    --feature_dim 1024"
   ]
  },
  {
   "cell_type": "markdown",
   "metadata": {},
   "source": [
    "- イラスト画像を学習に**用いる**\n",
    "- 文字が含まれる画像を学習に用いない\n",
    "- 固有名詞を含む大喜利を学習に用いない\n",
    "- 負例としてキャプションを用いる\n",
    "- 負例としてほかの画像の大喜利を用いる（正例の1倍）\n",
    "- EPOCH: 15\n",
    "- BATCH SIZE: 64\n",
    "- LEARNING RATE: 0.001\n",
    "- FEATURE DIM: 1024"
   ]
  },
  {
   "cell_type": "code",
   "execution_count": null,
   "metadata": {},
   "outputs": [],
   "source": [
    "import os\n",
    "\n",
    "num_workers = int(os.cpu_count() * 0.8)\n",
    "print(num_workers)\n",
    "\n",
    "!python train.py \\\n",
    "    --num_workers {num_workers} \\\n",
    "    --use_unreal_image \\\n",
    "    --use_caption \\\n",
    "    --use_miss_boke \\\n",
    "    --num_ratio_miss_boke 1 \\\n",
    "    --epoch 15 \\\n",
    "    --batch_size 64 \\\n",
    "    --learning_rate 0.0001 \\\n",
    "    --feature_dim 1024"
   ]
  },
  {
   "cell_type": "markdown",
   "metadata": {},
   "source": [
    "- イラスト画像を学習に用いない\n",
    "- 文字が含まれる画像を学習に用いない\n",
    "- 固有名詞を含む大喜利を学習に**用いる**\n",
    "- 負例としてキャプションを用いる\n",
    "- 負例としてほかの画像の大喜利を用いる（正例の1倍）\n",
    "- EPOCH: 15\n",
    "- BATCH SIZE: 64\n",
    "- LEARNING RATE: 0.001\n",
    "- FEATURE DIM: 1024"
   ]
  },
  {
   "cell_type": "code",
   "execution_count": null,
   "metadata": {},
   "outputs": [],
   "source": [
    "import os\n",
    "\n",
    "num_workers = int(os.cpu_count() * 0.8)\n",
    "print(num_workers)\n",
    "\n",
    "!python train.py \\\n",
    "    --num_workers {num_workers} \\\n",
    "    --use_unique_noun_boke \\\n",
    "    --use_caption \\\n",
    "    --use_miss_boke \\\n",
    "    --num_ratio_miss_boke 1 \\\n",
    "    --epoch 15 \\\n",
    "    --batch_size 64 \\\n",
    "    --learning_rate 0.0001 \\\n",
    "    --feature_dim 1024"
   ]
  },
  {
   "cell_type": "markdown",
   "metadata": {},
   "source": [
    "- イラスト画像を学習に用いない\n",
    "- 文字が含まれる画像を学習に用いない\n",
    "- 固有名詞を含む大喜利を学習に用いない\n",
    "- 負例としてキャプションを**用いない**\n",
    "- 負例としてほかの画像の大喜利を用いる（正例の1倍）\n",
    "- EPOCH: 15\n",
    "- BATCH SIZE: 64\n",
    "- LEARNING RATE: 0.001\n",
    "- FEATURE DIM: 1024"
   ]
  },
  {
   "cell_type": "code",
   "execution_count": null,
   "metadata": {},
   "outputs": [],
   "source": [
    "import os\n",
    "\n",
    "num_workers = int(os.cpu_count() * 0.8)\n",
    "print(num_workers)\n",
    "\n",
    "!python train.py \\\n",
    "    --num_workers {num_workers} \\\n",
    "    --use_miss_boke \\\n",
    "    --num_ratio_miss_boke 1 \\\n",
    "    --epoch 15 \\\n",
    "    --batch_size 64 \\\n",
    "    --learning_rate 0.0001 \\\n",
    "    --feature_dim 1024"
   ]
  },
  {
   "cell_type": "markdown",
   "metadata": {},
   "source": [
    "- イラスト画像を学習に用いない\n",
    "- 文字が含まれる画像を学習に用いない\n",
    "- 固有名詞を含む大喜利を学習に用いない\n",
    "- 負例としてキャプションを用いる\n",
    "- 負例としてほかの画像の大喜利を用いる（正例の**2倍**）\n",
    "- EPOCH: 15\n",
    "- BATCH SIZE: 64\n",
    "- LEARNING RATE: 0.001\n",
    "- FEATURE DIM: 1024"
   ]
  },
  {
   "cell_type": "code",
   "execution_count": null,
   "metadata": {},
   "outputs": [],
   "source": [
    "import os\n",
    "\n",
    "num_workers = int(os.cpu_count() * 0.8)\n",
    "print(num_workers)\n",
    "\n",
    "!python train.py \\\n",
    "    --num_workers {num_workers} \\\n",
    "    --use_caption \\\n",
    "    --use_miss_boke \\\n",
    "    --num_ratio_miss_boke 2 \\\n",
    "    --epoch 15 \\\n",
    "    --batch_size 64 \\\n",
    "    --learning_rate 0.0001 \\\n",
    "    --feature_dim 1024"
   ]
  },
  {
   "cell_type": "markdown",
   "metadata": {},
   "source": [
    "- イラスト画像を学習に用いない\n",
    "- 文字が含まれる画像を学習に用いない\n",
    "- 固有名詞を含む大喜利を学習に用いない\n",
    "- 負例としてキャプションを用いる\n",
    "- 負例としてほかの画像の大喜利を用いる（正例の**3倍**）\n",
    "- EPOCH: 15\n",
    "- BATCH SIZE: 64\n",
    "- LEARNING RATE: 0.001\n",
    "- FEATURE DIM: 1024"
   ]
  },
  {
   "cell_type": "code",
   "execution_count": null,
   "metadata": {},
   "outputs": [],
   "source": [
    "import os\n",
    "\n",
    "num_workers = int(os.cpu_count() * 0.8)\n",
    "print(num_workers)\n",
    "\n",
    "!python train.py \\\n",
    "    --num_workers {num_workers} \\\n",
    "    --use_caption \\\n",
    "    --use_miss_boke \\\n",
    "    --num_ratio_miss_boke 3 \\\n",
    "    --epoch 15 \\\n",
    "    --batch_size 64 \\\n",
    "    --learning_rate 0.0001 \\\n",
    "    --feature_dim 1024"
   ]
  }
 ],
 "metadata": {
  "kernelspec": {
   "display_name": "Colab_20241111",
   "language": "python",
   "name": "python3"
  },
  "language_info": {
   "codemirror_mode": {
    "name": "ipython",
    "version": 3
   },
   "file_extension": ".py",
   "mimetype": "text/x-python",
   "name": "python",
   "nbconvert_exporter": "python",
   "pygments_lexer": "ipython3",
   "version": "3.10.12"
  }
 },
 "nbformat": 4,
 "nbformat_minor": 2
}
