{
 "cells": [
  {
   "cell_type": "code",
   "execution_count": 1,
   "metadata": {},
   "outputs": [],
   "source": [
    "import os\n",
    "import json\n",
    "import numpy as np\n",
    "import argparse\n",
    "import matplotlib.pyplot as plt\n",
    "import japanize_matplotlib\n",
    "from PIL import Image\n",
    "from tqdm import tqdm\n",
    "from sklearn.model_selection import train_test_split\n",
    "\n",
    "import torch\n",
    "import torch.nn as nn\n",
    "import torch.nn.functional as F\n",
    "from torch import optim\n",
    "from torch.utils.data import Dataset, DataLoader\n",
    "\n",
    "import japanese_clip as ja_clip\n",
    "from transformers import MLukeTokenizer, LukeModel"
   ]
  },
  {
   "cell_type": "code",
   "execution_count": 2,
   "metadata": {},
   "outputs": [],
   "source": [
    "# # コマンドライン引数の処理\n",
    "# parser = argparse.ArgumentParser(description=\"設定用プログラム\")\n",
    "\n",
    "\n",
    "# parser.add_argument(\"--num_workers\", type = int, default = 16, help = \"データローダが使用するCPUのスレッド数(GPUの総スレッド数の8割が推奨)\")\n",
    "# parser.add_argument(\"--reset_data\", action = \"store_true\", help = \"データセットを再作成するか\")\n",
    "# parser.add_argument(\"--use_unreal_image\", action = \"store_true\", help = \"現実写真以外を使用する\")\n",
    "# parser.add_argument(\"--use_word_image\", action = \"store_true\", help = \"文字を含む画像を使用する\")\n",
    "# parser.add_argument(\"--use_unique_noun_boke\", action = \"store_true\", help = \"固有名詞を含む大喜利を使用する\")\n",
    "# parser.add_argument(\"--use_caption\", action = \"store_true\", help = \"負例としてキャプションを使用する\")\n",
    "# parser.add_argument(\"--use_miss_boke\", action = \"store_true\", help = \"負例として別の画像の大喜利を使用する\")\n",
    "# parser.add_argument(\"--num_ratio_miss_boke\", type = int, default = 1, help = \"正例の何倍の別の画像の大喜利を使用するか\")\n",
    "# parser.add_argument(\"--epoch\", type = int, default = 15, help = \"学習反復回数\")\n",
    "# parser.add_argument(\"--batch_size\", type = int, default = 64, help = \"バッチサイズ\")\n",
    "# parser.add_argument(\"--learning_rate\", type = float, default = 0.001, help = \"学習率\")\n",
    "# parser.add_argument(\"--feature_dim\", type = int, default = 1024, help = \"モデルの特徴量次元数\")\n",
    "\n",
    "\n",
    "# args = parser.parse_args()"
   ]
  },
  {
   "cell_type": "code",
   "execution_count": 3,
   "metadata": {},
   "outputs": [
    {
     "name": "stdout",
     "output_type": "stream",
     "text": [
      "result directory: ../../results/Boke_Judge/False_False_False_True_True_1_15_64_0.0001_1024/\n"
     ]
    }
   ],
   "source": [
    "NUM_WORKERS = 16 # args.num_workers\n",
    "RESET_DATA = False # args.reset_data\n",
    "\n",
    "USE_UNREAL_IMAGE = False # args.use_unreal_image\n",
    "USE_WORD_IMAGE = False # args.use_word_image\n",
    "USE_UNIQUE_NOUN_BOKE = False # args.use_unique_noun_boke\n",
    "USE_CAPTION = True # args.use_caption\n",
    "USE_MISS_BOKE = True # args.use_miss_boke\n",
    "NUM_RATIO_MISS_BOKE = 1 # args.num_ratio_miss_boke\n",
    "\n",
    "EPOCH = 15 # args.epoch\n",
    "BATCH_SIZE = 64 # args.batch_size\n",
    "LEARNING_RATE = 0.0001 # args.learning_rate\n",
    "FEATURE_DIM = 1024 # args.feature_dim\n",
    "\n",
    "RESULT_DIR = f\"../../results/Boke_Judge/{USE_UNREAL_IMAGE}_{USE_WORD_IMAGE}_{USE_UNIQUE_NOUN_BOKE}_{USE_CAPTION}_{USE_MISS_BOKE}_{NUM_RATIO_MISS_BOKE}_{EPOCH}_{BATCH_SIZE}_{LEARNING_RATE}_{FEATURE_DIM}/\"\n",
    "\n",
    "if not os.path.exists(\"../../results/Boke_Judge/\"):\n",
    "    os.mkdir(\"../../results/Boke_Judge/\")\n",
    "if not os.path.exists(RESULT_DIR):\n",
    "    os.mkdir(RESULT_DIR)\n",
    "print(f\"result directory: {RESULT_DIR}\")\n",
    "with open(f\"{RESULT_DIR}config.json\", \"w\") as f:\n",
    "    json.dump({\n",
    "        \"USE_UNREAL_IMAGE\": USE_UNREAL_IMAGE,\n",
    "        \"USE_WORD_IMAGE\": USE_WORD_IMAGE,\n",
    "        \"USE_UNIQUE_NOUN_BOKE\": USE_UNIQUE_NOUN_BOKE,\n",
    "        \"USE_CAPTION\": USE_CAPTION,\n",
    "        \"USE_MISS_BOKE\": USE_MISS_BOKE,\n",
    "        \"NUM_RATIO_MISS_BOKE\": NUM_RATIO_MISS_BOKE,\n",
    "        \"EPOCH\": EPOCH,\n",
    "        \"BATCH_SIZE\": BATCH_SIZE,\n",
    "        \"LEARNING_RATE\": LEARNING_RATE,\n",
    "        \"FEATURE_DIM\": FEATURE_DIM\n",
    "    }, f)\n",
    "\n",
    "DATA_DIR = \"../../datas/boke_data_assemble/\"\n",
    "IMAGE_DIR = \"../../datas/boke_image/\"\n",
    "CLIP_IMAGE_FEATURE_DIR = \"../../datas/encoded/clip_image_feature/\"\n",
    "CLIP_SENTENCE_FEATURE_DIR = \"../../datas/encoded/clip_sentence_feature/\"\n",
    "LUKE_SENTENCE_FEATURE_DIR = \"../../datas/encoded/luke_sentence_feature/\""
   ]
  },
  {
   "cell_type": "code",
   "execution_count": 4,
   "metadata": {},
   "outputs": [
    {
     "name": "stdout",
     "output_type": "stream",
     "text": [
      "学習に用いる大喜利の数: 2297194\n",
      " 学習に用いるキャプションの数: 251799\n",
      " 検証に用いる大喜利の数: 23204\n",
      " 検証に用いるキャプションの数: 2544\n"
     ]
    }
   ],
   "source": [
    "# データセットの作成\n",
    "if not os.path.exists(f\"{RESULT_DIR}test_caption_datas.json\") or RESET_DATA:\n",
    "    \n",
    "    boke_datas = list()\n",
    "    caption_datas = list()\n",
    "\n",
    "    max_num_boke = 0\n",
    "    for JP in tqdm(os.listdir(DATA_DIR)):\n",
    "        N = int(JP.split(\".\")[0])\n",
    "\n",
    "        with open(f\"{DATA_DIR}{JP}\", \"r\") as f:\n",
    "            a = json.load(f)\n",
    "\n",
    "        image_information = a[\"image_information\"]\n",
    "        is_photographic_probability = image_information[\"is_photographic_probability\"]\n",
    "        ja_caption = image_information[\"ja_caption\"]\n",
    "        ocr = image_information[\"ocr\"]\n",
    "\n",
    "        # 現実写真以外を除去\n",
    "        if not USE_UNREAL_IMAGE:\n",
    "            if is_photographic_probability < 0.8: continue\n",
    "            \n",
    "        # 文字のある画像を除去\n",
    "        if not USE_WORD_IMAGE:\n",
    "            if len(ocr) != 0: continue\n",
    "\n",
    "        bokes = a[\"bokes\"]\n",
    "\n",
    "        max_num_boke = max(max_num_boke, len(a[\"bokes\"]))\n",
    "        for i, B in enumerate(bokes):\n",
    "\n",
    "            # 固有名詞を含む大喜利を除去\n",
    "            if not USE_UNIQUE_NOUN_BOKE:\n",
    "                if len(B[\"unique_nouns\"]) != 0: continue\n",
    "\n",
    "            boke_datas.append({\n",
    "                \"boke_number\": i,\n",
    "                \"image_number\": N\n",
    "            })\n",
    "\n",
    "        caption_datas.append({\n",
    "            \"caption_number\": N,\n",
    "            \"image_number\": N\n",
    "        })\n",
    "\n",
    "    # データセットの保存\n",
    "    train_boke_datas, test_boke_datas = train_test_split(boke_datas, test_size = 0.01)\n",
    "    train_caption_datas, test_caption_datas = train_test_split(caption_datas, test_size = 0.01)\n",
    "\n",
    "    with open(f\"{RESULT_DIR}train_boke_datas.json\", \"w\") as f:\n",
    "        json.dump(train_boke_datas, f)\n",
    "    with open(f\"{RESULT_DIR}train_caption_datas.json\", \"w\") as f:\n",
    "        json.dump(train_caption_datas, f)\n",
    "\n",
    "    with open(f\"{RESULT_DIR}test_boke_datas.json\", \"w\") as f:\n",
    "        json.dump(test_boke_datas, f)\n",
    "    with open(f\"{RESULT_DIR}test_caption_datas.json\", \"w\") as f:\n",
    "        json.dump(test_caption_datas, f)\n",
    "\n",
    "# データセットの読み込み\n",
    "else:\n",
    "    with open(f\"{RESULT_DIR}train_boke_datas.json\", \"r\") as f:\n",
    "        train_boke_datas = json.load(f)\n",
    "    with open(f\"{RESULT_DIR}train_caption_datas.json\", \"r\") as f:\n",
    "        train_caption_datas = json.load(f)\n",
    "\n",
    "    with open(f\"{RESULT_DIR}test_boke_datas.json\", \"r\") as f:\n",
    "        test_boke_datas = json.load(f)\n",
    "    with open(f\"{RESULT_DIR}test_caption_datas.json\", \"r\") as f:\n",
    "        test_caption_datas = json.load(f)\n",
    "\n",
    "print(f\"学習に用いる大喜利の数: {len(train_boke_datas)}\\n\", \n",
    "      f\"学習に用いるキャプションの数: {len(train_caption_datas)}\\n\", \n",
    "      f\"検証に用いる大喜利の数: {len(test_boke_datas)}\\n\", \n",
    "      f\"検証に用いるキャプションの数: {len(test_caption_datas)}\")"
   ]
  },
  {
   "cell_type": "code",
   "execution_count": 5,
   "metadata": {},
   "outputs": [],
   "source": [
    "# データローダを作る関数\n",
    "def make_dataloader(boke_datas, caption_datas, \n",
    "                    use_caption = False, use_miss_boke = False, num_ratio_miss_boke = 1,\n",
    "                    num_workers = 4):\n",
    "    \"\"\"\n",
    "        boke_datas: {\"image_number\":画像のお題番号 ,\"boke_number\":image_numberの画像に投稿されたboke_number番目の大喜利}からなるリスト\n",
    "        caption_datas: {\"image_number\":画像のお題番号}からなるリスト\n",
    "        use_caption: キャプションを負例として用いるか\n",
    "        use_miss_boke: 他の画像の大喜利を負例として用いるか\n",
    "        num_ratio_miss_boke: 正例の何倍の別の画像の大喜利を使用するか\n",
    "        num_workers: データローダが使用するCPUのスレッド数\n",
    "    \"\"\"\n",
    "    class LoadNpyDataset(Dataset):\n",
    "        def __init__(self, image_file_paths, sentence_file_paths, teacher_signals):\n",
    "            \"\"\"\n",
    "                image_file_paths: 画像の特徴量のパス(ディレクトリ，.npyを含めない)からなるリスト\n",
    "                sentence_file_paths: 文章の特徴量のパス(boke/image_number/boke_number，またはcaption/image_number，.npyを含めない)からなるリスト\n",
    "                teacher_signals: 教師信号(0または1)からなるリスト\n",
    "            \"\"\"\n",
    "            if len(image_file_paths) != len(sentence_file_paths) and len(sentence_file_paths) != len(teacher_signals):\n",
    "                raise ValueError(\"データリストの長さが一致しません\")\n",
    "\n",
    "            self.image_file_paths = image_file_paths\n",
    "            self.sentence_file_paths = sentence_file_paths\n",
    "            self.teacher_signals = teacher_signals\n",
    "\n",
    "        def __len__(self):\n",
    "            return len(self.teacher_signals)\n",
    "\n",
    "        def __getitem__(self, idx):\n",
    "            clip_image_feature = np.load(f\"{CLIP_IMAGE_FEATURE_DIR}{self.image_file_paths[idx]}.npy\")\n",
    "            clip_sentence_feature = np.load(f\"{CLIP_SENTENCE_FEATURE_DIR}{self.sentence_file_paths[idx]}.npy\")\n",
    "            luke_sentence_feature = np.load(f\"{LUKE_SENTENCE_FEATURE_DIR}{self.sentence_file_paths[idx]}.npy\")\n",
    "            teacher_signal = self.teacher_signals[idx]\n",
    "\n",
    "            return clip_image_feature, clip_sentence_feature, luke_sentence_feature, teacher_signal\n",
    "\n",
    "    def collate_fn_tf(batch):\n",
    "        clip_image_features = torch.Tensor(np.array([B[0] for B in batch]))\n",
    "        clip_sentence_features = torch.Tensor(np.array([B[1] for B in batch]))\n",
    "        luke_sentence_features = torch.Tensor(np.array([B[2] for B in batch]))\n",
    "        teacher_signals = torch.Tensor(np.array([float(B[3]) for B in batch])[..., np.newaxis])\n",
    "        \n",
    "        return clip_image_features, clip_sentence_features, luke_sentence_features, teacher_signals\n",
    "\n",
    "    image_file_numbers = list()\n",
    "    sentence_file_numbers = list()\n",
    "    teacher_signals = list()\n",
    "\n",
    "    for D in boke_datas:\n",
    "        image_file_numbers.append(D[\"image_number\"])\n",
    "        sentence_file_numbers.append(f'boke/{D[\"image_number\"]}/{D[\"boke_number\"]}')\n",
    "        teacher_signals.append(1)\n",
    "\n",
    "    if use_caption:\n",
    "        for D in caption_datas:\n",
    "            image_file_numbers.append(D[\"image_number\"])\n",
    "            sentence_file_numbers.append(f'caption/{D[\"image_number\"]}')\n",
    "            teacher_signals.append(0)\n",
    "    \n",
    "    if use_miss_boke:\n",
    "        miss_boke_datas = list()\n",
    "\n",
    "        # num_ratio_miss_boke回だけ負例を作る\n",
    "        for _ in range(num_ratio_miss_boke):\n",
    "            tmp_idx = np.random.randint(0, len(boke_datas), size = (len(boke_datas), ))\n",
    "            for i, idx in tqdm(enumerate(tmp_idx)):\n",
    "                # ランダムに選んだ大喜利の画像が正例の画像と同じ限り繰り返す\n",
    "                while boke_datas[idx][\"image_number\"] == boke_datas[i][\"image_number\"]:\n",
    "                    idx = np.random.randint(0, len(boke_datas))\n",
    "\n",
    "                miss_boke_datas.append({\n",
    "                    \"boke_path\": f'boke/{boke_datas[idx][\"image_number\"]}/{boke_datas[idx][\"boke_number\"]}',\n",
    "                    \"image_number\": boke_datas[i][\"image_number\"]\n",
    "                })\n",
    "            \n",
    "        for D in miss_boke_datas:\n",
    "            image_file_numbers.append(D[\"image_number\"])\n",
    "            sentence_file_numbers.append(D[\"boke_path\"])\n",
    "            teacher_signals.append(0)\n",
    "    \n",
    "    print(f\"num data: {len(teacher_signals)}\")\n",
    "\n",
    "    tmp = list(zip(image_file_numbers, sentence_file_numbers, teacher_signals))\n",
    "    np.random.shuffle(tmp)\n",
    "    image_file_numbers, sentence_file_numbers, teacher_signals = zip(*tmp)\n",
    "\n",
    "    dataset = LoadNpyDataset(image_file_numbers, sentence_file_numbers, teacher_signals)\n",
    "    dataloader = DataLoader(\n",
    "        dataset, \n",
    "        batch_size = BATCH_SIZE, \n",
    "        num_workers = num_workers, \n",
    "        collate_fn = collate_fn_tf\n",
    "    )\n",
    "\n",
    "    return dataloader"
   ]
  },
  {
   "cell_type": "code",
   "execution_count": 6,
   "metadata": {},
   "outputs": [],
   "source": [
    "# 大喜利適合判定モデルのクラス\n",
    "class BokeJudgeModel(nn.Module):\n",
    "    def __init__(self, cif_dim = 512, csf_dim = 512, lsf_dim = 768, feature_dim = 1024):\n",
    "        \"\"\"\n",
    "            cif_dim: CLIPの画像の特徴量の次元数\n",
    "            csf_dim: CLIPの文章の特徴量の次元数\n",
    "            lsf_dim: Sentene-LUKEの文章の特徴量の次元数\n",
    "        \"\"\"\n",
    "        super(BokeJudgeModel, self).__init__()\n",
    "        self.cif_dim = cif_dim\n",
    "        self.csf_dim = csf_dim\n",
    "        self.lsf_dim = lsf_dim\n",
    "        \n",
    "        self.fc1 = nn.Linear(cif_dim + csf_dim + lsf_dim, feature_dim)\n",
    "        self.fc2 = nn.Linear(feature_dim, feature_dim)\n",
    "        self.fc3 = nn.Linear(feature_dim, feature_dim)\n",
    "        self.output_layer = nn.Linear(feature_dim, 1)\n",
    "        \n",
    "    def forward(self, cif, csf, lsf):\n",
    "        \"\"\"\n",
    "            cif: CLIPの画像の特徴量\n",
    "            csf: CLIPの文章の特徴量\n",
    "            lsf: Sentence-LUKEの文章の特徴量\n",
    "        \"\"\"\n",
    "        x = torch.cat([cif, csf, lsf], dim = 1)\n",
    "\n",
    "        x = F.leaky_relu(self.fc1(x))\n",
    "        x = F.leaky_relu(self.fc2(x))\n",
    "        x = F.leaky_relu(self.fc3(x))\n",
    "\n",
    "        output = torch.sigmoid(self.output_layer(x))\n",
    "        return output"
   ]
  },
  {
   "cell_type": "code",
   "execution_count": 7,
   "metadata": {},
   "outputs": [],
   "source": [
    "# 二値分類の精度を計算する関数\n",
    "def calculate_accuracy(teacher_signals, outputs, threshould = 0.5):\n",
    "    \"\"\"\n",
    "        teacher_signals: 教師信号\n",
    "        outputs: モデルの出力\n",
    "        threshould: しきい値\n",
    "    \"\"\"\n",
    "    return ((outputs > threshould).float() == teacher_signals).float().mean()\n",
    "\n",
    "# 1イテレーション学習する関数\n",
    "def train_step(model, optimizer, batch_data, batch_labels):\n",
    "    optimizer.zero_grad()\n",
    "    outputs = model(*batch_data)\n",
    "    loss = nn.BCELoss()(outputs, batch_labels)\n",
    "    accuracy = calculate_accuracy(batch_labels, outputs)\n",
    "    loss.backward()\n",
    "    optimizer.step()\n",
    "    return loss.item(), accuracy.item()\n",
    "\n",
    "# 1イテレーション検証する関数\n",
    "def evaluate(model, batch_data, batch_labels):\n",
    "    with torch.no_grad():\n",
    "        outputs = model(*batch_data)\n",
    "        loss = nn.BCELoss()(outputs, batch_labels)\n",
    "        accuracy = calculate_accuracy(batch_labels, outputs)\n",
    "    return loss.item(), accuracy.item()"
   ]
  },
  {
   "cell_type": "code",
   "execution_count": 8,
   "metadata": {},
   "outputs": [
    {
     "name": "stderr",
     "output_type": "stream",
     "text": [
      "<ipython-input-8-fdf76b1e07f9>:11: FutureWarning: You are using `torch.load` with `weights_only=False` (the current default value), which uses the default pickle module implicitly. It is possible to construct malicious pickle data which will execute arbitrary code during unpickling (See https://github.com/pytorch/pytorch/blob/main/SECURITY.md#untrusted-models for more details). In a future release, the default value for `weights_only` will be flipped to `True`. This limits the functions that could be executed during unpickling. Arbitrary objects will no longer be allowed to be loaded via this mode unless they are explicitly allowlisted by the user via `torch.serialization.add_safe_globals`. We recommend you start setting `weights_only=True` for any use case where you don't have full control of the loaded file. Please open an issue on GitHub for any issues related to this experimental feature.\n",
      "  model.load_state_dict(torch.load(f\"{RESULT_DIR}model_{len(train_loss_history):03}.pth\"))\n",
      "2297194it [00:01, 1170009.35it/s]\n"
     ]
    },
    {
     "name": "stdout",
     "output_type": "stream",
     "text": [
      "num data: 4846187\n"
     ]
    },
    {
     "name": "stderr",
     "output_type": "stream",
     "text": [
      "Epoch 8/15:   0%|          | 0/75722 [00:01<?, ?it/s, train_loss=0.658, train_accuracy=0.625]\n",
      "23204it [00:00, 1776483.16it/s]\n"
     ]
    },
    {
     "name": "stdout",
     "output_type": "stream",
     "text": [
      "num data: 48952\n"
     ]
    },
    {
     "name": "stderr",
     "output_type": "stream",
     "text": [
      "Evaluating:   0%|          | 0/765 [00:00<?, ?it/s, test_loss=0.699, test_accuracy=0.578]\n"
     ]
    },
    {
     "name": "stdout",
     "output_type": "stream",
     "text": [
      "Epoch: 8/15, Train Loss: 0.0000, Train Accuracy: 0.0000, Test Loss: 0.0009, Test Accuracy: 0.0008\n",
      "-------------------------\n"
     ]
    },
    {
     "name": "stderr",
     "output_type": "stream",
     "text": [
      "2297194it [00:01, 1178285.74it/s]\n"
     ]
    },
    {
     "name": "stdout",
     "output_type": "stream",
     "text": [
      "num data: 4846187\n"
     ]
    },
    {
     "name": "stderr",
     "output_type": "stream",
     "text": [
      "Epoch 9/15:   0%|          | 0/75722 [00:01<?, ?it/s, train_loss=0.702, train_accuracy=0.547]\n",
      "23204it [00:00, 1541214.77it/s]\n"
     ]
    },
    {
     "name": "stdout",
     "output_type": "stream",
     "text": [
      "num data: 48952\n"
     ]
    },
    {
     "name": "stderr",
     "output_type": "stream",
     "text": [
      "Evaluating:   0%|          | 0/765 [00:00<?, ?it/s, test_loss=0.714, test_accuracy=0.484]\n"
     ]
    },
    {
     "name": "stdout",
     "output_type": "stream",
     "text": [
      "Epoch: 9/15, Train Loss: 0.0000, Train Accuracy: 0.0000, Test Loss: 0.0009, Test Accuracy: 0.0006\n",
      "-------------------------\n"
     ]
    },
    {
     "name": "stderr",
     "output_type": "stream",
     "text": [
      "2297194it [00:01, 1167125.37it/s]\n"
     ]
    },
    {
     "name": "stdout",
     "output_type": "stream",
     "text": [
      "num data: 4846187\n"
     ]
    },
    {
     "name": "stderr",
     "output_type": "stream",
     "text": [
      "Epoch 10/15:   0%|          | 0/75722 [00:01<?, ?it/s, train_loss=0.686, train_accuracy=0.578]\n",
      "23204it [00:00, 1541727.47it/s]\n"
     ]
    },
    {
     "name": "stdout",
     "output_type": "stream",
     "text": [
      "num data: 48952\n"
     ]
    },
    {
     "name": "stderr",
     "output_type": "stream",
     "text": [
      "Evaluating:   0%|          | 0/765 [00:00<?, ?it/s, test_loss=0.691, test_accuracy=0.562]\n"
     ]
    },
    {
     "name": "stdout",
     "output_type": "stream",
     "text": [
      "Epoch: 10/15, Train Loss: 0.0000, Train Accuracy: 0.0000, Test Loss: 0.0009, Test Accuracy: 0.0007\n",
      "-------------------------\n"
     ]
    },
    {
     "name": "stderr",
     "output_type": "stream",
     "text": [
      "2297194it [00:02, 1146483.38it/s]\n"
     ]
    },
    {
     "name": "stdout",
     "output_type": "stream",
     "text": [
      "num data: 4846187\n"
     ]
    },
    {
     "name": "stderr",
     "output_type": "stream",
     "text": [
      "Epoch 11/15:   0%|          | 0/75722 [00:01<?, ?it/s, train_loss=0.693, train_accuracy=0.547]\n",
      "23204it [00:00, 1485554.69it/s]\n"
     ]
    },
    {
     "name": "stdout",
     "output_type": "stream",
     "text": [
      "num data: 48952\n"
     ]
    },
    {
     "name": "stderr",
     "output_type": "stream",
     "text": [
      "Evaluating:   0%|          | 0/765 [00:00<?, ?it/s, test_loss=0.702, test_accuracy=0.531]\n"
     ]
    },
    {
     "name": "stdout",
     "output_type": "stream",
     "text": [
      "Epoch: 11/15, Train Loss: 0.0000, Train Accuracy: 0.0000, Test Loss: 0.0009, Test Accuracy: 0.0007\n",
      "-------------------------\n"
     ]
    },
    {
     "name": "stderr",
     "output_type": "stream",
     "text": [
      "2297194it [00:01, 1170393.23it/s]\n"
     ]
    },
    {
     "name": "stdout",
     "output_type": "stream",
     "text": [
      "num data: 4846187\n"
     ]
    },
    {
     "name": "stderr",
     "output_type": "stream",
     "text": [
      "Epoch 12/15:   0%|          | 0/75722 [00:01<?, ?it/s, train_loss=0.714, train_accuracy=0.406]\n",
      "23204it [00:00, 1440971.11it/s]\n"
     ]
    },
    {
     "name": "stdout",
     "output_type": "stream",
     "text": [
      "num data: 48952\n"
     ]
    },
    {
     "name": "stderr",
     "output_type": "stream",
     "text": [
      "Evaluating:   0%|          | 0/765 [00:00<?, ?it/s, test_loss=0.691, test_accuracy=0.547]\n"
     ]
    },
    {
     "name": "stdout",
     "output_type": "stream",
     "text": [
      "Epoch: 12/15, Train Loss: 0.0000, Train Accuracy: 0.0000, Test Loss: 0.0009, Test Accuracy: 0.0007\n",
      "-------------------------\n"
     ]
    },
    {
     "name": "stderr",
     "output_type": "stream",
     "text": [
      "2297194it [00:02, 1103395.40it/s]\n"
     ]
    },
    {
     "name": "stdout",
     "output_type": "stream",
     "text": [
      "num data: 4846187\n"
     ]
    },
    {
     "name": "stderr",
     "output_type": "stream",
     "text": [
      "Epoch 13/15:   0%|          | 0/75722 [00:01<?, ?it/s, train_loss=0.674, train_accuracy=0.656]\n",
      "23204it [00:00, 1528363.04it/s]\n"
     ]
    },
    {
     "name": "stdout",
     "output_type": "stream",
     "text": [
      "num data: 48952\n"
     ]
    },
    {
     "name": "stderr",
     "output_type": "stream",
     "text": [
      "Evaluating:   0%|          | 0/765 [00:00<?, ?it/s, test_loss=0.691, test_accuracy=0.516]\n"
     ]
    },
    {
     "name": "stdout",
     "output_type": "stream",
     "text": [
      "Epoch: 13/15, Train Loss: 0.0000, Train Accuracy: 0.0000, Test Loss: 0.0009, Test Accuracy: 0.0007\n",
      "-------------------------\n"
     ]
    },
    {
     "name": "stderr",
     "output_type": "stream",
     "text": [
      "2297194it [00:02, 1127814.87it/s]\n"
     ]
    },
    {
     "name": "stdout",
     "output_type": "stream",
     "text": [
      "num data: 4846187\n"
     ]
    },
    {
     "name": "stderr",
     "output_type": "stream",
     "text": [
      "Epoch 14/15:   0%|          | 0/75722 [00:01<?, ?it/s, train_loss=0.704, train_accuracy=0.359]\n",
      "23204it [00:00, 1519794.97it/s]\n"
     ]
    },
    {
     "name": "stdout",
     "output_type": "stream",
     "text": [
      "num data: 48952\n"
     ]
    },
    {
     "name": "stderr",
     "output_type": "stream",
     "text": [
      "Evaluating:   0%|          | 0/765 [00:00<?, ?it/s, test_loss=0.693, test_accuracy=0.531]\n"
     ]
    },
    {
     "name": "stdout",
     "output_type": "stream",
     "text": [
      "Epoch: 14/15, Train Loss: 0.0000, Train Accuracy: 0.0000, Test Loss: 0.0009, Test Accuracy: 0.0007\n",
      "-------------------------\n"
     ]
    },
    {
     "name": "stderr",
     "output_type": "stream",
     "text": [
      "2297194it [00:01, 1149510.05it/s]\n"
     ]
    },
    {
     "name": "stdout",
     "output_type": "stream",
     "text": [
      "num data: 4846187\n"
     ]
    },
    {
     "name": "stderr",
     "output_type": "stream",
     "text": [
      "Epoch 15/15:   0%|          | 0/75722 [00:01<?, ?it/s, train_loss=0.684, train_accuracy=0.531]\n",
      "23204it [00:00, 1421980.77it/s]\n"
     ]
    },
    {
     "name": "stdout",
     "output_type": "stream",
     "text": [
      "num data: 48952\n"
     ]
    },
    {
     "name": "stderr",
     "output_type": "stream",
     "text": [
      "Evaluating:   0%|          | 0/765 [00:00<?, ?it/s, test_loss=0.693, test_accuracy=0.516]"
     ]
    },
    {
     "name": "stdout",
     "output_type": "stream",
     "text": [
      "Epoch: 15/15, Train Loss: 0.0000, Train Accuracy: 0.0000, Test Loss: 0.0009, Test Accuracy: 0.0007\n",
      "-------------------------\n"
     ]
    },
    {
     "name": "stderr",
     "output_type": "stream",
     "text": [
      "\n"
     ]
    }
   ],
   "source": [
    "model = BokeJudgeModel(feature_dim = FEATURE_DIM)\n",
    "\n",
    "# 学習履歴がある場合，途中から再開する\n",
    "if os.path.exists(f\"{RESULT_DIR}history.json\"):\n",
    "    with open(f\"{RESULT_DIR}history.json\", \"r\") as f:\n",
    "        a = json.load(f)\n",
    "        train_loss_history = a[\"train_loss\"]\n",
    "        train_accuracy_history = a[\"train_accuracy\"]\n",
    "        test_loss_history = a[\"test_loss\"]\n",
    "        test_accuracy_history = a[\"test_accuracy\"]\n",
    "    model.load_state_dict(torch.load(f\"{RESULT_DIR}model_{len(train_loss_history):03}.pth\"))\n",
    "    SATRT_EPOCH = len(train_loss_history)\n",
    "else:\n",
    "    train_loss_history = []\n",
    "    train_accuracy_history = []\n",
    "    test_loss_history = []\n",
    "    test_accuracy_history = []\n",
    "    SATRT_EPOCH = 0\n",
    "\n",
    "device = \"cuda\" if torch.cuda.is_available() else \"cpu\"\n",
    "model.to(device)\n",
    "optimizer = optim.AdamW(model.parameters(), lr = LEARNING_RATE)\n",
    "\n",
    "for epoch in range(SATRT_EPOCH, EPOCH):\n",
    "\n",
    "    # train\n",
    "    train_loss_obj = 0.0\n",
    "    train_accuracy_obj = 0.0\n",
    "    model.train()\n",
    "    train_dataloader = make_dataloader(train_boke_datas, train_caption_datas,\n",
    "                                       use_caption = USE_CAPTION, use_miss_boke = USE_MISS_BOKE, num_ratio_miss_boke = NUM_RATIO_MISS_BOKE,\n",
    "                                       num_workers = NUM_WORKERS)\n",
    "    pb = tqdm(train_dataloader, desc = f\"Epoch {epoch+1}/{EPOCH}\")\n",
    "    \n",
    "    for CIF, CSF, LSF, TS in pb:\n",
    "        CIF = CIF.to(device)\n",
    "        CSF = CSF.to(device)\n",
    "        LSF = LSF.to(device)\n",
    "        TS = TS.to(device)\n",
    "\n",
    "        loss, accuracy = train_step(model, optimizer, (CIF, CSF, LSF), TS)\n",
    "        train_loss_obj += loss\n",
    "        train_accuracy_obj += accuracy\n",
    "        pb.set_postfix({\"train_loss\": train_loss_obj / (pb.n + 1), \"train_accuracy\": train_accuracy_obj / (pb.n + 1)})\n",
    "        break\n",
    "    train_loss = train_loss_obj / len(train_dataloader)\n",
    "    train_accuracy = train_accuracy_obj / len(train_dataloader)\n",
    "\n",
    "    # test\n",
    "    test_loss_obj = 0.0\n",
    "    test_accuracy_obj = 0.0\n",
    "    model.eval()\n",
    "    test_dataloader = make_dataloader(test_boke_datas, test_caption_datas,\n",
    "                                      use_caption = USE_CAPTION, use_miss_boke = USE_MISS_BOKE, num_ratio_miss_boke = NUM_RATIO_MISS_BOKE,\n",
    "                                       num_workers = NUM_WORKERS)\n",
    "    pb = tqdm(test_dataloader, desc = \"Evaluating\")\n",
    "\n",
    "    for CIF, CSF, LSF, TS in pb:\n",
    "        CIF = CIF.to(device)\n",
    "        CSF = CSF.to(device)\n",
    "        LSF = LSF.to(device)\n",
    "        TS = TS.to(device)\n",
    "        \n",
    "        loss, accuracy = evaluate(model, (CIF, CSF, LSF), TS)\n",
    "        test_loss_obj += loss\n",
    "        test_accuracy_obj += accuracy\n",
    "        pb.set_postfix({\"test_loss\": test_loss_obj / (pb.n + 1), \"test_accuracy\": test_accuracy_obj / (pb.n + 1)})\n",
    "        break\n",
    "    test_loss = test_loss_obj / len(test_dataloader)\n",
    "    test_accuracy = test_accuracy_obj / len(test_dataloader)\n",
    "\n",
    "    print(f\"Epoch: {epoch+1}/{EPOCH}, \"\n",
    "          f\"Train Loss: {train_loss:.4f}, Train Accuracy: {train_accuracy:.4f}, \"\n",
    "          f\"Test Loss: {test_loss:.4f}, Test Accuracy: {test_accuracy:.4f}\")\n",
    "    print(\"-\" * 25)\n",
    "\n",
    "    train_loss_history.append(train_loss)\n",
    "    train_accuracy_history.append(train_accuracy)\n",
    "    test_loss_history.append(test_loss)\n",
    "    test_accuracy_history.append(test_accuracy)\n",
    "\n",
    "    torch.save(model.state_dict(), f\"{RESULT_DIR}model_{len(train_loss_history):03}.pth\")\n",
    "    if os.path.exists(f\"{RESULT_DIR}model_{len(train_loss_history) - 1:03}.pth\"):\n",
    "        os.remove(f\"{RESULT_DIR}model_{len(train_loss_history) - 1:03}.pth\")\n",
    "\n",
    "    # 検証精度を更新した場合、重みを保存\n",
    "    if max(test_accuracy_history) == test_accuracy:\n",
    "        torch.save(model.state_dict(), f\"{RESULT_DIR}best_model.pth\")\n",
    "\n",
    "    # 学習結果を保存\n",
    "    with open(f\"{RESULT_DIR}history.json\", \"w\") as f:\n",
    "        json.dump({\n",
    "            \"train_loss\": train_loss_history,\n",
    "            \"train_accuracy\": train_accuracy_history,\n",
    "            \"test_loss\": test_loss_history,\n",
    "            \"test_accuracy\": test_accuracy_history\n",
    "        }, f)"
   ]
  },
  {
   "cell_type": "code",
   "execution_count": 11,
   "metadata": {},
   "outputs": [
    {
     "data": {
      "image/png": "[encoded data removed]",
      "text/plain": [
       "<Figure size 720x360 with 2 Axes>"
      ]
     },
     "metadata": {
      "needs_background": "light"
     },
     "output_type": "display_data"
    }
   ],
   "source": [
    "# 学習結果を描画\n",
    "fig = plt.figure(figsize = (10, 5))\n",
    "ax = fig.add_subplot(1, 2, 1)\n",
    "ax.plot(train_loss_history, label = \"train\")\n",
    "ax.plot(test_loss_history, label = \"test\")\n",
    "ax.set_xlabel(\"epoch\")\n",
    "ax.set_ylabel(\"loss\")\n",
    "ax.legend()\n",
    "ax.grid()\n",
    "\n",
    "ax = fig.add_subplot(1, 2, 2)\n",
    "ax.plot(train_accuracy_history, label = \"train\")\n",
    "ax.plot(test_accuracy_history, label = \"test\")\n",
    "ax.set_xlabel(\"epoch\")\n",
    "ax.set_ylabel(\"accuracy\")\n",
    "ax.legend()\n",
    "ax.grid()\n",
    "\n",
    "fig.savefig(f\"{RESULT_DIR}history.png\")"
   ]
  },
  {
   "cell_type": "code",
   "execution_count": 12,
   "metadata": {},
   "outputs": [],
   "source": [
    "# Sentence-LUKEのクラス\n",
    "class SentenceLukeJapanese:\n",
    "    def __init__(self, device = None):\n",
    "        self.tokenizer = MLukeTokenizer.from_pretrained(\"sonoisa/sentence-luke-japanese-base-lite\")\n",
    "        self.model = LukeModel.from_pretrained(\"sonoisa/sentence-luke-japanese-base-lite\",\n",
    "                                               torch_dtype = torch.float16)\n",
    "        self.model.eval()\n",
    "\n",
    "        if device is None:\n",
    "            device = \"cuda\" if torch.cuda.is_available() else \"cpu\"\n",
    "        self.device = torch.device(device)\n",
    "        self.model.to(device)\n",
    "\n",
    "    def _mean_pooling(self, model_output, attention_mask):\n",
    "        token_embeddings = model_output[0] #First element of model_output contains all token embeddings\n",
    "        input_mask_expanded = attention_mask.unsqueeze(-1).expand(token_embeddings.size()).float()\n",
    "        return torch.sum(token_embeddings * input_mask_expanded, 1) / torch.clamp(input_mask_expanded.sum(1), min=1e-9)\n",
    "\n",
    "    @torch.no_grad()\n",
    "    def encode(self, sentences, batch_size = 256):\n",
    "        all_embeddings = []\n",
    "        iterator = range(0, len(sentences), batch_size)\n",
    "        for batch_idx in iterator:\n",
    "            batch = sentences[batch_idx:batch_idx + batch_size]\n",
    "\n",
    "            encoded_input = self.tokenizer.batch_encode_plus(batch, padding=\"longest\",\n",
    "                                           truncation=True, return_tensors=\"pt\").to(self.device)\n",
    "            model_output = self.model(**encoded_input)\n",
    "            sentence_embeddings = self._mean_pooling(model_output, encoded_input[\"attention_mask\"]).to('cpu')\n",
    "\n",
    "            all_embeddings.extend(sentence_embeddings)\n",
    "\n",
    "        return torch.stack(all_embeddings)"
   ]
  },
  {
   "cell_type": "code",
   "execution_count": 13,
   "metadata": {},
   "outputs": [],
   "source": [
    "# 大喜利適合判定AI\n",
    "class BokeJugeAI:\n",
    "    def __init__(self, weight_path):\n",
    "        \"\"\"\n",
    "            weight_path: 大喜利適合判定モデルの学習済みの重みのパス\n",
    "        \"\"\"\n",
    "        # 大喜利適合判定AIの読み込み\n",
    "        self.boke_judge_model = BokeJudgeModel()\n",
    "        self.boke_judge_model.load_state_dict(torch.load(weight_path))\n",
    "        self.device = torch.device(\"cuda\" if torch.cuda.is_available() else \"cpu\")\n",
    "        self.boke_judge_model.to(self.device)\n",
    "        self.boke_judge_model.eval()\n",
    "\n",
    "        # CLIP\n",
    "        self.clip_model, self.clip_preprocesser = ja_clip.load(\"rinna/japanese-clip-vit-b-16\",\n",
    "                                             cache_dir=\"/tmp/japanese_clip\",\n",
    "                                             torch_dtype = torch.float16,\n",
    "                                             device = self.device)\n",
    "        self.clip_tokenizer = ja_clip.load_tokenizer()\n",
    "\n",
    "        # Sentence-LUKE\n",
    "        self.luke_model = SentenceLukeJapanese()\n",
    "\n",
    "    def __call__(self, image_path, sentence):\n",
    "        \"\"\"\n",
    "            image_path: 判定したい大喜利のお題画像\n",
    "            sentence: 判定したい大喜利\n",
    "        \"\"\"\n",
    "        # CLIPによる特徴量への変換\n",
    "        tokenized_sentences = ja_clip.tokenize(\n",
    "            texts = [sentence],\n",
    "            max_seq_len = 77,\n",
    "            device = self.device,\n",
    "            tokenizer = self.clip_tokenizer,\n",
    "            )\n",
    "        image = Image.open(image_path)\n",
    "        preprcessed_image = self.clip_preprocesser(image).unsqueeze(0).to(self.device)\n",
    "        with torch.no_grad():\n",
    "            clip_image_features = self.clip_model.get_image_features(preprcessed_image)\n",
    "            clip_sentence_features = self.clip_model.get_text_features(**tokenized_sentences)\n",
    "\n",
    "        # Sentence-LUKEによる特徴量への変換\n",
    "        luke_sentence_feature = self.luke_model.encode([sentence])\n",
    "\n",
    "        # 大喜利適合判定AIの推論\n",
    "        with torch.no_grad():\n",
    "            outputs = self.boke_judge_model(clip_image_features,\n",
    "                                        clip_sentence_features,\n",
    "                                        luke_sentence_feature.to(self.device))\n",
    "\n",
    "        return outputs.cpu().numpy()"
   ]
  },
  {
   "cell_type": "code",
   "execution_count": 14,
   "metadata": {},
   "outputs": [],
   "source": [
    "# テストデータでモデルを評価する関数\n",
    "def evaluate_model(weight_path, boke_data_path, caption_data_path,\n",
    "                   thresholds = [0.1]):#, 0.2, 0.3, 0.4, 0.5, 0.6, 0.7, 0.8, 0.9]):\n",
    "    \"\"\"\n",
    "        weight_path: 大喜利適合判定モデルの学習済みの重みのパス\n",
    "        boke_data_path: {\"image_number\":お題画像の番号，\"boke_number\":image_numberの画像の何番目の大喜利か}のリストのjsonファイルのパス\n",
    "        caption_data_path: {\"image_number\":お題画像の番号}のリストのjsonファイルのパス\n",
    "    \"\"\"\n",
    "    def calculate_accuracy(predictions, threshold = 0.5):\n",
    "        return sum(np.array(predictions) > threshold) / len(predictions)\n",
    "\n",
    "    boke_judge_ai = BokeJugeAI(weight_path)\n",
    "\n",
    "    # evaluate for caption\n",
    "    print(\"evaluating caption...\")\n",
    "    predictions_for_caption = list()\n",
    "    with open(caption_data_path, \"r\") as f:\n",
    "        test_caption_datas = json.load(f)\n",
    "    \n",
    "    for D in tqdm(test_caption_datas):\n",
    "        image_number = D[\"image_number\"]\n",
    "        with open(f\"{DATA_DIR}{image_number}.json\", \"r\") as f:\n",
    "            ja_caption = json.load(f)[\"image_information\"][\"ja_caption\"]\n",
    "        judge = boke_judge_ai(f\"../../datas/boke_image/{image_number}.jpg\",\n",
    "                            ja_caption) \n",
    "        predictions_for_caption.append(judge[0][0])\n",
    "    \n",
    "    # evaluate for boke\n",
    "    print(\"evaluating boke...\")\n",
    "    predictions_for_boke = list()\n",
    "    with open(boke_data_path, \"r\") as f:\n",
    "        test_boke_datas = json.load(f)\n",
    "\n",
    "    for D in tqdm(test_boke_datas):\n",
    "        image_number = D[\"image_number\"]\n",
    "        boke_number = D[\"boke_number\"]\n",
    "        with open(f\"{DATA_DIR}{image_number}.json\", \"r\") as f:\n",
    "            boke = json.load(f)[\"bokes\"][boke_number][\"boke\"]\n",
    "        judge = boke_judge_ai(f\"{IMAGE_DIR}{image_number}.jpg\",\n",
    "                            boke) \n",
    "        predictions_for_boke.append(judge[0][0])\n",
    "\n",
    "    # evaluate for miss boke\n",
    "    print(\"evaluating miss boke...\")\n",
    "    predictions_for_miss_boke = list()\n",
    "    test_miss_boke_datas = list()\n",
    "    tmp_idx = np.random.randint(0, len(test_boke_datas), size = (len(test_boke_datas), ))\n",
    "    for i, idx in tqdm(enumerate(tmp_idx)):\n",
    "        # ランダムに選んだ大喜利の画像が正例の画像と同じ限り繰り返す\n",
    "        while test_boke_datas[idx][\"image_number\"] == test_boke_datas[i][\"image_number\"]:\n",
    "            idx = np.random.randint(0, len(test_boke_datas))\n",
    "\n",
    "        test_miss_boke_datas.append({\n",
    "            \"boke_number\": test_boke_datas[i][\"boke_number\"],\n",
    "            \"original_image_number\": test_boke_datas[i][\"image_number\"],\n",
    "            \"miss_image_number\": test_boke_datas[idx][\"image_number\"]\n",
    "        })\n",
    "\n",
    "    for D in tqdm(test_miss_boke_datas):\n",
    "        original_image_number = D[\"original_image_number\"]\n",
    "        miss_image_number = D[\"miss_image_number\"]\n",
    "        boke_number = D[\"boke_number\"]\n",
    "        with open(f\"{DATA_DIR}{original_image_number}.json\", \"r\") as f:\n",
    "            boke = json.load(f)[\"bokes\"][boke_number][\"boke\"]\n",
    "        judge = boke_judge_ai(f\"{IMAGE_DIR}{miss_image_number}.jpg\",\n",
    "                            boke) \n",
    "        predictions_for_miss_boke.append(judge[0][0])\n",
    "\n",
    "    result_dict = dict()\n",
    "    for T in thresholds:\n",
    "        result_dict[T] = {\n",
    "            \"caption\": 1 - calculate_accuracy(predictions_for_caption, T),\n",
    "            \"boke\": calculate_accuracy(predictions_for_boke, T),\n",
    "            \"miss_boke\": 1 - calculate_accuracy(predictions_for_miss_boke, T)\n",
    "        }\n",
    "    \n",
    "    return result_dict"
   ]
  },
  {
   "cell_type": "code",
   "execution_count": null,
   "metadata": {},
   "outputs": [
    {
     "name": "stderr",
     "output_type": "stream",
     "text": [
      "<ipython-input-13-9b97ec0fe3da>:9: FutureWarning: You are using `torch.load` with `weights_only=False` (the current default value), which uses the default pickle module implicitly. It is possible to construct malicious pickle data which will execute arbitrary code during unpickling (See https://github.com/pytorch/pytorch/blob/main/SECURITY.md#untrusted-models for more details). In a future release, the default value for `weights_only` will be flipped to `True`. This limits the functions that could be executed during unpickling. Arbitrary objects will no longer be allowed to be loaded via this mode unless they are explicitly allowlisted by the user via `torch.serialization.add_safe_globals`. We recommend you start setting `weights_only=True` for any use case where you don't have full control of the loaded file. Please open an issue on GitHub for any issues related to this experimental feature.\n",
      "  self.boke_judge_model.load_state_dict(torch.load(weight_path))\n",
      "You are using the default legacy behaviour of the <class 'transformers.models.t5.tokenization_t5.T5Tokenizer'>. This is expected, and simply means that the `legacy` (previous) behavior will be used so nothing changes for you. If you want to use the new behaviour, set `legacy=False`. This should only be set if you understand what it means, and thoroughly read the reason why this was added as explained in https://github.com/huggingface/transformers/pull/24565\n"
     ]
    },
    {
     "name": "stdout",
     "output_type": "stream",
     "text": [
      "evaluating caption...\n"
     ]
    },
    {
     "name": "stderr",
     "output_type": "stream",
     "text": [
      "100%|██████████| 2544/2544 [01:14<00:00, 34.23it/s]\n"
     ]
    },
    {
     "name": "stdout",
     "output_type": "stream",
     "text": [
      "evaluating boke...\n"
     ]
    },
    {
     "name": "stderr",
     "output_type": "stream",
     "text": [
      "100%|██████████| 23204/23204 [07:42<00:00, 50.21it/s]\n"
     ]
    },
    {
     "name": "stdout",
     "output_type": "stream",
     "text": [
      "evaluating miss boke...\n"
     ]
    },
    {
     "name": "stderr",
     "output_type": "stream",
     "text": [
      "23204it [00:00, 1699874.77it/s]\n",
      " 40%|████      | 9365/23204 [03:02<04:33, 50.61it/s]"
     ]
    }
   ],
   "source": [
    "\n",
    "# テストデータでモデルを評価\n",
    "evaluate_result_dict = evaluate_model(f\"{RESULT_DIR}best_model.pth\",\n",
    "                                      boke_data_path = f\"{RESULT_DIR}test_boke_datas.json\", \n",
    "                                      caption_data_path = f\"{RESULT_DIR}test_caption_datas.json\")\n",
    "with open(f\"{RESULT_DIR}evaluation_result.json\", \"w\") as f:\n",
    "    json.dump(evaluate_result_dict, f)\n",
    "\n",
    "x = list()\n",
    "caption_evaluations = list()\n",
    "boke_evaluations = list()\n",
    "miss_boke_evaluations = list()\n",
    "for K, V in evaluate_result_dict.items():\n",
    "    x.append(K)\n",
    "    caption_evaluations.append(V[\"caption\"])\n",
    "    boke_evaluations.append(V[\"boke\"])\n",
    "    miss_boke_evaluations.append(V[\"miss_boke\"])\n",
    "\n",
    "fig = plt.figure(figsize = (5, 5))\n",
    "ax = fig.add_subplot()\n",
    "ax.plot(x, caption_evaluations, label = \"caption\", color = \"red\")\n",
    "ax.plot(x, boke_evaluations, label = \"boke\", color = \"blue\")\n",
    "ax.plot(x, miss_boke_evaluations, label = \"miss boke\", color = \"green\")\n",
    "ax.scatter(x, caption_evaluations, color = \"red\")\n",
    "ax.scatter(x, boke_evaluations, color = \"blue\")\n",
    "ax.scatter(x, miss_boke_evaluations, color = \"green\")\n",
    "ax.legend()\n",
    "ax.grid()\n",
    "ax.set_ylabel(\"accuracy\")\n",
    "ax.set_xlabel(\"threshold\")\n",
    "\n",
    "fig.savefig(f\"{RESULT_DIR}evaluation_result.png\")"
   ]
  }
 ],
 "metadata": {
  "kernelspec": {
   "display_name": "Colab_20241111",
   "language": "python",
   "name": "python3"
  },
  "language_info": {
   "codemirror_mode": {
    "name": "ipython",
    "version": 3
   },
   "file_extension": ".py",
   "mimetype": "text/x-python",
   "name": "python",
   "nbconvert_exporter": "python",
   "pygments_lexer": "ipython3",
   "version": "3.10.12"
  }
 },
 "nbformat": 4,
 "nbformat_minor": 2
}
