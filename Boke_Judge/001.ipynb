{
 "cells": [
  {
   "cell_type": "markdown",
   "metadata": {},
   "source": [
    "# 現実写真のみ、文字なし、固有名詞全部なし、キャプション、ほかの画像の大喜利"
   ]
  },
  {
   "cell_type": "code",
   "execution_count": null,
   "metadata": {},
   "outputs": [],
   "source": [
    "import os\n",
    "import json\n",
    "import numpy as np\n",
    "from tqdm import tqdm\n",
    "from sklearn.model_selection import train_test_split\n",
    "\n",
<<<<<<< Updated upstream
    "import tensorflow as tf\n",
    "from tensorflow.keras import layers, models, losses, optimizers, metrics"
=======
    "import torch\n",
    "import torch.nn as nn\n",
    "import torch.nn.functional as F\n",
    "from torch import optim\n",
    "from torch.utils.data import Dataset, DataLoader"
>>>>>>> Stashed changes
   ]
  },
  {
   "cell_type": "code",
   "execution_count": null,
   "metadata": {},
   "outputs": [],
   "source": [
    "EXPERIENCE_NUMBER = \"001\"\n",
    "\n",
    "USE_UNREAL_IMAGE = False\n",
    "USE_WORD_IMAGE = False\n",
    "USE_UNIQUE_NOUN_BOKE = False\n",
    "USE_CAPTION = True\n",
    "USE_MISS_BOKE = True\n",
    "\n",
    "EPOCH = 25\n",
    "BATCH_SIZE = 256\n",
    "\n",
    "RESULT_DIR = f\"../../results/Boke_Judge/{EXPERIENCE_NUMBER}/\"\n",
    "if not os.path.exists(\"../../results/Boke_Judge/\"):\n",
    "    os.mkdir(\"../../results/Boke_Judge/\")\n",
    "if not os.path.exists(RESULT_DIR):\n",
    "    os.mkdir(RESULT_DIR)\n",
    "\n",
    "DATA_DIR = \"../../datas/boke_data_assemble/\"\n",
    "CLIP_IMAGE_FEATURE_DIR = \"../../datas/encoded/clip_image_feature/\"\n",
    "CLIP_SENTENCE_FEATURE_DIR = \"../../datas/encoded/clip_sentence_feature/\"\n",
    "LUKE_SENTENCE_FEATURE_DIR = \"../../datas/encoded/luke_sentence_feature/\""
   ]
  },
  {
   "cell_type": "markdown",
   "metadata": {},
   "source": [
    "# データセットの作成(初回のみ実行)"
   ]
  },
  {
   "cell_type": "code",
   "execution_count": null,
   "metadata": {},
   "outputs": [
    {
     "name": "stderr",
     "output_type": "stream",
     "text": [
      " 48%|████▊     | 286852/602566 [01:34<01:49, 2879.88it/s]"
     ]
    }
   ],
   "source": [
    "boke_datas = list()\n",
    "caption_datas = list()\n",
    "\n",
    "max_num_boke = 0\n",
    "for JP in tqdm(os.listdir(DATA_DIR)):\n",
    "    N = int(JP.split(\".\")[0])\n",
    "\n",
    "    with open(f\"{DATA_DIR}{JP}\", \"r\") as f:\n",
    "        a = json.load(f)\n",
    "\n",
    "    image_information = a[\"image_infomation\"]\n",
    "    is_photographic_probability = image_information[\"is_photographic_probability\"]\n",
    "    ja_caption = image_information[\"ja_caption\"]\n",
    "    ocr = image_information[\"ocr\"]\n",
    "\n",
    "    # 現実写真以外を除去\n",
    "    if not USE_UNREAL_IMAGE:\n",
    "        if is_photographic_probability < 0.8: continue\n",
    "        \n",
    "    # 文字のある画像を除去\n",
    "    if not USE_WORD_IMAGE:\n",
    "        if len(ocr) != 0: continue\n",
    "\n",
    "    bokes = a[\"bokes\"]\n",
    "\n",
    "    max_num_boke = max(max_num_boke, len(a[\"bokes\"]))\n",
    "    for i, B in enumerate(bokes):\n",
    "\n",
    "        # 固有名詞を含む大喜利を除去\n",
    "        if not USE_UNIQUE_NOUN_BOKE:\n",
    "            if len(B[\"unique_nouns\"]) != 0: continue\n",
    "\n",
    "        boke_datas.append({\n",
    "            \"boke_number\": int(f\"1{N:07}{i:05}\"),\n",
    "            \"image_number\": int(f\"3{N:07}\")\n",
    "        })\n",
    "\n",
    "    caption_datas.append({\n",
    "        \"caption_number\": int(f\"2{N:07}\"),\n",
    "        \"image_number\": int(f\"3{N:07}\")\n",
    "    })\n",
    "\n",
    "len(boke_datas), len(caption_datas)"
   ]
  },
  {
   "cell_type": "code",
   "execution_count": null,
   "metadata": {},
   "outputs": [],
   "source": [
    "train_boke_datas, test_boke_datas = train_test_split(boke_datas, test_size = 0.01)\n",
    "train_caption_datas, test_caption_datas = train_test_split(caption_datas, test_size = 0.01)\n",
    "\n",
    "with open(f\"{RESULT_DIR}train_boke_datas.json\", \"w\") as f:\n",
    "    json.dump(train_boke_datas, f)\n",
    "with open(f\"{RESULT_DIR}train_caption_datas.json\", \"w\") as f:\n",
    "    json.dump(train_caption_datas, f)\n",
    "\n",
    "with open(f\"{RESULT_DIR}test_boke_datas.json\", \"w\") as f:\n",
    "    json.dump(test_boke_datas, f)\n",
    "with open(f\"{RESULT_DIR}test_caption_datas.json\", \"w\") as f:\n",
    "    json.dump(test_caption_datas, f)"
   ]
  },
  {
   "cell_type": "markdown",
   "metadata": {},
   "source": [
    "# モデルの学習"
   ]
  },
  {
   "cell_type": "code",
   "execution_count": null,
   "metadata": {},
   "outputs": [
    {
     "data": {
      "text/plain": [
       "(2161870, 228680, 21838, 2310)"
      ]
     },
     "execution_count": 7,
     "metadata": {},
     "output_type": "execute_result"
    }
   ],
   "source": [
    "with open(f\"{RESULT_DIR}train_boke_datas.json\", \"r\") as f:\n",
    "    train_boke_datas = json.load(f)\n",
    "with open(f\"{RESULT_DIR}train_caption_datas.json\", \"r\") as f:\n",
    "    train_caption_datas = json.load(f)\n",
    "\n",
    "with open(f\"{RESULT_DIR}test_boke_datas.json\", \"r\") as f:\n",
    "    test_boke_datas = json.load(f)\n",
    "with open(f\"{RESULT_DIR}test_caption_datas.json\", \"r\") as f:\n",
    "    test_caption_datas = json.load(f)\n",
    "\n",
    "len(train_boke_datas), len(train_caption_datas), len(test_boke_datas), len(test_caption_datas)"
   ]
  },
  {
   "cell_type": "code",
   "execution_count": null,
   "metadata": {},
   "outputs": [
    {
     "name": "stderr",
     "output_type": "stream",
     "text": [
      "2161870it [00:01, 1087931.73it/s]\n"
     ]
    },
    {
     "name": "stdout",
     "output_type": "stream",
     "text": [
      "num data: 4552420\n"
     ]
    },
    {
     "name": "stderr",
     "output_type": "stream",
     "text": [
      "21838it [00:00, 1842628.31it/s]\n"
     ]
    },
    {
     "name": "stdout",
     "output_type": "stream",
     "text": [
      "num data: 45986\n"
     ]
    },
    {
     "data": {
      "text/plain": [
       "(TensorShape([32, 512]),\n",
       " TensorShape([32, 512]),\n",
       " TensorShape([32, 768]),\n",
       " TensorShape([32]))"
      ]
     },
     "execution_count": 8,
     "metadata": {},
     "output_type": "execute_result"
    }
   ],
   "source": [
    "def make_dataset(boke_datas, caption_datas):\n",
    "\n",
    "    def make_dataset_with_directory(file_numbers, directory):\n",
    "        def make_feature_dataset(file_numbers):\n",
    "            dataset = tf.data.Dataset.from_tensor_slices((file_numbers))\n",
    "            dataset = dataset.map(load_data_wrapper, \n",
    "                                num_parallel_calls = tf.data.experimental.AUTOTUNE)\n",
    "            dataset = dataset.prefetch(tf.data.experimental.AUTOTUNE)\n",
    "            return dataset\n",
    "\n",
    "        def load_data_wrapper(file_number):\n",
    "            return tf.py_function(func = load_data, inp = [file_number], \n",
    "                                  Tout = tf.float32)\n",
    "\n",
    "        def load_data(file_number):\n",
    "            # file_number = file_number.numpy().decode(\"utf-8\")\n",
    "            feature_path = f\"{directory}{file_number}.npy\"\n",
    "            return np.load(feature_path)\n",
    "        \n",
    "        return make_feature_dataset(file_numbers)\n",
    "    \n",
    "    image_file_numbers = list()\n",
    "    sentence_file_numbers = list()\n",
    "    teacher_signals = list()\n",
    "\n",
    "    for D in boke_datas:\n",
    "        image_file_numbers.append(D[\"image_number\"])\n",
    "        sentence_file_numbers.append(D[\"boke_number\"])\n",
    "        teacher_signals.append(1)\n",
    "    \n",
    "    if USE_CAPTION:\n",
    "        for D in caption_datas:\n",
    "            image_file_numbers.append(D[\"image_number\"])\n",
    "            sentence_file_numbers.append(D[\"caption_number\"])\n",
    "            teacher_signals.append(0)\n",
    "    \n",
    "    if USE_MISS_BOKE:\n",
    "        miss_boke_datas = list()\n",
    "        tmp_idx = np.random.randint(0, len(boke_datas), size = (len(boke_datas), ))\n",
    "        for i, idx in tqdm(enumerate(tmp_idx)):\n",
    "            tmp_boke_number = boke_datas[idx][\"boke_number\"]\n",
    "            while str(tmp_boke_number)[:7] == str(boke_datas[i][\"boke_number\"])[:7]:\n",
    "                idx = np.random.randint(0, len(boke_datas))\n",
    "                tmp_boke_number = boke_datas[idx][\"boke_number\"]\n",
    "\n",
    "            miss_boke_datas.append({\n",
    "                \"boke_number\": tmp_boke_number,\n",
    "                \"image_number\": boke_datas[i][\"image_number\"]\n",
    "            })\n",
    "        \n",
    "        for D in miss_boke_datas:\n",
    "            image_file_numbers.append(D[\"image_number\"])\n",
    "            sentence_file_numbers.append(D[\"boke_number\"])\n",
    "            teacher_signals.append(0)\n",
    "    \n",
    "    print(f\"num data: {len(teacher_signals)}\")\n",
    "    \n",
    "    tmp = list(zip(image_file_numbers, sentence_file_numbers, teacher_signals))\n",
    "    np.random.shuffle(tmp)\n",
    "    image_file_numbers, sentence_file_numbers, teacher_signals = zip(*tmp)\n",
    "    image_file_numbers = tf.constant(image_file_numbers, dtype = tf.int64)\n",
    "    sentence_file_numbers = tf.constant(sentence_file_numbers, dtype = tf.int64)\n",
    "    teacher_signals = tf.constant(teacher_signals, dtype = tf.int32)\n",
    "\n",
    "    clip_image_feature_dataset = make_dataset_with_directory(image_file_numbers, CLIP_IMAGE_FEATURE_DIR)\n",
    "    clip_sentence_feature_dataset = make_dataset_with_directory(sentence_file_numbers, CLIP_SENTENCE_FEATURE_DIR)\n",
    "    luke_sentence_feature_dataset = make_dataset_with_directory(sentence_file_numbers, LUKE_SENTENCE_FEATURE_DIR)\n",
    "    teacher_signal_dataset = tf.data.Dataset.from_tensor_slices(teacher_signals)\n",
    "\n",
    "    dataset = tf.data.Dataset.zip( ((clip_image_feature_dataset, clip_sentence_feature_dataset, luke_sentence_feature_dataset), teacher_signal_dataset) )\n",
    "    return dataset\n",
    "\n",
    "train_dataset = make_dataset(train_boke_datas, train_caption_datas)\n",
    "test_dataset = make_dataset(test_boke_datas, test_caption_datas)\n",
    "\n",
    "(CIF, CSF, LSF), TS = next(iter(train_dataset.batch(32)))\n",
    "CIF.shape, CSF.shape, LSF.shape, TS.shape"
   ]
  },
  {
   "cell_type": "code",
   "execution_count": null,
   "metadata": {},
   "outputs": [
    {
     "data": {
      "text/html": [
       "<pre style=\"white-space:pre;overflow-x:auto;line-height:normal;font-family:Menlo,'DejaVu Sans Mono',consolas,'Courier New',monospace\"><span style=\"font-weight: bold\">Model: \"functional\"</span>\n",
       "</pre>\n"
      ],
      "text/plain": [
       "\u001b[1mModel: \"functional\"\u001b[0m\n"
      ]
     },
     "metadata": {},
     "output_type": "display_data"
    },
    {
     "data": {
      "text/html": [
       "<pre style=\"white-space:pre;overflow-x:auto;line-height:normal;font-family:Menlo,'DejaVu Sans Mono',consolas,'Courier New',monospace\">┏━━━━━━━━━━━━━━━━━━━━━┳━━━━━━━━━━━━━━━━━━━┳━━━━━━━━━━━━┳━━━━━━━━━━━━━━━━━━━┓\n",
       "┃<span style=\"font-weight: bold\"> Layer (type)        </span>┃<span style=\"font-weight: bold\"> Output Shape      </span>┃<span style=\"font-weight: bold\">    Param # </span>┃<span style=\"font-weight: bold\"> Connected to      </span>┃\n",
       "┡━━━━━━━━━━━━━━━━━━━━━╇━━━━━━━━━━━━━━━━━━━╇━━━━━━━━━━━━╇━━━━━━━━━━━━━━━━━━━┩\n",
       "│ input_layer         │ (<span style=\"color: #00d7ff; text-decoration-color: #00d7ff\">None</span>, <span style=\"color: #00af00; text-decoration-color: #00af00\">512</span>)       │          <span style=\"color: #00af00; text-decoration-color: #00af00\">0</span> │ -                 │\n",
       "│ (<span style=\"color: #0087ff; text-decoration-color: #0087ff\">InputLayer</span>)        │                   │            │                   │\n",
       "├─────────────────────┼───────────────────┼────────────┼───────────────────┤\n",
       "│ input_layer_1       │ (<span style=\"color: #00d7ff; text-decoration-color: #00d7ff\">None</span>, <span style=\"color: #00af00; text-decoration-color: #00af00\">512</span>)       │          <span style=\"color: #00af00; text-decoration-color: #00af00\">0</span> │ -                 │\n",
       "│ (<span style=\"color: #0087ff; text-decoration-color: #0087ff\">InputLayer</span>)        │                   │            │                   │\n",
       "├─────────────────────┼───────────────────┼────────────┼───────────────────┤\n",
       "│ input_layer_2       │ (<span style=\"color: #00d7ff; text-decoration-color: #00d7ff\">None</span>, <span style=\"color: #00af00; text-decoration-color: #00af00\">768</span>)       │          <span style=\"color: #00af00; text-decoration-color: #00af00\">0</span> │ -                 │\n",
       "│ (<span style=\"color: #0087ff; text-decoration-color: #0087ff\">InputLayer</span>)        │                   │            │                   │\n",
       "├─────────────────────┼───────────────────┼────────────┼───────────────────┤\n",
       "│ concatenate         │ (<span style=\"color: #00d7ff; text-decoration-color: #00d7ff\">None</span>, <span style=\"color: #00af00; text-decoration-color: #00af00\">1792</span>)      │          <span style=\"color: #00af00; text-decoration-color: #00af00\">0</span> │ input_layer[<span style=\"color: #00af00; text-decoration-color: #00af00\">0</span>][<span style=\"color: #00af00; text-decoration-color: #00af00\">0</span>… │\n",
       "│ (<span style=\"color: #0087ff; text-decoration-color: #0087ff\">Concatenate</span>)       │                   │            │ input_layer_1[<span style=\"color: #00af00; text-decoration-color: #00af00\">0</span>]… │\n",
       "│                     │                   │            │ input_layer_2[<span style=\"color: #00af00; text-decoration-color: #00af00\">0</span>]… │\n",
       "├─────────────────────┼───────────────────┼────────────┼───────────────────┤\n",
       "│ dense (<span style=\"color: #0087ff; text-decoration-color: #0087ff\">Dense</span>)       │ (<span style=\"color: #00d7ff; text-decoration-color: #00d7ff\">None</span>, <span style=\"color: #00af00; text-decoration-color: #00af00\">1024</span>)      │  <span style=\"color: #00af00; text-decoration-color: #00af00\">1,836,032</span> │ concatenate[<span style=\"color: #00af00; text-decoration-color: #00af00\">0</span>][<span style=\"color: #00af00; text-decoration-color: #00af00\">0</span>] │\n",
       "├─────────────────────┼───────────────────┼────────────┼───────────────────┤\n",
       "│ leaky_re_lu         │ (<span style=\"color: #00d7ff; text-decoration-color: #00d7ff\">None</span>, <span style=\"color: #00af00; text-decoration-color: #00af00\">1024</span>)      │          <span style=\"color: #00af00; text-decoration-color: #00af00\">0</span> │ dense[<span style=\"color: #00af00; text-decoration-color: #00af00\">0</span>][<span style=\"color: #00af00; text-decoration-color: #00af00\">0</span>]       │\n",
       "│ (<span style=\"color: #0087ff; text-decoration-color: #0087ff\">LeakyReLU</span>)         │                   │            │                   │\n",
       "├─────────────────────┼───────────────────┼────────────┼───────────────────┤\n",
       "│ dense_1 (<span style=\"color: #0087ff; text-decoration-color: #0087ff\">Dense</span>)     │ (<span style=\"color: #00d7ff; text-decoration-color: #00d7ff\">None</span>, <span style=\"color: #00af00; text-decoration-color: #00af00\">1024</span>)      │  <span style=\"color: #00af00; text-decoration-color: #00af00\">1,049,600</span> │ leaky_re_lu[<span style=\"color: #00af00; text-decoration-color: #00af00\">0</span>][<span style=\"color: #00af00; text-decoration-color: #00af00\">0</span>] │\n",
       "├─────────────────────┼───────────────────┼────────────┼───────────────────┤\n",
       "│ leaky_re_lu_1       │ (<span style=\"color: #00d7ff; text-decoration-color: #00d7ff\">None</span>, <span style=\"color: #00af00; text-decoration-color: #00af00\">1024</span>)      │          <span style=\"color: #00af00; text-decoration-color: #00af00\">0</span> │ dense_1[<span style=\"color: #00af00; text-decoration-color: #00af00\">0</span>][<span style=\"color: #00af00; text-decoration-color: #00af00\">0</span>]     │\n",
       "│ (<span style=\"color: #0087ff; text-decoration-color: #0087ff\">LeakyReLU</span>)         │                   │            │                   │\n",
       "├─────────────────────┼───────────────────┼────────────┼───────────────────┤\n",
       "│ dense_2 (<span style=\"color: #0087ff; text-decoration-color: #0087ff\">Dense</span>)     │ (<span style=\"color: #00d7ff; text-decoration-color: #00d7ff\">None</span>, <span style=\"color: #00af00; text-decoration-color: #00af00\">1</span>)         │      <span style=\"color: #00af00; text-decoration-color: #00af00\">1,025</span> │ leaky_re_lu_1[<span style=\"color: #00af00; text-decoration-color: #00af00\">0</span>]… │\n",
       "└─────────────────────┴───────────────────┴────────────┴───────────────────┘\n",
       "</pre>\n"
      ],
      "text/plain": [
       "┏━━━━━━━━━━━━━━━━━━━━━┳━━━━━━━━━━━━━━━━━━━┳━━━━━━━━━━━━┳━━━━━━━━━━━━━━━━━━━┓\n",
       "┃\u001b[1m \u001b[0m\u001b[1mLayer (type)       \u001b[0m\u001b[1m \u001b[0m┃\u001b[1m \u001b[0m\u001b[1mOutput Shape     \u001b[0m\u001b[1m \u001b[0m┃\u001b[1m \u001b[0m\u001b[1m   Param #\u001b[0m\u001b[1m \u001b[0m┃\u001b[1m \u001b[0m\u001b[1mConnected to     \u001b[0m\u001b[1m \u001b[0m┃\n",
       "┡━━━━━━━━━━━━━━━━━━━━━╇━━━━━━━━━━━━━━━━━━━╇━━━━━━━━━━━━╇━━━━━━━━━━━━━━━━━━━┩\n",
       "│ input_layer         │ (\u001b[38;5;45mNone\u001b[0m, \u001b[38;5;34m512\u001b[0m)       │          \u001b[38;5;34m0\u001b[0m │ -                 │\n",
       "│ (\u001b[38;5;33mInputLayer\u001b[0m)        │                   │            │                   │\n",
       "├─────────────────────┼───────────────────┼────────────┼───────────────────┤\n",
       "│ input_layer_1       │ (\u001b[38;5;45mNone\u001b[0m, \u001b[38;5;34m512\u001b[0m)       │          \u001b[38;5;34m0\u001b[0m │ -                 │\n",
       "│ (\u001b[38;5;33mInputLayer\u001b[0m)        │                   │            │                   │\n",
       "├─────────────────────┼───────────────────┼────────────┼───────────────────┤\n",
       "│ input_layer_2       │ (\u001b[38;5;45mNone\u001b[0m, \u001b[38;5;34m768\u001b[0m)       │          \u001b[38;5;34m0\u001b[0m │ -                 │\n",
       "│ (\u001b[38;5;33mInputLayer\u001b[0m)        │                   │            │                   │\n",
       "├─────────────────────┼───────────────────┼────────────┼───────────────────┤\n",
       "│ concatenate         │ (\u001b[38;5;45mNone\u001b[0m, \u001b[38;5;34m1792\u001b[0m)      │          \u001b[38;5;34m0\u001b[0m │ input_layer[\u001b[38;5;34m0\u001b[0m][\u001b[38;5;34m0\u001b[0m… │\n",
       "│ (\u001b[38;5;33mConcatenate\u001b[0m)       │                   │            │ input_layer_1[\u001b[38;5;34m0\u001b[0m]… │\n",
       "│                     │                   │            │ input_layer_2[\u001b[38;5;34m0\u001b[0m]… │\n",
       "├─────────────────────┼───────────────────┼────────────┼───────────────────┤\n",
       "│ dense (\u001b[38;5;33mDense\u001b[0m)       │ (\u001b[38;5;45mNone\u001b[0m, \u001b[38;5;34m1024\u001b[0m)      │  \u001b[38;5;34m1,836,032\u001b[0m │ concatenate[\u001b[38;5;34m0\u001b[0m][\u001b[38;5;34m0\u001b[0m] │\n",
       "├─────────────────────┼───────────────────┼────────────┼───────────────────┤\n",
       "│ leaky_re_lu         │ (\u001b[38;5;45mNone\u001b[0m, \u001b[38;5;34m1024\u001b[0m)      │          \u001b[38;5;34m0\u001b[0m │ dense[\u001b[38;5;34m0\u001b[0m][\u001b[38;5;34m0\u001b[0m]       │\n",
       "│ (\u001b[38;5;33mLeakyReLU\u001b[0m)         │                   │            │                   │\n",
       "├─────────────────────┼───────────────────┼────────────┼───────────────────┤\n",
       "│ dense_1 (\u001b[38;5;33mDense\u001b[0m)     │ (\u001b[38;5;45mNone\u001b[0m, \u001b[38;5;34m1024\u001b[0m)      │  \u001b[38;5;34m1,049,600\u001b[0m │ leaky_re_lu[\u001b[38;5;34m0\u001b[0m][\u001b[38;5;34m0\u001b[0m] │\n",
       "├─────────────────────┼───────────────────┼────────────┼───────────────────┤\n",
       "│ leaky_re_lu_1       │ (\u001b[38;5;45mNone\u001b[0m, \u001b[38;5;34m1024\u001b[0m)      │          \u001b[38;5;34m0\u001b[0m │ dense_1[\u001b[38;5;34m0\u001b[0m][\u001b[38;5;34m0\u001b[0m]     │\n",
       "│ (\u001b[38;5;33mLeakyReLU\u001b[0m)         │                   │            │                   │\n",
       "├─────────────────────┼───────────────────┼────────────┼───────────────────┤\n",
       "│ dense_2 (\u001b[38;5;33mDense\u001b[0m)     │ (\u001b[38;5;45mNone\u001b[0m, \u001b[38;5;34m1\u001b[0m)         │      \u001b[38;5;34m1,025\u001b[0m │ leaky_re_lu_1[\u001b[38;5;34m0\u001b[0m]… │\n",
       "└─────────────────────┴───────────────────┴────────────┴───────────────────┘\n"
      ]
     },
     "metadata": {},
     "output_type": "display_data"
    },
    {
     "data": {
      "text/html": [
       "<pre style=\"white-space:pre;overflow-x:auto;line-height:normal;font-family:Menlo,'DejaVu Sans Mono',consolas,'Courier New',monospace\"><span style=\"font-weight: bold\"> Total params: </span><span style=\"color: #00af00; text-decoration-color: #00af00\">2,886,657</span> (11.01 MB)\n",
       "</pre>\n"
      ],
      "text/plain": [
       "\u001b[1m Total params: \u001b[0m\u001b[38;5;34m2,886,657\u001b[0m (11.01 MB)\n"
      ]
     },
     "metadata": {},
     "output_type": "display_data"
    },
    {
     "data": {
      "text/html": [
       "<pre style=\"white-space:pre;overflow-x:auto;line-height:normal;font-family:Menlo,'DejaVu Sans Mono',consolas,'Courier New',monospace\"><span style=\"font-weight: bold\"> Trainable params: </span><span style=\"color: #00af00; text-decoration-color: #00af00\">2,886,657</span> (11.01 MB)\n",
       "</pre>\n"
      ],
      "text/plain": [
       "\u001b[1m Trainable params: \u001b[0m\u001b[38;5;34m2,886,657\u001b[0m (11.01 MB)\n"
      ]
     },
     "metadata": {},
     "output_type": "display_data"
    },
    {
     "data": {
      "text/html": [
       "<pre style=\"white-space:pre;overflow-x:auto;line-height:normal;font-family:Menlo,'DejaVu Sans Mono',consolas,'Courier New',monospace\"><span style=\"font-weight: bold\"> Non-trainable params: </span><span style=\"color: #00af00; text-decoration-color: #00af00\">0</span> (0.00 B)\n",
       "</pre>\n"
      ],
      "text/plain": [
       "\u001b[1m Non-trainable params: \u001b[0m\u001b[38;5;34m0\u001b[0m (0.00 B)\n"
      ]
     },
     "metadata": {},
     "output_type": "display_data"
    }
   ],
   "source": [
    "def build_model():\n",
    "    # clip image feature\n",
    "    input1 = layers.Input(shape = CIF.shape[1:])\n",
    "    # clip sentence feature\n",
    "    input2 = layers.Input(shape = CSF.shape[1:])\n",
    "    # luke sentence feature\n",
    "    input3 = layers.Input(shape = LSF.shape[1:])\n",
    "\n",
    "    x = layers.Concatenate()([input1, input2, input3])\n",
    "    x = layers.Dense(units = 1024)(x)\n",
    "    x = layers.LeakyReLU()(x)\n",
    "    x = layers.Dense(units = 1024)(x)\n",
    "    x = layers.LeakyReLU()(x)\n",
    "    output = layers.Dense(units = 1, activation = \"sigmoid\")(x)\n",
    "\n",
    "    model = models.Model([input1, input2, input3], output)\n",
    "    model.compile(loss = losses.BinaryCrossentropy(),\n",
    "                  optimizer = optimizers.AdamW(),\n",
    "                  metrics = [metrics.BinaryAccuracy()])\n",
    "    return model\n",
    "\n",
    "model = build_model()\n",
    "model.summary()\n"
   ]
  },
  {
   "cell_type": "code",
   "execution_count": null,
   "metadata": {},
   "outputs": [
    {
     "name": "stderr",
     "output_type": "stream",
     "text": [
      "2161870it [00:01, 1136854.06it/s]\n"
     ]
    },
    {
     "name": "stdout",
     "output_type": "stream",
     "text": [
      "num data: 4552420\n"
     ]
    },
    {
     "name": "stderr",
     "output_type": "stream",
     "text": [
      "  0%|          | 4/17783 [00:04<4:39:48,  1.06it/s, train_loss=5.49, train_accuracy=0.498] "
     ]
    },
    {
     "name": "stdout",
     "output_type": "stream",
     "text": [
      "WARNING:tensorflow:5 out of the last 5 calls to <function TensorFlowTrainer.make_train_function.<locals>.one_step_on_iterator at 0x7f41bcb2d870> triggered tf.function retracing. Tracing is expensive and the excessive number of tracings could be due to (1) creating @tf.function repeatedly in a loop, (2) passing tensors with different shapes, (3) passing Python objects instead of tensors. For (1), please define your @tf.function outside of the loop. For (2), @tf.function has reduce_retracing=True option that can avoid unnecessary retracing. For (3), please refer to https://www.tensorflow.org/guide/function#controlling_retracing and https://www.tensorflow.org/api_docs/python/tf/function for  more details.\n"
     ]
    },
    {
     "name": "stderr",
     "output_type": "stream",
     "text": [
<<<<<<< Updated upstream
      "  0%|          | 5/17783 [00:05<4:08:48,  1.19it/s, train_loss=5.7, train_accuracy=0.499] "
     ]
    },
    {
     "name": "stdout",
     "output_type": "stream",
     "text": [
      "WARNING:tensorflow:6 out of the last 6 calls to <function TensorFlowTrainer.make_train_function.<locals>.one_step_on_iterator at 0x7f41bcb2d870> triggered tf.function retracing. Tracing is expensive and the excessive number of tracings could be due to (1) creating @tf.function repeatedly in a loop, (2) passing tensors with different shapes, (3) passing Python objects instead of tensors. For (1), please define your @tf.function outside of the loop. For (2), @tf.function has reduce_retracing=True option that can avoid unnecessary retracing. For (3), please refer to https://www.tensorflow.org/guide/function#controlling_retracing and https://www.tensorflow.org/api_docs/python/tf/function for  more details.\n"
     ]
    },
    {
     "name": "stderr",
     "output_type": "stream",
     "text": [
      "  1%|          | 157/17783 [01:50<3:28:56,  1.41it/s, train_loss=1.83, train_accuracy=0.511]"
=======
      "Epoch 1/10:  48%|████▊     | 68153/142264 [52:51<1:45:28, 11.71it/s, train_loss=0.626, train_accuracy=0.617] "
>>>>>>> Stashed changes
     ]
    }
   ],
   "source": [
    "model = build_model()\n",
    "\n",
    "train_loss_history = list()\n",
    "train_accuracy_history = list()\n",
    "test_loss_history = list()\n",
    "test_accuracy_history = list()\n",
    "\n",
    "for epoch in range(EPOCH):\n",
    "\n",
    "    # train\n",
    "    train_dataset = make_dataset(train_boke_datas, train_caption_datas)\n",
    "    train_loss_obj = metrics.Mean()\n",
    "    train_accuracy_obj = metrics.Mean()\n",
    "\n",
<<<<<<< Updated upstream
    "    pb = tqdm(train_dataset.batch(BATCH_SIZE))\n",
    "    for (CIF, CSF, LSF), TS in pb:\n",
    "        loss, accuracy = model.train_on_batch([CIF, CSF, LSF], TS)\n",
    "        train_loss_obj(loss)\n",
    "        train_accuracy_obj(accuracy)\n",
    "        pb.set_postfix({\"train_loss\": float(train_loss_obj.result()),\n",
    "                        \"train_accuracy\": float(train_accuracy_obj.result())})\n",
    "\n",
    "    # test\n",
    "    test_dataset = make_dataset(test_boke_datas, test_caption_datas)\n",
    "    test_loss_obj = metrics.Mean()\n",
    "    test_accuracy_obj = metrics.Mean()\n",
    "\n",
    "    pb = tqdm(test_dataset.batch(BATCH_SIZE))\n",
    "    for (CIF, CSF, LSF), TS in pb:\n",
    "        loss, accuracy = model.evaluate([CIF, CSF, LSF], TS,\n",
    "                                        verbose = False, batch_size = BATCH_SIZE)\n",
    "        train_loss_obj(loss)\n",
    "        train_accuracy_obj(accuracy)\n",
    "        pb.set_postfix({\"train_loss\": float(train_loss_obj.result()),\n",
    "                        \"train_accuracy\": float(train_accuracy_obj.result())})\n",
=======
    "# 訓練・評価ループ\n",
    "for epoch in range(EPOCH):\n",
    "    # 訓練\n",
    "    train_loss_obj = 0.0\n",
    "    train_accuracy_obj = 0.0\n",
    "    model.train()  # 訓練モード\n",
    "    train_dataloader = make_dataloader(train_boke_datas, train_caption_datas)\n",
    "    pb = tqdm(train_dataloader, desc = f\"Epoch {epoch+1}/{EPOCH}\", mininterval=1.0)\n",
>>>>>>> Stashed changes
    "    \n",
    "    train_loss = float(train_loss_obj.result())\n",
    "    train_accuracy = float(train_accuracy_obj.result())\n",
    "    test_loss = float(test_loss_obj.result())\n",
    "    test_accuracy = float(test_accuracy_obj.result())\n",
    "\n",
    "    print(f\"epoch: {epoch}, train loss: {train_loss}, train accuracy: {train_accuracy}, test loss: {test_loss}, test accuracy: {test_accuracy}\")\n",
    "\n",
<<<<<<< Updated upstream
=======
    "    # テスト\n",
    "    test_loss_obj = 0.0\n",
    "    test_accuracy_obj = 0.0\n",
    "    model.eval()  # 評価モード\n",
    "    test_dataloader = make_dataloader(test_boke_datas, test_caption_datas)\n",
    "    pb = tqdm(test_dataloader, desc = \"Evaluating\", mininterval=1.0)\n",
    "\n",
    "    for CIF, CSF, LSF, TS in pb:\n",
    "        CIF, CSF, LSF, TS = torch.tensor(CIF).float(), torch.tensor(CSF).float(), torch.tensor(LSF).float(), torch.tensor(TS).float()\n",
    "        batch_data = (CIF, CSF, LSF)\n",
    "        batch_labels = TS.unsqueeze(1).float()\n",
    "        \n",
    "        loss, accuracy = evaluate(model, batch_data, batch_labels)\n",
    "        test_loss_obj += loss\n",
    "        test_accuracy_obj += accuracy\n",
    "        pb.set_postfix({\"test_loss\": test_loss_obj / (pb.n + 1), \"test_accuracy\": test_accuracy_obj / (pb.n + 1)})\n",
    "\n",
    "    # テスト後の損失と精度\n",
    "    test_loss = test_loss_obj / len(test_dataloader)\n",
    "    test_accuracy = test_accuracy_obj / len(test_dataloader)\n",
    "\n",
    "    # 結果表示\n",
    "    print(f\"Epoch: {epoch+1}/{EPOCHS}, \"\n",
    "          f\"Train Loss: {train_loss:.4f}, Train Accuracy: {train_accuracy:.4f}, \"\n",
    "          f\"Test Loss: {test_loss:.4f}, Test Accuracy: {test_accuracy:.4f}\")\n",
    "\n",
    "    # 履歴の保存\n",
>>>>>>> Stashed changes
    "    train_loss_history.append(train_loss)\n",
    "    train_accuracy_history.append(train_accuracy)\n",
    "    test_loss_history.append(test_loss)\n",
    "    test_accuracy_history.append(test_accuracy)\n",
    "\n",
    "with open(f\"{RESULT_DIR}history.json\", \"w\") as f:\n",
    "    json.dump({\n",
    "        \"train_loss\": train_loss_history,\n",
    "        \"train_accuracy\": train_accuracy_history,\n",
    "        \"test_loss\": test_loss_history,\n",
    "        \"test_accuracy\": test_accuracy_history\n",
<<<<<<< Updated upstream
    "    }, f)"
=======
    "    }, f)\n"
>>>>>>> Stashed changes
   ]
  }
 ],
 "metadata": {
  "kernelspec": {
   "display_name": "Python 3",
   "language": "python",
   "name": "python3"
  },
  "language_info": {
   "codemirror_mode": {
    "name": "ipython",
    "version": 3
   },
   "file_extension": ".py",
   "mimetype": "text/x-python",
   "name": "python",
   "nbconvert_exporter": "python",
   "pygments_lexer": "ipython3",
   "version": "3.10.12"
  }
 },
 "nbformat": 4,
 "nbformat_minor": 2
}
