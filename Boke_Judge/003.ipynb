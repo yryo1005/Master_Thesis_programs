{
 "cells": [
  {
   "cell_type": "markdown",
   "metadata": {},
   "source": [
    "# 現実写真のみ、文字なし、固有名詞含む、キャプション、ほかの画像の大喜利"
   ]
  },
  {
   "cell_type": "code",
   "execution_count": 1,
   "metadata": {},
   "outputs": [],
   "source": [
    "import os\n",
    "import json\n",
    "import numpy as np\n",
    "import matplotlib.pyplot as plt\n",
    "from tqdm import tqdm\n",
    "from sklearn.model_selection import train_test_split\n",
    "\n",
    "import torch\n",
    "import torch.nn as nn\n",
    "import torch.nn.functional as F\n",
    "from torch import optim\n",
    "from torch.utils.data import Dataset, DataLoader"
   ]
  },
  {
   "cell_type": "code",
   "execution_count": 2,
   "metadata": {},
   "outputs": [],
   "source": [
    "EXPERIENCE_NUMBER = \"003\"\n",
    "\n",
    "USE_UNREAL_IMAGE = False\n",
    "USE_WORD_IMAGE = False\n",
    "USE_UNIQUE_NOUN_BOKE = True\n",
    "USE_CAPTION = True\n",
    "USE_MISS_BOKE = True\n",
    "\n",
    "EPOCH = 25\n",
    "BATCH_SIZE = 256\n",
    "\n",
    "RESULT_DIR = f\"../../results/Boke_Judge/{EXPERIENCE_NUMBER}/\"\n",
    "if not os.path.exists(\"../../results/Boke_Judge/\"):\n",
    "    os.mkdir(\"../../results/Boke_Judge/\")\n",
    "if not os.path.exists(RESULT_DIR):\n",
    "    os.mkdir(RESULT_DIR)\n",
    "\n",
    "DATA_DIR = \"../../datas/boke_data_assemble/\"\n",
    "CLIP_IMAGE_FEATURE_DIR = \"../../datas/encoded/clip_image_feature/\"\n",
    "CLIP_SENTENCE_FEATURE_DIR = \"../../datas/encoded/clip_sentence_feature/\"\n",
    "LUKE_SENTENCE_FEATURE_DIR = \"../../datas/encoded/luke_sentence_feature/\""
   ]
  },
  {
   "cell_type": "markdown",
   "metadata": {},
   "source": [
    "# データセットの作成(初回のみ実行)"
   ]
  },
  {
   "cell_type": "code",
   "execution_count": 3,
   "metadata": {},
   "outputs": [
    {
     "name": "stderr",
     "output_type": "stream",
     "text": [
      "100%|██████████| 602566/602566 [03:21<00:00, 2996.06it/s]\n"
     ]
    },
    {
     "data": {
      "text/plain": [
       "(4480885, 230990)"
      ]
     },
     "execution_count": 3,
     "metadata": {},
     "output_type": "execute_result"
    }
   ],
   "source": [
    "boke_datas = list()\n",
    "caption_datas = list()\n",
    "\n",
    "max_num_boke = 0\n",
    "for JP in tqdm(os.listdir(DATA_DIR)):\n",
    "    N = int(JP.split(\".\")[0])\n",
    "\n",
    "    with open(f\"{DATA_DIR}{JP}\", \"r\") as f:\n",
    "        a = json.load(f)\n",
    "\n",
    "    image_information = a[\"image_infomation\"]\n",
    "    is_photographic_probability = image_information[\"is_photographic_probability\"]\n",
    "    ja_caption = image_information[\"ja_caption\"]\n",
    "    ocr = image_information[\"ocr\"]\n",
    "\n",
    "    # 現実写真以外を除去\n",
    "    if not USE_UNREAL_IMAGE:\n",
    "        if is_photographic_probability < 0.8: continue\n",
    "        \n",
    "    # 文字のある画像を除去\n",
    "    if not USE_WORD_IMAGE:\n",
    "        if len(ocr) != 0: continue\n",
    "\n",
    "    bokes = a[\"bokes\"]\n",
    "\n",
    "    max_num_boke = max(max_num_boke, len(a[\"bokes\"]))\n",
    "    for i, B in enumerate(bokes):\n",
    "\n",
    "        # 固有名詞を含む大喜利を除去\n",
    "        if not USE_UNIQUE_NOUN_BOKE:\n",
    "            if len(B[\"unique_nouns\"]) != 0: continue\n",
    "\n",
    "        boke_datas.append({\n",
    "            \"boke_number\": int(f\"1{N:07}{i:05}\"),\n",
    "            \"image_number\": int(f\"3{N:07}\")\n",
    "        })\n",
    "\n",
    "    caption_datas.append({\n",
    "        \"caption_number\": int(f\"2{N:07}\"),\n",
    "        \"image_number\": int(f\"3{N:07}\")\n",
    "    })\n",
    "\n",
    "len(boke_datas), len(caption_datas)"
   ]
  },
  {
   "cell_type": "code",
   "execution_count": 4,
   "metadata": {},
   "outputs": [],
   "source": [
    "train_boke_datas, test_boke_datas = train_test_split(boke_datas, test_size = 0.01)\n",
    "train_caption_datas, test_caption_datas = train_test_split(caption_datas, test_size = 0.01)\n",
    "\n",
    "with open(f\"{RESULT_DIR}train_boke_datas.json\", \"w\") as f:\n",
    "    json.dump(train_boke_datas, f)\n",
    "with open(f\"{RESULT_DIR}train_caption_datas.json\", \"w\") as f:\n",
    "    json.dump(train_caption_datas, f)\n",
    "\n",
    "with open(f\"{RESULT_DIR}test_boke_datas.json\", \"w\") as f:\n",
    "    json.dump(test_boke_datas, f)\n",
    "with open(f\"{RESULT_DIR}test_caption_datas.json\", \"w\") as f:\n",
    "    json.dump(test_caption_datas, f)"
   ]
  },
  {
   "cell_type": "markdown",
   "metadata": {},
   "source": [
    "# モデルの学習"
   ]
  },
  {
   "cell_type": "code",
   "execution_count": 5,
   "metadata": {},
   "outputs": [
    {
     "data": {
      "text/plain": [
       "(4436076, 228680, 44809, 2310)"
      ]
     },
     "execution_count": 5,
     "metadata": {},
     "output_type": "execute_result"
    }
   ],
   "source": [
    "with open(f\"{RESULT_DIR}train_boke_datas.json\", \"r\") as f:\n",
    "    train_boke_datas = json.load(f)\n",
    "with open(f\"{RESULT_DIR}train_caption_datas.json\", \"r\") as f:\n",
    "    train_caption_datas = json.load(f)\n",
    "\n",
    "with open(f\"{RESULT_DIR}test_boke_datas.json\", \"r\") as f:\n",
    "    test_boke_datas = json.load(f)\n",
    "with open(f\"{RESULT_DIR}test_caption_datas.json\", \"r\") as f:\n",
    "    test_caption_datas = json.load(f)\n",
    "\n",
    "len(train_boke_datas), len(train_caption_datas), len(test_boke_datas), len(test_caption_datas)"
   ]
  },
  {
   "cell_type": "code",
   "execution_count": 6,
   "metadata": {},
   "outputs": [
    {
     "name": "stderr",
     "output_type": "stream",
     "text": [
      "4436076it [00:04, 1050309.06it/s]\n"
     ]
    },
    {
     "name": "stdout",
     "output_type": "stream",
     "text": [
      "num data: 9100832\n"
     ]
    },
    {
     "name": "stderr",
     "output_type": "stream",
     "text": [
      "44809it [00:00, 83832.20it/s]"
     ]
    },
    {
     "name": "stdout",
     "output_type": "stream",
     "text": [
      "num data: 91928\n"
     ]
    },
    {
     "name": "stderr",
     "output_type": "stream",
     "text": [
      "\n"
     ]
    },
    {
     "data": {
      "text/plain": [
       "((256, 512), (256, 512), (256, 768), (256,))"
      ]
     },
     "execution_count": 6,
     "metadata": {},
     "output_type": "execute_result"
    }
   ],
   "source": [
    "def make_dataloader(boke_datas, caption_datas):\n",
    "    class LoadNpyDataset(Dataset):\n",
    "        def __init__(self, image_file_numbers, sentence_file_numbers, teacher_signals):\n",
    "            if len(image_file_numbers) != len(sentence_file_numbers) and len(sentence_file_numbers) != len(teacher_signals):\n",
    "                raise ValueError(\"データリストの長さが一致しません\")\n",
    "\n",
    "            self.image_file_numbers = image_file_numbers\n",
    "            self.sentence_file_numbers = sentence_file_numbers\n",
    "            self.teacher_signals = teacher_signals\n",
    "\n",
    "        def __len__(self):\n",
    "            return len(self.teacher_signals)\n",
    "\n",
    "        def __getitem__(self, idx):\n",
    "            clip_image_feature = np.load(f\"{CLIP_IMAGE_FEATURE_DIR}{self.image_file_numbers[idx]}.npy\")\n",
    "            clip_sentence_feature = np.load(f\"{CLIP_SENTENCE_FEATURE_DIR}{self.sentence_file_numbers[idx]}.npy\")\n",
    "            luke_sentence_feature = np.load(f\"{LUKE_SENTENCE_FEATURE_DIR}{self.sentence_file_numbers[idx]}.npy\")\n",
    "            teacher_signal = self.teacher_signals[idx]\n",
    "\n",
    "            return clip_image_feature, clip_sentence_feature, luke_sentence_feature, teacher_signal\n",
    "\n",
    "    def collate_fn_tf(batch):\n",
    "        clip_image_features = np.array([B[0] for B in batch])\n",
    "        clip_sentence_features = np.array([B[1] for B in batch])\n",
    "        luke_sentence_features = np.array([B[2] for B in batch])\n",
    "        teacher_signals = np.array([float(B[3]) for B in batch])\n",
    "        \n",
    "        return clip_image_features, clip_sentence_features, luke_sentence_features, teacher_signals\n",
    "\n",
    "    #\n",
    "    image_file_numbers = list()\n",
    "    sentence_file_numbers = list()\n",
    "    teacher_signals = list()\n",
    "\n",
    "    for D in boke_datas:\n",
    "        image_file_numbers.append(D[\"image_number\"])\n",
    "        sentence_file_numbers.append(D[\"boke_number\"])\n",
    "        teacher_signals.append(1)\n",
    "\n",
    "    if USE_CAPTION:\n",
    "        for D in caption_datas:\n",
    "            image_file_numbers.append(D[\"image_number\"])\n",
    "            sentence_file_numbers.append(D[\"caption_number\"])\n",
    "            teacher_signals.append(0)\n",
    "    \n",
    "    if USE_MISS_BOKE:\n",
    "        miss_boke_datas = list()\n",
    "        tmp_idx = np.random.randint(0, len(boke_datas), size = (len(boke_datas), ))\n",
    "        for i, idx in tqdm(enumerate(tmp_idx)):\n",
    "            tmp_boke_number = boke_datas[idx][\"boke_number\"]\n",
    "            while str(tmp_boke_number)[:7] == str(boke_datas[i][\"boke_number\"])[:7]:\n",
    "                idx = np.random.randint(0, len(boke_datas))\n",
    "                tmp_boke_number = boke_datas[idx][\"boke_number\"]\n",
    "\n",
    "            miss_boke_datas.append({\n",
    "                \"boke_number\": tmp_boke_number,\n",
    "                \"image_number\": boke_datas[i][\"image_number\"]\n",
    "            })\n",
    "        \n",
    "        for D in miss_boke_datas:\n",
    "            image_file_numbers.append(D[\"image_number\"])\n",
    "            sentence_file_numbers.append(D[\"boke_number\"])\n",
    "            teacher_signals.append(0)\n",
    "    \n",
    "    print(f\"num data: {len(teacher_signals)}\")\n",
    "\n",
    "    tmp = list(zip(image_file_numbers, sentence_file_numbers, teacher_signals))\n",
    "    np.random.shuffle(tmp)\n",
    "    image_file_numbers, sentence_file_numbers, teacher_signals = zip(*tmp)\n",
    "\n",
    "    dataset = LoadNpyDataset(image_file_numbers, sentence_file_numbers, teacher_signals)\n",
    "    dataloader = DataLoader(\n",
    "        dataset, \n",
    "        batch_size = BATCH_SIZE, \n",
    "        num_workers = 10, \n",
    "        collate_fn = collate_fn_tf\n",
    "    )\n",
    "\n",
    "    return dataloader\n",
    "\n",
    "train_dataloader = make_dataloader(train_boke_datas, train_caption_datas)\n",
    "test_dataloader = make_dataloader(test_boke_datas, test_caption_datas)\n",
    "\n",
    "#\n",
    "CIF, CSF, LSF, TS = next(iter(train_dataloader))\n",
    "CIF.shape, CSF.shape, LSF.shape, TS.shape"
   ]
  },
  {
   "cell_type": "code",
   "execution_count": 7,
   "metadata": {},
   "outputs": [
    {
     "name": "stdout",
     "output_type": "stream",
     "text": [
      "CustomModel(\n",
      "  (fc1): Linear(in_features=1792, out_features=1024, bias=True)\n",
      "  (fc2): Linear(in_features=1024, out_features=1024, bias=True)\n",
      "  (fc3): Linear(in_features=1024, out_features=1024, bias=True)\n",
      "  (output_layer): Linear(in_features=1024, out_features=1, bias=True)\n",
      ")\n"
     ]
    }
   ],
   "source": [
    "class CustomModel(nn.Module):\n",
    "    def __init__(self, cif_dim, csf_dim, lsf_dim):\n",
    "        super(CustomModel, self).__init__()\n",
    "        # 入力次元を設定\n",
    "        self.cif_dim = cif_dim\n",
    "        self.csf_dim = csf_dim\n",
    "        self.lsf_dim = lsf_dim\n",
    "        \n",
    "        # 全結合層\n",
    "        self.fc1 = nn.Linear(cif_dim + csf_dim + lsf_dim, 1024)\n",
    "        self.fc2 = nn.Linear(1024, 1024)\n",
    "        self.fc3 = nn.Linear(1024, 1024)\n",
    "        self.output_layer = nn.Linear(1024, 1)\n",
    "        \n",
    "    def forward(self, cif, csf, lsf):\n",
    "        # 入力を結合\n",
    "        x = torch.cat([cif, csf, lsf], dim=1)\n",
    "        # 全結合層 + LeakyReLU\n",
    "        x = F.leaky_relu(self.fc1(x))\n",
    "        x = F.leaky_relu(self.fc2(x))\n",
    "        x = F.leaky_relu(self.fc3(x))\n",
    "        # 出力層 + シグモイド\n",
    "        output = torch.sigmoid(self.output_layer(x))\n",
    "        return output\n",
    "\n",
    "model = CustomModel(CIF.shape[1], CSF.shape[1], LSF.shape[1])\n",
    "print(model)"
   ]
  },
  {
   "cell_type": "code",
   "execution_count": 8,
   "metadata": {},
   "outputs": [
    {
     "name": "stderr",
     "output_type": "stream",
     "text": [
      "4436076it [00:04, 1057188.21it/s]\n"
     ]
    },
    {
     "name": "stdout",
     "output_type": "stream",
     "text": [
      "num data: 9100832\n"
     ]
    },
    {
     "name": "stderr",
     "output_type": "stream",
     "text": [
      "Epoch 1/25: 100%|██████████| 35551/35551 [20:34<00:00, 28.79it/s, train_loss=0.594, train_accuracy=0.667]\n",
      "44809it [00:00, 1238183.06it/s]\n"
     ]
    },
    {
     "name": "stdout",
     "output_type": "stream",
     "text": [
      "num data: 91928\n"
     ]
    },
    {
     "name": "stderr",
     "output_type": "stream",
     "text": [
      "Evaluating: 100%|██████████| 360/360 [00:05<00:00, 66.12it/s, test_loss=0.574, test_accuracy=0.707] \n"
     ]
    },
    {
     "name": "stdout",
     "output_type": "stream",
     "text": [
      "Epoch: 1/25, Train Loss: 0.5935, Train Accuracy: 0.6670, Test Loss: 0.5647, Test Accuracy: 0.6954\n"
     ]
    },
    {
     "name": "stderr",
     "output_type": "stream",
     "text": [
      "4436076it [00:04, 1052505.51it/s]\n"
     ]
    },
    {
     "name": "stdout",
     "output_type": "stream",
     "text": [
      "num data: 9100832\n"
     ]
    },
    {
     "name": "stderr",
     "output_type": "stream",
     "text": [
      "Epoch 2/25: 100%|██████████| 35551/35551 [14:02<00:00, 42.22it/s, train_loss=0.556, train_accuracy=0.703]  \n",
      "44809it [00:00, 1268776.32it/s]\n"
     ]
    },
    {
     "name": "stdout",
     "output_type": "stream",
     "text": [
      "num data: 91928\n"
     ]
    },
    {
     "name": "stderr",
     "output_type": "stream",
     "text": [
      "Evaluating: 100%|██████████| 360/360 [00:05<00:00, 66.01it/s, test_loss=0.562, test_accuracy=0.724] \n"
     ]
    },
    {
     "name": "stdout",
     "output_type": "stream",
     "text": [
      "Epoch: 2/25, Train Loss: 0.5564, Train Accuracy: 0.7026, Test Loss: 0.5500, Test Accuracy: 0.7082\n"
     ]
    },
    {
     "name": "stderr",
     "output_type": "stream",
     "text": [
      "4436076it [00:04, 1062822.76it/s]\n"
     ]
    },
    {
     "name": "stdout",
     "output_type": "stream",
     "text": [
      "num data: 9100832\n"
     ]
    },
    {
     "name": "stderr",
     "output_type": "stream",
     "text": [
      "Epoch 3/25: 100%|██████████| 35551/35551 [14:09<00:00, 41.85it/s, train_loss=0.539, train_accuracy=0.717] \n",
      "44809it [00:00, 1289724.81it/s]\n"
     ]
    },
    {
     "name": "stdout",
     "output_type": "stream",
     "text": [
      "num data: 91928\n"
     ]
    },
    {
     "name": "stderr",
     "output_type": "stream",
     "text": [
      "Evaluating: 100%|██████████| 360/360 [00:05<00:00, 65.93it/s, test_loss=0.552, test_accuracy=0.728] \n"
     ]
    },
    {
     "name": "stdout",
     "output_type": "stream",
     "text": [
      "Epoch: 3/25, Train Loss: 0.5391, Train Accuracy: 0.7165, Test Loss: 0.5414, Test Accuracy: 0.7135\n"
     ]
    },
    {
     "name": "stderr",
     "output_type": "stream",
     "text": [
      "4436076it [00:04, 1003973.44it/s]\n"
     ]
    },
    {
     "name": "stdout",
     "output_type": "stream",
     "text": [
      "num data: 9100832\n"
     ]
    },
    {
     "name": "stderr",
     "output_type": "stream",
     "text": [
      "Epoch 4/25: 100%|██████████| 35551/35551 [18:22<00:00, 32.24it/s, train_loss=0.527, train_accuracy=0.726] \n",
      "44809it [00:00, 1281703.33it/s]\n"
     ]
    },
    {
     "name": "stdout",
     "output_type": "stream",
     "text": [
      "num data: 91928\n"
     ]
    },
    {
     "name": "stderr",
     "output_type": "stream",
     "text": [
      "Evaluating: 100%|██████████| 360/360 [00:06<00:00, 51.78it/s, test_loss=0.549, test_accuracy=0.742] \n"
     ]
    },
    {
     "name": "stdout",
     "output_type": "stream",
     "text": [
      "Epoch: 4/25, Train Loss: 0.5270, Train Accuracy: 0.7262, Test Loss: 0.5336, Test Accuracy: 0.7211\n"
     ]
    },
    {
     "name": "stderr",
     "output_type": "stream",
     "text": [
      "4436076it [00:04, 1021185.85it/s]\n"
     ]
    },
    {
     "name": "stdout",
     "output_type": "stream",
     "text": [
      "num data: 9100832\n"
     ]
    },
    {
     "name": "stderr",
     "output_type": "stream",
     "text": [
      "Epoch 5/25: 100%|██████████| 35551/35551 [17:49<00:00, 33.23it/s, train_loss=0.517, train_accuracy=0.733]  \n",
      "44809it [00:00, 1131740.99it/s]\n"
     ]
    },
    {
     "name": "stdout",
     "output_type": "stream",
     "text": [
      "num data: 91928\n"
     ]
    },
    {
     "name": "stderr",
     "output_type": "stream",
     "text": [
      "Evaluating: 100%|██████████| 360/360 [00:05<00:00, 65.54it/s, test_loss=0.544, test_accuracy=0.746] \n"
     ]
    },
    {
     "name": "stdout",
     "output_type": "stream",
     "text": [
      "Epoch: 5/25, Train Loss: 0.5172, Train Accuracy: 0.7334, Test Loss: 0.5288, Test Accuracy: 0.7248\n"
     ]
    },
    {
     "name": "stderr",
     "output_type": "stream",
     "text": [
      "4436076it [00:04, 1053363.96it/s]\n"
     ]
    },
    {
     "name": "stdout",
     "output_type": "stream",
     "text": [
      "num data: 9100832\n"
     ]
    },
    {
     "name": "stderr",
     "output_type": "stream",
     "text": [
      "Epoch 6/25: 100%|██████████| 35551/35551 [15:09<00:00, 39.10it/s, train_loss=0.509, train_accuracy=0.739]\n",
      "44809it [00:00, 1349289.74it/s]\n"
     ]
    },
    {
     "name": "stdout",
     "output_type": "stream",
     "text": [
      "num data: 91928\n"
     ]
    },
    {
     "name": "stderr",
     "output_type": "stream",
     "text": [
      "Evaluating: 100%|██████████| 360/360 [00:05<00:00, 66.00it/s, test_loss=0.537, test_accuracy=0.745] \n"
     ]
    },
    {
     "name": "stdout",
     "output_type": "stream",
     "text": [
      "Epoch: 6/25, Train Loss: 0.5090, Train Accuracy: 0.7393, Test Loss: 0.5249, Test Accuracy: 0.7287\n"
     ]
    },
    {
     "name": "stderr",
     "output_type": "stream",
     "text": [
      "4436076it [00:04, 1051456.67it/s]\n"
     ]
    },
    {
     "name": "stdout",
     "output_type": "stream",
     "text": [
      "num data: 9100832\n"
     ]
    },
    {
     "name": "stderr",
     "output_type": "stream",
     "text": [
      "Epoch 7/25: 100%|██████████| 35551/35551 [13:36<00:00, 43.54it/s, train_loss=0.502, train_accuracy=0.744]\n",
      "44809it [00:00, 1206864.33it/s]\n"
     ]
    },
    {
     "name": "stdout",
     "output_type": "stream",
     "text": [
      "num data: 91928\n"
     ]
    },
    {
     "name": "stderr",
     "output_type": "stream",
     "text": [
      "Evaluating: 100%|██████████| 360/360 [00:05<00:00, 63.93it/s, test_loss=0.54, test_accuracy=0.754]  \n"
     ]
    },
    {
     "name": "stdout",
     "output_type": "stream",
     "text": [
      "Epoch: 7/25, Train Loss: 0.5017, Train Accuracy: 0.7443, Test Loss: 0.5238, Test Accuracy: 0.7314\n"
     ]
    },
    {
     "name": "stderr",
     "output_type": "stream",
     "text": [
      "4436076it [00:04, 1069481.71it/s]\n"
     ]
    },
    {
     "name": "stdout",
     "output_type": "stream",
     "text": [
      "num data: 9100832\n"
     ]
    },
    {
     "name": "stderr",
     "output_type": "stream",
     "text": [
      "Epoch 8/25: 100%|██████████| 35551/35551 [14:02<00:00, 42.19it/s, train_loss=0.496, train_accuracy=0.749]\n",
      "44809it [00:00, 1246758.22it/s]\n"
     ]
    },
    {
     "name": "stdout",
     "output_type": "stream",
     "text": [
      "num data: 91928\n"
     ]
    },
    {
     "name": "stderr",
     "output_type": "stream",
     "text": [
      "Evaluating: 100%|██████████| 360/360 [00:05<00:00, 63.98it/s, test_loss=0.53, test_accuracy=0.741]  \n"
     ]
    },
    {
     "name": "stdout",
     "output_type": "stream",
     "text": [
      "Epoch: 8/25, Train Loss: 0.4955, Train Accuracy: 0.7487, Test Loss: 0.5229, Test Accuracy: 0.7312\n"
     ]
    },
    {
     "name": "stderr",
     "output_type": "stream",
     "text": [
      "4436076it [00:04, 1031623.06it/s]\n"
     ]
    },
    {
     "name": "stdout",
     "output_type": "stream",
     "text": [
      "num data: 9100832\n"
     ]
    },
    {
     "name": "stderr",
     "output_type": "stream",
     "text": [
      "Epoch 9/25: 100%|██████████| 35551/35551 [14:23<00:00, 41.15it/s, train_loss=0.49, train_accuracy=0.753] \n",
      "44809it [00:00, 1254899.73it/s]\n"
     ]
    },
    {
     "name": "stdout",
     "output_type": "stream",
     "text": [
      "num data: 91928\n"
     ]
    },
    {
     "name": "stderr",
     "output_type": "stream",
     "text": [
      "Evaluating: 100%|██████████| 360/360 [00:05<00:00, 63.50it/s, test_loss=0.54, test_accuracy=0.756]  \n"
     ]
    },
    {
     "name": "stdout",
     "output_type": "stream",
     "text": [
      "Epoch: 9/25, Train Loss: 0.4896, Train Accuracy: 0.7526, Test Loss: 0.5232, Test Accuracy: 0.7327\n"
     ]
    },
    {
     "name": "stderr",
     "output_type": "stream",
     "text": [
      "4436076it [00:04, 1065499.34it/s]\n"
     ]
    },
    {
     "name": "stdout",
     "output_type": "stream",
     "text": [
      "num data: 9100832\n"
     ]
    },
    {
     "name": "stderr",
     "output_type": "stream",
     "text": [
      "Epoch 10/25: 100%|██████████| 35551/35551 [16:10<00:00, 36.64it/s, train_loss=0.485, train_accuracy=0.756]  \n",
      "44809it [00:00, 1196255.90it/s]\n"
     ]
    },
    {
     "name": "stdout",
     "output_type": "stream",
     "text": [
      "num data: 91928\n"
     ]
    },
    {
     "name": "stderr",
     "output_type": "stream",
     "text": [
      "Evaluating: 100%|██████████| 360/360 [00:05<00:00, 64.35it/s, test_loss=0.527, test_accuracy=0.744] \n"
     ]
    },
    {
     "name": "stdout",
     "output_type": "stream",
     "text": [
      "Epoch: 10/25, Train Loss: 0.4845, Train Accuracy: 0.7559, Test Loss: 0.5201, Test Accuracy: 0.7336\n"
     ]
    },
    {
     "name": "stderr",
     "output_type": "stream",
     "text": [
      "4436076it [00:04, 1050579.37it/s]\n"
     ]
    },
    {
     "name": "stdout",
     "output_type": "stream",
     "text": [
      "num data: 9100832\n"
     ]
    },
    {
     "name": "stderr",
     "output_type": "stream",
     "text": [
      "Epoch 11/25: 100%|██████████| 35551/35551 [16:02<00:00, 36.93it/s, train_loss=0.479, train_accuracy=0.759]\n",
      "44809it [00:00, 1247229.83it/s]\n"
     ]
    },
    {
     "name": "stdout",
     "output_type": "stream",
     "text": [
      "num data: 91928\n"
     ]
    },
    {
     "name": "stderr",
     "output_type": "stream",
     "text": [
      "Evaluating: 100%|██████████| 360/360 [00:05<00:00, 63.83it/s, test_loss=0.529, test_accuracy=0.75]  \n"
     ]
    },
    {
     "name": "stdout",
     "output_type": "stream",
     "text": [
      "Epoch: 11/25, Train Loss: 0.4794, Train Accuracy: 0.7594, Test Loss: 0.5186, Test Accuracy: 0.7357\n"
     ]
    },
    {
     "name": "stderr",
     "output_type": "stream",
     "text": [
      "4436076it [00:04, 1066508.90it/s]\n"
     ]
    },
    {
     "name": "stdout",
     "output_type": "stream",
     "text": [
      "num data: 9100832\n"
     ]
    },
    {
     "name": "stderr",
     "output_type": "stream",
     "text": [
      "Epoch 12/25: 100%|██████████| 35551/35551 [16:16<00:00, 36.39it/s, train_loss=0.475, train_accuracy=0.762]\n",
      "44809it [00:00, 1323679.04it/s]\n"
     ]
    },
    {
     "name": "stdout",
     "output_type": "stream",
     "text": [
      "num data: 91928\n"
     ]
    },
    {
     "name": "stderr",
     "output_type": "stream",
     "text": [
      "Evaluating: 100%|██████████| 360/360 [00:05<00:00, 64.58it/s, test_loss=0.53, test_accuracy=0.749]  \n"
     ]
    },
    {
     "name": "stdout",
     "output_type": "stream",
     "text": [
      "Epoch: 12/25, Train Loss: 0.4748, Train Accuracy: 0.7622, Test Loss: 0.5208, Test Accuracy: 0.7368\n"
     ]
    },
    {
     "name": "stderr",
     "output_type": "stream",
     "text": [
      "4436076it [00:04, 1053317.39it/s]\n"
     ]
    },
    {
     "name": "stdout",
     "output_type": "stream",
     "text": [
      "num data: 9100832\n"
     ]
    },
    {
     "name": "stderr",
     "output_type": "stream",
     "text": [
      "Epoch 13/25: 100%|██████████| 35551/35551 [15:52<00:00, 37.33it/s, train_loss=0.471, train_accuracy=0.765]\n",
      "44809it [00:00, 1317249.81it/s]\n"
     ]
    },
    {
     "name": "stdout",
     "output_type": "stream",
     "text": [
      "num data: 91928\n"
     ]
    },
    {
     "name": "stderr",
     "output_type": "stream",
     "text": [
      "Evaluating: 100%|██████████| 360/360 [00:05<00:00, 66.26it/s, test_loss=0.541, test_accuracy=0.763] \n"
     ]
    },
    {
     "name": "stdout",
     "output_type": "stream",
     "text": [
      "Epoch: 13/25, Train Loss: 0.4707, Train Accuracy: 0.7648, Test Loss: 0.5215, Test Accuracy: 0.7355\n"
     ]
    },
    {
     "name": "stderr",
     "output_type": "stream",
     "text": [
      "4436076it [00:04, 1060488.54it/s]\n"
     ]
    },
    {
     "name": "stdout",
     "output_type": "stream",
     "text": [
      "num data: 9100832\n"
     ]
    },
    {
     "name": "stderr",
     "output_type": "stream",
     "text": [
      "Epoch 14/25: 100%|██████████| 35551/35551 [16:44<00:00, 35.39it/s, train_loss=0.467, train_accuracy=0.767]\n",
      "44809it [00:00, 1279321.53it/s]\n"
     ]
    },
    {
     "name": "stdout",
     "output_type": "stream",
     "text": [
      "num data: 91928\n"
     ]
    },
    {
     "name": "stderr",
     "output_type": "stream",
     "text": [
      "Evaluating: 100%|██████████| 360/360 [00:05<00:00, 64.02it/s, test_loss=0.541, test_accuracy=0.758] \n"
     ]
    },
    {
     "name": "stdout",
     "output_type": "stream",
     "text": [
      "Epoch: 14/25, Train Loss: 0.4667, Train Accuracy: 0.7672, Test Loss: 0.5241, Test Accuracy: 0.7346\n"
     ]
    },
    {
     "name": "stderr",
     "output_type": "stream",
     "text": [
      "4436076it [00:04, 1052157.39it/s]\n"
     ]
    },
    {
     "name": "stdout",
     "output_type": "stream",
     "text": [
      "num data: 9100832\n"
     ]
    },
    {
     "name": "stderr",
     "output_type": "stream",
     "text": [
      "Epoch 15/25: 100%|██████████| 35551/35551 [16:43<00:00, 35.44it/s, train_loss=0.463, train_accuracy=0.77]   \n",
      "44809it [00:00, 1200381.74it/s]\n"
     ]
    },
    {
     "name": "stdout",
     "output_type": "stream",
     "text": [
      "num data: 91928\n"
     ]
    },
    {
     "name": "stderr",
     "output_type": "stream",
     "text": [
      "Evaluating: 100%|██████████| 360/360 [00:05<00:00, 64.00it/s, test_loss=0.539, test_accuracy=0.752] \n"
     ]
    },
    {
     "name": "stdout",
     "output_type": "stream",
     "text": [
      "Epoch: 15/25, Train Loss: 0.4629, Train Accuracy: 0.7695, Test Loss: 0.5270, Test Accuracy: 0.7348\n"
     ]
    },
    {
     "name": "stderr",
     "output_type": "stream",
     "text": [
      "4436076it [00:04, 1103013.29it/s]\n"
     ]
    },
    {
     "name": "stdout",
     "output_type": "stream",
     "text": [
      "num data: 9100832\n"
     ]
    },
    {
     "name": "stderr",
     "output_type": "stream",
     "text": [
      "Epoch 16/25: 100%|██████████| 35551/35551 [16:56<00:00, 34.98it/s, train_loss=0.46, train_accuracy=0.772] \n",
      "44809it [00:00, 1270869.72it/s]\n"
     ]
    },
    {
     "name": "stdout",
     "output_type": "stream",
     "text": [
      "num data: 91928\n"
     ]
    },
    {
     "name": "stderr",
     "output_type": "stream",
     "text": [
      "Evaluating: 100%|██████████| 360/360 [00:05<00:00, 66.21it/s, test_loss=0.543, test_accuracy=0.76]  \n"
     ]
    },
    {
     "name": "stdout",
     "output_type": "stream",
     "text": [
      "Epoch: 16/25, Train Loss: 0.4596, Train Accuracy: 0.7716, Test Loss: 0.5265, Test Accuracy: 0.7370\n"
     ]
    },
    {
     "name": "stderr",
     "output_type": "stream",
     "text": [
      "4436076it [00:04, 1050456.60it/s]\n"
     ]
    },
    {
     "name": "stdout",
     "output_type": "stream",
     "text": [
      "num data: 9100832\n"
     ]
    },
    {
     "name": "stderr",
     "output_type": "stream",
     "text": [
      "Epoch 17/25: 100%|██████████| 35551/35551 [17:12<00:00, 34.43it/s, train_loss=0.456, train_accuracy=0.774]\n",
      "44809it [00:00, 1245816.08it/s]\n"
     ]
    },
    {
     "name": "stdout",
     "output_type": "stream",
     "text": [
      "num data: 91928\n"
     ]
    },
    {
     "name": "stderr",
     "output_type": "stream",
     "text": [
      "Evaluating: 100%|██████████| 360/360 [00:05<00:00, 65.33it/s, test_loss=0.542, test_accuracy=0.759] \n"
     ]
    },
    {
     "name": "stdout",
     "output_type": "stream",
     "text": [
      "Epoch: 17/25, Train Loss: 0.4564, Train Accuracy: 0.7736, Test Loss: 0.5265, Test Accuracy: 0.7375\n"
     ]
    },
    {
     "name": "stderr",
     "output_type": "stream",
     "text": [
      "4436076it [00:04, 1072339.48it/s]\n"
     ]
    },
    {
     "name": "stdout",
     "output_type": "stream",
     "text": [
      "num data: 9100832\n"
     ]
    },
    {
     "name": "stderr",
     "output_type": "stream",
     "text": [
      "Epoch 18/25: 100%|██████████| 35551/35551 [20:50<00:00, 28.43it/s, train_loss=0.453, train_accuracy=0.776]  \n",
      "44809it [00:00, 1327249.90it/s]\n"
     ]
    },
    {
     "name": "stdout",
     "output_type": "stream",
     "text": [
      "num data: 91928\n"
     ]
    },
    {
     "name": "stderr",
     "output_type": "stream",
     "text": [
      "Evaluating: 100%|██████████| 360/360 [00:05<00:00, 65.37it/s, test_loss=0.534, test_accuracy=0.747] \n"
     ]
    },
    {
     "name": "stdout",
     "output_type": "stream",
     "text": [
      "Epoch: 18/25, Train Loss: 0.4533, Train Accuracy: 0.7755, Test Loss: 0.5269, Test Accuracy: 0.7363\n"
     ]
    },
    {
     "name": "stderr",
     "output_type": "stream",
     "text": [
      "4436076it [00:04, 1061880.46it/s]\n"
     ]
    },
    {
     "name": "stdout",
     "output_type": "stream",
     "text": [
      "num data: 9100832\n"
     ]
    },
    {
     "name": "stderr",
     "output_type": "stream",
     "text": [
      "Epoch 19/25: 100%|██████████| 35551/35551 [17:55<00:00, 33.04it/s, train_loss=0.45, train_accuracy=0.777] \n",
      "44809it [00:00, 1352367.50it/s]\n"
     ]
    },
    {
     "name": "stdout",
     "output_type": "stream",
     "text": [
      "num data: 91928\n"
     ]
    },
    {
     "name": "stderr",
     "output_type": "stream",
     "text": [
      "Evaluating: 100%|██████████| 360/360 [00:05<00:00, 67.50it/s, test_loss=0.544, test_accuracy=0.757] \n"
     ]
    },
    {
     "name": "stdout",
     "output_type": "stream",
     "text": [
      "Epoch: 19/25, Train Loss: 0.4504, Train Accuracy: 0.7772, Test Loss: 0.5303, Test Accuracy: 0.7381\n"
     ]
    },
    {
     "name": "stderr",
     "output_type": "stream",
     "text": [
      "4436076it [00:04, 1084618.66it/s]\n"
     ]
    },
    {
     "name": "stdout",
     "output_type": "stream",
     "text": [
      "num data: 9100832\n"
     ]
    },
    {
     "name": "stderr",
     "output_type": "stream",
     "text": [
      "Epoch 20/25: 100%|██████████| 35551/35551 [17:48<00:00, 33.27it/s, train_loss=0.448, train_accuracy=0.779]  \n",
      "44809it [00:00, 1389439.75it/s]\n"
     ]
    },
    {
     "name": "stdout",
     "output_type": "stream",
     "text": [
      "num data: 91928\n"
     ]
    },
    {
     "name": "stderr",
     "output_type": "stream",
     "text": [
      "Evaluating: 100%|██████████| 360/360 [00:05<00:00, 64.82it/s, test_loss=0.536, test_accuracy=0.742] \n"
     ]
    },
    {
     "name": "stdout",
     "output_type": "stream",
     "text": [
      "Epoch: 20/25, Train Loss: 0.4477, Train Accuracy: 0.7789, Test Loss: 0.5328, Test Accuracy: 0.7374\n"
     ]
    },
    {
     "name": "stderr",
     "output_type": "stream",
     "text": [
      "4436076it [00:04, 1092633.04it/s]\n"
     ]
    },
    {
     "name": "stdout",
     "output_type": "stream",
     "text": [
      "num data: 9100832\n"
     ]
    },
    {
     "name": "stderr",
     "output_type": "stream",
     "text": [
      "Epoch 21/25: 100%|██████████| 35551/35551 [17:32<00:00, 33.78it/s, train_loss=0.445, train_accuracy=0.78] \n",
      "44809it [00:00, 1303816.69it/s]\n"
     ]
    },
    {
     "name": "stdout",
     "output_type": "stream",
     "text": [
      "num data: 91928\n"
     ]
    },
    {
     "name": "stderr",
     "output_type": "stream",
     "text": [
      "Evaluating: 100%|██████████| 360/360 [00:05<00:00, 61.25it/s, test_loss=0.539, test_accuracy=0.744] \n"
     ]
    },
    {
     "name": "stdout",
     "output_type": "stream",
     "text": [
      "Epoch: 21/25, Train Loss: 0.4452, Train Accuracy: 0.7805, Test Loss: 0.5326, Test Accuracy: 0.7359\n"
     ]
    },
    {
     "name": "stderr",
     "output_type": "stream",
     "text": [
      "4436076it [00:04, 1084982.39it/s]\n"
     ]
    },
    {
     "name": "stdout",
     "output_type": "stream",
     "text": [
      "num data: 9100832\n"
     ]
    },
    {
     "name": "stderr",
     "output_type": "stream",
     "text": [
      "Epoch 22/25: 100%|██████████| 35551/35551 [18:48<00:00, 31.50it/s, train_loss=0.443, train_accuracy=0.782]  \n",
      "44809it [00:00, 1337802.83it/s]\n"
     ]
    },
    {
     "name": "stdout",
     "output_type": "stream",
     "text": [
      "num data: 91928\n"
     ]
    },
    {
     "name": "stderr",
     "output_type": "stream",
     "text": [
      "Evaluating: 100%|██████████| 360/360 [00:05<00:00, 66.22it/s, test_loss=0.546, test_accuracy=0.751] \n"
     ]
    },
    {
     "name": "stdout",
     "output_type": "stream",
     "text": [
      "Epoch: 22/25, Train Loss: 0.4427, Train Accuracy: 0.7819, Test Loss: 0.5357, Test Accuracy: 0.7367\n"
     ]
    },
    {
     "name": "stderr",
     "output_type": "stream",
     "text": [
      "4436076it [00:04, 1038894.73it/s]\n"
     ]
    },
    {
     "name": "stdout",
     "output_type": "stream",
     "text": [
      "num data: 9100832\n"
     ]
    },
    {
     "name": "stderr",
     "output_type": "stream",
     "text": [
      "Epoch 23/25: 100%|██████████| 35551/35551 [16:21<00:00, 36.23it/s, train_loss=0.44, train_accuracy=0.783] \n",
      "44809it [00:00, 1295342.70it/s]\n"
     ]
    },
    {
     "name": "stdout",
     "output_type": "stream",
     "text": [
      "num data: 91928\n"
     ]
    },
    {
     "name": "stderr",
     "output_type": "stream",
     "text": [
      "Evaluating: 100%|██████████| 360/360 [00:05<00:00, 64.01it/s, test_loss=0.557, test_accuracy=0.761] \n"
     ]
    },
    {
     "name": "stdout",
     "output_type": "stream",
     "text": [
      "Epoch: 23/25, Train Loss: 0.4404, Train Accuracy: 0.7833, Test Loss: 0.5387, Test Accuracy: 0.7361\n"
     ]
    },
    {
     "name": "stderr",
     "output_type": "stream",
     "text": [
      "4436076it [00:04, 1085658.14it/s]\n"
     ]
    },
    {
     "name": "stdout",
     "output_type": "stream",
     "text": [
      "num data: 9100832\n"
     ]
    },
    {
     "name": "stderr",
     "output_type": "stream",
     "text": [
      "Epoch 24/25: 100%|██████████| 35551/35551 [17:11<00:00, 34.46it/s, train_loss=0.438, train_accuracy=0.785]\n",
      "44809it [00:00, 1273039.01it/s]\n"
     ]
    },
    {
     "name": "stdout",
     "output_type": "stream",
     "text": [
      "num data: 91928\n"
     ]
    },
    {
     "name": "stderr",
     "output_type": "stream",
     "text": [
      "Evaluating: 100%|██████████| 360/360 [00:05<00:00, 62.46it/s, test_loss=0.556, test_accuracy=0.76]  \n"
     ]
    },
    {
     "name": "stdout",
     "output_type": "stream",
     "text": [
      "Epoch: 24/25, Train Loss: 0.4379, Train Accuracy: 0.7847, Test Loss: 0.5371, Test Accuracy: 0.7348\n"
     ]
    },
    {
     "name": "stderr",
     "output_type": "stream",
     "text": [
      "4436076it [00:04, 1070402.70it/s]\n"
     ]
    },
    {
     "name": "stdout",
     "output_type": "stream",
     "text": [
      "num data: 9100832\n"
     ]
    },
    {
     "name": "stderr",
     "output_type": "stream",
     "text": [
      "Epoch 25/25: 100%|██████████| 35551/35551 [17:08<00:00, 34.55it/s, train_loss=0.436, train_accuracy=0.786]\n",
      "44809it [00:00, 1329794.87it/s]\n"
     ]
    },
    {
     "name": "stdout",
     "output_type": "stream",
     "text": [
      "num data: 91928\n"
     ]
    },
    {
     "name": "stderr",
     "output_type": "stream",
     "text": [
      "Evaluating: 100%|██████████| 360/360 [00:05<00:00, 64.56it/s, test_loss=0.546, test_accuracy=0.744] \n"
     ]
    },
    {
     "name": "stdout",
     "output_type": "stream",
     "text": [
      "Epoch: 25/25, Train Loss: 0.4361, Train Accuracy: 0.7859, Test Loss: 0.5397, Test Accuracy: 0.7360\n"
     ]
    }
   ],
   "source": [
    "def train_step(model, optimizer, batch_data, batch_labels):\n",
    "    model.train()  # モデルを訓練モードに設定\n",
    "    optimizer.zero_grad()  # 勾配を初期化\n",
    "    outputs = model(*batch_data).float()  # モデルで予測を計算\n",
    "    loss = nn.BCELoss()(outputs, batch_labels.float())  # 損失関数（バイナリクロスエントロピー）\n",
    "    accuracy = ((outputs > 0.5).float() == batch_labels).float().mean()  # 精度計算\n",
    "    loss.backward()  # 勾配を計算\n",
    "    optimizer.step()  # パラメータ更新\n",
    "    return loss.item(), accuracy.item()\n",
    "\n",
    "def evaluate(model, batch_data, batch_labels):\n",
    "    model.eval()  # モデルを評価モードに設定\n",
    "    with torch.no_grad():  # 評価時に勾配計算を行わない\n",
    "        outputs = model(*batch_data)\n",
    "        loss = nn.BCELoss()(outputs, batch_labels)\n",
    "        accuracy = ((outputs > 0.5).float() == batch_labels).float().mean()\n",
    "    return loss.item(), accuracy.item()\n",
    "\n",
    "train_loss_history = []\n",
    "train_accuracy_history = []\n",
    "test_loss_history = []\n",
    "test_accuracy_history = []\n",
    "\n",
    "model = CustomModel(CIF.shape[1], CSF.shape[1], LSF.shape[1])\n",
    "optimizer = optim.AdamW(model.parameters(), lr = 0.0001)\n",
    "\n",
    "# 訓練・評価ループ\n",
    "for epoch in range(EPOCH):\n",
    "    # 訓練\n",
    "    train_loss_obj = 0.0\n",
    "    train_accuracy_obj = 0.0\n",
    "    model.train()  # 訓練モード\n",
    "    train_dataloader = make_dataloader(train_boke_datas, train_caption_datas)\n",
    "    pb = tqdm(train_dataloader, desc = f\"Epoch {epoch+1}/{EPOCH}\")\n",
    "    \n",
    "    for CIF, CSF, LSF, TS in pb:\n",
    "        CIF, CSF, LSF, TS = torch.tensor(CIF), torch.tensor(CSF), torch.tensor(LSF), torch.tensor(TS)\n",
    "        batch_data = (CIF, CSF, LSF)  # 入力データ\n",
    "        batch_labels = TS.unsqueeze(1)  # 出力ラベル（shape: [batch_size, 1]）\n",
    "        \n",
    "        loss, accuracy = train_step(model, optimizer, batch_data, batch_labels)\n",
    "        train_loss_obj += loss\n",
    "        train_accuracy_obj += accuracy\n",
    "        pb.set_postfix({\"train_loss\": train_loss_obj / (pb.n + 1), \"train_accuracy\": train_accuracy_obj / (pb.n + 1)})\n",
    "\n",
    "    # 訓練後の損失と精度\n",
    "    train_loss = train_loss_obj / len(train_dataloader)\n",
    "    train_accuracy = train_accuracy_obj / len(train_dataloader)\n",
    "\n",
    "    # テスト\n",
    "    test_loss_obj = 0.0\n",
    "    test_accuracy_obj = 0.0\n",
    "    model.eval()  # 評価モード\n",
    "    test_dataloader = make_dataloader(test_boke_datas, test_caption_datas)\n",
    "    pb = tqdm(test_dataloader, desc = \"Evaluating\")\n",
    "\n",
    "    for CIF, CSF, LSF, TS in pb:\n",
    "        CIF, CSF, LSF, TS = torch.tensor(CIF).float(), torch.tensor(CSF).float(), torch.tensor(LSF).float(), torch.tensor(TS).float()\n",
    "        batch_data = (CIF, CSF, LSF)\n",
    "        batch_labels = TS.unsqueeze(1).float()\n",
    "        \n",
    "        loss, accuracy = evaluate(model, batch_data, batch_labels)\n",
    "        test_loss_obj += loss\n",
    "        test_accuracy_obj += accuracy\n",
    "        pb.set_postfix({\"test_loss\": test_loss_obj / (pb.n + 1), \"test_accuracy\": test_accuracy_obj / (pb.n + 1)})\n",
    "\n",
    "    # テスト後の損失と精度\n",
    "    test_loss = test_loss_obj / len(test_dataloader)\n",
    "    test_accuracy = test_accuracy_obj / len(test_dataloader)\n",
    "\n",
    "    # 結果表示\n",
    "    print(f\"Epoch: {epoch+1}/{EPOCH}, \"\n",
    "          f\"Train Loss: {train_loss:.4f}, Train Accuracy: {train_accuracy:.4f}, \"\n",
    "          f\"Test Loss: {test_loss:.4f}, Test Accuracy: {test_accuracy:.4f}\")\n",
    "\n",
    "    # 履歴の保存\n",
    "    train_loss_history.append(train_loss)\n",
    "    train_accuracy_history.append(train_accuracy)\n",
    "    test_loss_history.append(test_loss)\n",
    "    test_accuracy_history.append(test_accuracy)\n",
    "\n",
    "# 結果をJSONファイルに保存\n",
    "with open(f\"{RESULT_DIR}history.json\", \"w\") as f:\n",
    "    json.dump({\n",
    "        \"train_loss\": train_loss_history,\n",
    "        \"train_accuracy\": train_accuracy_history,\n",
    "        \"test_loss\": test_loss_history,\n",
    "        \"test_accuracy\": test_accuracy_history\n",
    "    }, f)\n"
   ]
  },
  {
   "cell_type": "code",
   "execution_count": null,
   "metadata": {},
   "outputs": [
    {
     "name": "stderr",
     "output_type": "stream",
     "text": [
      "<ipython-input-10-a5555dbdb8e2>:4: FutureWarning: You are using `torch.load` with `weights_only=False` (the current default value), which uses the default pickle module implicitly. It is possible to construct malicious pickle data which will execute arbitrary code during unpickling (See https://github.com/pytorch/pytorch/blob/main/SECURITY.md#untrusted-models for more details). In a future release, the default value for `weights_only` will be flipped to `True`. This limits the functions that could be executed during unpickling. Arbitrary objects will no longer be allowed to be loaded via this mode unless they are explicitly allowlisted by the user via `torch.serialization.add_safe_globals`. We recommend you start setting `weights_only=True` for any use case where you don't have full control of the loaded file. Please open an issue on GitHub for any issues related to this experimental feature.\n",
      "  model.load_state_dict(torch.load(f\"{RESULT_DIR}model_weights.pth\",\n"
     ]
    },
    {
     "data": {
      "text/plain": [
       "CustomModel(\n",
       "  (fc1): Linear(in_features=1792, out_features=1024, bias=True)\n",
       "  (fc2): Linear(in_features=1024, out_features=1024, bias=True)\n",
       "  (fc3): Linear(in_features=1024, out_features=1024, bias=True)\n",
       "  (output_layer): Linear(in_features=1024, out_features=1, bias=True)\n",
       ")"
      ]
     },
     "execution_count": 10,
     "metadata": {},
     "output_type": "execute_result"
    }
   ],
   "source": [
    "torch.save(model.state_dict(), f\"{RESULT_DIR}model_weights.pth\")\n",
    "\n",
    "model = CustomModel(CIF.shape[1], CSF.shape[1], LSF.shape[1])\n",
    "model.load_state_dict(torch.load(f\"{RESULT_DIR}model_weights.pth\",\n",
    "                                 map_location=torch.device('cpu')))\n",
    "model.eval()"
   ]
  },
  {
   "cell_type": "code",
   "execution_count": 9,
   "metadata": {},
   "outputs": [
    {
     "data": {
      "image/png": "[encoded data removed]",
      "text/plain": [
       "<Figure size 720x360 with 2 Axes>"
      ]
     },
     "metadata": {
      "needs_background": "light"
     },
     "output_type": "display_data"
    }
   ],
   "source": [
    "fig = plt.figure(figsize = (10, 5))\n",
    "ax = fig.add_subplot(1, 2, 1)\n",
    "ax.plot(train_loss_history, label = \"train\")\n",
    "ax.plot(test_loss_history, label = \"test\")\n",
    "ax.set_xlabel(\"epoch\")\n",
    "ax.set_ylabel(\"loss\")\n",
    "ax.legend()\n",
    "ax.grid()\n",
    "\n",
    "ax = fig.add_subplot(1, 2, 2)\n",
    "ax.plot(train_accuracy_history, label = \"train\")\n",
    "ax.plot(test_accuracy_history, label = \"test\")\n",
    "ax.set_xlabel(\"epoch\")\n",
    "ax.set_ylabel(\"accuracy\")\n",
    "ax.legend()\n",
    "ax.grid()"
   ]
  }
 ],
 "metadata": {
  "kernelspec": {
   "display_name": "Colab_20241111",
   "language": "python",
   "name": "python3"
  },
  "language_info": {
   "codemirror_mode": {
    "name": "ipython",
    "version": 3
   },
   "file_extension": ".py",
   "mimetype": "text/x-python",
   "name": "python",
   "nbconvert_exporter": "python",
   "pygments_lexer": "ipython3",
   "version": "3.10.12"
  }
 },
 "nbformat": 4,
 "nbformat_minor": 2
}
