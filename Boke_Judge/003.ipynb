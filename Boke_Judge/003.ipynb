{
 "cells": [
  {
   "cell_type": "markdown",
   "metadata": {},
   "source": [
    "# 現実写真のみ、文字なし、固有名詞含む、キャプション、ほかの画像の大喜利"
   ]
  },
  {
   "cell_type": "code",
   "execution_count": 15,
   "metadata": {},
   "outputs": [],
   "source": [
    "import os\n",
    "import json\n",
    "import numpy as np\n",
    "import matplotlib.pyplot as plt\n",
    "from tqdm import tqdm\n",
    "from sklearn.model_selection import train_test_split\n",
    "\n",
    "import torch\n",
    "import torch.nn as nn\n",
    "import torch.nn.functional as F\n",
    "from torch import optim\n",
    "from torch.utils.data import Dataset, DataLoader"
   ]
  },
  {
   "cell_type": "code",
   "execution_count": 2,
   "metadata": {},
   "outputs": [],
   "source": [
    "EXPERIENCE_NUMBER = \"003\"\n",
    "\n",
    "USE_UNREAL_IMAGE = False\n",
    "USE_WORD_IMAGE = False\n",
    "USE_UNIQUE_NOUN_BOKE = True\n",
    "USE_CAPTION = True\n",
    "USE_MISS_BOKE = True\n",
    "\n",
    "EPOCH = 25\n",
    "BATCH_SIZE = 256\n",
    "\n",
    "RESULT_DIR = f\"../../results/Boke_Judge/{EXPERIENCE_NUMBER}/\"\n",
    "if not os.path.exists(\"../../results/Boke_Judge/\"):\n",
    "    os.mkdir(\"../../results/Boke_Judge/\")\n",
    "if not os.path.exists(RESULT_DIR):\n",
    "    os.mkdir(RESULT_DIR)\n",
    "\n",
    "DATA_DIR = \"../../datas/boke_data_assemble/\"\n",
    "CLIP_IMAGE_FEATURE_DIR = \"../../datas/encoded/clip_image_feature/\"\n",
    "CLIP_SENTENCE_FEATURE_DIR = \"../../datas/encoded/clip_sentence_feature/\"\n",
    "LUKE_SENTENCE_FEATURE_DIR = \"../../datas/encoded/luke_sentence_feature/\""
   ]
  },
  {
   "cell_type": "markdown",
   "metadata": {},
   "source": [
    "# データセットの作成(初回のみ実行)"
   ]
  },
  {
   "cell_type": "code",
   "execution_count": 3,
   "metadata": {},
   "outputs": [
    {
     "name": "stderr",
     "output_type": "stream",
     "text": [
      "100%|██████████| 602566/602566 [01:59<00:00, 5046.40it/s]\n"
     ]
    },
    {
     "data": {
      "text/plain": [
       "(2183708, 230990)"
      ]
     },
     "execution_count": 3,
     "metadata": {},
     "output_type": "execute_result"
    }
   ],
   "source": [
    "boke_datas = list()\n",
    "caption_datas = list()\n",
    "\n",
    "max_num_boke = 0\n",
    "for JP in tqdm(os.listdir(DATA_DIR)):\n",
    "    N = int(JP.split(\".\")[0])\n",
    "\n",
    "    with open(f\"{DATA_DIR}{JP}\", \"r\") as f:\n",
    "        a = json.load(f)\n",
    "\n",
    "    image_information = a[\"image_infomation\"]\n",
    "    is_photographic_probability = image_information[\"is_photographic_probability\"]\n",
    "    ja_caption = image_information[\"ja_caption\"]\n",
    "    ocr = image_information[\"ocr\"]\n",
    "\n",
    "    # 現実写真以外を除去\n",
    "    if not USE_UNREAL_IMAGE:\n",
    "        if is_photographic_probability < 0.8: continue\n",
    "        \n",
    "    # 文字のある画像を除去\n",
    "    if not USE_WORD_IMAGE:\n",
    "        if len(ocr) != 0: continue\n",
    "\n",
    "    bokes = a[\"bokes\"]\n",
    "\n",
    "    max_num_boke = max(max_num_boke, len(a[\"bokes\"]))\n",
    "    for i, B in enumerate(bokes):\n",
    "\n",
    "        # 固有名詞を含む大喜利を除去\n",
    "        if not USE_UNIQUE_NOUN_BOKE:\n",
    "            if len(B[\"unique_nouns\"]) != 0: continue\n",
    "\n",
    "        boke_datas.append({\n",
    "            \"boke_number\": int(f\"1{N:07}{i:05}\"),\n",
    "            \"image_number\": int(f\"3{N:07}\")\n",
    "        })\n",
    "\n",
    "    caption_datas.append({\n",
    "        \"caption_number\": int(f\"2{N:07}\"),\n",
    "        \"image_number\": int(f\"3{N:07}\")\n",
    "    })\n",
    "\n",
    "len(boke_datas), len(caption_datas)"
   ]
  },
  {
   "cell_type": "code",
   "execution_count": 4,
   "metadata": {},
   "outputs": [],
   "source": [
    "train_boke_datas, test_boke_datas = train_test_split(boke_datas, test_size = 0.01)\n",
    "train_caption_datas, test_caption_datas = train_test_split(caption_datas, test_size = 0.01)\n",
    "\n",
    "with open(f\"{RESULT_DIR}train_boke_datas.json\", \"w\") as f:\n",
    "    json.dump(train_boke_datas, f)\n",
    "with open(f\"{RESULT_DIR}train_caption_datas.json\", \"w\") as f:\n",
    "    json.dump(train_caption_datas, f)\n",
    "\n",
    "with open(f\"{RESULT_DIR}test_boke_datas.json\", \"w\") as f:\n",
    "    json.dump(test_boke_datas, f)\n",
    "with open(f\"{RESULT_DIR}test_caption_datas.json\", \"w\") as f:\n",
    "    json.dump(test_caption_datas, f)"
   ]
  },
  {
   "cell_type": "markdown",
   "metadata": {},
   "source": [
    "# モデルの学習"
   ]
  },
  {
   "cell_type": "code",
   "execution_count": 5,
   "metadata": {},
   "outputs": [
    {
     "data": {
      "text/plain": [
       "(2161870, 228680, 21838, 2310)"
      ]
     },
     "execution_count": 5,
     "metadata": {},
     "output_type": "execute_result"
    }
   ],
   "source": [
    "with open(f\"{RESULT_DIR}train_boke_datas.json\", \"r\") as f:\n",
    "    train_boke_datas = json.load(f)\n",
    "with open(f\"{RESULT_DIR}train_caption_datas.json\", \"r\") as f:\n",
    "    train_caption_datas = json.load(f)\n",
    "\n",
    "with open(f\"{RESULT_DIR}test_boke_datas.json\", \"r\") as f:\n",
    "    test_boke_datas = json.load(f)\n",
    "with open(f\"{RESULT_DIR}test_caption_datas.json\", \"r\") as f:\n",
    "    test_caption_datas = json.load(f)\n",
    "\n",
    "len(train_boke_datas), len(train_caption_datas), len(test_boke_datas), len(test_caption_datas)"
   ]
  },
  {
   "cell_type": "code",
   "execution_count": 6,
   "metadata": {},
   "outputs": [
    {
     "name": "stderr",
     "output_type": "stream",
     "text": [
      "2161870it [00:02, 848080.01it/s]\n"
     ]
    },
    {
     "name": "stdout",
     "output_type": "stream",
     "text": [
      "num data: 4552420\n"
     ]
    },
    {
     "name": "stderr",
     "output_type": "stream",
     "text": [
      "21838it [00:00, 57706.02it/s]"
     ]
    },
    {
     "name": "stdout",
     "output_type": "stream",
     "text": [
      "num data: 45986\n"
     ]
    },
    {
     "name": "stderr",
     "output_type": "stream",
     "text": [
      "\n"
     ]
    },
    {
     "data": {
      "text/plain": [
       "((256, 512), (256, 512), (256, 768), (256,))"
      ]
     },
     "execution_count": 6,
     "metadata": {},
     "output_type": "execute_result"
    }
   ],
   "source": [
    "def make_dataloader(boke_datas, caption_datas):\n",
    "    class LoadNpyDataset(Dataset):\n",
    "        def __init__(self, image_file_numbers, sentence_file_numbers, teacher_signals):\n",
    "            if len(image_file_numbers) != len(sentence_file_numbers) and len(sentence_file_numbers) != len(teacher_signals):\n",
    "                raise ValueError(\"データリストの長さが一致しません\")\n",
    "\n",
    "            self.image_file_numbers = image_file_numbers\n",
    "            self.sentence_file_numbers = sentence_file_numbers\n",
    "            self.teacher_signals = teacher_signals\n",
    "\n",
    "        def __len__(self):\n",
    "            return len(self.teacher_signals)\n",
    "\n",
    "        def __getitem__(self, idx):\n",
    "            clip_image_feature = np.load(f\"{CLIP_IMAGE_FEATURE_DIR}{self.image_file_numbers[idx]}.npy\")\n",
    "            clip_sentence_feature = np.load(f\"{CLIP_SENTENCE_FEATURE_DIR}{self.sentence_file_numbers[idx]}.npy\")\n",
    "            luke_sentence_feature = np.load(f\"{LUKE_SENTENCE_FEATURE_DIR}{self.sentence_file_numbers[idx]}.npy\")\n",
    "            teacher_signal = self.teacher_signals[idx]\n",
    "\n",
    "            return clip_image_feature, clip_sentence_feature, luke_sentence_feature, teacher_signal\n",
    "\n",
    "    def collate_fn_tf(batch):\n",
    "        clip_image_features = np.array([B[0] for B in batch])\n",
    "        clip_sentence_features = np.array([B[1] for B in batch])\n",
    "        luke_sentence_features = np.array([B[2] for B in batch])\n",
    "        teacher_signals = np.array([float(B[3]) for B in batch])\n",
    "        \n",
    "        return clip_image_features, clip_sentence_features, luke_sentence_features, teacher_signals\n",
    "\n",
    "    #\n",
    "    image_file_numbers = list()\n",
    "    sentence_file_numbers = list()\n",
    "    teacher_signals = list()\n",
    "\n",
    "    for D in boke_datas:\n",
    "        image_file_numbers.append(D[\"image_number\"])\n",
    "        sentence_file_numbers.append(D[\"boke_number\"])\n",
    "        teacher_signals.append(1)\n",
    "\n",
    "    if USE_CAPTION:\n",
    "        for D in caption_datas:\n",
    "            image_file_numbers.append(D[\"image_number\"])\n",
    "            sentence_file_numbers.append(D[\"caption_number\"])\n",
    "            teacher_signals.append(0)\n",
    "    \n",
    "    if USE_MISS_BOKE:\n",
    "        miss_boke_datas = list()\n",
    "        tmp_idx = np.random.randint(0, len(boke_datas), size = (len(boke_datas), ))\n",
    "        for i, idx in tqdm(enumerate(tmp_idx)):\n",
    "            tmp_boke_number = boke_datas[idx][\"boke_number\"]\n",
    "            while str(tmp_boke_number)[:7] == str(boke_datas[i][\"boke_number\"])[:7]:\n",
    "                idx = np.random.randint(0, len(boke_datas))\n",
    "                tmp_boke_number = boke_datas[idx][\"boke_number\"]\n",
    "\n",
    "            miss_boke_datas.append({\n",
    "                \"boke_number\": tmp_boke_number,\n",
    "                \"image_number\": boke_datas[i][\"image_number\"]\n",
    "            })\n",
    "        \n",
    "        for D in miss_boke_datas:\n",
    "            image_file_numbers.append(D[\"image_number\"])\n",
    "            sentence_file_numbers.append(D[\"boke_number\"])\n",
    "            teacher_signals.append(0)\n",
    "    \n",
    "    print(f\"num data: {len(teacher_signals)}\")\n",
    "\n",
    "    tmp = list(zip(image_file_numbers, sentence_file_numbers, teacher_signals))\n",
    "    np.random.shuffle(tmp)\n",
    "    image_file_numbers, sentence_file_numbers, teacher_signals = zip(*tmp)\n",
    "\n",
    "    dataset = LoadNpyDataset(image_file_numbers, sentence_file_numbers, teacher_signals)\n",
    "    dataloader = DataLoader(\n",
    "        dataset, \n",
    "        batch_size = BATCH_SIZE, \n",
    "        num_workers = 10, \n",
    "        collate_fn = collate_fn_tf\n",
    "    )\n",
    "\n",
    "    return dataloader\n",
    "\n",
    "train_dataloader = make_dataloader(train_boke_datas, train_caption_datas)\n",
    "test_dataloader = make_dataloader(test_boke_datas, test_caption_datas)\n",
    "\n",
    "#\n",
    "CIF, CSF, LSF, TS = next(iter(train_dataloader))\n",
    "CIF.shape, CSF.shape, LSF.shape, TS.shape"
   ]
  },
  {
   "cell_type": "code",
   "execution_count": 19,
   "metadata": {},
   "outputs": [
    {
     "name": "stdout",
     "output_type": "stream",
     "text": [
      "CustomModel(\n",
      "  (fc1): Linear(in_features=1792, out_features=1024, bias=True)\n",
      "  (fc2): Linear(in_features=1024, out_features=1024, bias=True)\n",
      "  (fc3): Linear(in_features=1024, out_features=1024, bias=True)\n",
      "  (output_layer): Linear(in_features=1024, out_features=1, bias=True)\n",
      ")\n"
     ]
    }
   ],
   "source": [
    "class CustomModel(nn.Module):\n",
    "    def __init__(self, cif_dim, csf_dim, lsf_dim):\n",
    "        super(CustomModel, self).__init__()\n",
    "        # 入力次元を設定\n",
    "        self.cif_dim = cif_dim\n",
    "        self.csf_dim = csf_dim\n",
    "        self.lsf_dim = lsf_dim\n",
    "        \n",
    "        # 全結合層\n",
    "        self.fc1 = nn.Linear(cif_dim + csf_dim + lsf_dim, 1024)\n",
    "        self.fc2 = nn.Linear(1024, 1024)\n",
    "        self.fc3 = nn.Linear(1024, 1024)\n",
    "        self.output_layer = nn.Linear(1024, 1)\n",
    "        \n",
    "    def forward(self, cif, csf, lsf):\n",
    "        # 入力を結合\n",
    "        x = torch.cat([cif, csf, lsf], dim=1)\n",
    "        # 全結合層 + LeakyReLU\n",
    "        x = F.leaky_relu(self.fc1(x))\n",
    "        x = F.leaky_relu(self.fc2(x))\n",
    "        x = F.leaky_relu(self.fc3(x))\n",
    "        # 出力層 + シグモイド\n",
    "        output = torch.sigmoid(self.output_layer(x))\n",
    "        return output\n",
    "\n",
    "model = CustomModel(CIF.shape[1], CSF.shape[1], LSF.shape[1])\n",
    "print(model)"
   ]
  },
  {
   "cell_type": "code",
   "execution_count": 21,
   "metadata": {},
   "outputs": [
    {
     "name": "stderr",
     "output_type": "stream",
     "text": [
      "2161870it [00:02, 731693.60it/s]\n"
     ]
    },
    {
     "name": "stdout",
     "output_type": "stream",
     "text": [
      "num data: 4552420\n"
     ]
    },
    {
     "name": "stderr",
     "output_type": "stream",
     "text": [
      "Epoch 1/25: 100%|██████████| 17783/17783 [08:29<00:00, 34.89it/s, train_loss=0.595, train_accuracy=0.658]\n",
      "21838it [00:00, 305643.39it/s]\n"
     ]
    },
    {
     "name": "stdout",
     "output_type": "stream",
     "text": [
      "num data: 45986\n"
     ]
    },
    {
     "name": "stderr",
     "output_type": "stream",
     "text": [
      "Evaluating: 100%|██████████| 180/180 [00:02<00:00, 68.46it/s, test_loss=0.571, test_accuracy=0.692] \n"
     ]
    },
    {
     "name": "stdout",
     "output_type": "stream",
     "text": [
      "Epoch: 1/25, Train Loss: 0.5952, Train Accuracy: 0.6577, Test Loss: 0.5678, Test Accuracy: 0.6883\n"
     ]
    },
    {
     "name": "stderr",
     "output_type": "stream",
     "text": [
      "2161870it [00:03, 594721.09it/s]\n"
     ]
    },
    {
     "name": "stdout",
     "output_type": "stream",
     "text": [
      "num data: 4552420\n"
     ]
    },
    {
     "name": "stderr",
     "output_type": "stream",
     "text": [
      "Epoch 2/25:   2%|▏         | 381/17783 [00:12<07:49, 37.05it/s, train_loss=0.567, train_accuracy=0.692]"
     ]
    }
   ],
   "source": [
    "def train_step(model, optimizer, batch_data, batch_labels):\n",
    "    model.train()  # モデルを訓練モードに設定\n",
    "    optimizer.zero_grad()  # 勾配を初期化\n",
    "    outputs = model(*batch_data).float()  # モデルで予測を計算\n",
    "    loss = nn.BCELoss()(outputs, batch_labels.float())  # 損失関数（バイナリクロスエントロピー）\n",
    "    accuracy = ((outputs > 0.5).float() == batch_labels).float().mean()  # 精度計算\n",
    "    loss.backward()  # 勾配を計算\n",
    "    optimizer.step()  # パラメータ更新\n",
    "    return loss.item(), accuracy.item()\n",
    "\n",
    "def evaluate(model, batch_data, batch_labels):\n",
    "    model.eval()  # モデルを評価モードに設定\n",
    "    with torch.no_grad():  # 評価時に勾配計算を行わない\n",
    "        outputs = model(*batch_data)\n",
    "        loss = nn.BCELoss()(outputs, batch_labels)\n",
    "        accuracy = ((outputs > 0.5).float() == batch_labels).float().mean()\n",
    "    return loss.item(), accuracy.item()\n",
    "\n",
    "train_loss_history = []\n",
    "train_accuracy_history = []\n",
    "test_loss_history = []\n",
    "test_accuracy_history = []\n",
    "\n",
    "model = CustomModel(CIF.shape[1], CSF.shape[1], LSF.shape[1])\n",
    "optimizer = optim.AdamW(model.parameters(), lr = 0.0001)\n",
    "\n",
    "# 訓練・評価ループ\n",
    "for epoch in range(EPOCH):\n",
    "    # 訓練\n",
    "    train_loss_obj = 0.0\n",
    "    train_accuracy_obj = 0.0\n",
    "    model.train()  # 訓練モード\n",
    "    train_dataloader = make_dataloader(train_boke_datas, train_caption_datas)\n",
    "    pb = tqdm(train_dataloader, desc = f\"Epoch {epoch+1}/{EPOCH}\")\n",
    "    \n",
    "    for CIF, CSF, LSF, TS in pb:\n",
    "        CIF, CSF, LSF, TS = torch.tensor(CIF), torch.tensor(CSF), torch.tensor(LSF), torch.tensor(TS)\n",
    "        batch_data = (CIF, CSF, LSF)  # 入力データ\n",
    "        batch_labels = TS.unsqueeze(1)  # 出力ラベル（shape: [batch_size, 1]）\n",
    "        \n",
    "        loss, accuracy = train_step(model, optimizer, batch_data, batch_labels)\n",
    "        train_loss_obj += loss\n",
    "        train_accuracy_obj += accuracy\n",
    "        pb.set_postfix({\"train_loss\": train_loss_obj / (pb.n + 1), \"train_accuracy\": train_accuracy_obj / (pb.n + 1)})\n",
    "\n",
    "    # 訓練後の損失と精度\n",
    "    train_loss = train_loss_obj / len(train_dataloader)\n",
    "    train_accuracy = train_accuracy_obj / len(train_dataloader)\n",
    "\n",
    "    # テスト\n",
    "    test_loss_obj = 0.0\n",
    "    test_accuracy_obj = 0.0\n",
    "    model.eval()  # 評価モード\n",
    "    test_dataloader = make_dataloader(test_boke_datas, test_caption_datas)\n",
    "    pb = tqdm(test_dataloader, desc = \"Evaluating\")\n",
    "\n",
    "    for CIF, CSF, LSF, TS in pb:\n",
    "        CIF, CSF, LSF, TS = torch.tensor(CIF).float(), torch.tensor(CSF).float(), torch.tensor(LSF).float(), torch.tensor(TS).float()\n",
    "        batch_data = (CIF, CSF, LSF)\n",
    "        batch_labels = TS.unsqueeze(1).float()\n",
    "        \n",
    "        loss, accuracy = evaluate(model, batch_data, batch_labels)\n",
    "        test_loss_obj += loss\n",
    "        test_accuracy_obj += accuracy\n",
    "        pb.set_postfix({\"test_loss\": test_loss_obj / (pb.n + 1), \"test_accuracy\": test_accuracy_obj / (pb.n + 1)})\n",
    "\n",
    "    # テスト後の損失と精度\n",
    "    test_loss = test_loss_obj / len(test_dataloader)\n",
    "    test_accuracy = test_accuracy_obj / len(test_dataloader)\n",
    "\n",
    "    # 結果表示\n",
    "    print(f\"Epoch: {epoch+1}/{EPOCH}, \"\n",
    "          f\"Train Loss: {train_loss:.4f}, Train Accuracy: {train_accuracy:.4f}, \"\n",
    "          f\"Test Loss: {test_loss:.4f}, Test Accuracy: {test_accuracy:.4f}\")\n",
    "\n",
    "    # 履歴の保存\n",
    "    train_loss_history.append(train_loss)\n",
    "    train_accuracy_history.append(train_accuracy)\n",
    "    test_loss_history.append(test_loss)\n",
    "    test_accuracy_history.append(test_accuracy)\n",
    "\n",
    "# 結果をJSONファイルに保存\n",
    "with open(f\"{RESULT_DIR}history.json\", \"w\") as f:\n",
    "    json.dump({\n",
    "        \"train_loss\": train_loss_history,\n",
    "        \"train_accuracy\": train_accuracy_history,\n",
    "        \"test_loss\": test_loss_history,\n",
    "        \"test_accuracy\": test_accuracy_history\n",
    "    }, f)\n"
   ]
  },
  {
   "cell_type": "code",
   "execution_count": 18,
   "metadata": {},
   "outputs": [
    {
     "data": {
      "image/png": "[encoded data removed]",
      "text/plain": [
       "<Figure size 720x360 with 2 Axes>"
      ]
     },
     "metadata": {
      "needs_background": "light"
     },
     "output_type": "display_data"
    }
   ],
   "source": [
    "fig = plt.figure(figsize = (10, 5))\n",
    "ax = fig.add_subplot(1, 2, 1)\n",
    "ax.plot(train_loss_history, label = \"train\")\n",
    "ax.plot(test_loss_history, label = \"test\")\n",
    "ax.set_xlabel(\"epoch\")\n",
    "ax.set_ylabel(\"loss\")\n",
    "ax.legend()\n",
    "ax.grid()\n",
    "\n",
    "ax = fig.add_subplot(1, 2, 2)\n",
    "ax.plot(train_accuracy_history, label = \"train\")\n",
    "ax.plot(test_accuracy_history, label = \"test\")\n",
    "ax.set_xlabel(\"epoch\")\n",
    "ax.set_ylabel(\"accuracy\")\n",
    "ax.legend()\n",
    "ax.grid()"
   ]
  }
 ],
 "metadata": {
  "kernelspec": {
   "display_name": "Colab_20241111",
   "language": "python",
   "name": "python3"
  },
  "language_info": {
   "codemirror_mode": {
    "name": "ipython",
    "version": 3
   },
   "file_extension": ".py",
   "mimetype": "text/x-python",
   "name": "python",
   "nbconvert_exporter": "python",
   "pygments_lexer": "ipython3",
   "version": "3.10.12"
  }
 },
 "nbformat": 4,
 "nbformat_minor": 2
}
