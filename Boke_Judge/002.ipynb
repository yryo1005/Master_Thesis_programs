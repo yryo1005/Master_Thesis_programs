{
 "cells": [
  {
   "cell_type": "markdown",
   "metadata": {},
   "source": [
    "# 現実写真以外も含める、文字なし、固有名詞全部なし、キャプション、ほかの画像の大喜利"
   ]
  },
  {
   "cell_type": "code",
   "execution_count": 1,
   "metadata": {},
   "outputs": [],
   "source": [
    "import os\n",
    "import json\n",
    "import numpy as np\n",
    "from tqdm import tqdm\n",
    "from sklearn.model_selection import train_test_split\n",
    "\n",
    "import tensorflow as tf\n",
    "from tensorflow.keras import layers, models, losses, optimizers, metrics"
   ]
  },
  {
   "cell_type": "code",
   "execution_count": null,
   "metadata": {},
   "outputs": [],
   "source": [
    "EXPERIENCE_NUMBER = \"002\"\n",
    "\n",
    "USE_UNREAL_IMAGE = True\n",
    "USE_WORD_IMAGE = False\n",
    "USE_UNIQUE_NOUN_BOKE = False\n",
    "USE_CAPTION = True\n",
    "USE_MISS_BOKE = True\n",
    "\n",
    "EPOCH = 25\n",
    "BATCH_SIZE = 256\n",
    "\n",
    "RESULT_DIR = f\"../../results/Boke_Judge/{EXPERIENCE_NUMBER}/\"\n",
    "if not os.path.exists(\"../../results/Boke_Judge/\"):\n",
    "    os.mkdir(\"../../results/Boke_Judge/\")\n",
    "if not os.path.exists(RESULT_DIR):\n",
    "    os.mkdir(RESULT_DIR)\n",
    "\n",
    "DATA_DIR = \"../../datas/boke_data_assemble/\"\n",
    "CLIP_IMAGE_FEATURE_DIR = \"../../datas/encoded/clip_image_feature/\"\n",
    "CLIP_SENTENCE_FEATURE_DIR = \"../../datas/encoded/clip_sentence_feature/\"\n",
    "LUKE_SENTENCE_FEATURE_DIR = \"../../datas/encoded/luke_sentence_feature/\""
   ]
  },
  {
   "cell_type": "markdown",
   "metadata": {},
   "source": [
    "# データセットの作成(初回のみ実行)"
   ]
  },
  {
   "cell_type": "code",
   "execution_count": 3,
   "metadata": {},
   "outputs": [
    {
     "name": "stderr",
     "output_type": "stream",
     "text": [
<<<<<<< Updated upstream
      "100%|██████████| 602566/602566 [03:22<00:00, 2968.43it/s]\n"
=======
      "100%|██████████| 602566/602566 [08:55<00:00, 1124.41it/s]\n"
>>>>>>> Stashed changes
     ]
    },
    {
     "data": {
      "text/plain": [
       "(2811389, 289837)"
      ]
     },
     "execution_count": 3,
     "metadata": {},
     "output_type": "execute_result"
    }
   ],
   "source": [
    "boke_datas = list()\n",
    "caption_datas = list()\n",
    "\n",
    "max_num_boke = 0\n",
    "for JP in tqdm(os.listdir(DATA_DIR)):\n",
    "    N = int(JP.split(\".\")[0])\n",
    "\n",
    "    with open(f\"{DATA_DIR}{JP}\", \"r\") as f:\n",
    "        a = json.load(f)\n",
    "\n",
    "    image_information = a[\"image_infomation\"]\n",
    "    is_photographic_probability = image_information[\"is_photographic_probability\"]\n",
    "    ja_caption = image_information[\"ja_caption\"]\n",
    "    ocr = image_information[\"ocr\"]\n",
    "\n",
    "    # 現実写真以外を除去\n",
    "    if not USE_UNREAL_IMAGE:\n",
    "        if is_photographic_probability < 0.8: continue\n",
    "        \n",
    "    # 文字のある画像を除去\n",
    "    if not USE_WORD_IMAGE:\n",
    "        if len(ocr) != 0: continue\n",
    "\n",
    "    bokes = a[\"bokes\"]\n",
    "\n",
    "    max_num_boke = max(max_num_boke, len(a[\"bokes\"]))\n",
    "    for i, B in enumerate(bokes):\n",
    "\n",
    "        # 固有名詞を含む大喜利を除去\n",
    "        if not USE_UNIQUE_NOUN_BOKE:\n",
    "            if len(B[\"unique_nouns\"]) != 0: continue\n",
    "\n",
    "        boke_datas.append({\n",
    "            \"boke_number\": int(f\"1{N:07}{i:05}\"),\n",
    "            \"image_number\": int(f\"3{N:07}\")\n",
    "        })\n",
    "\n",
    "    caption_datas.append({\n",
    "        \"caption_number\": int(f\"2{N:07}\"),\n",
    "        \"image_number\": int(f\"3{N:07}\")\n",
    "    })\n",
    "\n",
    "len(boke_datas), len(caption_datas)"
   ]
  },
  {
   "cell_type": "code",
   "execution_count": 4,
   "metadata": {},
   "outputs": [],
   "source": [
    "train_boke_datas, test_boke_datas = train_test_split(boke_datas, test_size = 0.01)\n",
    "train_caption_datas, test_caption_datas = train_test_split(caption_datas, test_size = 0.01)\n",
    "\n",
    "with open(f\"{RESULT_DIR}train_boke_datas.json\", \"w\") as f:\n",
    "    json.dump(train_boke_datas, f)\n",
    "with open(f\"{RESULT_DIR}train_caption_datas.json\", \"w\") as f:\n",
    "    json.dump(train_caption_datas, f)\n",
    "\n",
    "with open(f\"{RESULT_DIR}test_boke_datas.json\", \"w\") as f:\n",
    "    json.dump(test_boke_datas, f)\n",
    "with open(f\"{RESULT_DIR}test_caption_datas.json\", \"w\") as f:\n",
    "    json.dump(test_caption_datas, f)"
   ]
  },
  {
   "cell_type": "markdown",
   "metadata": {},
   "source": [
    "# モデルの学習"
   ]
  },
  {
   "cell_type": "code",
   "execution_count": 5,
   "metadata": {},
   "outputs": [
    {
     "data": {
      "text/plain": [
       "(2783275, 286938, 28114, 2899)"
      ]
     },
     "execution_count": 5,
     "metadata": {},
     "output_type": "execute_result"
    }
   ],
   "source": [
    "with open(f\"{RESULT_DIR}train_boke_datas.json\", \"r\") as f:\n",
    "    train_boke_datas = json.load(f)\n",
    "with open(f\"{RESULT_DIR}train_caption_datas.json\", \"r\") as f:\n",
    "    train_caption_datas = json.load(f)\n",
    "\n",
    "with open(f\"{RESULT_DIR}test_boke_datas.json\", \"r\") as f:\n",
    "    test_boke_datas = json.load(f)\n",
    "with open(f\"{RESULT_DIR}test_caption_datas.json\", \"r\") as f:\n",
    "    test_caption_datas = json.load(f)\n",
    "\n",
    "len(train_boke_datas), len(train_caption_datas), len(test_boke_datas), len(test_caption_datas)"
   ]
  },
  {
   "cell_type": "code",
   "execution_count": 6,
   "metadata": {},
   "outputs": [
    {
     "name": "stderr",
     "output_type": "stream",
     "text": [
<<<<<<< Updated upstream
      "2161870it [00:01, 1096490.76it/s]\n"
=======
      "2783275it [00:04, 677171.88it/s]\n"
>>>>>>> Stashed changes
     ]
    },
    {
     "name": "stdout",
     "output_type": "stream",
     "text": [
      "num data: 5853488\n"
     ]
    },
    {
     "name": "stderr",
     "output_type": "stream",
     "text": [
<<<<<<< Updated upstream
      "21838it [00:00, 1642138.67it/s]\n"
=======
      "28114it [00:00, 49732.11it/s]"
>>>>>>> Stashed changes
     ]
    },
    {
     "name": "stdout",
     "output_type": "stream",
     "text": [
      "num data: 59127\n"
     ]
    },
    {
     "data": {
      "text/plain": [
       "(TensorShape([32, 512]),\n",
       " TensorShape([32, 512]),\n",
       " TensorShape([32, 768]),\n",
       " TensorShape([32]))"
      ]
     },
     "execution_count": 6,
     "metadata": {},
     "output_type": "execute_result"
    }
   ],
   "source": [
    "def make_dataset(boke_datas, caption_datas):\n",
    "\n",
    "    def make_dataset_with_directory(file_numbers, directory):\n",
    "        def make_feature_dataset(file_numbers):\n",
    "            dataset = tf.data.Dataset.from_tensor_slices((file_numbers))\n",
    "            dataset = dataset.map(load_data_wrapper, \n",
    "                                num_parallel_calls = tf.data.experimental.AUTOTUNE)\n",
    "            dataset = dataset.prefetch(tf.data.experimental.AUTOTUNE)\n",
    "            return dataset\n",
    "\n",
    "        def load_data_wrapper(file_number):\n",
    "            return tf.py_function(func = load_data, inp = [file_number], \n",
    "                                  Tout = tf.float32)\n",
    "\n",
    "        def load_data(file_number):\n",
    "            # file_number = file_number.numpy().decode(\"utf-8\")\n",
    "            feature_path = f\"{directory}{file_number}.npy\"\n",
    "            return np.load(feature_path)\n",
    "        \n",
    "        return make_feature_dataset(file_numbers)\n",
    "    \n",
    "    image_file_numbers = list()\n",
    "    sentence_file_numbers = list()\n",
    "    teacher_signals = list()\n",
    "\n",
    "    for D in boke_datas:\n",
    "        image_file_numbers.append(D[\"image_number\"])\n",
    "        sentence_file_numbers.append(D[\"boke_number\"])\n",
    "        teacher_signals.append(1)\n",
    "    \n",
    "    if USE_CAPTION:\n",
    "        for D in caption_datas:\n",
    "            image_file_numbers.append(D[\"image_number\"])\n",
    "            sentence_file_numbers.append(D[\"caption_number\"])\n",
    "            teacher_signals.append(0)\n",
    "    \n",
    "    if USE_MISS_BOKE:\n",
    "        miss_boke_datas = list()\n",
    "        tmp_idx = np.random.randint(0, len(boke_datas), size = (len(boke_datas), ))\n",
    "        for i, idx in tqdm(enumerate(tmp_idx)):\n",
    "            tmp_boke_number = boke_datas[idx][\"boke_number\"]\n",
    "            while str(tmp_boke_number)[:7] == str(boke_datas[i][\"boke_number\"])[:7]:\n",
    "                idx = np.random.randint(0, len(boke_datas))\n",
    "                tmp_boke_number = boke_datas[idx][\"boke_number\"]\n",
    "\n",
    "            miss_boke_datas.append({\n",
    "                \"boke_number\": tmp_boke_number,\n",
    "                \"image_number\": boke_datas[i][\"image_number\"]\n",
    "            })\n",
    "        \n",
    "        for D in miss_boke_datas:\n",
    "            image_file_numbers.append(D[\"image_number\"])\n",
    "            sentence_file_numbers.append(D[\"boke_number\"])\n",
    "            teacher_signals.append(0)\n",
    "    \n",
    "    print(f\"num data: {len(teacher_signals)}\")\n",
    "    \n",
    "    tmp = list(zip(image_file_numbers, sentence_file_numbers, teacher_signals))\n",
    "    np.random.shuffle(tmp)\n",
    "    image_file_numbers, sentence_file_numbers, teacher_signals = zip(*tmp)\n",
    "    image_file_numbers = tf.constant(image_file_numbers, dtype = tf.int64)\n",
    "    sentence_file_numbers = tf.constant(sentence_file_numbers, dtype = tf.int64)\n",
    "    teacher_signals = tf.constant(teacher_signals, dtype = tf.int32)\n",
    "\n",
    "    clip_image_feature_dataset = make_dataset_with_directory(image_file_numbers, CLIP_IMAGE_FEATURE_DIR)\n",
    "    clip_sentence_feature_dataset = make_dataset_with_directory(sentence_file_numbers, CLIP_SENTENCE_FEATURE_DIR)\n",
    "    luke_sentence_feature_dataset = make_dataset_with_directory(sentence_file_numbers, LUKE_SENTENCE_FEATURE_DIR)\n",
    "    teacher_signal_dataset = tf.data.Dataset.from_tensor_slices(teacher_signals)\n",
    "\n",
    "    dataset = tf.data.Dataset.zip( ((clip_image_feature_dataset, clip_sentence_feature_dataset, luke_sentence_feature_dataset), teacher_signal_dataset) )\n",
    "    return dataset\n",
    "\n",
    "train_dataset = make_dataset(train_boke_datas, train_caption_datas)\n",
    "test_dataset = make_dataset(test_boke_datas, test_caption_datas)\n",
    "\n",
    "(CIF, CSF, LSF), TS = next(iter(train_dataset.batch(32)))\n",
    "CIF.shape, CSF.shape, LSF.shape, TS.shape"
   ]
  },
  {
   "cell_type": "code",
   "execution_count": 7,
   "metadata": {},
   "outputs": [
    {
     "data": {
      "text/html": [
       "<pre style=\"white-space:pre;overflow-x:auto;line-height:normal;font-family:Menlo,'DejaVu Sans Mono',consolas,'Courier New',monospace\"><span style=\"font-weight: bold\">Model: \"functional\"</span>\n",
       "</pre>\n"
      ],
      "text/plain": [
       "\u001b[1mModel: \"functional\"\u001b[0m\n"
      ]
     },
     "metadata": {},
     "output_type": "display_data"
    },
    {
     "data": {
      "text/html": [
       "<pre style=\"white-space:pre;overflow-x:auto;line-height:normal;font-family:Menlo,'DejaVu Sans Mono',consolas,'Courier New',monospace\">┏━━━━━━━━━━━━━━━━━━━━━┳━━━━━━━━━━━━━━━━━━━┳━━━━━━━━━━━━┳━━━━━━━━━━━━━━━━━━━┓\n",
       "┃<span style=\"font-weight: bold\"> Layer (type)        </span>┃<span style=\"font-weight: bold\"> Output Shape      </span>┃<span style=\"font-weight: bold\">    Param # </span>┃<span style=\"font-weight: bold\"> Connected to      </span>┃\n",
       "┡━━━━━━━━━━━━━━━━━━━━━╇━━━━━━━━━━━━━━━━━━━╇━━━━━━━━━━━━╇━━━━━━━━━━━━━━━━━━━┩\n",
       "│ input_layer         │ (<span style=\"color: #00d7ff; text-decoration-color: #00d7ff\">None</span>, <span style=\"color: #00af00; text-decoration-color: #00af00\">512</span>)       │          <span style=\"color: #00af00; text-decoration-color: #00af00\">0</span> │ -                 │\n",
       "│ (<span style=\"color: #0087ff; text-decoration-color: #0087ff\">InputLayer</span>)        │                   │            │                   │\n",
       "├─────────────────────┼───────────────────┼────────────┼───────────────────┤\n",
       "│ input_layer_1       │ (<span style=\"color: #00d7ff; text-decoration-color: #00d7ff\">None</span>, <span style=\"color: #00af00; text-decoration-color: #00af00\">512</span>)       │          <span style=\"color: #00af00; text-decoration-color: #00af00\">0</span> │ -                 │\n",
       "│ (<span style=\"color: #0087ff; text-decoration-color: #0087ff\">InputLayer</span>)        │                   │            │                   │\n",
       "├─────────────────────┼───────────────────┼────────────┼───────────────────┤\n",
       "│ input_layer_2       │ (<span style=\"color: #00d7ff; text-decoration-color: #00d7ff\">None</span>, <span style=\"color: #00af00; text-decoration-color: #00af00\">768</span>)       │          <span style=\"color: #00af00; text-decoration-color: #00af00\">0</span> │ -                 │\n",
       "│ (<span style=\"color: #0087ff; text-decoration-color: #0087ff\">InputLayer</span>)        │                   │            │                   │\n",
       "├─────────────────────┼───────────────────┼────────────┼───────────────────┤\n",
       "│ concatenate         │ (<span style=\"color: #00d7ff; text-decoration-color: #00d7ff\">None</span>, <span style=\"color: #00af00; text-decoration-color: #00af00\">1792</span>)      │          <span style=\"color: #00af00; text-decoration-color: #00af00\">0</span> │ input_layer[<span style=\"color: #00af00; text-decoration-color: #00af00\">0</span>][<span style=\"color: #00af00; text-decoration-color: #00af00\">0</span>… │\n",
       "│ (<span style=\"color: #0087ff; text-decoration-color: #0087ff\">Concatenate</span>)       │                   │            │ input_layer_1[<span style=\"color: #00af00; text-decoration-color: #00af00\">0</span>]… │\n",
       "│                     │                   │            │ input_layer_2[<span style=\"color: #00af00; text-decoration-color: #00af00\">0</span>]… │\n",
       "├─────────────────────┼───────────────────┼────────────┼───────────────────┤\n",
       "│ dense (<span style=\"color: #0087ff; text-decoration-color: #0087ff\">Dense</span>)       │ (<span style=\"color: #00d7ff; text-decoration-color: #00d7ff\">None</span>, <span style=\"color: #00af00; text-decoration-color: #00af00\">1024</span>)      │  <span style=\"color: #00af00; text-decoration-color: #00af00\">1,836,032</span> │ concatenate[<span style=\"color: #00af00; text-decoration-color: #00af00\">0</span>][<span style=\"color: #00af00; text-decoration-color: #00af00\">0</span>] │\n",
       "├─────────────────────┼───────────────────┼────────────┼───────────────────┤\n",
       "│ leaky_re_lu         │ (<span style=\"color: #00d7ff; text-decoration-color: #00d7ff\">None</span>, <span style=\"color: #00af00; text-decoration-color: #00af00\">1024</span>)      │          <span style=\"color: #00af00; text-decoration-color: #00af00\">0</span> │ dense[<span style=\"color: #00af00; text-decoration-color: #00af00\">0</span>][<span style=\"color: #00af00; text-decoration-color: #00af00\">0</span>]       │\n",
       "│ (<span style=\"color: #0087ff; text-decoration-color: #0087ff\">LeakyReLU</span>)         │                   │            │                   │\n",
       "├─────────────────────┼───────────────────┼────────────┼───────────────────┤\n",
       "│ dense_1 (<span style=\"color: #0087ff; text-decoration-color: #0087ff\">Dense</span>)     │ (<span style=\"color: #00d7ff; text-decoration-color: #00d7ff\">None</span>, <span style=\"color: #00af00; text-decoration-color: #00af00\">1024</span>)      │  <span style=\"color: #00af00; text-decoration-color: #00af00\">1,049,600</span> │ leaky_re_lu[<span style=\"color: #00af00; text-decoration-color: #00af00\">0</span>][<span style=\"color: #00af00; text-decoration-color: #00af00\">0</span>] │\n",
       "├─────────────────────┼───────────────────┼────────────┼───────────────────┤\n",
       "│ leaky_re_lu_1       │ (<span style=\"color: #00d7ff; text-decoration-color: #00d7ff\">None</span>, <span style=\"color: #00af00; text-decoration-color: #00af00\">1024</span>)      │          <span style=\"color: #00af00; text-decoration-color: #00af00\">0</span> │ dense_1[<span style=\"color: #00af00; text-decoration-color: #00af00\">0</span>][<span style=\"color: #00af00; text-decoration-color: #00af00\">0</span>]     │\n",
       "│ (<span style=\"color: #0087ff; text-decoration-color: #0087ff\">LeakyReLU</span>)         │                   │            │                   │\n",
       "├─────────────────────┼───────────────────┼────────────┼───────────────────┤\n",
       "│ dense_2 (<span style=\"color: #0087ff; text-decoration-color: #0087ff\">Dense</span>)     │ (<span style=\"color: #00d7ff; text-decoration-color: #00d7ff\">None</span>, <span style=\"color: #00af00; text-decoration-color: #00af00\">1</span>)         │      <span style=\"color: #00af00; text-decoration-color: #00af00\">1,025</span> │ leaky_re_lu_1[<span style=\"color: #00af00; text-decoration-color: #00af00\">0</span>]… │\n",
       "└─────────────────────┴───────────────────┴────────────┴───────────────────┘\n",
       "</pre>\n"
      ],
      "text/plain": [
       "┏━━━━━━━━━━━━━━━━━━━━━┳━━━━━━━━━━━━━━━━━━━┳━━━━━━━━━━━━┳━━━━━━━━━━━━━━━━━━━┓\n",
       "┃\u001b[1m \u001b[0m\u001b[1mLayer (type)       \u001b[0m\u001b[1m \u001b[0m┃\u001b[1m \u001b[0m\u001b[1mOutput Shape     \u001b[0m\u001b[1m \u001b[0m┃\u001b[1m \u001b[0m\u001b[1m   Param #\u001b[0m\u001b[1m \u001b[0m┃\u001b[1m \u001b[0m\u001b[1mConnected to     \u001b[0m\u001b[1m \u001b[0m┃\n",
       "┡━━━━━━━━━━━━━━━━━━━━━╇━━━━━━━━━━━━━━━━━━━╇━━━━━━━━━━━━╇━━━━━━━━━━━━━━━━━━━┩\n",
       "│ input_layer         │ (\u001b[38;5;45mNone\u001b[0m, \u001b[38;5;34m512\u001b[0m)       │          \u001b[38;5;34m0\u001b[0m │ -                 │\n",
       "│ (\u001b[38;5;33mInputLayer\u001b[0m)        │                   │            │                   │\n",
       "├─────────────────────┼───────────────────┼────────────┼───────────────────┤\n",
       "│ input_layer_1       │ (\u001b[38;5;45mNone\u001b[0m, \u001b[38;5;34m512\u001b[0m)       │          \u001b[38;5;34m0\u001b[0m │ -                 │\n",
       "│ (\u001b[38;5;33mInputLayer\u001b[0m)        │                   │            │                   │\n",
       "├─────────────────────┼───────────────────┼────────────┼───────────────────┤\n",
       "│ input_layer_2       │ (\u001b[38;5;45mNone\u001b[0m, \u001b[38;5;34m768\u001b[0m)       │          \u001b[38;5;34m0\u001b[0m │ -                 │\n",
       "│ (\u001b[38;5;33mInputLayer\u001b[0m)        │                   │            │                   │\n",
       "├─────────────────────┼───────────────────┼────────────┼───────────────────┤\n",
       "│ concatenate         │ (\u001b[38;5;45mNone\u001b[0m, \u001b[38;5;34m1792\u001b[0m)      │          \u001b[38;5;34m0\u001b[0m │ input_layer[\u001b[38;5;34m0\u001b[0m][\u001b[38;5;34m0\u001b[0m… │\n",
       "│ (\u001b[38;5;33mConcatenate\u001b[0m)       │                   │            │ input_layer_1[\u001b[38;5;34m0\u001b[0m]… │\n",
       "│                     │                   │            │ input_layer_2[\u001b[38;5;34m0\u001b[0m]… │\n",
       "├─────────────────────┼───────────────────┼────────────┼───────────────────┤\n",
       "│ dense (\u001b[38;5;33mDense\u001b[0m)       │ (\u001b[38;5;45mNone\u001b[0m, \u001b[38;5;34m1024\u001b[0m)      │  \u001b[38;5;34m1,836,032\u001b[0m │ concatenate[\u001b[38;5;34m0\u001b[0m][\u001b[38;5;34m0\u001b[0m] │\n",
       "├─────────────────────┼───────────────────┼────────────┼───────────────────┤\n",
       "│ leaky_re_lu         │ (\u001b[38;5;45mNone\u001b[0m, \u001b[38;5;34m1024\u001b[0m)      │          \u001b[38;5;34m0\u001b[0m │ dense[\u001b[38;5;34m0\u001b[0m][\u001b[38;5;34m0\u001b[0m]       │\n",
       "│ (\u001b[38;5;33mLeakyReLU\u001b[0m)         │                   │            │                   │\n",
       "├─────────────────────┼───────────────────┼────────────┼───────────────────┤\n",
       "│ dense_1 (\u001b[38;5;33mDense\u001b[0m)     │ (\u001b[38;5;45mNone\u001b[0m, \u001b[38;5;34m1024\u001b[0m)      │  \u001b[38;5;34m1,049,600\u001b[0m │ leaky_re_lu[\u001b[38;5;34m0\u001b[0m][\u001b[38;5;34m0\u001b[0m] │\n",
       "├─────────────────────┼───────────────────┼────────────┼───────────────────┤\n",
       "│ leaky_re_lu_1       │ (\u001b[38;5;45mNone\u001b[0m, \u001b[38;5;34m1024\u001b[0m)      │          \u001b[38;5;34m0\u001b[0m │ dense_1[\u001b[38;5;34m0\u001b[0m][\u001b[38;5;34m0\u001b[0m]     │\n",
       "│ (\u001b[38;5;33mLeakyReLU\u001b[0m)         │                   │            │                   │\n",
       "├─────────────────────┼───────────────────┼────────────┼───────────────────┤\n",
       "│ dense_2 (\u001b[38;5;33mDense\u001b[0m)     │ (\u001b[38;5;45mNone\u001b[0m, \u001b[38;5;34m1\u001b[0m)         │      \u001b[38;5;34m1,025\u001b[0m │ leaky_re_lu_1[\u001b[38;5;34m0\u001b[0m]… │\n",
       "└─────────────────────┴───────────────────┴────────────┴───────────────────┘\n"
      ]
     },
     "metadata": {},
     "output_type": "display_data"
    },
    {
     "data": {
      "text/html": [
       "<pre style=\"white-space:pre;overflow-x:auto;line-height:normal;font-family:Menlo,'DejaVu Sans Mono',consolas,'Courier New',monospace\"><span style=\"font-weight: bold\"> Total params: </span><span style=\"color: #00af00; text-decoration-color: #00af00\">2,886,657</span> (11.01 MB)\n",
       "</pre>\n"
      ],
      "text/plain": [
       "\u001b[1m Total params: \u001b[0m\u001b[38;5;34m2,886,657\u001b[0m (11.01 MB)\n"
      ]
     },
     "metadata": {},
     "output_type": "display_data"
    },
    {
     "data": {
      "text/html": [
       "<pre style=\"white-space:pre;overflow-x:auto;line-height:normal;font-family:Menlo,'DejaVu Sans Mono',consolas,'Courier New',monospace\"><span style=\"font-weight: bold\"> Trainable params: </span><span style=\"color: #00af00; text-decoration-color: #00af00\">2,886,657</span> (11.01 MB)\n",
       "</pre>\n"
      ],
      "text/plain": [
       "\u001b[1m Trainable params: \u001b[0m\u001b[38;5;34m2,886,657\u001b[0m (11.01 MB)\n"
      ]
     },
     "metadata": {},
     "output_type": "display_data"
    },
    {
     "data": {
      "text/html": [
       "<pre style=\"white-space:pre;overflow-x:auto;line-height:normal;font-family:Menlo,'DejaVu Sans Mono',consolas,'Courier New',monospace\"><span style=\"font-weight: bold\"> Non-trainable params: </span><span style=\"color: #00af00; text-decoration-color: #00af00\">0</span> (0.00 B)\n",
       "</pre>\n"
      ],
      "text/plain": [
       "\u001b[1m Non-trainable params: \u001b[0m\u001b[38;5;34m0\u001b[0m (0.00 B)\n"
      ]
     },
     "metadata": {},
     "output_type": "display_data"
    }
   ],
   "source": [
    "def build_model():\n",
    "    # clip image feature\n",
    "    input1 = layers.Input(shape = CIF.shape[1:])\n",
    "    # clip sentence feature\n",
    "    input2 = layers.Input(shape = CSF.shape[1:])\n",
    "    # luke sentence feature\n",
    "    input3 = layers.Input(shape = LSF.shape[1:])\n",
    "\n",
    "    x = layers.Concatenate()([input1, input2, input3])\n",
    "    x = layers.Dense(units = 1024)(x)\n",
    "    x = layers.LeakyReLU()(x)\n",
    "    x = layers.Dense(units = 1024)(x)\n",
    "    x = layers.LeakyReLU()(x)\n",
    "    output = layers.Dense(units = 1, activation = \"sigmoid\")(x)\n",
    "\n",
    "    model = models.Model([input1, input2, input3], output)\n",
    "    model.compile(loss = losses.BinaryCrossentropy(),\n",
    "                  optimizer = optimizers.AdamW(),\n",
    "                  metrics = [metrics.BinaryAccuracy()])\n",
    "    return model\n",
    "\n",
    "model = build_model()\n",
    "model.summary()\n"
   ]
  },
  {
   "cell_type": "code",
   "execution_count": null,
   "metadata": {},
   "outputs": [
    {
     "name": "stderr",
     "output_type": "stream",
     "text": [
<<<<<<< Updated upstream
      "2161870it [00:01, 1097113.37it/s]\n"
=======
      "2783275it [00:04, 630289.95it/s]\n"
>>>>>>> Stashed changes
     ]
    },
    {
     "name": "stdout",
     "output_type": "stream",
     "text": [
      "num data: 5853488\n"
     ]
    },
    {
     "name": "stderr",
     "output_type": "stream",
     "text": [
<<<<<<< Updated upstream
      "  0%|          | 4/17783 [00:05<5:03:31,  1.02s/it, train_loss=4.88, train_accuracy=0.503] "
=======
      "Epoch 1/25: 100%|██████████| 22866/22866 [1:39:04<00:00,  3.85it/s, train_loss=0.595, train_accuracy=0.658]  \n",
      "28114it [00:00, 626786.84it/s]\n"
>>>>>>> Stashed changes
     ]
    },
    {
     "name": "stdout",
     "output_type": "stream",
     "text": [
<<<<<<< Updated upstream
      "WARNING:tensorflow:5 out of the last 5 calls to <function TensorFlowTrainer.make_train_function.<locals>.one_step_on_iterator at 0x7f80e6588e50> triggered tf.function retracing. Tracing is expensive and the excessive number of tracings could be due to (1) creating @tf.function repeatedly in a loop, (2) passing tensors with different shapes, (3) passing Python objects instead of tensors. For (1), please define your @tf.function outside of the loop. For (2), @tf.function has reduce_retracing=True option that can avoid unnecessary retracing. For (3), please refer to https://www.tensorflow.org/guide/function#controlling_retracing and https://www.tensorflow.org/api_docs/python/tf/function for  more details.\n"
=======
      "num data: 59127\n"
>>>>>>> Stashed changes
     ]
    },
    {
     "name": "stderr",
     "output_type": "stream",
     "text": [
<<<<<<< Updated upstream
      "  0%|          | 5/17783 [00:06<4:35:16,  1.08it/s, train_loss=5.04, train_accuracy=0.504]"
=======
      "Evaluating: 100%|██████████| 231/231 [00:06<00:00, 37.50it/s, test_loss=0.595, test_accuracy=0.714]\n"
>>>>>>> Stashed changes
     ]
    },
    {
     "name": "stdout",
     "output_type": "stream",
     "text": [
<<<<<<< Updated upstream
      "WARNING:tensorflow:6 out of the last 6 calls to <function TensorFlowTrainer.make_train_function.<locals>.one_step_on_iterator at 0x7f80e6588e50> triggered tf.function retracing. Tracing is expensive and the excessive number of tracings could be due to (1) creating @tf.function repeatedly in a loop, (2) passing tensors with different shapes, (3) passing Python objects instead of tensors. For (1), please define your @tf.function outside of the loop. For (2), @tf.function has reduce_retracing=True option that can avoid unnecessary retracing. For (3), please refer to https://www.tensorflow.org/guide/function#controlling_retracing and https://www.tensorflow.org/api_docs/python/tf/function for  more details.\n"
=======
      "Epoch: 1/25, Train Loss: 0.5948, Train Accuracy: 0.6584, Test Loss: 0.5720, Test Accuracy: 0.6858\n"
>>>>>>> Stashed changes
     ]
    },
    {
     "name": "stderr",
     "output_type": "stream",
     "text": [
<<<<<<< Updated upstream
      "  0%|          | 9/17783 [00:08<3:32:34,  1.39it/s, train_loss=4.93, train_accuracy=0.508]"
=======
      "2783275it [00:05, 547732.41it/s]\n"
     ]
    },
    {
     "name": "stdout",
     "output_type": "stream",
     "text": [
      "num data: 5853488\n"
     ]
    },
    {
     "name": "stderr",
     "output_type": "stream",
     "text": [
      "Epoch 2/25: 100%|██████████| 22866/22866 [1:45:27<00:00,  3.61it/s, train_loss=0.559, train_accuracy=0.695]   \n",
      "28114it [00:00, 150442.15it/s]\n"
     ]
    },
    {
     "name": "stdout",
     "output_type": "stream",
     "text": [
      "num data: 59127\n"
     ]
    },
    {
     "name": "stderr",
     "output_type": "stream",
     "text": [
      "Evaluating: 100%|██████████| 231/231 [00:06<00:00, 34.65it/s, test_loss=0.563, test_accuracy=0.701]\n"
     ]
    },
    {
     "name": "stdout",
     "output_type": "stream",
     "text": [
      "Epoch: 2/25, Train Loss: 0.5594, Train Accuracy: 0.6955, Test Loss: 0.5579, Test Accuracy: 0.6946\n"
     ]
    },
    {
     "name": "stderr",
     "output_type": "stream",
     "text": [
      "2783275it [00:38, 71529.50it/s] \n"
     ]
    },
    {
     "name": "stdout",
     "output_type": "stream",
     "text": [
      "num data: 5853488\n"
     ]
    },
    {
     "name": "stderr",
     "output_type": "stream",
     "text": [
      "Epoch 3/25: 100%|██████████| 22866/22866 [1:21:03<00:00,  4.70it/s, train_loss=0.543, train_accuracy=0.71] \n",
      "28114it [00:00, 586928.66it/s]\n"
     ]
    },
    {
     "name": "stdout",
     "output_type": "stream",
     "text": [
      "num data: 59127\n"
     ]
    },
    {
     "name": "stderr",
     "output_type": "stream",
     "text": [
      "Evaluating: 100%|██████████| 231/231 [01:06<00:00,  3.45it/s, test_loss=0.566, test_accuracy=0.732]\n"
     ]
    },
    {
     "name": "stdout",
     "output_type": "stream",
     "text": [
      "Epoch: 3/25, Train Loss: 0.5428, Train Accuracy: 0.7100, Test Loss: 0.5465, Test Accuracy: 0.7071\n"
     ]
    },
    {
     "name": "stderr",
     "output_type": "stream",
     "text": [
      "2783275it [00:04, 566532.76it/s]\n"
     ]
    },
    {
     "name": "stdout",
     "output_type": "stream",
     "text": [
      "num data: 5853488\n"
     ]
    },
    {
     "name": "stderr",
     "output_type": "stream",
     "text": [
      "Epoch 4/25: 100%|██████████| 22866/22866 [56:24<00:00,  6.76it/s, train_loss=0.53, train_accuracy=0.72]   \n",
      "28114it [00:00, 679622.97it/s]\n"
     ]
    },
    {
     "name": "stdout",
     "output_type": "stream",
     "text": [
      "num data: 59127\n"
     ]
    },
    {
     "name": "stderr",
     "output_type": "stream",
     "text": [
      "Evaluating: 100%|██████████| 231/231 [00:48<00:00,  4.72it/s, test_loss=0.546, test_accuracy=0.727]\n"
     ]
    },
    {
     "name": "stdout",
     "output_type": "stream",
     "text": [
      "Epoch: 4/25, Train Loss: 0.5305, Train Accuracy: 0.7199, Test Loss: 0.5367, Test Accuracy: 0.7149\n"
     ]
    },
    {
     "name": "stderr",
     "output_type": "stream",
     "text": [
      "2783275it [00:04, 571747.27it/s]\n"
     ]
    },
    {
     "name": "stdout",
     "output_type": "stream",
     "text": [
      "num data: 5853488\n"
     ]
    },
    {
     "name": "stderr",
     "output_type": "stream",
     "text": [
      "Epoch 5/25: 100%|██████████| 22866/22866 [1:19:21<00:00,  4.80it/s, train_loss=0.52, train_accuracy=0.728]  \n",
      "28114it [00:00, 898927.88it/s]\n"
     ]
    },
    {
     "name": "stdout",
     "output_type": "stream",
     "text": [
      "num data: 59127\n"
     ]
    },
    {
     "name": "stderr",
     "output_type": "stream",
     "text": [
      "Evaluating: 100%|██████████| 231/231 [01:04<00:00,  3.60it/s, test_loss=0.551, test_accuracy=0.742]\n"
     ]
    },
    {
     "name": "stdout",
     "output_type": "stream",
     "text": [
      "Epoch: 5/25, Train Loss: 0.5200, Train Accuracy: 0.7281, Test Loss: 0.5345, Test Accuracy: 0.7198\n"
     ]
    },
    {
     "name": "stderr",
     "output_type": "stream",
     "text": [
      "2783275it [00:04, 620200.41it/s]\n"
     ]
    },
    {
     "name": "stdout",
     "output_type": "stream",
     "text": [
      "num data: 5853488\n"
     ]
    },
    {
     "name": "stderr",
     "output_type": "stream",
     "text": [
      "Epoch 6/25:  61%|██████    | 13879/22866 [44:26<1:03:08,  2.37it/s, train_loss=0.51, train_accuracy=0.736] "
>>>>>>> Stashed changes
     ]
    }
   ],
   "source": [
    "model = build_model()\n",
    "\n",
    "train_loss_history = list()\n",
    "train_accuracy_history = list()\n",
    "test_loss_history = list()\n",
    "test_accuracy_history = list()\n",
    "\n",
    "for epoch in range(EPOCH):\n",
    "\n",
    "    # train\n",
    "    train_dataset = make_dataset(train_boke_datas, train_caption_datas)\n",
    "    train_loss_obj = metrics.Mean()\n",
    "    train_accuracy_obj = metrics.Mean()\n",
    "\n",
    "    pb = tqdm(train_dataset.batch(BATCH_SIZE))\n",
    "    for (CIF, CSF, LSF), TS in pb:\n",
    "        loss, accuracy = model.train_on_batch([CIF, CSF, LSF], TS)\n",
    "        train_loss_obj(loss)\n",
    "        train_accuracy_obj(accuracy)\n",
    "        pb.set_postfix({\"train_loss\": float(train_loss_obj.result()),\n",
    "                        \"train_accuracy\": float(train_accuracy_obj.result())})\n",
    "\n",
    "    # test\n",
    "    test_dataset = make_dataset(test_boke_datas, test_caption_datas)\n",
    "    test_loss_obj = metrics.Mean()\n",
    "    test_accuracy_obj = metrics.Mean()\n",
    "\n",
    "    pb = tqdm(test_dataset.batch(BATCH_SIZE))\n",
    "    for (CIF, CSF, LSF), TS in pb:\n",
    "        loss, accuracy = model.evaluate([CIF, CSF, LSF], TS,\n",
    "                                        verbose = False, batch_size = BATCH_SIZE)\n",
    "        train_loss_obj(loss)\n",
    "        train_accuracy_obj(accuracy)\n",
    "        pb.set_postfix({\"train_loss\": float(train_loss_obj.result()),\n",
    "                        \"train_accuracy\": float(train_accuracy_obj.result())})\n",
    "    \n",
    "    train_loss = float(train_loss_obj.result())\n",
    "    train_accuracy = float(train_accuracy_obj.result())\n",
    "    test_loss = float(test_loss_obj.result())\n",
    "    test_accuracy = float(test_accuracy_obj.result())\n",
    "\n",
    "    print(f\"epoch: {epoch}, train loss: {train_loss}, train accuracy: {train_accuracy}, test loss: {test_loss}, test accuracy: {test_accuracy}\")\n",
    "\n",
    "    train_loss_history.append(train_loss)\n",
    "    train_accuracy_history.append(train_accuracy)\n",
    "    test_loss_history.append(test_loss)\n",
    "    test_accuracy_history.append(test_accuracy)\n",
    "\n",
    "with open(f\"{RESULT_DIR}history.json\", \"w\") as f:\n",
    "    json.dump({\n",
    "        \"train_loss\": train_loss_history,\n",
    "        \"train_accuracy\": train_accuracy_history,\n",
    "        \"test_loss\": test_loss_history,\n",
    "        \"test_accuracy\": test_accuracy_history\n",
<<<<<<< Updated upstream
    "    }, f)"
=======
    "    }, f)\n"
   ]
  },
  {
   "cell_type": "code",
   "execution_count": null,
   "metadata": {},
   "outputs": [
    {
     "data": {
      "image/png": "iVBORw0KGgoAAAANSUhEUgAAAmwAAAE9CAYAAAC2rz7qAAAAOXRFWHRTb2Z0d2FyZQBNYXRwbG90bGliIHZlcnNpb24zLjguMCwgaHR0cHM6Ly9tYXRwbG90bGliLm9yZy81sbWrAAAACXBIWXMAAAsTAAALEwEAmpwYAABrpklEQVR4nO3deXhU5fXA8e/JDllJQkIg7PsOEnbRgMpiLWq1ijtqxda61KpVW7XW1tZfq1atS2utu4IriooCLgEURPYt7MgStoRAIAGyn98fdxJDCJJAJndmcj7PM08yd947c24uuZy8933PK6qKMcYYY4zxXUFuB2CMMcYYY36cJWzGGGOMMT7OEjZjjDHGGB9nCZsxxhhjjI+zhM0YY4wxxsdZwmaMMcYY4+NC3A6gviQmJmq7du1q3f7QoUNERkZ6LyAvs/jdZfG7qyL+xYsX71XV5m7HUx/qcg0LlPPnryx+d/l7/OAcw9q1a+t2/VLVgHgMGDBA6+Krr76qU3tfY/G7y+J3V0X8wCL1getPfTzqcg0LlPPnryx+d/l7/KrOMdT1+mW3RI0xxhhjfJwlbMYYY4wxPs4SNmOMqYGIjBWRdSKyUUTuqeH1f4rIMs9jvYjkebb3E5H5IrJaRFaIyKUNHrwxJuAEzKQDYxqjkpISsrKyKCwsrNN+sbGxrFmzxktR1b+IiAhSU1MJDQ1tkM8TkWDgGeAcIAtYKCLTVDWzoo2q3l6l/S1Af8/Tw8DVqrpBRFoCi0Vkhqrm1TWO451ffzt/1VWPv6HPrzH+yBI2Y/xYVlYW0dHRtGvXDhGp9X75+flER0d7MbL6o6rk5uaSlZVF+/btG+pjBwEbVXUzgIhMAc4HMo/T/jLgjwCqur5io6ruFJFsoDmQV9cgjnd+/en81aRq/C6dX2P8jiVsxvixwsLCOidr/kZESEhIICcnpyE/thWwvcrzLGBwTQ1FpC3QHviyhtcGAWHApuPsOwmYBJCcnExGRsZRr8fGxpKQkEBBQcFR28vKysjPz6/lofie6vGHhYWRl5d3zPH7qoKCAr+JtSYWv/uq/07XhiVsxvi5QE7WKvj4MU4A3lXVsqobRSQFeA24RlXLa9pRVZ8HngdIS0vT9PT0o15fs2YNMTExx+wXSD1sFSIiIujfv/9x9vAtGRkZVD9X/sTid9/JJJw26cAYc9Ly8vJ49tln67zfueeeS15eXv0HVH92AK2rPE/1bKvJBGBy1Q0iEgN8AvxBVb/1SoQNIIDPrzF+xxI2Y8xJO95/6KWlpT+63/Tp04mLi/NSVPViIdBZRNqLSBhOUjateiMR6QY0A+ZX2RYGTAVeVdV3Gyherwjg82uM32mUt0Q/z9zDquxS0t0OxBg/d88997Bp0yb69etHaGgoERERNGvWjLVr17J+/XouuOACtm/fTmFhIbfddhuTJk0CoF27dixatIiCggLGjRvH6aefzrx582jVqhUffvghTZo0cfW4VLVURG4GZgDBwIuqulpEHsKpTl6RvE0ApqiqVtn9EuAMIEFEJnq2TVTVZQ0Tff3x1vk1JpCoKjsPFLJiex6R4SGc0cU7q+U1yoTt37M3kX+whN+4HYgxfu6RRx5h1apVLFu2jIyMDH7yk5+watWqytl+L774IvHx8Rw5coSBAwdy0UUXkZCQcNR7bNiwgcmTJ/Pf//6XSy65hPfee48rr7zSjcM5iqpOB6ZX2/ZAtecP1rDf68DrXg2ugXjr/J5//vluHI4x9WLfoWKWZ+WxYvsBVmTlsTwrj70FxQCkd21uCVt9ahnXhPnZeW6HYUy9+tNHq8ncebBWbcvKyggODj5hux4tY/jjT3vWOoZBgwYdVZrhqaeeYurUqQBs376dDRs2HPMfevv27enXrx8AAwYMYMuWLbX+vMak6vmt7fk7ETu/xhyfqpJTUMT63QVk7jrA8iwnQdu+7wgAItCpeRRndkmib+tY+qTG0T3Fe5OBGmXClhIXwb5CpbxcCQry6dlnxviVyMjIyu8zMjL4/PPPmT9/Pk2bNiU9Pb3GAr/h4eGV3wcHB3PkyJEGidXUnZ1fE6gOHC5h3Z581u3JZ8OefNbtzmf9nnz2Hy6pbNMqrgl9W8dy5eC29EmNo1erGKIjGq7Yc6NM2FrGNqFMYe+hIpKiI9wOx5h6UZeekvoqCxEdHX3cemAHDhygWbNmNG3alLVr1/Ltt347WdInVD2/DVXWw86vCSSqyt6CYjZmF7App6Dy6/o9+ew5WFTZLjo8hC4tohnbK4WuyVF0aRFN1+RoEqLCf+Tdva9RJmwpsU6Stiuv0BI2Y05BQkICw4cPp1evXjRp0oTk5OTK18aOHcu///1vunfvTteuXRkyZIiLkZqTYefX+Kuc/CJWZOVVS84OceDIDz1mTcOC6dg8iuGdEumaHF2ZmKXERvhk7cdGmbC1jHNmoO06cIS+rePcDcYYP/fmm2/WuD08PJxPP/20xtcqxjElJiayatWqyu133nlnvcdnTo03zq8/r9JgfFNxaTmLt+5nzoYc5qzPYXWV8byJUWF0bB7FeX1S6Ng8ik5JzqNFTIRfDYtqlAlbRQ/bzry6LZhtjDHGGN+wLfcws9dnM3v9XuZv2suh4jJCgoTT2jbjrjFdGdw+nk5JUcQ1DXM71HrRKBO2+MgwQoOcHjZjjDHG+L7CkjK+3ZzLa5lFPLjwK7bkHgYgtVkTLujfijO6NGdYx4QGnQjQkBplwiYixEcIOw9YD5sxxhjjq7LzC/lqbTZfrMnm6417OVxcRlgQDO/cjInD2nFGl+a0T4z0yTFn9a1RJmwA8RHCrjzrYTPGGGN8haqSuesgX6zJ5ou12SzfngdAy9gIfnZaK87qnkxJ1mpGnzXI3UBd0IgTtiA2Ww+bMcYY4xpV5fu9h1i8dT+Lt+5n9vocdh0oRAT6psZxxzldOKt7Mt1Toit70TJ2ZboctTu8mrCJyFjgSZy1+F5Q1UdqaHMJ8CCgwHJVvdyz/RrgPk+zv6jqK/UZW3yEMH9XIaVl5YQEB9XnWxtjjDGmBoUlZazccYDFW/ezaMt+lmzbz75DzrJOMREhDOmQwO1nd2FktySaR7tb98zXeC1hE5Fg4BngHCALWCgi01Q1s0qbzsC9wHBV3S8iSZ7t8cAfgTScRG6xZ9/99RVffIRQrpCdX1RZ5sMYUzd5eXm8+eab3HTTTXXe94knnmDSpEk0bdrUC5GZ+mDn15yqnPwiFm/dx6It+1m8bT+rdhygpEwBaJ8YyahuSQxo24wBbZvRqXmUX5XZaGje7GEbBGxU1c0AIjIFOB+o2pd5A/BMRSKmqtme7WOAWaq6z7PvLGAsMLm+gkto4vyj2HXgiCVsxpykvLw8nn322ZP+D/3KK6+0/9B9mJ1fUxeqyqacAhZt2c/CLftZvHVf5UzOsJAg+qbGct3p7UlrG89pbeJcXznA33gzYWsFbK/yPAsYXK1NFwAR+QbntumDqvrZcfZtVf0DRGQSMAkgOTmZjIyMWgcXUV4ICLPmLSH/e/8byldQUFCn4/U1Fn/9iI2NPakipGVlZfVSvPSOO+5g06ZN9OnTh5EjR9K8eXPef/99iouLOe+88/jDH/7AoUOHuOaaa9i5cydlZWX87ne/Izs7m507d3LmmWeSkJDAJ598csLPKiwsrPyZ+8rPP9Ddc889bNq0iX79+nHOOeeQlJTE22+/TVFRERdeeCF/+tOfOHToEJdccglZWVmUlZVx//33s2fPHnbu3MnIkSNJTEzkq6++cvtQjBeoKsu25/Ht5n1OL9rW/eR51t6MjwxjQNtmXD64DQPaxtOrVQzhIcEuR+zf3M5UQoDOQDqQCswRkd613VlVnweeB0hLS9P09PRaf/DhWV8Bh2nWsj3pZ3asQ8i+ISMjg7ocr6+x+OvHmjVrTmpNyfpai/Kxxx5j3bp1rFixgpkzZ/Luu++yePFiVJXx48ezdOlScnJyaNOmDTNmzACcNShjY2N59tlnmT17NomJibX6rIiICPr37w/4zs8/0D3yyCOsWrWKZcuWVZ7f7777rvL8zpkzh5ycHFq2bFmZdFec38cff5yvvvqq1ufX+I+DhSW8vziLNxZsY0N2AQAdEiMZ3SOZtLbxpLVr1mhKbTQkbyZsO4DWVZ6nerZVlQUsUNUS4HsRWY+TwO3ASeKq7ptRn8E1DRWiwkPYZTNFTaD49B7YvbJWTZuUlUJwLX79W/SGccfMFarRzJkzmTlzZmVSVVBQwIYNGxgxYgR33HEHd999N+eddx4jRoyo1fuZaqqc31qfvxOx82vqYNWOA7z+7VY+XLaTIyVl9E2N5e8X9eGs7kl2e7MBeDNhWwh0FpH2OAnYBODyam0+AC4DXhKRRJxbpJuBTcBfRaSZp91onMkJ9SolNoKdVovNmHqhqtx7773ceOONx7y2ZMkSpk+fzn333cdZZ53FAw884EKE5lTY+W2cjhSX8fGKnby+YBvLt+cRERrE+X1bceWQtvROjXU7vEbFawmbqpaKyM3ADJzxaS+q6moReQhYpKrTPK+NFpFMoAy4S1VzAUTkzzhJH8BDFRMQ6lNKXBPrYTOBo5Y9JQBH6umWaHR0dOVYuDFjxnD//fdzxRVXEBUVxY4dOwgNDaW0tJT4+HiuvPJK4uLieOGFF47a126Z1VKV81tf5+9E7Pw2TqrK6p0HeX/JDt5dvJ2DhaV0bB7JH3/ag5+dlkpsk8Bc+snXeXUMm6pOB6ZX2/ZAle8V+K3nUX3fF4EXvRlfy9gIMnce8OZHGBPQEhISGD58OL169WLcuHFcfvnlDB06FICoqChef/11Nm7cyF133UVQUBChoaE899xzAEyaNImxY8fSsmVLG5Tuo+z8Nh55h4uZu2EvGetymLMhh5z8IkKChDG9WnDl4LYM6RBvY9Jc5vakA1elxDZhb0ExRaVlNnvFmJP05ptvHvX8tttuO+p5x44dGTNmzDH73XLLLdxyyy1ejc2cOju/gamsXFm54wAZ67KZvT6H5dvzKFeIbRLKiM6JnNmlOSO7JZFoY9N8RuNO2OIiANh9oJC2CZEuR2OMMcZ4T3m5MnfjXv69vJDb58xi/+ESRKBPahw3j+rMmV2a0691HMFWvNYnNeqErWWsUzB3Z54lbMYYYwLTvkPFvLNoO29+t42tuYeJCoXRvVpwZtfmjOjcnPjIMLdDNLXQqBO2ih62XQdspqgxxpjAoaos2ZbHG99u5eOVuyguLWdgu2b89pwuNN23nnNG9XM7RFNHjTphq+hhs5mixp+pasAPBnbmJzVOdn5NXRwqKuWDZTt4/dttrNl1kKjwEC5Na80VQ9rQrUUMABkZG1yO0pyMRp2wNQkLplnTUHZYLTbjpyIiIsjNzSUhISFg/1NXVXJzc4mIiHA7lAZn59fURkVv2vtLsvhw2U4KikrpnhLDwxf24vx+rYgKb9T/1QeMRn8WU2KbsMsSNuOnUlNTycrKIicnp077FRYW+tV/kBEREaSmprodRoM73vn1t/NXXfX4G+v5PVVb9h5i6tIdfLBsB1tzDxMeEsS5vVO4ckhbTmsTF7BJfmPV6BO2lnERZO23hM34p9DQUNq3b1/n/TIyMiqXGDI1E5GxwJM4hb9fUNVHqr3+T2Ck52lTIElV4zyvfQYMAb5W1fNONobjnV9/P3/+Hr+b9h0q5pMVO3l/6Q6WbstDBIZ1TODmkZ0Y26sF0RFW1DZQNfqELSW2Cd99X++LKBhj/JiIBAPPAOfgrHm8UESmqWpmRRtVvb1K+1uAqhnIP3CSuGPXcTKmjopKy/g8M5upS3eQsS6b0nKlW4to7h3XjfH9WpLiGY9tApslbHERHCws5VBRKZF2n98Y4xgEbFTVzQAiMgU4H8g8TvvLgD9WPFHVL0Qk3csxmgC3OaeAyd9t493FWew/XEJyTDjXn96eC/q3ontKjNvhmQbW6DOUH2aKHqFTkvfX5jPG+IVWwPYqz7OAwTU1FJG2QHvgywaIywS44tJyZmbu5s0F25i3KZeQIGF0z2QuG9SGYR0TrajtyVCF0kIoPAiFB6CoytfiQ5DcC1L6go+P+Wv0CVtKrDPwdWdeoSVsxpiTMQF4V1XL6rqjiEwCJgEkJyeTkZFRq/0KCgpq3dYXWfzHyj5cTsb2Ur7eUcLBYkhsIlzUOZQRqSHEhedTtmM1c3fUz2c1hp9/621TSdk1g5DSQ4SUHiZIS3+0fWF4IrkJg9ibOJi8uJ5okHfHAhYUFNR5n0afsLWM+6GHzRhjPHYAras8T/Vsq8kE4Ncn8yGq+jzwPEBaWpqmp6fXar+MjAxq29YXWfyOsnLl8zV7eP3brczdsJcggbO6J3PF4DaM6Nzca71pAf/zX/EOZLwMbYZCUncIj4GIWIiIgXDP14hYZ3tIOGybT8Ta6bTa9CWtdk53tnc+B7qeC53OhiZxXjmGumr0CVtyTAQiTg+bMcZ4LAQ6i0h7nERtAnB59UYi0g1oBsxv2PCMPyspK+fDZTt5NmMjm3MOkRIbwW/O7sylA1vbBIJTtWMxTLsZ2gyDqz+EkFosu5XQEfpfCcWHYXMGrPsE1n0Gq96DoBBodzp0Ow96/gwiE7x+CMfT6BO2sJAgEqPCrYfNGFNJVUtF5GZgBk5ZjxdVdbWIPAQsUtVpnqYTgClarVS/iMwFugFRIpIFXK+qMxrwEIwPKiwp493FWfx79iay9h+hW4tonr68P2N7tiAkOMjt8Pxf/m6YcgVEJsGlr9UuWasqrCl0O9d5lJdB1iIneVs7HabfCZ/dC13HQb8roNNZENywJVQafcIG0DI2wpanMsYcRVWnA9OrbXug2vMHj7PvCO9FZvzN4eJS3lywjefnbCY7v4h+reP40/iejOqWZMVt60tJoZOsFR6A62dCZOKpvV9QMLQZ7DzOeQh2r4Rlk2HFW7BmmpMU9rnESd6Se9TPMZyAJWw449jW78l3OwxjjDEB5GBhCa/O28KL32xh36FihnZI4J+X9mNYx8BdaswVqvDx7bBjEVzyKrToXf+f0aI3jO0N5/wJNsyCZW/Agn/D/KchpZ+TuPW+GJrG1/9ne1jChlM8N2NdTqNYZNkYY4x3bd93mDcWbOONBVvJLyxlZNfm3DyqEwPaeu8/80Zt/jOw/E1Ivxd6nO/dzwoO/eG26aG9sPIdJ3n79C6Y8XsY+AsY98iJ3+ckWMKGszzVkZIyDhwpIa5pHe95G2OMafRKy8r5al0Or3+7lTkbcggSYUzPZG5K70SvVrHeD6C8DN6+Go7kQduh0GYIpA5yZkQGsg2fw6z7oft4OON3DfvZkYkw5FfOY9cKWD4ZYr23Jq4lbFA5K2dnXqElbMYYY2ptz8FC3lq4ncnfbWPXgUKSY8K5dVRnJgxq4BmfC/8Haz+GxK4w9zHQcpAgSO7pzJhsM8QpcxGT0nAxedveDfDudZDUEy78NwS5OHEjpY/z8CJL2HCWpwKnFluPlgH+14gxxphTUq7K1xv28saCrczM3ENZuTKicyJ//GlPzu6e1PAzPvP3wJd/hg7pcNUHUFzgzHDc9i1smw9LX4Pv/uO0jWtL97A2kD8VgsOdmZTBYdW+9zxSBzbYgPo6O5IHkydAcAhc9iaERbodkddZwsYPy1PttJmixhhjjqOkrJz3Fmfxz7lH2HN4Ac2ahnL96e25fFAb2iW6mDDM/IOz9NK5jznLK4VHQ8eRzgOgrMSZ5bjtW9g2j5jvv4O166CsyHmttAhqWqgjpAlc8xG0Htiwx3MiWgbvXQ/7t8DV0yCujdsRNQhL2IDm0eGEBAm78qwWmzHGmKNVJGpPf7WRrP1HaB8TxD8v7cO4XilEhAa7G9zmDGfg+5l3Q2KnmtsEh0Kr05zH0JtYUNNKAeVlUFbsJG9lxXBkP7x5Kbz5c7huJjTv4u0jqbUOm1+F7Z/DeU9Au+Fuh9NgLGEDgoOE5BirxWaMMeYHJWXlvL8ki3996SRqfVNj+fP5vWDXakb2997g8lorLYJP7oBm7eH020/tvYKCIagJhHrG3UUlwVXvw/9Gw+sXObXN3B7/pgpfP06b7R/AwBsg7Vp342lgXr3RLiJjRWSdiGwUkXtqeH2iiOSIyDLP4xdVXvs/EVnleVzqzTjBWQR+p/WwGWNMo1dSVs5bC7cx8tEM7n5vJQmRYbw0cSAf/Ho4I32p2O28pyB3I5z76A+JVn2K7wBXvAOHc+GNnztFad1SXg6f3QNfPMSepDNg7N/ci8UlXuthE5Fg4BngHCALWCgi01Q1s1rTt1T15mr7/gQ4DegHhAMZIvKpqh70VrwpcU1Yvj3PW29vjDHGx5WUlTN1yQ7+9dUGtu/7oUctvWtz30nSKuz7HuY86tQd63y29z6nZX9nmac3L3FWErjyPWfB9IZUWgwf/NJZ23PITawJP4fkBl4Wyhd4s4dtELBRVTerajEwBahtRbsewBxVLVXVQ8AKYKyX4gSc5al2HyikvFxP3NgYY0zAUFU+W7Wbsx+fze/eW0F8Ux/tUaugCp/+zlmYfKx3irQepdNZcP4zsGUuTL3R6e1qKEX5zji6Ve/B2Q/CmL865UoaIW+OYWsFbK/yPAsYXEO7i0TkDGA9cLuqbgeWA38UkceApsBIoHrPXL1KiY2guKyc3EPFNI9u4L8ejDHGuCJz50H+/HEm8zfn0iU5ihcnpjGyqw8maVWt/Rg2zITRD0NMy4b5zL4ToGAPzHoAolo4tyRr+zMqLXImMUS3qNtnFuQ4ydquFU7C2P/KuscdQNyedPARMFlVi0TkRuAVYJSqzhSRgcA8IAeYDxwz51hEJgGTAJKTk8nIyKj1BxcUFBzVft+eUgA+/vJr2se6POunFqrH728sfndZ/Kax21tQxGMz1zFl4XbimoTy5wt6cdnA1g1fQ62uigrg07shuRcM/mXDfvawW+HgLljwnDMBYfhtx2+r6tSCWz7Z6R0rzHMK9w6Y6NzGPdGYu/1b4LWfwcGdMOFN6OrVm2x+wZsJ2w6gdZXnqZ5tlVQ1t8rTF4C/V3ntYeBhABF5E6cH7iiq+jzwPEBaWpoeM035R2RUm9acuOMATy39mpSOPUjv5fuVoKvH728sfndZ/KaxKiot4+VvtvD0lxs5UlLGdcPbc+uozsQ29ZMxUbMfgYM74OKXnKKxDUnEuSVZsNvT05bs9LxVtX8LrHgblk+BfZucWm7dz4PELk7yNvVG53Zun0vhtGugRa9jP2f3SmdmamkRXP0htKnp5lzj482zvRDoLCLtcRK1CcDlVRuISIqq7vI8HQ+s8WwPBuJUNVdE+gB9gJlejJWUWGe1g515VtrDGGMCjaoyM3MPf52+hq25hxnVLYk//KQ7HZtHNXww5eWQtwWy18L+76HVAGfdzxMtrbRnNcx/Fk672r0kJigILvyPs/D5h7+GyOaQmgaZHzpJ2tZvnHbtRsCI3zprfFasZ3rGXbDla1j8svP47nlolQYDroGeP4PwKOf1yZdBWBRc9xkkdXfnOH2Q1xI2VS0VkZuBGUAw8KKqrhaRh4BFqjoNuFVExgOlwD5gomf3UGCuZwzBQeBKVS31VqwA8ZFhhIcEseuAlfYwxphAsjG7gAc+XMW8Tbl0TorilesGcWaX5if9flJeCmWlTu2yHxvHpQoHtkP2GueRs9bzdR2UVvu/JiYVel0IvS6ClH7Hvm95OXz8W4iIhbP/dNKx14uQcJjwBrx0rjNzFHVWWkjoBKPuc3rPalp9QATaj3Aeh/c5Cd6SV2DaLfDZ753bnpnToFk7ZzZqXOtj36MR82p/qqpOB6ZX2/ZAle/vBe6tYb9CnJmiDUZEnFpsVjzXGGMCgqryzqIs/jhtNWEhQfxpfE+uGNzm1MapLXqJEXPvhDmePoSgEAgKdVYTCAp2vg8KcW5XHt7nrOtZITrF6TFKuw6SukFSD4htDd/PccZ5fftvmPcvpxBur4ucR8VansvfhO3fwvinoWn8ycdfXyJi4Yp3nVuciZ2h72VOT2FtJyI0jYehN8GQX8H275wet9VTIaUvXP6Wbxyjj3F70oFPSYltYstTGWNMACgoKuUPU1fy4bKdDO2QwBMT+pEcE3Fqb7rqffj4dg7E9aJZ//HOOpzlJVDR43bU96XOrcCk7tC8u5OgNWlW8/v2+bnzOLzPmQG66j34+nGY+6izb88LYcG/ofUQ6HfFqR1DfYpJgWumndp7iDi3d9sMhp885ll43lKTmthPpYqUuAjmb8o9cUNjjDE+a9WOA9z85hK27TvMb8/pwq9HdiI46BTLdGz6Et6fBG2GsLLt7Zxx5pj6CbaqpvHO+LTTroaCbGdc2Kr3IOOvIMFw3uMnHufmz8Kauh2BT7OErYqWsU3Yc7CQ0rJy35/abYwx5iiqysvztvC36WuJjwxjyqShDGpfD7fWshbBlCuheVe4bArlC5ad+nueSFQSDLrBeRzIcuqYJff0/ucan9U4E7YV75C0Zw2QftTmlLgIyhWy84toGeeFddmMMcZ4Rd7hYu56dwWzMvdwVrckHv15X5pFhp36G2evhTcudhKoK9+HJnGn/p51FZvqPEyj1jgTtiWvkJq7C3jgqM0tY50kbdeBI5awGWOMn1i4ZR+3TV5KTkER95/Xg+uGt6uflQrytsFrFzrjqq6aCtHJp/6expykxnnfL3UgUQXfQ8nREwxS4qwWmzHG+IvSsnKe/nIDE57/lpDgIN771TCuP719/SRrBTlOslZyyOlZi29/6u9pzClonD1srQcRpGWwcym0HVa5OaVKD5sxxhjftXx7Hr+fupLVOw9yXp8U/vqz3sREHGe1guVTYMVb0PVcp5DriXrKCg/CGxfBgR1w9Qc1V+M3poE1zoQtdaDzdft3RyVsMREhRIWHWA+bMcb4qIOFJTw6Yx2vfbuV5lHhPHP5aZzbu8Xxe9W2zncq8odGOjM9p98FbYdDzwtqTt5KCmHK5c6qAhMmQ5shXj8mY2qjcSZskYkcbpJC06yFR22uLJ5rtdiMMcanqCrTV+7mTx+tJqegiKuHtOWOMV2P36sGTg/Z21dDXFu44UvI3w2ZHzgFWqffeWzy1jQB3rsetsyFn70AXUY31OEZc0KNM2EDDsZ0pen275ylQ6r8ZZYS14RdttqBMY2eiIwFnsRZWu8FVX2k2uv/BEZ6njYFklQ1zvPaNcB9ntf+oqqvNEjQAWpb7mEemLaKjHU59GoVwwvXpNEnNe7HdyophLeuhJLDcM1HzuzOJnGQdA+k3+MsEbX6gx+St09/5yyJtG8zjPu7U8jWGB/SiBO2brTYkwF5W51fUo+WsRFk7jzgWlzGGPeJSDDwDHAOkAUsFJFpqppZ0UZVb6/S/hagv+f7eOCPQBqgwGLPvvsb8BACQnFpOf+du5mnvthASJDwwHk9uHpo2xPXyVSFT34LO5fApW84qwxUl9TdeYy894fkbd0ncNYDMPhGrxyPMaeiESdsXZ1vti88KmFLiW3C3oJiikrLCA8Jdic4Y4zbBgEbVXUzgIhMAc4HMo/T/jKcJA1gDDBLVfd59p0FjAUmezXiALN0237ufm8F6/cUMLZnC/44vkflxLAT+u6/sOwNOPNu6H7eidtXTd6M8VGNs6wHcCiyrTMINeu7o7ZXlPbYbbdFjWnMWgHbqzzP8mw7hoi0BdoDX9Z1X1Ozbzbu5bL/fsuhojL+d00a/75qQO2TtS3fwIx7ocs4OPMe7wZqTANqtD1sGhQMrU5zZopWUVE8d2deIW0TIt0IzRjjXyYA76pqWV13FJFJwCSA5ORkMjIyarVfQUFBrdv6oh+LPzO3jH8tPsQT4f+hf8RhsjZcTsaezrV63/DCHAYsvoPS8GQWJ11F2Zw59Rj1DwL55+8P/D1+cI6hrhptwgY45T3mPQXFhysXna3oYbNabMY0ajuA1lWep3q21WQC8Otq+6ZX2zejph1V9XngeYC0tDRNT0+vqdkxMjIyqG1bX3S8+Odt3MtTX3zHPyNfY2zJ13AkluQld0K382DU/TWPRatQcgReHAtSTth1HzCieZcGj99fWPzuO5mEs9HeEgWg9SAoL3UK6Hr8sDyV3RI1phFbCHQWkfYiEoaTlE2r3khEugHNgPlVNs8ARotIMxFpBoz2bDM/Yt7GvVz3ykL+0HQa40pmwog74berIf1e2DwbnhsKU38F+7ceu7MqfHw77FoGF/0XvJisGeOWxp2wVRTQrTKOrUlYMHFNQ60WmzGNmKqWAjfjJFprgLdVdbWIPCQi46s0nQBMUVWtsu8+4M84Sd9C4KGKCQimZhXJ2i+jvuaqosnQ7woYdR+ERzslOG5bDkNuglXvwb8GwPTfQUH2D2+w4N+wfDKk/x66jnPvQIzxosZ9SzQyEeI7QNaiozanxFotNmMaO1WdDkyvtu2Bas8fPM6+LwIvei24ADJvk5OsXRK9ituOPAudzoafPnlUfUwiE2DMwzDkVzD7/2DhC7D0ded5q9Ngxh+c26Zn3OXegRjjZY07YQNIHeQsV1KlgG6ruAiy9lsPmzHGeNO8TXu57uWFjI7Zxp+KHkNS+sLPX4Hg46xeEJsK4/8Fw26Drx6GuY862xO7wgXPQVDjvmlkApv96249EA5lOwV0PVJim9gtUWOM8aKKZG1Y7D6eKH8EiW4Bl78D4VEn3jmxE/z8JbhxDgy8AS6bDBEx3g/aGBdZD1vqIOdrlQK6KXERHCws5VBRKZHh9iMyxpj6tCa3jCe/WEjfuCL+K48QVB4EV74HUc3r9kYpfeEnfb0TpDE+xnrYknocU0D3h5mi1stmjDH1adGWffxzcSFd4+CNJo8SfGQvXPE2JHR0OzRjfJolbMEhxxTQTYl1arHtzLOJB8YYU1825xTwi1cXkRRexjvxzxKSkwmXvAqtBrgdmjE+zxI2cOqx7VnlFNAFWsZZD5sxxtSn3IIiJr60kBCU1+NfIGzrHBj/FHQ+x+3QjPELlrCBM46tSgHd5JgIRKyHzRhj6kNhSRm/eHURew4WMnXQGtrlzoaR90H/K90OzRi/4dWETUTGisg6EdkoIseswisiE0UkR0SWeR6/qPLa30VktYisEZGnRKoW5aln1QrohoUEkRgVbj1sxhhzisrLldvfWsay7Xk8e2EbWi97nH3N+sIZd7odmjF+xWsJm4gEA88A44AewGUi0qOGpm+paj/P4wXPvsOA4UAfoBcwEDjTW7ESmQDxHZ2Zoh4tYyOseK4xxpyiv05fw6erdvOHc7tz1s7nofgQGzvdcHRhXGPMCXmzh20QsFFVN6tqMTAFOL+W+yoQAYQB4UAosMcrUVZoPcjpYfOsMGO12Iwx5tS8Mm8LL3z9PROHteP6jgdg8Ssw6EYOR7Z2OzRj/I43E7ZWwPYqz7M826q7SERWiMi7ItIaQFXnA18BuzyPGaq6xouxOrdFD+XA/i2AU4tt14FCqiwRaIwxppY+z9zDnz5azdndk7n/J92RT+92lgNMv9vt0IzxS25Xhf0ImKyqRSJyI/AKMEpEOgHdgVRPu1kiMkJV51bdWUQmAZMAkpOTycjIqPUHFxQUHNU+siCIgUDmrFfITk7n8N4SDheXMf3zDCJDfa/rvnr8/sbid5fFb7xpRVYet0xeSq9WsTx1WT+CV78L2xfA+c9ARKzb4Rnjl7yZsO0AqvZ7p3q2VVLV3CpPXwD+7vn+QuBbVS0AEJFPgaHA3Gr7Pw88D5CWlqbp6em1Di4jI4Oj2pePgBX30SOqgB7p6RyK38Vb65bQodcAuqf43pInx8TvZyx+d1n8xlu27zvMdS8vIiEqjP9dM5CmegRm3g8tT4O+l7sdnjF+y5u3RBcCnUWkvYiEAROAaVUbiEhKlafjgYrbntuAM0UkRERCcSYcePeWaFCwU0DXM1M0Jc4pnmuLwBtjTO0cOFzCtS8vpLi0jJevHUjz6HCY8ygU7IZz/2GLsxtzCrz226OqpcDNwAycZOttVV0tIg+JyHhPs1s9pTuWA7cCEz3b3wU2ASuB5cByVf3IW7FWSh0Eu1dB8SG6JkcTFhLE/E25J97PGGMauZKycn75+mK25h7i+avT6JQUDbmbYP4z0O8KSE1zO0Rj/JpXx7Cp6nRgerVtD1T5/l7g3hr2KwNu9GZsNWo9CLQMdi4lst3pnN4pkZmZu7n/vO54swycMcb4u0c+Xcv8zbk8fklfhnRIcDZ+di+ERMBZf3Q3OGMCgPVPV1VRQNezrujoHslk7T9C5q6DLgZljDG+7aPlO/mfp3zHz07zzBVbPwM2zHBmhUYnuxugMQHAEraqmsY7BXSznAK6Z/dIRgRmrvZuCThjjPFX6/fkc/d7K0hr24zfn9vd2Vha5PSuJXSGQQ1/s8SYQGQJW3WtBzk9bKokRoWT1rYZMzMtYTPGmOoOFpZw42uLiQwP4dkrTiMsxPNfyrfPwb5NMPYRCAlzN0hjAoQlbNWlDoTDeysL6I7u0YI1uw6yfd9hd+MyxhgfUl6u3PH2crbvO8wzl59GUowzs56Du2DOP6DrudD5bHeDNCaAWMJWXetBzlfPbdHRPZ2xFzNW73YrImOM8TnPzd7ErMw9/P7c7gxqH//DC58/CGXFMOZh12IzJhBZwlZdUg8Ii6qceNA2IZJuLaJtHJsxxnjM3ZDDYzPX8dO+Lbl2eLsfXti2AFZMgWG3QHwH1+IzJhBZwlZdtQK6AKN7tmDR1n3sLShyMTBjjHFf1v7D3Dp5KZ2Tovm/i3o7JY+KD8Oq9+DDX0N0Sxhxh9thGhNwLGGrSZUCuuCU9yhX+HJNtsuBGWOMewpLyrjpjSWUlin/vqIfTbO+gQ9ugke7wLvXQclhOP9pCIt0O1RjAo7bi7/7pioFdGl3Oj1bxtAqrgkzVu/mkoGtT7y/McYEoAenraZox0qm9dlA+9d+A/k7ITwGep4PfS6Ftqfb8lPGeIklbDWpWkC33emICKN7JvPGgm0cKiolMtx+bMaYRuRIHks/fIprMt/hkfBtsCEEOp3jTCzoOg5Cm7gdoTEBz/4UqknTeEjoVDlTFJzyHsWl5cxen+NiYMaYhiIiY0VknYhsFJF7jtPmEhHJ9KyJ/GaV7f8nIqs8j0sbLmovKC/j0MsX0X/tY4RERFI+7h9wxzq4fAr0+pkla8Y0EEvYjif1hwK6AAPbNaNZ01BmWnkPYwKeiAQDzwDjgB7AZSLSo1qbzjhrIQ9X1Z7AbzzbfwKcBvQDBgN3ikhMgwVfz/Sbp4jcs4iHgm8h4bY5BA2eBJGJbodlTKNjCdvxtK4ooPs9ACHBQZzVPZkv1mZTUlbucnDGGC8bBGxU1c2qWgxMAc6v1uYG4BlV3Q+gqhWzknoAc1S1VFUPASuAsQ0Ud/3avQr96mGmlw2i8+gbiI+0VQuMcYslbMfTeojzddOXlZtG90gmv7CUbzfnuhSUMaaBtAK2V3me5dlWVRegi4h8IyLfikhFUrYcGCsiTUUkERgJ+N9spdIi9P0bOKCRPBv1ay5O879DMCaQ2Oj540nqDsm9YfHLkHY9iHBGl+Y0CQ1m5uo9jOjc3O0IjTHuCgE6A+lAKjBHRHqr6kwRGQjMA3KA+UBZTW8gIpOASQDJyclkZGTU6oMLCgpq3fZkddj0Cm2yM/lt8V0M6hjJN3Pn1Nt7N0T83mTxu8vf4wfnGOrKErbjEYG0ifDJHbBjCaQOICI0mDO6JDIzczd/Gt+ToCBxO0pjjHfs4OhesVTPtqqygAWqWgJ8LyLrcRK4har6MPAwgGcywvqaPkRVnweeB0hLS9P09PRaBZeRkUFt256UrfPRjKl8Fj6GzZHDef6yMwkNrr8bMl6P38ssfnf5e/zASSWcdkv0x/S+BEIjYfGLlZtG92jBnoNFrNhxwMXAjDFethDoLCLtRSQMmABMq9bmA5zeNTy3PrsAm0UkWEQSPNv7AH2AmQ0U96kryocPfsmRyFbcceASbhnVuV6TNWPMybHfwh8TEQO9L4aV78GRPADO6p5EcJDYbFFj/ISIvC8iPxGRWl/vVLUUuBmYAawB3lbV1SLykIiM9zSbAeSKSCbwFXCXquYCocBcz/bngSs97+cfZt6H7t/K/XIzSYmJXNCvpdsRGWOwhO3E0q6F0iOw4m0A4pqGMbh9PDMsYTPGXzwLXA5sEJFHRKRrbXZS1emq2kVVO3pucaKqD6jqNM/3qqq/VdUeqtpbVad4thd6tvVQ1SGqusxLx1X/1s+AxS+zucsveG9vG249qxMh1rtmjE+w38QTadnfeSx+qbIm25ieLdiUc4iN2XUfNGiMaViq+rmqXoFTG20L8LmIzBORa0Uk1N3ofMihXPjwZjS5J7ftHkeH5pGM71t9Yqwxxi2WsNXGgGshOxO2LwDgnB7JAMzMtF42Y/yBZ0zZROAXwFLgSZwEbpaLYfkOVfjkdjiynzm9HmZVdiG3ndWZYJtYZYzPsIStNnpdBGHRsOglAFrGNaF3q1hmrt7jcmDGmBMRkanAXKAp8FNVHa+qb6nqLUCUu9H5iJXvQOaHlI/8A39eGETnpCjO62Nj14zxJZaw1UZ4FPS9FFZPhcP7ABjTM5ll2/PYfaDQ5eCMMSfwlGc82d9UdVfVF1Q1za2gfMaBLPjkTmg9hI+iLmJjdgG3nW29a8b4GkvYamvAtVBWBMsnAzC6ZwsAZq2xXjZjfFwPEYmreCIizUTkJhfj8R3l5fDhr6G8lLLzn+PJLzfTNTmac3uluB2ZMaYaS9hqq0UvSB3o3BZVpXNSFO0TI628hzG+7wZVzat44ln78wb3wvEhaz+CzRkw5i9M2x7G5pxD/ObszlYU3Bgf5NWETUTGisg6EdkoIvfU8PpEEckRkWWexy8820dW2bZMRApF5AJvxloraddB7gbY+g0iwugeyczflMuBIyVuR2aMOb5gEanMQEQkGLBVzFVhzqOQ0InSvlfx5Ocb6NYimjGeuwfGGN/itYTNc1F8BhgH9AAuE5EeNTR9S1X7eR4vAKjqVxXbgFHAYXyhUnjPCyEiFhY5Kx+M7plMabmSsS7b5cCMMT/iM+AtETlLRM4CJnu2NW4bv4DdK+D02/lgxR625B7m9nO6WO+aMT7Kmz1sg4CNqrpZVYuBKcD5J/E+FwOfqurheo3uZIQ2gb6XQeY0OLSX/q2bkRgVbkV0jfFtd+OsRPArz+ML4HeuRuQL5j4KMamU9LyYp77YQM+WMYz2lCwyxvgeby7+3grYXuV5FjC4hnYXicgZOIsj366q26u9PgF4vKYPEJFJwCSA5OTkOi2mWlBQcFKLrzYt78mg8hI2vfcQ29v8jF7Nyvh89W4+mvkV0WEN95fpycbvKyx+dzWm+FW1HHjO8zAAW76BbfNh3D+YujyHbfsO88LVaVS5c2yM8THeTNhq4yNgsqoWiciNwCs4t0ABEJEUoDfOmn3HUNXncdbqIy0tTdPT02v9wRkZGdSl/VH2TKbj/jl0vPIJWnU/xOgn5rBOW3Jneq1WvKkXpxS/D7D43dWY4heRzsDfcIZmRFRsV9UOXgnOH8x9DCKbU9L3Cp56cgF9UmM5q3uS21EZY35ErW6JishtIhIjjv+JyBIRGX2C3XYAras8T/Vsq6Squapa5Hn6AjCg2ntcAkxVVd8a1Z92Lez/Hr6fTefkaMb1asEr87bY5ANjfNNLOL1rpcBI4FXgdVcjctOOJbDpCxj6a2ZvLiBr/xFuHtnJeteM8XG1HcN2naoeBEYDzYCrgEdOsM9CoLOItBeRMJxbm9OqNvD0oFUYD6yp9h6X4QwQ9i3dx0OTeGd9UeDXIzuRX1TKK/O2uBuXMaYmTVT1C0BUdauqPgj8xOWY3DP3MWfyVNr1fLZ6N9ERIaR3td41Y3xdbRO2ij+9zgVeU9XVVbbVSFVLgZtxbmeuAd5W1dUi8pCIjPc0u1VEVovIcuBWnLX+nA8UaYfTQze7ljE2nNAI6Hc5rP0E8vfQs2UsZ3dP4sVvvqegqNTt6IwxRysSkSBgg4jcLCIX0liXpMpeC2s/hsG/pDQ0is/X7OHs7smEhVhJTmN8XW1/SxeLyEychG2GiEQD5SfaSVWnq2oXVe2oqg97tj2gqtM839+rqj1Vta+qjlTVtVX23aKqrTwDhn3PgGuhvBSWvgbAzaM6k3e4hNe/3epyYMaYam7DWUf0VpxhF1cC17gakVu+fhxCI2HwL/nu+33kHS6xumvG+InaJmzXA/cAAz3lNUKBa70WlT9I7ATtz4Alr0B5Gf1axzGicyIvzN3MkeIyt6MzxlBZD/JSVS1Q1SxVvVZVL1LVb92OrcHt+x5WvuuMwW0az2erdxMRGsSZXZq7HZkxphZqm7ANBdapap6IXAncBxzwXlh+YsC1kLcNNn0JwK1ndWZvQTFvfrfN5cCMMQCqWgac7nYcPuGbJyEoGIbeTHm5MmP1btK7JNEkLNjtyIwxtVDbhO054LCI9AXuADbhzLRq3LqdB5HNK1c+GNgunsHt43l+ziYKS6yXzRgfsVREponIVSLys4qH20E1qIM7Ydkb0P9KiElhWVYeew4WMaaXFco1xl/UNmErVVXFWangaVV9Boj2Xlh+IiTM6WVbNx3WfAw4vWx7DhbxzuIsl4MzxnhEALk4NR5/6nmc52pEDW3+M1BeBsNvA2DGqt2EBAmjulnCZoy/qG3h3HwRuRennMcIz4yrUO+F5UfOuBM2zoIPboLkHgzr2J7+beL4d8YmJgxsTWiwzb4yxk2q2rjH2x7Kde4C9P45NGuHqnM7dFinRGKb2GXcGH9R22ziUqAIpx7bbpwiuP/wWlT+JCQcfv4KiMDbVyOlhdw6qjM78o4wdcmOE+9vjPEqEXlJRF6s/nA7rgaz4DkoOQIjfgvAuj35bMk9zFibHWqMX6lVwuZJ0t4AYkXkPKBQVW0MW4VmbeHC/8DulfDp3aR3bU6vVjE8k7GR0jLfrEpiTCPyMfCJ5/EFEAMUuBpRQyk8CAueh+7nQXNn6bzPVu1GBM6xhd6N8Su1XZrqEuA74Oc4y0UtEJGLvRmY3+k6Fk7/LSx5BVk+hZtHdmZr7mE+XrHL7ciMadRU9b0qjzdwrmFpbsfVIBa+AEUHYMQdlZs+W7WbgW3jaR4d7mJgxpi6qu0t0T/g1GC7RlWvBgYB93svLD818g/QbgR8fDujE/bSNTmap7/aSHm5uh2ZMeYHnYHAX4up+LAz2aDT2dCyPwBb9h5i7e58xvSy26HG+JvaJmxBqppd5XluHfZtPIJD4KL/QUQMQe9ew60jUtiYXcCnq3a7HZkxjZaI5IvIwYoH8BFwt9txed3S1+Dw3qN612asdq5Fo+12qDF+p7ZJ12ciMkNEJorIRJyxINO9F5Yfi06Gi1+Cfd8zbvPDdEhsyr++3IBTFcUY09BUNVpVY6o8uqjqe27H5XWLX4bUQdB2WOWmGat306tVDK3jm7oXlzHmpNR20sFdwPNAH8/jeVUN/L9QT1a74XDWAwRlTuXxdt+xdnc+n6/JPvF+xph6JyIXikhsledxInKBiyF5X+FByF7j3A712HOwkCXb8mx2qDF+qta3NT0Ddn/reUz1ZlABYdit0PVc+mb+gzGx23jaetmMccsfVbVyKT1VzQP+eKKdRGSsiKwTkY0ics9x2lwiIpkislpE3qyy/e+ebWtE5CkRkfo4kFrbuQRQSB1QuWmm53boWBu/Zoxf+tGErfrYjyqPfM9YEHM8QUFwwbNITEselyfYlrWd2etz3I7KmMaopuvcjxYN9ywa/wwwDugBXCYiPaq16QzcCwxX1Z7AbzzbhwHDce5G9AIGAmee2iHUUdYi52urHxK2z1bvpmPzSDol2SI1xvijH71oqar9Zp+KJs3gkldp+r/R/Lvpf7jnw+YMnNSXyJJ9UJANh3KcR9XvAS541tnXGFMfFonI4zgJGMCvgcUn2GcQsFFVNwOIyBScpfkyq7S5AXhGVfcDVJmYpTjLYYUBgrMqzJ56OI7a27EYEjpVXkf2Hyrm2837+OWZHRo0DGNM/ant0lTmZLXsh4z7PwZ//Bs+P3QxwU/UcFtUgqBporOQfPZqmPc0nGVVU4ypJ7fglCF6CyeZmoWTtP2YVsD2Ks+zgMHV2nQBEJFvgGDgQVX9TFXni8hXwC6chO1pVV1zykdRW6pOD1vHUZWbPl+zh7JyZYyNXzPGb1nC1hAGTATguyVLmbW1nPOH96Nvt04QmQRRSc5fwUHBTtt3JsKCf8OQmyAywbWQjQkUqnoIqHEM2ikKwanplo6zXN8cEekNJALdPdsAZonICFWdW/0NRGQSMAkgOTmZjIyMWn1wQUHBcduGF2Yz9FA264/EsNPT5o3FhcRHCLkblpKxsWGH09Xkx+L3Bxa/u/w9fnCOoa4sYWsIIpB2LQP6XcPDz33D1EVHmHH6EJJiIo5te+Y9sPoDmPcknPNQg4dqTKARkVnAzz2TDRCRZsAUVR3zI7vtAFpXeZ7q2VZVFrBAVUuA70VkPT8kcN+qaoHn8z4FhgLHJGyq+jzODHzS0tI0PT29VseUkZHBcduueh+ALumX0aXVaRwqKiXz81lcMbgtI0f2rNX7e9uPxu8HLH53+Xv8wEklnFb8tgGFhQTxxKX9OVJSxp3vrqh51mhSN+j9c/juv87YNmPMqUqsSNYAPGPOTrTSwUKgs4i0F5EwYAIwrVqbD3CSM0QkEecW6WZgG3CmiISISCjOhIOGuyW6YzEEh0NyLwAy1uVQXFpu5TyM8XOWsDWwTklR/OHc7sxZn8Or87fW3Cj9Higtgq//2bDBGROYykWkTcUTEWmHM5btuFS1FLgZmIGTbL2tqqtF5CERGe9pNgPIFZFM4CvgLlXNBd4FNgErgeXAclX9qJ6P6fiyFkFKXwgJA5zZoQmRYaS1i2+wEIwx9c9uibrgyiFt+XJtNn+dvoZhHRPonFxtMm5CR+h7GSz8n1PPLSbFnUCNCQx/AL4Wkdk4kwBG4Bk39mNUdTrVVnRR1QeqfK/Abz2Pqm3KgBtPPeyTUFYCu5ZB2nUAFJaU8eWaPYzv15LgIPfHrhljTp71sLlARPj7xX2JCg/htinLKC4tP7bRmXeBlsHcxxo+QGMCiKp+BqQB64DJwB3AEVeD8pY9q6G0sLL+2rxNezlUXGazQ40JAJawuaR5dDiPXNSHzF0HeXzW+mMbNGsH/a+EJa9A3vZjXzfG1IqI/AL4AidRuxN4DXjQzZi8ZoenYG5qGgCfrdpNdHgIwzomuhiUMaY+WMLmonN6JHPZoDb8Z84mvt2ce2yDEXc6X+c+2rCBGRNYbsNZbWCrqo4E+gN5rkbkLVmLnZqOcW0pLSvn8zXZjOqeRFiIXeqN8Xde/S0+0Vp8IjJRRHJEZJnn8Ysqr7URkZmetfgyPQOFA87953WnXUIkd7y9nANHSo5+Ma41nHYNLH0d9n3vToDG+L9CVS0EEJFwVV0LdHU5Ju/YscjpXRNh4Zb97DtUbLNDjQkQXkvYarMWn8dbqtrP83ihyvZXgX+oanecZWICssZF07AQ/nlpP3YfLOSBD1cd22DEHRAUAnP+4Z0AcjfBqvec6ujGBKYsEYnDKcMxS0Q+BI4zRduPHcmDveuhlXM7dMbq3YSHBHFm1+buxmWMqRfe7GGrXItPVYuBirX4TsiT2IWo6iwAVS1Q1cPeC9Vd/VrHcdtZnflw2U4+XFatNmdMCqRdD8snw96N9fvBaz6C/5wJ717nPIoP1e/7G+MDVPVCVc1T1Qdxlqj6H3CBq0F5w84lztdUZ8LBt5tzGdIhgaZhVgzAmEDgzYStprX4WtXQ7iIRWSEi74pIRWXxLkCeiLwvIktF5B+eHruAdVN6R05rE8d9H6xiW2613PT030BIBMz+v/r5sPIy+OIheOtKaN7Fs7rCVPjfGNgfeB0PxlRQ1dmqOs3zR2RgyfKsZ9/yNACy84tIbdbExYCMMfXJ7T+9PgImq2qRiNwIvAKMwolrBM7g4G04izZPxPnLuNLJrsMHvrkW2YR25Ty4s5Qr/j2b+wZHEB7yQ92kDi3G0nrlOyyMGMHhyDYnHX9IST49Mh8jfv9Sdqacw4aON6ISSnzv++mR+Rjlz55OZo/fkdesdz0e2bF88edfFxa/u/w9fq/YsQgSu0CTOErKytl3qJjm0eFuR2WMqSfeTNhOuBafpyp4hReAv3u+zwKWqepmABH5ABhCtYTtZNfhA99diyypYzbXvryQj3PieGpCP0Q8SdvA3vDkTAYd+gJ+8srJxb97JUy5FfJ3wU+fpOWAibSsfDEdzjwfplxGvxV/hLGPwKAbnHVQvcBXf/61ZfG7y9/jr3eqzgoHXZzlUfcWFAGQFF3DesXGGL/kzVuiJ1yLT0SqlvAfzw/r7S0E4kSkYrTsKCDTi7H6jPSuSdw1pisfLd/JC3OrzAyNTIAhv4LMD2B3DZMTTmTF2/DCOU4l9InTYcDEY9skdoJffAGdR8Ond8G0W5wlsowxvi1vKxzeW1kwN/tgRcJmPWzGBAqvJWy1XIvvVhFZLSLLgVtxbntWLO1yJ/CFiKzEWU7mv96K1df86syOnNu7BX/7dA1fb9j7wwtDfw3hsZDxt9q/WVkJfHoPvH8DtDoNbpwNrQcev31EDEx4E864C5a+Bi+fB/m7T/5gjDHel3V0wdycfCdhs1uixgQOr9ZhU9XpqtpFVTuq6sOebQ+o6jTP9/eqak9V7auqIz31kSr2naWqfVS1t6pODMhBwschIvzj4r50Sori5slL2L7PMwmhSTMnaVv7MVH5tZgxWpANr14AC56Dwb+Cqz+EqKQT7xcUBKPug5+/AntWwfPpPwxoNsb4nh2LIaQJJPUEnAkHAEkxlrAZEyjcnnRgjiMyPIT/XJXG+Ke/5sbXFvPer4bRJCzYuS264DlOW3I3rPqTM8ZMgkCCna9Bnq8SBIUHnB62C5+HvpfWPYieF0BCJ5hyGbw0DsY87JQYCbKq6cb4lKxF0LIfBDuX9IoetoRIS9iMCRSWsPmw9omRPDWhP9e9spB73l/BE5f2QyJi4OIX2fHVy7RObQVa7pTp0HLPo+J7dZK3gTdASp+TD6JFL5g0G977BUy/E1a8BT99EpJ71t+BGmNOXmkx7FruTBLyyM4vJD4yzJakMiaAWMLm40Z2S+KOc7rw6Mz19G4Vyy9GdICOo9i0PYjWDTVLrmk8XPmeM3Fhxr3wnzNg6M1w5t0Q1rRhYjDG1GzPKigrqhy/Bk4PW/Mo610zJpDYn19+4Kb0TozpmczfPl3LvI17T7yDN4g4t1VvXgR9J8A3T8CzQ2Dj5+7EY4xx7PCML231Q8KWnV9k49eMCTCWsPmBoCDhsUv60T4xkpsnLyVrv4urdDWNh/OfgYmfQHAYvH4RvHu9M8HBGNPwshZBVDLEplZuyskvshmixgQYS9j8RFR4CM9fNYCS0nJufG0xxWUuL9be7nT41TeQfi+smQZPp8Hil6G83N24jGlsdixyetc8Ra5V1RI2YwKQJWx+pEPzKJ6Y0I/VOw/yv5VFlJe7nLSFhEP6PfCredCiD3x0G7z8Eyg86G5cxjQWR/ZD7sbKBd8BDhwpobis3FY5MCbAWMLmZ87qnszvxnZlwe4yHvxoNaouJ20AiZ3hmo/gp0/Btnmw4D9uR2RM41DD+DUrmmtMYLKEzQ/96syOjG0Xwqvzt/L4rPVuh+MQgQHXQJex8O0zUJTvdkTGBL6sxYBAy/6VmyqL5lrCZkxAsYTND4kIl3YN49K01vzry428MHez2yH94IzfObdpFv7P7UiMCXw7FkHzbs6Sch7Z+YWA9bAZE2gsYfNTIsJff9abc3u34C+frOHthdvdDsmROgA6joL5T0Oxi7NZjQl0qs4M0Srj1+CHW6LWw2ZMYLGEzY8FBwn/vLQfIzoncs/7K5i+cpfbITnO+B0cynFmjRpjvGP/93Bk31Hj1wCyDxbRJDSYqHCri25MILGEzc+FhwTzn6sG0L9NM26bspQ563PcDgnaDoV2I+CbJ6Gk0O1ojAlMWZ4JB6lHJ2w5BU5JD/GU+TDGBAZL2AJA07AQXrxmIB2bR3Hja4tZvHWf2yHBGXdBwW5Y+prbkRgTmHYsgtCm0Lz7UZuzDxbZ7VBjApAlbAEitmkor10/mOSYcK59aSFrdrlcC639GZA6CL5+wlmc2hg/IyJjRWSdiGwUkXuO0+YSEckUkdUi8qZn20gRWVblUSgiF9R7gFmLnNmhwUff+qzoYTPGBBZL2AJI8+hwXv/FYCLDQ7jqf9/x/d5D7gUjAmf+Dg5mwfLJ7sVhzEkQkWDgGWAc0AO4TER6VGvTGbgXGK6qPYHfAKjqV6raT1X7AaOAw8DMeo2vvAR2r4BWA455LftgofWwGROALGELMKnNmvLa9YMpV+XKFxawNdfFpK3T2U4PwNePQ1mpe3EYU3eDgI2qullVi4EpwPnV2twAPKOq+wFUtaYFdS8GPlXVep0yHVXwPZQVHzN+rbCkjIOFpdbDZkwAsoQtAHVKiuLV6waRX1jCuU/O5b3FWe6siCDijGXbvwVWvdvwn2/MyWsFVK2Vk+XZVlUXoIuIfCMi34rI2BreZwJQ713MMQc9BbOrzRD9oaSHLUtlTKCxed8BqlerWD79zRncPmUZd7yznIz1Ofzlgl7ENglt2EC6ngvJvWDOo9D75xAU3LCfb4z3hACdgXQgFZgjIr1VNQ9ARFKA3sCM472BiEwCJgEkJyeTkZFRqw/uvG81RWHxzF+6AdhQuX3j/jIAdm9ZR8ahTXU9ngZTUFBQ62P1RRa/u/w9fnCOoa4sYQtgreKaMHnSEJ7L2Mg/P9/Akq37eWJCPwa2i2+4IETgjDvhnYmQ+QH0uqjhPtuYk7cDaF3leapnW1VZwAJVLQG+F5H1OAncQs/rlwBTPa/XSFWfB54HSEtL0/T09FoFd+TbGwnvMIzq7QtX7YYFixk1bCC9WsXW6r3ckJGRcUzs/sTid5e/xw+cVMJpt0QDXHCQcPOozrz7y6EEBwmX/mc+j89aT2lZecMF0f18SOzq9LKVN+DnVsjdBN88BdsXnritMY6FQGcRaS8iYTi3NqdVa/MBTu8aIpKIc4u06jpxl+GF26EcyqVJ4e5jxq8B5HiWpUqKsTFsxgQaS9gaif5tmjH9thFc2D+Vp77YwCX/mc/2fQ20dFRQkNPLlp0J6z5pmM/cuwFm/wOeGw7/Og1m3Q+TJ0CBDxQWNj5PVUuBm3FuZ64B3lbV1SLykIiM9zSbAeSKSCbwFXCXquYCiEg7nB662fUe3A5PwdxWNSVsRQQJJERawmZMoLGErRGJCg/hsUv68tRl/dmQXcC4J+cydWlWw3x4z59BfAeY/XdnDURvyFnvvP+zw+DpNPjqLxAWCWP+BldNhaJ8+Pg33vt8E1BUdbqqdlHVjqr6sGfbA6o6zfO9qupvVbWHqvZW1SlV9t2iqq1Utf67lA/lUBIS6czAriY7v4iEqHCCg2yVA2MCjY1ha4TG923JaW3iuP2tZdz+1nLmrN/L337Wm4hQL04ICA6BEXfAh7+GDTOBk+wBKCuFI/vhcK6zjuLhXNizGlZ/ADlrnDath8DYR6D7eIitMrFv1H1OT9uKt6DvhFM9It+zeTZ8+ju48D/Qsp/b0Rhv6X8F3+SlkB4edcxL2flFNI+y3jVjApElbI1UarOmTL5hCM98tYknvljP93sP8d+r07xbv6nPpTD7/5xesE73Hfu6KuTvdm6d5qx1HgU5TlJW8SjMq+GNBdoMhXF/h+4/hZiWNX/+0F/Duk9h+l3Q7nSITa3Po3PXruUw5QoozofPH4SrP3A7IuNNUvPNkZz8Ihu/ZkyA8mrC5qlL9CQQDLygqo9Ue30i8A9+mH31tKq+4HmtDFjp2b5NVcdj6lVIcBC3nd2ZbinR/GbKMi545htenDiQri2ivfOBwaFw+u3w8e00j50HW0Ihe42ToGWvdb5WTciaJkJMCjRNgLjWzteKR5NmP3wf0woiE078+UHBcMGzzri2D26Cqz5wxtf5u33fw+sXQ0QsDLgG5j8NW76BdsPdjsw0sOz8QrqneOn31xjjKq8lbFWWdjkHZ/r7QhGZpqqZ1Zq+pao31/AWRzxLuxgvG9OzBe/8cijXv7KQi56bx9OX9ye9a5J3PqzfFTDnUXpm/h0y/+5si4iFpB7Q80Lna1J35xGZWP+fH98exv4VProNFv4XBt9Y/5/RkAqy4bULobwEJn4Msa1h5Tvw1cMw8ROnrIppFMrLlb0FxbbKgTEByps9bJVLuwCISMXSLtUTNuMDerWK5YNfD+f6lxdx3csL+dP4nlw1tF39f1BIOPz8ZTZmTKbT0J84CVp0SsMmFqddA2s+hll/hI6jILFzw312fSrKhzcudm4jX/MRNO/qbB9xhzOWbXMGdBzpaoim4ew7XExZudoqB8YEKG/eD6rN0i4AF4nIChF5V0SqFqqMEJFFniVfLvBinMYjJbYJ7/xyKKO6JXH/h6v500erKSv3wozK1oPIan2+s9ZoTMuG7wUSgfOfhtAImHqjf65zWloMb10Ju1fBJa9A64E/vDZgIsSkOr1sNiO20ahYlsp62IwJTG5POvgImKyqRSJyI/AKMMrzWltV3SEiHYAvRWSlqh611srJLusC/r+0hTfjv7yNEnw4hJe+2cKS9dv5Zd9wmoTUb1LlCz//5u1/Qc/Mf/D9a7eytd0lddrX1fi1nO5r/kly9hzWdr2V3TvDYefRsaS0GE/X9c+y4v3H2JdwbL0uX/j5nwp/j98bsivXEbWEzZhA5M2E7YRLu1QUmfR4Afh7ldd2eL5uFpEMoD+wqdr+J7WsC/j/0hbejn/USHjt2608OG01T60O4X/XpNEyrkm9vb9v/PzT4d3NtM98i/ZjboSUvrXe07X4VeGzeyF7Dpz9IN1Ov51uNbUrGw5PT6dPzofwszuO6cX0jZ//yfP3+L0h+6CzyoH1sBkTmLx5S/SES7t4FkeuMB6nojgi0kxEwj3fJwLDsbFvDe6qIW15ceJAsvYd5oJnvmHZ9jy3Q6p/5z7qzEZ9/0YoKfTOZ6jCoVzYsQRWT4VvnoRP7oA3fg5PD4J/9ob3J8HyKc54tB/zzROw4DkY/CsY/pvjtwsOhTPvht0rYM1H9Xk0xkflFFT0sNkYNmMCkdd62FS1VEQqlnYJBl6sWNoFWOSpFn6rZ5mXUmAfMNGze3fgPyJSjpNUPlLD7FLTAM7s0pz3bhrGdS8v5OLn5nH32G5cf3p7ggKlknrTeGc82xsXOysjjP7Lqb/nvs2w8Qtn0H/uJsjbBiWHjm4TEQdxbZwJD0HBsPFzp6AvOBMxOox0Jgy0Heas1gCw9A2nxlqvi2HMX0889q/3JTD3ccj4G3Q7LzBKmJjjyj5YRHR4CE3CvFgA2xjjGq+OYVPV6cD0atseqPL9vcC9New3D+jtzdhM7XVJjuaTW0Zw93sreHj6Gr7euJfHLulLYqBUVO98Dgy4FuY9DV3PdZKkuig+BFu+dpKujZ87CRs4CVlybyfximtz9CMi9uj3KC+HPSth01ew+StY+AJ8+wwEh0Hrwc7t2m+fgw7pcMFztUu+gkMg/R5473pY/T70vrhux2X8Sk5Bkd0ONSaAuT3pwPiJ2KahPHflaby+YBt//jiTcU/O5YlL+zG8kxdqpblh9F+cROn9G6Hf5RAeXeURU+15NJEFW+Gbp5wEbdt8KCuGkCbQfgQM/qUzAza+Q+1nwAYFOUlZSl84/TdQcgS2znNi2pThFMNN6QuXvg4hYbU/rp4/g7mPOb1sPS5wkjgTkHIOWsJmTCCzq7epNRHhqiFtSWvbjFsmL+XK/y3gpvSO/ObsLoQG+/nttvAouPB5ePtqmP3ICZtXFtFo3h0GTXIStDZDnVIh9SG0CXQ6y3mAMwYurKmzvS6CgmDk750SICvfdpJRE5ByCoro2TLG7TCMMV5iCZups+4pMUy7eTgPfZTJM19tYv6mXJ6c0J/W8U3dDu3UtBkMd66D8jIoLnAK01Y+DjpfC52va7fuotu5v2q49Uhrs/TW8XQ7z+mdy3gEev/cmZBgAk72wUJGemuFEmOM6yxhMyelaVgIj1zUh+GdEvn9+ys596m5/P2iPozrnXLinX1dULAzxqz6OLMqdhdn0M1fFo8XgZH3wZs/h6WvQ9q1bkd0fOVlzs/f1MmholIOFZfZLVFjApif38cybvtp35Z8cusIOjSP4ldvLOH3U1dSUOSHKwcEus7nQOpAmPMP75UvOVV7N8Jzw2DHYrcj8Ts5VjTXmIBnCZs5ZW0SmvLOjUO58cwOvLlgG2c/NptPV+5CbVkk3yECo+6DgztgyStuR3OsnPXw8k/g0F5n8oapk8pVDmIsYTMmUFnCZupFWEgQ947rznu/GkazyDB+9cYSrnt5IdtyD7sdmqnQ/kxoezrMfYygsqIfb1taDAXZDbMWafZaJ1nTMpj4MST38P5nBhhbR9SYwGdj2Ey9GtC2GR/dPJyX523hn7PWc84/Z3PzyE5MOrMD4SE2NslVIjDqD/DSODpsfhXi98KhbCcxK9jj+er5vjDP2afH+fCzF+pWSqQu9mTCq+NBguCaj6F5V+98ToDLznduc9sqB8YELkvYTL0LCQ7iFyM6cF6fljz08Woem7Weqct28JfzezEsUOq2+au2w6DjWaRu+hh2fOxsC4uCqCSITHISpvZnOM8LDzj134oPw6Wv1b2kyInsXuUka0GhTs9aYuf6ff9GJCe/iJAgIa6JzQA2JlBZwma8pkVsBM9eMYCMddk88OFqLn9hAef3a8kfftLd7dAat4tfZMnMKZw2YrSTpIVHHb9tYhf46DZ4/WK4fIpTOLg+7FoBr54PIRFOspbQsX7et5HKzneK5gbMknHGmGPYGDbjdeldk5h5+xncOqoTn67czVmPzeaz70s4ZLNJ3dEkjoOx3ZyVGH4sWQMYcA1c9IKzmsOrF8CR/af++TuXOT1roU0sWasnFQmbMSZwWcJmGkREaDC/Hd2VT38zgn6t45iyrphhj3zJP2asrRx/Y3xU74udW6K7V8DL5znj3E7WjiVOshYWBRM/sWStnuTkF1lJD2MCnCVspkF1bB7Fa9cP5r7BEQzpEM+zGZs4/f++4t73V7App8Dt8MzxdPsJXP6Ws7D9S+PgwI66v0fWYqeXLiLWSdbi29d7mI1VTn4hzW3CgTEBzRI244pOzYL5z1VpfPHbM7l4QCrvLdnB2Y/P5oZXF7Foyz63wzM16TgKrnzf6WF7aayTvNVGWQls+BxeuwCaxDnJWrO23oy0USktKyf3ULHdEjUmwNmkA+OqDs2j+OuFvfntOV14dd4WXv12K7My93BamzgmndGR0T2SbSC1L2k7FK6ZBq9dCC+dC1d/eGwpjuLDsGMRbJ0PW7+BrIVQchiatXfGrPnLkl5+IvdQMaq2yoExgc4SNuMTEqPC+e3orvwyvSPvLMriha8388vXF9OzZQz3juvO6Z2tHIjPaNkfJk53esxeGgeXvAbFBU5ytnU+7FwK5SWAQHIv6H+Vk+h1HPWj67P6GhEZCzwJBAMvqOojNbS5BHgQUGC5ql7u2d4GeAFo7XntXFXd4o04rWiuMY2DJWzGpzQNC+GaYe24YnAbPl6xi0dnruPK/y3gjC7NuWdsN3q0jHE7RAPOagTXfuqU5nj5XGdbUCi0Og2G/hraDofWg5xboH5IRIKBZ4BzgCxgoYhMU9XMKm06A/cCw1V1v4gkVXmLV4GHVXWWiEQB5d6K9YeiuZawGRPILGEzPikkOIgL+rdiXO8WvDZ/K//6ciM/+ddcftY/lTtGd6FlnK036bqEjnD9TFjjWU6q1YD6L67rnkHARlXdDCAiU4DzgcwqbW4AnlHV/QCqmu1p2wMIUdVZnu1enU2TfdB62IxpDGzSgfFp4SHB/GJEB+bcNZJJZ3TgoxU7SX80g799uoYDR0rcDs/EtITBk6Dd6YGUrAG0ArZXeZ7l2VZVF6CLiHwjIt96bqFWbM8TkfdFZKmI/MPTY+cVdkvUmMbBetiMX4htGsq947pz9dB2PDZzHc/P2cxbC7dz88hOXDW0ra1TatwQAnQG0oFUYI6I9PZsHwH0B7YBbwETgf9VfwMRmQRMAkhOTiYjI6NWH1xQUFDZdum6IiJDYf7Xc0/lWBpU1fj9kcXvLn+PH5xjqCtL2IxfaRXXhMcv6cf1p7fnkU/X8pdP1vDyvC3cOqozF57WitBg6zQ29WIHzoSBCqmebVVlAQtUtQT4XkTW4yRwWcCyKrdTPwCGUEPCpqrPA88DpKWlaXp6eq2Cy8jIoKLtlO2LaVlYQHr6mbU8NPdVjd8fWfzu8vf4gZNKOO1/N+OXeraM5bXrB/PqdYOIjwzjd++t4KzHZvPu4ixKy7w2vts0HguBziLSXkTCgAnAtGptPsDpXUNEEnFuhW727BsnIs097UZx9Ni3epWdX0hSjN0ONSbQWcJm/NoZXZrz4a+H88LVaURHhHDnO8s5559zmLo0i7JydTs846dUtRS4GZgBrAHeVtXVIvKQiIz3NJsB5IpIJvAVcJeq5qpqGXAn8IWIrAQE+K+3Ys0pKKJ5lCVsxgQ6uyVq/J6IcHaPZM7qnsTMzD088fkGbn9rOf/6ciO3ndWZ8/q0JNiK75o6UtXpwPRq2x6o8r0Cv/U8qu87C+jTADGSfbCIpBhblsqYQGc9bCZgiAhjerbgk1tO57krTiM0KIjbpixjzBNz+HjFTsqtx80EmIOFpRSVllsPmzGNgFcTNhEZKyLrRGSjiNxTw+sTRSRHRJZ5Hr+o9nqMiGSJyNPejNMElqAgYVzvFD69bQRPX94fAW5+cynjnpzL9JW7LHEzAaOipIeNYTMm8HntlmhtKoV7vKWqNx/nbf4MzPFWjCawBQUJ5/VpybheKXy8YidPfbGBm95YQrcW0dx2VmfG9Gxh65Qav1axyoHVYDMm8Hmzh62yUriqFgMVlcJrRUQGAMnATC/FZxqJ4CDh/H6tmHn7mTw5oR/FZeX86o0lnPvUXD5bZT1uxn9V9rBZwmZMwPNmwlabSuEAF4nIChF5V0RaA4hIEPAYzkwrY+pFReI26/YzeeLSfhSXlvPL15fwk399zWerdlviZvzOD6sc2KQDYwKd27NEPwImq2qRiNwIvIJTs+gmYLqqZokc/5bVyVYJB/+vlGzxn5o44L4Byre7wvlwYz6/fH0xbaKDOL9TKP2Tggn6kX934H78p8riDww5+UWEhQQRE+H2pdwY423e/C0/YaVwVc2t8vQF4O+e74cCI0TkJiAKCBORAlW9p9r+J1UlHPy/UrLFXz9GAb8rK2fa8p3868uN/GvpIdolNOWaYW25eEAq0RGhNe7nK/GfLIs/MGTnF5EUHc6P/WFrjAkM3kzYKiuF4yRqE4DLqzYQkRRV3eV5Oh6nQCWqekWVNhOBtOrJmjH1JSQ4iJ+dlsr4vi2Zvmo3L3/zPX/6KJPHZq7n4gGpXDOsHe0TI90O05hjZOcX2oQDYxoJryVsqloqIhWVwoOBFysqhQOLVHUacKunangpsA9ngWRjXBESHMT4vi0Z37cly7fn8fK8LbyxYCuvzN/CyK5JTBzWjhGdE603w/iMnPwi+2PCmEbCqwMfalEp/F7g3hO8x8vAy14Iz5jj6ts6jn9e2o97z+3GG99u440F27j6xe/olBTFNcPa0bzUJigY92XnFzG4fYLbYRhjGoCNVDXmRyRFR3D7OV24aWRHpq/cxUvfbOH+D1YREQw/y1/JhIGt6d0q1nrdTIMrKi0j73CJ3RI1ppGwhM2YWggPCebC/qlc0K8VS7bt5/EPF/L+kizeXLCN7ikxTBjYmgv6tSK2ac2TFIypb3sLigGrwWZMY2FriRpTByLCgLbx3NAnnO/+cDZ/uaAXIUHCH6etZuBfP+c3U5Yyf1MuzrrgxnjPDzXYLGEzpjGwHjZjTlJMRChXDmnLlUPasmrHAd5etJ2pS3fwwbKdtEtoyiUDW/PzAa3tP1TjFdkHnWWpkqxorjGNgiVsxtSDXq1i6dUqlt+f251PV+1iynfb+ftn63hi1gbO65vCtcPa0zs11u0wTQDJth42YxoVS9iMqUcRoc5Ytwv7p7Ixu4DX5m/h3cVZvL9kBwPaNmPisHaM7dWC0GAbjWBOTU5+ESKQGBXmdijGmAZgCZsxXtIpKYo/nd+LO8Z05d1FWbwyfwu3TF5Kckw4Vw1py2WD2pAQZb0j5uRk5xeREBlGiCX/xjQKlrAZ42UxEaFcd3p7Jg5rR8b6bF76ZguPzlzPU19u5Kd9WnL10Lb0SbXSIKZucvKLSLSE35hGwxI2YxpIUJAwqlsyo7olszE7n1fmbeW9JVm8tySLVnFNOKdHMqN7JDOwfbzdMjUnlJNfSFKMTTgwprGwhM0YF3RKiubPF/TizjFd+WzVLmZl7mHyd9t4ed4WYpuEMqpbEuf0SObMLs2JDLdfU3OsnPwiOiVFux2GMaaB2P8Exrgotkkolw5sw6UD23C4uJQ56/cyM3M3X67NZurSHYSFBDG8YwKje7YgvWtzUmKbuB2y8QGqSk5BEUkxdkvUmMbCEjZjfETTsBDG9mrB2F4tKC0rZ9HW/cxcvYdZa3bz1fsrAWgd34TB7RMY1D6eIe0TaB3fxMa+NUIFJVBSpjS3MWzGNBqWsBnjg0KCgxjSIYEhHRK4/7zurNuTz7yNuSz4Ppcv1uzh3cVZALSIiWBwh3gGtY9ncPsEOjaPtASuEThQ5KykYT1sxjQelrAZ4+NEhG4tYujWIobrTm9PebmyMaeABZtzWfD9PuZtyuXDZTsBSIwK55weSfykd0uGdIi3kg8BKq8iYbNVDoxpNCxhM8bPBAUJXZKj6ZIczVVD26GqbMk9zILNuXy9cS8fLtvJ5O+2Ex8ZxpieyZzbO4WhHRIseQsgB4rKAVvlwJjGxBI2Y/yciNA+MZL2iZFMGNSGwpIyMtbl8MnKXZXJW7OmoYzt1aIyeTP+rfKWqCVsxjQalrAZE2AiQoMrJy9UJG/TV+5iWpXkrXe8oinZDOuYQHhIsNshmzo6UKQ0DQu2ki/GNCL2225MAKuevM1e7yRvM1buZM5LC4kOD2FU9yTG9mzBmV2b0zTMLgkVRGQs8CQQDLygqo/U0OYS4EFAgeWqerlnexmw0tNsm6qOr8/Y8orUeteMaWTs6mxMIxERGsyYni0Y07MFs5LyCGnZk89W7WbWmj18uGwn4SFBnNGlOWN7tuDs7snENg11O2TXiEgw8AxwDpAFLBSRaaqaWaVNZ+BeYLiq7heRpCpvcURV+3krvrwipXmsJWzGNCaWsBnTCIUGCendkhjZLYmHy8pZuGU/M1bvZsbq3czK3ENIkDC0YwKD28fTq1UsvVvFNraF6gcBG1V1M4CITAHOBzKrtLkBeEZV9wOoanZDBXegWOlkM0SNaVQsYTOmkQsJDmJoxwSGdkzgjz/twYqsA3y2ejczV+/m0ZnrK9u1jI2oTN56pTpfA3jx8VbA9irPs4DB1dp0ARCRb3Bumz6oqp95XosQkUVAKfCIqn5Q04eIyCRgEkBycjIZGRm1Ci6vsJzigzm1bu9rCgoK/DZ2sPjd5u/xg3MMdWUJmzGmkojQt3UcfVvHcffYbhw4UsLqnQdYteMAK3ccZNWOA8zM3FPZvkVMBL1axdApKZrOSVF0SoqiY1IUUY1jMHwI0BlIB1KBOSLSW1XzgLaqukNEOgBfishKVd1U/Q1U9XngeYC0tDRNT08/4YceKS6j8LPP6NetI+npnertYBpSRkYGtTlWX2Xxu8vf4wdOKuFsFFdVY8zJiW0SyrCOiQzrmFi5Lb+whNU7D3qSuANk7jzI7PU5lJRpZZuWsRF09CRwnZOi6ZQURdfkaH8aF7cDaF3leapnW1VZwAJVLQG+F5H1OAncQlXdAaCqm0UkA+gPHJOwnYyc/CLASnoY09hYwmaMqZPoiNDKZbMqlJSVszX3MBuzC9iYne98zSlg8nfbKCwpr2yX2qwJPVvG0KtlLD1bxdCzZSxJ0eG+uJzWQqCziLTHSdQmAJdXa/MBcBnwkogk4twi3SwizYDDqlrk2T4c+Ht9BZZTUAhY0VxjGhuvJmwnmhYvIhOBf/DDX65Pq+oLItIWmAoEAaHAv1T1396M1Rhz8kKDg+jk6VGDFpXby8uVHXlH2JhdwJrdB1m94yCrdx5gxuofbqsmRoXRs2UsPVs6CdyQDvGuT3BQ1VIRuRmYgXP9elFVV4vIQ8AiVZ3meW20iGQCZcBdqporIsOA/4hIOc417JGqs0tPVfbBih42m3RgTGPitYStNtPiPd5S1ZurbdsFDPX8hRoFrPLsu9Nb8Rpj6l9QkNA6vimt45systsPVS/yC0tYsyvfMz7OSeK+2biX0nLl+asGMLpnix9514ahqtOB6dW2PVDlewV+63lUbTMP6O2tuLI9t0Sth82YxsWbPWy1mRZfI1UtrvI0HOevVGNMgIiOCGVQ+3gGtY+v3FZYUsaGPQW0TWzqYmS+7/x+LSnN3kRCZJjboRhjGpA3E6GapsW3qqHdRSKyQkTeFZHKQb4i0lpEVnje4/+sd82YwBYRGkzv1FhiIvxmYoIr4pqG0TEumKAgnxv3Z4zxIrcnHXwETPbc+rwReAUYBaCq24E+ItIS+EBE3lXVPVV3PtkaRuD/dVwsfndZ/O7y9/iNMaauvJmwnXBavKrmVnn6AjXMpFLVnSKyChgBvFvttTrXMKrg73VcLH53Wfzu8vf4jTGmrrx5S7RyWryIhOFMi59WtYGIpFR5Oh5Y49meKiJNPN83A04H1nkxVmOMMcYYn+W1HrZaTou/VUTG4yzfsg+Y6Nm9O/CYiCggwKOqutJbsRpjjDHG+DKvjmGrxbT4e4F7a9hvFtDHm7EZY4wxxvgLK5dhjDHGGOPjLGEzxhhjjPFxlrAZY4wxxvg4S9iMMcYYY3ycJWzGGGOMMT5OnPWL/Z+I5ABb67BLIrDXS+E0BIvfXRa/uyrib6uqzd0Opj7U8RoWKOfPX1n87vL3+ME5hsi6XL8CJmGrKxFZpKppbsdxsix+d1n87vL3+E+Vvx+/xe8ui999J3MMdkvUGGOMMcbHWcJmjDHGGOPjGnPC9rzbAZwii99dFr+7/D3+U+Xvx2/xu8vid1+dj6HRjmEzxhhjjPEXjbmHzRhjjDHGLzS6hE1ExorIOhHZKCL3uB3PyRCRLSKyUkSWicgit+M5ERF5UUSyRWRVlW3xIjJLRDZ4vjZzM8Yfc5z4HxSRHZ5zsExEznUzxh8jIq1F5CsRyRSR1SJym2e7X5yDH4nfb85BffL3a5hdvxqWXb/cVZ/Xr0Z1S1REgoH1wDlAFrAQuExVM10NrI5EZAuQpqp+UYdGRM4ACoBXVbWXZ9vfgX2q+ojnP51mqnq3m3Eez3HifxAoUNVH3YytNkQkBUhR1SUiEg0sBi4AJuIH5+BH4r8EPzkH9SUQrmF2/WpYdv1yV31evxpbD9sgYKOqblbVYmAKcL7LMQU8VZ0D7Ku2+XzgFc/3r+D8A/ZJx4nfb6jqLlVd4vk+H1gDtMJPzsGPxN8Y2TWsgdn1y112/fpBY0vYWgHbqzzPwj8v/ArMFJHFIjLJ7WBOUrKq7vJ8vxtIdjOYk3SziKzw3HLwye746kSkHdAfWIAfnoNq8YMfnoNTFAjXMLt++Qa/+91p7NevxpawBYrTVfU0YBzwa0+Xt99S5768v92bfw7oCPQDdgGPuRpNLYhIFPAe8BtVPVj1NX84BzXE73fnwAB2/fIFfve7Y9evxpew7QBaV3me6tnmV1R1h+drNjAV5zaJv9njubdfcY8/2+V46kRV96hqmaqWA//Fx8+BiITiXCzeUNX3PZv95hzUFL+/nYN64vfXMLt+uc/ffnfs+uVobAnbQqCziLQXkTBgAjDN5ZjqREQiPQMXEZFIYDSw6sf38knTgGs8318DfOhiLHVWcaHwuBAfPgciIsD/gDWq+niVl/ziHBwvfn86B/XIr69hdv3yDf70u2PXryrv1ZhmiQJ4ps4+AQQDL6rqw+5GVDci0gHnr1KAEOBNXz8GEZkMpAOJwB7gj8AHwNtAG2ArcImq+uTA2OPEn47Tla3AFuDGKuMpfIqInA7MBVYC5Z7Nv8cZR+Hz5+BH4r8MPzkH9cmfr2F2/Wp4dv1yV31evxpdwmaMMcYY428a2y1RY4wxxhi/YwmbMcYYY4yPs4TNGGOMMcbHWcJmjDHGGOPjLGEzxhhjjPFxlrCZRkFE0kXkY7fjMMaYurLrlwFL2IwxxhhjfJ4lbManiMiVIvKdiCwTkf+ISLCIFIjIP0VktYh8ISLNPW37ici3nsVzp1YsnisinUTkcxFZLiJLRKSj5+2jRORdEVkrIm94KlAbY0y9sOuX8SZL2IzPEJHuwKXAcFXtB5QBVwCRwCJV7QnMxqnUDfAqcLeq9sGpIl2x/Q3gGVXtCwzDWVgXoD/wG6AH0AEY7uVDMsY0Enb9Mt4W4nYAxlRxFjAAWOj547EJzoK+5cBbnjavA++LSCwQp6qzPdtfAd7xrFPYSlWnAqhqIYDn/b5T1SzP82VAO+Brrx+VMaYxsOuX8SpL2IwvEeAVVb33qI0i91drd7LrqRVV+b4M+/dvjKk/dv0yXmW3RI0v+QK4WESSAEQkXkTa4vw7vdjT5nLga1U9AOwXkRGe7VcBs1U1H8gSkQs87xEuIk0b8iCMMY2SXb+MV1mGbnyGqmaKyH3ATBEJAkqAXwOHgEGe17JxxokAXAP823NB2wxc69l+FfAfEXnI8x4/b8DDMMY0Qnb9Mt4mqifbO2tMwxCRAlWNcjsOY4ypK7t+mfpit0SNMcYYY3yc9bAZY4wxxvg462EzxhhjjPFxlrAZY4wxxvg4S9iMMcYYY3ycJWzGGGOMMT7OEjZjjDHGGB9nCZsxxhhjjI/7f7uR6n0idkDrAAAAAElFTkSuQmCC",
      "text/plain": [
       "<Figure size 720x360 with 2 Axes>"
      ]
     },
     "metadata": {
      "needs_background": "light"
     },
     "output_type": "display_data"
    }
   ],
   "source": [
    "fig = plt.figure(figsize = (10, 5))\n",
    "ax = fig.add_subplot(1, 2, 1)\n",
    "ax.plot(train_loss_history, label = \"train\")\n",
    "ax.plot(test_loss_history, label = \"test\")\n",
    "ax.set_xlabel(\"epoch\")\n",
    "ax.set_ylabel(\"loss\")\n",
    "ax.legend()\n",
    "ax.grid()\n",
    "\n",
    "ax = fig.add_subplot(1, 2, 2)\n",
    "ax.plot(train_accuracy_history, label = \"train\")\n",
    "ax.plot(test_accuracy_history, label = \"test\")\n",
    "ax.set_xlabel(\"epoch\")\n",
    "ax.set_ylabel(\"accuracy\")\n",
    "ax.legend()\n",
    "ax.grid()"
>>>>>>> Stashed changes
   ]
  }
 ],
 "metadata": {
  "kernelspec": {
   "display_name": "Python 3",
   "language": "python",
   "name": "python3"
  },
  "language_info": {
   "codemirror_mode": {
    "name": "ipython",
    "version": 3
   },
   "file_extension": ".py",
   "mimetype": "text/x-python",
   "name": "python",
   "nbconvert_exporter": "python",
   "pygments_lexer": "ipython3",
   "version": "3.10.12"
  }
 },
 "nbformat": 4,
 "nbformat_minor": 2
}
