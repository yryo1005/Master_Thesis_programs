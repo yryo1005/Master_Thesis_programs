{
 "cells": [
  {
   "cell_type": "markdown",
   "metadata": {},
   "source": [
    "# 現実写真のみ、文字なし、固有名詞全部なし、キャプション無し、ほかの画像の大喜利"
   ]
  },
  {
   "cell_type": "code",
   "execution_count": 1,
   "metadata": {},
   "outputs": [],
   "source": [
    "import os\n",
    "import json\n",
    "import numpy as np\n",
    "import matplotlib.pyplot as plt\n",
    "from tqdm import tqdm\n",
    "from sklearn.model_selection import train_test_split\n",
    "\n",
    "import torch\n",
    "import torch.nn as nn\n",
    "import torch.nn.functional as F\n",
    "from torch import optim\n",
    "from torch.utils.data import Dataset, DataLoader"
   ]
  },
  {
   "cell_type": "code",
   "execution_count": 2,
   "metadata": {},
   "outputs": [],
   "source": [
    "EXPERIENCE_NUMBER = \"004\"\n",
    "\n",
    "USE_UNREAL_IMAGE = False\n",
    "USE_WORD_IMAGE = False\n",
    "USE_UNIQUE_NOUN_BOKE = False\n",
    "USE_CAPTION = False\n",
    "USE_MISS_BOKE = True\n",
    "\n",
    "EPOCH = 25\n",
    "BATCH_SIZE = 256\n",
    "\n",
    "RESULT_DIR = f\"../../results/Boke_Judge/{EXPERIENCE_NUMBER}/\"\n",
    "if not os.path.exists(\"../../results/Boke_Judge/\"):\n",
    "    os.mkdir(\"../../results/Boke_Judge/\")\n",
    "if not os.path.exists(RESULT_DIR):\n",
    "    os.mkdir(RESULT_DIR)\n",
    "\n",
    "DATA_DIR = \"../../datas/boke_data_assemble/\"\n",
    "CLIP_IMAGE_FEATURE_DIR = \"../../datas/encoded/clip_image_feature/\"\n",
    "CLIP_SENTENCE_FEATURE_DIR = \"../../datas/encoded/clip_sentence_feature/\"\n",
    "LUKE_SENTENCE_FEATURE_DIR = \"../../datas/encoded/luke_sentence_feature/\""
   ]
  },
  {
   "cell_type": "markdown",
   "metadata": {},
   "source": [
    "# データセットの作成(初回のみ実行)"
   ]
  },
  {
   "cell_type": "code",
   "execution_count": 3,
   "metadata": {},
   "outputs": [
    {
     "name": "stderr",
     "output_type": "stream",
     "text": [
      "100%|██████████| 602566/602566 [03:15<00:00, 3078.98it/s]\n"
     ]
    },
    {
     "data": {
      "text/plain": [
       "(2183708, 230990)"
      ]
     },
     "execution_count": 3,
     "metadata": {},
     "output_type": "execute_result"
    }
   ],
   "source": [
    "boke_datas = list()\n",
    "caption_datas = list()\n",
    "\n",
    "max_num_boke = 0\n",
    "for JP in tqdm(os.listdir(DATA_DIR)):\n",
    "    N = int(JP.split(\".\")[0])\n",
    "\n",
    "    with open(f\"{DATA_DIR}{JP}\", \"r\") as f:\n",
    "        a = json.load(f)\n",
    "\n",
    "    image_information = a[\"image_infomation\"]\n",
    "    is_photographic_probability = image_information[\"is_photographic_probability\"]\n",
    "    ja_caption = image_information[\"ja_caption\"]\n",
    "    ocr = image_information[\"ocr\"]\n",
    "\n",
    "    # 現実写真以外を除去\n",
    "    if not USE_UNREAL_IMAGE:\n",
    "        if is_photographic_probability < 0.8: continue\n",
    "        \n",
    "    # 文字のある画像を除去\n",
    "    if not USE_WORD_IMAGE:\n",
    "        if len(ocr) != 0: continue\n",
    "\n",
    "    bokes = a[\"bokes\"]\n",
    "\n",
    "    max_num_boke = max(max_num_boke, len(a[\"bokes\"]))\n",
    "    for i, B in enumerate(bokes):\n",
    "\n",
    "        # 固有名詞を含む大喜利を除去\n",
    "        if not USE_UNIQUE_NOUN_BOKE:\n",
    "            if len(B[\"unique_nouns\"]) != 0: continue\n",
    "\n",
    "        boke_datas.append({\n",
    "            \"boke_number\": int(f\"1{N:07}{i:05}\"),\n",
    "            \"image_number\": int(f\"3{N:07}\")\n",
    "        })\n",
    "\n",
    "    caption_datas.append({\n",
    "        \"caption_number\": int(f\"2{N:07}\"),\n",
    "        \"image_number\": int(f\"3{N:07}\")\n",
    "    })\n",
    "\n",
    "len(boke_datas), len(caption_datas)"
   ]
  },
  {
   "cell_type": "code",
   "execution_count": 4,
   "metadata": {},
   "outputs": [],
   "source": [
    "train_boke_datas, test_boke_datas = train_test_split(boke_datas, test_size = 0.01)\n",
    "train_caption_datas, test_caption_datas = train_test_split(caption_datas, test_size = 0.01)\n",
    "\n",
    "with open(f\"{RESULT_DIR}train_boke_datas.json\", \"w\") as f:\n",
    "    json.dump(train_boke_datas, f)\n",
    "with open(f\"{RESULT_DIR}train_caption_datas.json\", \"w\") as f:\n",
    "    json.dump(train_caption_datas, f)\n",
    "\n",
    "with open(f\"{RESULT_DIR}test_boke_datas.json\", \"w\") as f:\n",
    "    json.dump(test_boke_datas, f)\n",
    "with open(f\"{RESULT_DIR}test_caption_datas.json\", \"w\") as f:\n",
    "    json.dump(test_caption_datas, f)"
   ]
  },
  {
   "cell_type": "markdown",
   "metadata": {},
   "source": [
    "# モデルの学習"
   ]
  },
  {
   "cell_type": "code",
   "execution_count": 5,
   "metadata": {},
   "outputs": [
    {
     "data": {
      "text/plain": [
       "(2161870, 228680, 21838, 2310)"
      ]
     },
     "execution_count": 5,
     "metadata": {},
     "output_type": "execute_result"
    }
   ],
   "source": [
    "with open(f\"{RESULT_DIR}train_boke_datas.json\", \"r\") as f:\n",
    "    train_boke_datas = json.load(f)\n",
    "with open(f\"{RESULT_DIR}train_caption_datas.json\", \"r\") as f:\n",
    "    train_caption_datas = json.load(f)\n",
    "\n",
    "with open(f\"{RESULT_DIR}test_boke_datas.json\", \"r\") as f:\n",
    "    test_boke_datas = json.load(f)\n",
    "with open(f\"{RESULT_DIR}test_caption_datas.json\", \"r\") as f:\n",
    "    test_caption_datas = json.load(f)\n",
    "\n",
    "len(train_boke_datas), len(train_caption_datas), len(test_boke_datas), len(test_caption_datas)"
   ]
  },
  {
   "cell_type": "code",
   "execution_count": 6,
   "metadata": {},
   "outputs": [
    {
     "name": "stderr",
     "output_type": "stream",
     "text": [
      "2161870it [00:01, 1092109.96it/s]\n"
     ]
    },
    {
     "name": "stdout",
     "output_type": "stream",
     "text": [
      "num data: 4323740\n"
     ]
    },
    {
     "name": "stderr",
     "output_type": "stream",
     "text": [
      "21838it [00:00, 95323.50it/s]"
     ]
    },
    {
     "name": "stdout",
     "output_type": "stream",
     "text": [
      "num data: 43676\n"
     ]
    },
    {
     "name": "stderr",
     "output_type": "stream",
     "text": [
      "\n"
     ]
    },
    {
     "data": {
      "text/plain": [
       "((256, 512), (256, 512), (256, 768), (256,))"
      ]
     },
     "execution_count": 6,
     "metadata": {},
     "output_type": "execute_result"
    }
   ],
   "source": [
    "def make_dataloader(boke_datas, caption_datas):\n",
    "    class LoadNpyDataset(Dataset):\n",
    "        def __init__(self, image_file_numbers, sentence_file_numbers, teacher_signals):\n",
    "            if len(image_file_numbers) != len(sentence_file_numbers) and len(sentence_file_numbers) != len(teacher_signals):\n",
    "                raise ValueError(\"データリストの長さが一致しません\")\n",
    "\n",
    "            self.image_file_numbers = image_file_numbers\n",
    "            self.sentence_file_numbers = sentence_file_numbers\n",
    "            self.teacher_signals = teacher_signals\n",
    "\n",
    "        def __len__(self):\n",
    "            return len(self.teacher_signals)\n",
    "\n",
    "        def __getitem__(self, idx):\n",
    "            clip_image_feature = np.load(f\"{CLIP_IMAGE_FEATURE_DIR}{self.image_file_numbers[idx]}.npy\")\n",
    "            clip_sentence_feature = np.load(f\"{CLIP_SENTENCE_FEATURE_DIR}{self.sentence_file_numbers[idx]}.npy\")\n",
    "            luke_sentence_feature = np.load(f\"{LUKE_SENTENCE_FEATURE_DIR}{self.sentence_file_numbers[idx]}.npy\")\n",
    "            teacher_signal = self.teacher_signals[idx]\n",
    "\n",
    "            return clip_image_feature, clip_sentence_feature, luke_sentence_feature, teacher_signal\n",
    "\n",
    "    def collate_fn_tf(batch):\n",
    "        clip_image_features = np.array([B[0] for B in batch])\n",
    "        clip_sentence_features = np.array([B[1] for B in batch])\n",
    "        luke_sentence_features = np.array([B[2] for B in batch])\n",
    "        teacher_signals = np.array([float(B[3]) for B in batch])\n",
    "        \n",
    "        return clip_image_features, clip_sentence_features, luke_sentence_features, teacher_signals\n",
    "\n",
    "    #\n",
    "    image_file_numbers = list()\n",
    "    sentence_file_numbers = list()\n",
    "    teacher_signals = list()\n",
    "\n",
    "    for D in boke_datas:\n",
    "        image_file_numbers.append(D[\"image_number\"])\n",
    "        sentence_file_numbers.append(D[\"boke_number\"])\n",
    "        teacher_signals.append(1)\n",
    "\n",
    "    if USE_CAPTION:\n",
    "        for D in caption_datas:\n",
    "            image_file_numbers.append(D[\"image_number\"])\n",
    "            sentence_file_numbers.append(D[\"caption_number\"])\n",
    "            teacher_signals.append(0)\n",
    "    \n",
    "    if USE_MISS_BOKE:\n",
    "        miss_boke_datas = list()\n",
    "        tmp_idx = np.random.randint(0, len(boke_datas), size = (len(boke_datas), ))\n",
    "        for i, idx in tqdm(enumerate(tmp_idx)):\n",
    "            tmp_boke_number = boke_datas[idx][\"boke_number\"]\n",
    "            while str(tmp_boke_number)[:7] == str(boke_datas[i][\"boke_number\"])[:7]:\n",
    "                idx = np.random.randint(0, len(boke_datas))\n",
    "                tmp_boke_number = boke_datas[idx][\"boke_number\"]\n",
    "\n",
    "            miss_boke_datas.append({\n",
    "                \"boke_number\": tmp_boke_number,\n",
    "                \"image_number\": boke_datas[i][\"image_number\"]\n",
    "            })\n",
    "        \n",
    "        for D in miss_boke_datas:\n",
    "            image_file_numbers.append(D[\"image_number\"])\n",
    "            sentence_file_numbers.append(D[\"boke_number\"])\n",
    "            teacher_signals.append(0)\n",
    "    \n",
    "    print(f\"num data: {len(teacher_signals)}\")\n",
    "\n",
    "    tmp = list(zip(image_file_numbers, sentence_file_numbers, teacher_signals))\n",
    "    np.random.shuffle(tmp)\n",
    "    image_file_numbers, sentence_file_numbers, teacher_signals = zip(*tmp)\n",
    "\n",
    "    dataset = LoadNpyDataset(image_file_numbers, sentence_file_numbers, teacher_signals)\n",
    "    dataloader = DataLoader(\n",
    "        dataset, \n",
    "        batch_size = BATCH_SIZE, \n",
    "        num_workers = 10, \n",
    "        collate_fn = collate_fn_tf\n",
    "    )\n",
    "\n",
    "    return dataloader\n",
    "\n",
    "train_dataloader = make_dataloader(train_boke_datas, train_caption_datas)\n",
    "test_dataloader = make_dataloader(test_boke_datas, test_caption_datas)\n",
    "\n",
    "#\n",
    "CIF, CSF, LSF, TS = next(iter(train_dataloader))\n",
    "CIF.shape, CSF.shape, LSF.shape, TS.shape"
   ]
  },
  {
   "cell_type": "code",
   "execution_count": 7,
   "metadata": {},
   "outputs": [
    {
     "name": "stdout",
     "output_type": "stream",
     "text": [
      "CustomModel(\n",
      "  (fc1): Linear(in_features=1792, out_features=1024, bias=True)\n",
      "  (fc2): Linear(in_features=1024, out_features=1024, bias=True)\n",
      "  (fc3): Linear(in_features=1024, out_features=1024, bias=True)\n",
      "  (output_layer): Linear(in_features=1024, out_features=1, bias=True)\n",
      ")\n"
     ]
    }
   ],
   "source": [
    "class CustomModel(nn.Module):\n",
    "    def __init__(self, cif_dim, csf_dim, lsf_dim):\n",
    "        super(CustomModel, self).__init__()\n",
    "        # 入力次元を設定\n",
    "        self.cif_dim = cif_dim\n",
    "        self.csf_dim = csf_dim\n",
    "        self.lsf_dim = lsf_dim\n",
    "        \n",
    "        # 全結合層\n",
    "        self.fc1 = nn.Linear(cif_dim + csf_dim + lsf_dim, 1024)\n",
    "        self.fc2 = nn.Linear(1024, 1024)\n",
    "        self.fc3 = nn.Linear(1024, 1024)\n",
    "        self.output_layer = nn.Linear(1024, 1)\n",
    "        \n",
    "    def forward(self, cif, csf, lsf):\n",
    "        # 入力を結合\n",
    "        x = torch.cat([cif, csf, lsf], dim=1)\n",
    "        # 全結合層 + LeakyReLU\n",
    "        x = F.leaky_relu(self.fc1(x))\n",
    "        x = F.leaky_relu(self.fc2(x))\n",
    "        x = F.leaky_relu(self.fc3(x))\n",
    "        # 出力層 + シグモイド\n",
    "        output = torch.sigmoid(self.output_layer(x))\n",
    "        return output\n",
    "\n",
    "model = CustomModel(CIF.shape[1], CSF.shape[1], LSF.shape[1])\n",
    "print(model)"
   ]
  },
  {
   "cell_type": "code",
   "execution_count": 8,
   "metadata": {},
   "outputs": [
    {
     "name": "stderr",
     "output_type": "stream",
     "text": [
      "2161870it [00:01, 1111476.25it/s]\n"
     ]
    },
    {
     "name": "stdout",
     "output_type": "stream",
     "text": [
      "num data: 4323740\n"
     ]
    },
    {
     "name": "stderr",
     "output_type": "stream",
     "text": [
      "Epoch 1/25: 100%|██████████| 16890/16890 [08:59<00:00, 31.32it/s, train_loss=0.62, train_accuracy=0.644] \n",
      "21838it [00:00, 160667.98it/s]\n"
     ]
    },
    {
     "name": "stdout",
     "output_type": "stream",
     "text": [
      "num data: 43676\n"
     ]
    },
    {
     "name": "stderr",
     "output_type": "stream",
     "text": [
      "Evaluating: 100%|██████████| 171/171 [00:06<00:00, 25.53it/s, test_loss=0.628, test_accuracy=0.701]\n"
     ]
    },
    {
     "name": "stdout",
     "output_type": "stream",
     "text": [
      "Epoch: 1/25, Train Loss: 0.6203, Train Accuracy: 0.6439, Test Loss: 0.5983, Test Accuracy: 0.6686\n"
     ]
    },
    {
     "name": "stderr",
     "output_type": "stream",
     "text": [
      "2161870it [00:06, 357819.17it/s] \n"
     ]
    },
    {
     "name": "stdout",
     "output_type": "stream",
     "text": [
      "num data: 4323740\n"
     ]
    },
    {
     "name": "stderr",
     "output_type": "stream",
     "text": [
      "Epoch 2/25: 100%|██████████| 16890/16890 [09:05<00:00, 30.95it/s, train_loss=0.584, train_accuracy=0.683]\n",
      "21838it [00:00, 1284231.04it/s]\n"
     ]
    },
    {
     "name": "stdout",
     "output_type": "stream",
     "text": [
      "num data: 43676\n"
     ]
    },
    {
     "name": "stderr",
     "output_type": "stream",
     "text": [
      "Evaluating: 100%|██████████| 171/171 [00:02<00:00, 59.34it/s, test_loss=0.579, test_accuracy=0.693] \n"
     ]
    },
    {
     "name": "stdout",
     "output_type": "stream",
     "text": [
      "Epoch: 2/25, Train Loss: 0.5836, Train Accuracy: 0.6827, Test Loss: 0.5760, Test Accuracy: 0.6891\n"
     ]
    },
    {
     "name": "stderr",
     "output_type": "stream",
     "text": [
      "2161870it [00:02, 1073640.58it/s]\n"
     ]
    },
    {
     "name": "stdout",
     "output_type": "stream",
     "text": [
      "num data: 4323740\n"
     ]
    },
    {
     "name": "stderr",
     "output_type": "stream",
     "text": [
      "Epoch 3/25: 100%|██████████| 16890/16890 [06:37<00:00, 42.50it/s, train_loss=0.566, train_accuracy=0.698]\n",
      "21838it [00:00, 1220618.48it/s]\n"
     ]
    },
    {
     "name": "stdout",
     "output_type": "stream",
     "text": [
      "num data: 43676\n"
     ]
    },
    {
     "name": "stderr",
     "output_type": "stream",
     "text": [
      "Evaluating: 100%|██████████| 171/171 [00:02<00:00, 59.55it/s, test_loss=0.569, test_accuracy=0.7]   \n"
     ]
    },
    {
     "name": "stdout",
     "output_type": "stream",
     "text": [
      "Epoch: 3/25, Train Loss: 0.5657, Train Accuracy: 0.6980, Test Loss: 0.5652, Test Accuracy: 0.6963\n"
     ]
    },
    {
     "name": "stderr",
     "output_type": "stream",
     "text": [
      "2161870it [00:02, 1072837.12it/s]\n"
     ]
    },
    {
     "name": "stdout",
     "output_type": "stream",
     "text": [
      "num data: 4323740\n"
     ]
    },
    {
     "name": "stderr",
     "output_type": "stream",
     "text": [
      "Epoch 4/25: 100%|██████████| 16890/16890 [06:30<00:00, 43.28it/s, train_loss=0.552, train_accuracy=0.709]\n",
      "21838it [00:00, 1326870.69it/s]\n"
     ]
    },
    {
     "name": "stdout",
     "output_type": "stream",
     "text": [
      "num data: 43676\n"
     ]
    },
    {
     "name": "stderr",
     "output_type": "stream",
     "text": [
      "Evaluating: 100%|██████████| 171/171 [00:03<00:00, 56.15it/s, test_loss=0.559, test_accuracy=0.704] \n"
     ]
    },
    {
     "name": "stdout",
     "output_type": "stream",
     "text": [
      "Epoch: 4/25, Train Loss: 0.5523, Train Accuracy: 0.7092, Test Loss: 0.5586, Test Accuracy: 0.7043\n"
     ]
    },
    {
     "name": "stderr",
     "output_type": "stream",
     "text": [
      "2161870it [00:01, 1092830.85it/s]\n"
     ]
    },
    {
     "name": "stdout",
     "output_type": "stream",
     "text": [
      "num data: 4323740\n"
     ]
    },
    {
     "name": "stderr",
     "output_type": "stream",
     "text": [
      "Epoch 5/25: 100%|██████████| 16890/16890 [08:05<00:00, 34.78it/s, train_loss=0.541, train_accuracy=0.718]\n",
      "21838it [00:00, 1387238.72it/s]\n"
     ]
    },
    {
     "name": "stdout",
     "output_type": "stream",
     "text": [
      "num data: 43676\n"
     ]
    },
    {
     "name": "stderr",
     "output_type": "stream",
     "text": [
      "Evaluating: 100%|██████████| 171/171 [00:03<00:00, 53.73it/s, test_loss=0.597, test_accuracy=0.753] \n"
     ]
    },
    {
     "name": "stdout",
     "output_type": "stream",
     "text": [
      "Epoch: 5/25, Train Loss: 0.5406, Train Accuracy: 0.7179, Test Loss: 0.5585, Test Accuracy: 0.7041\n"
     ]
    },
    {
     "name": "stderr",
     "output_type": "stream",
     "text": [
      "2161870it [00:01, 1086570.17it/s]\n"
     ]
    },
    {
     "name": "stdout",
     "output_type": "stream",
     "text": [
      "num data: 4323740\n"
     ]
    },
    {
     "name": "stderr",
     "output_type": "stream",
     "text": [
      "Epoch 6/25: 100%|██████████| 16890/16890 [06:33<00:00, 42.87it/s, train_loss=0.53, train_accuracy=0.726] \n",
      "21838it [00:00, 1252584.08it/s]\n"
     ]
    },
    {
     "name": "stdout",
     "output_type": "stream",
     "text": [
      "num data: 43676\n"
     ]
    },
    {
     "name": "stderr",
     "output_type": "stream",
     "text": [
      "Evaluating: 100%|██████████| 171/171 [00:03<00:00, 52.81it/s, test_loss=0.559, test_accuracy=0.712] \n"
     ]
    },
    {
     "name": "stdout",
     "output_type": "stream",
     "text": [
      "Epoch: 6/25, Train Loss: 0.5300, Train Accuracy: 0.7259, Test Loss: 0.5558, Test Accuracy: 0.7081\n"
     ]
    },
    {
     "name": "stderr",
     "output_type": "stream",
     "text": [
      "2161870it [00:02, 1026809.84it/s]\n"
     ]
    },
    {
     "name": "stdout",
     "output_type": "stream",
     "text": [
      "num data: 4323740\n"
     ]
    },
    {
     "name": "stderr",
     "output_type": "stream",
     "text": [
      "Epoch 7/25: 100%|██████████| 16890/16890 [06:34<00:00, 42.83it/s, train_loss=0.52, train_accuracy=0.733] \n",
      "21838it [00:00, 1282576.64it/s]\n"
     ]
    },
    {
     "name": "stdout",
     "output_type": "stream",
     "text": [
      "num data: 43676\n"
     ]
    },
    {
     "name": "stderr",
     "output_type": "stream",
     "text": [
      "Evaluating: 100%|██████████| 171/171 [00:03<00:00, 52.99it/s, test_loss=0.551, test_accuracy=0.71]  \n"
     ]
    },
    {
     "name": "stdout",
     "output_type": "stream",
     "text": [
      "Epoch: 7/25, Train Loss: 0.5198, Train Accuracy: 0.7332, Test Loss: 0.5510, Test Accuracy: 0.7097\n"
     ]
    },
    {
     "name": "stderr",
     "output_type": "stream",
     "text": [
      "2161870it [00:02, 1056835.90it/s]\n"
     ]
    },
    {
     "name": "stdout",
     "output_type": "stream",
     "text": [
      "num data: 4323740\n"
     ]
    },
    {
     "name": "stderr",
     "output_type": "stream",
     "text": [
      "Epoch 8/25: 100%|██████████| 16890/16890 [08:52<00:00, 31.75it/s, train_loss=0.51, train_accuracy=0.74]  \n",
      "21838it [00:00, 191004.41it/s]\n"
     ]
    },
    {
     "name": "stdout",
     "output_type": "stream",
     "text": [
      "num data: 43676\n"
     ]
    },
    {
     "name": "stderr",
     "output_type": "stream",
     "text": [
      "Evaluating: 100%|██████████| 171/171 [00:04<00:00, 36.71it/s, test_loss=0.571, test_accuracy=0.736]\n"
     ]
    },
    {
     "name": "stdout",
     "output_type": "stream",
     "text": [
      "Epoch: 8/25, Train Loss: 0.5102, Train Accuracy: 0.7398, Test Loss: 0.5539, Test Accuracy: 0.7141\n"
     ]
    },
    {
     "name": "stderr",
     "output_type": "stream",
     "text": [
      "2161870it [00:04, 456514.19it/s]\n"
     ]
    },
    {
     "name": "stdout",
     "output_type": "stream",
     "text": [
      "num data: 4323740\n"
     ]
    },
    {
     "name": "stderr",
     "output_type": "stream",
     "text": [
      "Epoch 9/25: 100%|██████████| 16890/16890 [08:08<00:00, 34.54it/s, train_loss=0.502, train_accuracy=0.745]\n",
      "21838it [00:00, 1317632.32it/s]\n"
     ]
    },
    {
     "name": "stdout",
     "output_type": "stream",
     "text": [
      "num data: 43676\n"
     ]
    },
    {
     "name": "stderr",
     "output_type": "stream",
     "text": [
      "Evaluating: 100%|██████████| 171/171 [00:03<00:00, 54.13it/s, test_loss=0.599, test_accuracy=0.773] \n"
     ]
    },
    {
     "name": "stdout",
     "output_type": "stream",
     "text": [
      "Epoch: 9/25, Train Loss: 0.5015, Train Accuracy: 0.7451, Test Loss: 0.5538, Test Accuracy: 0.7138\n"
     ]
    },
    {
     "name": "stderr",
     "output_type": "stream",
     "text": [
      "2161870it [00:01, 1085886.77it/s]\n"
     ]
    },
    {
     "name": "stdout",
     "output_type": "stream",
     "text": [
      "num data: 4323740\n"
     ]
    },
    {
     "name": "stderr",
     "output_type": "stream",
     "text": [
      "Epoch 10/25: 100%|██████████| 16890/16890 [05:43<00:00, 49.16it/s, train_loss=0.493, train_accuracy=0.751]\n",
      "21838it [00:00, 1439225.84it/s]\n"
     ]
    },
    {
     "name": "stdout",
     "output_type": "stream",
     "text": [
      "num data: 43676\n"
     ]
    },
    {
     "name": "stderr",
     "output_type": "stream",
     "text": [
      "Evaluating: 100%|██████████| 171/171 [00:02<00:00, 58.58it/s, test_loss=0.595, test_accuracy=0.758] \n"
     ]
    },
    {
     "name": "stdout",
     "output_type": "stream",
     "text": [
      "Epoch: 10/25, Train Loss: 0.4928, Train Accuracy: 0.7509, Test Loss: 0.5601, Test Accuracy: 0.7138\n"
     ]
    },
    {
     "name": "stderr",
     "output_type": "stream",
     "text": [
      "2161870it [00:02, 1077521.17it/s]\n"
     ]
    },
    {
     "name": "stdout",
     "output_type": "stream",
     "text": [
      "num data: 4323740\n"
     ]
    },
    {
     "name": "stderr",
     "output_type": "stream",
     "text": [
      "Epoch 11/25: 100%|██████████| 16890/16890 [08:45<00:00, 32.14it/s, train_loss=0.485, train_accuracy=0.756]\n",
      "21838it [00:00, 1294357.53it/s]\n"
     ]
    },
    {
     "name": "stdout",
     "output_type": "stream",
     "text": [
      "num data: 43676\n"
     ]
    },
    {
     "name": "stderr",
     "output_type": "stream",
     "text": [
      "Evaluating: 100%|██████████| 171/171 [00:02<00:00, 58.42it/s, test_loss=0.582, test_accuracy=0.732] \n"
     ]
    },
    {
     "name": "stdout",
     "output_type": "stream",
     "text": [
      "Epoch: 11/25, Train Loss: 0.4846, Train Accuracy: 0.7561, Test Loss: 0.5681, Test Accuracy: 0.7148\n"
     ]
    },
    {
     "name": "stderr",
     "output_type": "stream",
     "text": [
      "2161870it [00:02, 1078934.59it/s]\n"
     ]
    },
    {
     "name": "stdout",
     "output_type": "stream",
     "text": [
      "num data: 4323740\n"
     ]
    },
    {
     "name": "stderr",
     "output_type": "stream",
     "text": [
      "Epoch 12/25: 100%|██████████| 16890/16890 [05:30<00:00, 51.04it/s, train_loss=0.477, train_accuracy=0.761]\n",
      "21838it [00:00, 1462574.82it/s]\n"
     ]
    },
    {
     "name": "stdout",
     "output_type": "stream",
     "text": [
      "num data: 43676\n"
     ]
    },
    {
     "name": "stderr",
     "output_type": "stream",
     "text": [
      "Evaluating: 100%|██████████| 171/171 [00:03<00:00, 54.90it/s, test_loss=0.612, test_accuracy=0.777] \n"
     ]
    },
    {
     "name": "stdout",
     "output_type": "stream",
     "text": [
      "Epoch: 12/25, Train Loss: 0.4766, Train Accuracy: 0.7610, Test Loss: 0.5656, Test Accuracy: 0.7181\n"
     ]
    },
    {
     "name": "stderr",
     "output_type": "stream",
     "text": [
      "2161870it [00:02, 1064683.01it/s]\n"
     ]
    },
    {
     "name": "stdout",
     "output_type": "stream",
     "text": [
      "num data: 4323740\n"
     ]
    },
    {
     "name": "stderr",
     "output_type": "stream",
     "text": [
      "Epoch 13/25: 100%|██████████| 16890/16890 [05:47<00:00, 48.62it/s, train_loss=0.469, train_accuracy=0.766]\n",
      "21838it [00:00, 1002925.84it/s]\n"
     ]
    },
    {
     "name": "stdout",
     "output_type": "stream",
     "text": [
      "num data: 43676\n"
     ]
    },
    {
     "name": "stderr",
     "output_type": "stream",
     "text": [
      "Evaluating: 100%|██████████| 171/171 [00:03<00:00, 55.48it/s, test_loss=0.576, test_accuracy=0.725] \n"
     ]
    },
    {
     "name": "stdout",
     "output_type": "stream",
     "text": [
      "Epoch: 13/25, Train Loss: 0.4689, Train Accuracy: 0.7657, Test Loss: 0.5693, Test Accuracy: 0.7165\n"
     ]
    },
    {
     "name": "stderr",
     "output_type": "stream",
     "text": [
      "2161870it [00:02, 1077156.62it/s]\n"
     ]
    },
    {
     "name": "stdout",
     "output_type": "stream",
     "text": [
      "num data: 4323740\n"
     ]
    },
    {
     "name": "stderr",
     "output_type": "stream",
     "text": [
      "Epoch 14/25: 100%|██████████| 16890/16890 [05:26<00:00, 51.78it/s, train_loss=0.462, train_accuracy=0.77] \n",
      "21838it [00:00, 1402468.39it/s]\n"
     ]
    },
    {
     "name": "stdout",
     "output_type": "stream",
     "text": [
      "num data: 43676\n"
     ]
    },
    {
     "name": "stderr",
     "output_type": "stream",
     "text": [
      "Evaluating: 100%|██████████| 171/171 [00:03<00:00, 56.45it/s, test_loss=0.575, test_accuracy=0.717] \n"
     ]
    },
    {
     "name": "stdout",
     "output_type": "stream",
     "text": [
      "Epoch: 14/25, Train Loss: 0.4616, Train Accuracy: 0.7704, Test Loss: 0.5746, Test Accuracy: 0.7175\n"
     ]
    },
    {
     "name": "stderr",
     "output_type": "stream",
     "text": [
      "2161870it [00:02, 1067732.51it/s]\n"
     ]
    },
    {
     "name": "stdout",
     "output_type": "stream",
     "text": [
      "num data: 4323740\n"
     ]
    },
    {
     "name": "stderr",
     "output_type": "stream",
     "text": [
      "Epoch 15/25: 100%|██████████| 16890/16890 [06:17<00:00, 44.78it/s, train_loss=0.455, train_accuracy=0.775]\n",
      "21838it [00:00, 1493456.99it/s]\n"
     ]
    },
    {
     "name": "stdout",
     "output_type": "stream",
     "text": [
      "num data: 43676\n"
     ]
    },
    {
     "name": "stderr",
     "output_type": "stream",
     "text": [
      "Evaluating: 100%|██████████| 171/171 [00:02<00:00, 57.93it/s, test_loss=0.626, test_accuracy=0.768] \n"
     ]
    },
    {
     "name": "stdout",
     "output_type": "stream",
     "text": [
      "Epoch: 15/25, Train Loss: 0.4546, Train Accuracy: 0.7748, Test Loss: 0.5818, Test Accuracy: 0.7141\n"
     ]
    },
    {
     "name": "stderr",
     "output_type": "stream",
     "text": [
      "2161870it [00:02, 1070299.38it/s]\n"
     ]
    },
    {
     "name": "stdout",
     "output_type": "stream",
     "text": [
      "num data: 4323740\n"
     ]
    },
    {
     "name": "stderr",
     "output_type": "stream",
     "text": [
      "Epoch 16/25: 100%|██████████| 16890/16890 [07:51<00:00, 35.81it/s, train_loss=0.448, train_accuracy=0.779] \n",
      "21838it [00:00, 1356523.96it/s]\n"
     ]
    },
    {
     "name": "stdout",
     "output_type": "stream",
     "text": [
      "num data: 43676\n"
     ]
    },
    {
     "name": "stderr",
     "output_type": "stream",
     "text": [
      "Evaluating: 100%|██████████| 171/171 [00:02<00:00, 58.70it/s, test_loss=0.639, test_accuracy=0.761] \n"
     ]
    },
    {
     "name": "stdout",
     "output_type": "stream",
     "text": [
      "Epoch: 16/25, Train Loss: 0.4482, Train Accuracy: 0.7790, Test Loss: 0.5980, Test Accuracy: 0.7122\n"
     ]
    },
    {
     "name": "stderr",
     "output_type": "stream",
     "text": [
      "2161870it [00:02, 1077212.03it/s]\n"
     ]
    },
    {
     "name": "stdout",
     "output_type": "stream",
     "text": [
      "num data: 4323740\n"
     ]
    },
    {
     "name": "stderr",
     "output_type": "stream",
     "text": [
      "Epoch 17/25: 100%|██████████| 16890/16890 [05:21<00:00, 52.49it/s, train_loss=0.442, train_accuracy=0.783]\n",
      "21838it [00:00, 1221122.94it/s]\n"
     ]
    },
    {
     "name": "stdout",
     "output_type": "stream",
     "text": [
      "num data: 43676\n"
     ]
    },
    {
     "name": "stderr",
     "output_type": "stream",
     "text": [
      "Evaluating: 100%|██████████| 171/171 [00:03<00:00, 56.33it/s, test_loss=0.652, test_accuracy=0.766] \n"
     ]
    },
    {
     "name": "stdout",
     "output_type": "stream",
     "text": [
      "Epoch: 17/25, Train Loss: 0.4417, Train Accuracy: 0.7829, Test Loss: 0.6103, Test Accuracy: 0.7167\n"
     ]
    },
    {
     "name": "stderr",
     "output_type": "stream",
     "text": [
      "2161870it [00:02, 1068027.17it/s]\n"
     ]
    },
    {
     "name": "stdout",
     "output_type": "stream",
     "text": [
      "num data: 4323740\n"
     ]
    },
    {
     "name": "stderr",
     "output_type": "stream",
     "text": [
      "Epoch 18/25: 100%|██████████| 16890/16890 [05:38<00:00, 49.94it/s, train_loss=0.436, train_accuracy=0.787]\n",
      "21838it [00:00, 1211945.58it/s]\n"
     ]
    },
    {
     "name": "stdout",
     "output_type": "stream",
     "text": [
      "num data: 43676\n"
     ]
    },
    {
     "name": "stderr",
     "output_type": "stream",
     "text": [
      "Evaluating: 100%|██████████| 171/171 [00:03<00:00, 52.11it/s, test_loss=0.612, test_accuracy=0.717] \n"
     ]
    },
    {
     "name": "stdout",
     "output_type": "stream",
     "text": [
      "Epoch: 18/25, Train Loss: 0.4356, Train Accuracy: 0.7867, Test Loss: 0.6047, Test Accuracy: 0.7086\n"
     ]
    },
    {
     "name": "stderr",
     "output_type": "stream",
     "text": [
      "2161870it [00:02, 1062611.97it/s]\n"
     ]
    },
    {
     "name": "stdout",
     "output_type": "stream",
     "text": [
      "num data: 4323740\n"
     ]
    },
    {
     "name": "stderr",
     "output_type": "stream",
     "text": [
      "Epoch 19/25: 100%|██████████| 16890/16890 [05:36<00:00, 50.18it/s, train_loss=0.43, train_accuracy=0.791] \n",
      "21838it [00:00, 1222900.01it/s]\n"
     ]
    },
    {
     "name": "stdout",
     "output_type": "stream",
     "text": [
      "num data: 43676\n"
     ]
    },
    {
     "name": "stderr",
     "output_type": "stream",
     "text": [
      "Evaluating: 100%|██████████| 171/171 [00:03<00:00, 53.94it/s, test_loss=0.646, test_accuracy=0.716] \n"
     ]
    },
    {
     "name": "stdout",
     "output_type": "stream",
     "text": [
      "Epoch: 19/25, Train Loss: 0.4302, Train Accuracy: 0.7905, Test Loss: 0.6420, Test Accuracy: 0.7117\n"
     ]
    },
    {
     "name": "stderr",
     "output_type": "stream",
     "text": [
      "2161870it [00:02, 1080103.09it/s]\n"
     ]
    },
    {
     "name": "stdout",
     "output_type": "stream",
     "text": [
      "num data: 4323740\n"
     ]
    },
    {
     "name": "stderr",
     "output_type": "stream",
     "text": [
      "Epoch 20/25: 100%|██████████| 16890/16890 [05:33<00:00, 50.59it/s, train_loss=0.425, train_accuracy=0.794]\n",
      "21838it [00:00, 1286232.81it/s]\n"
     ]
    },
    {
     "name": "stdout",
     "output_type": "stream",
     "text": [
      "num data: 43676\n"
     ]
    },
    {
     "name": "stderr",
     "output_type": "stream",
     "text": [
      "Evaluating: 100%|██████████| 171/171 [00:03<00:00, 55.24it/s, test_loss=0.636, test_accuracy=0.712] \n"
     ]
    },
    {
     "name": "stdout",
     "output_type": "stream",
     "text": [
      "Epoch: 20/25, Train Loss: 0.4250, Train Accuracy: 0.7938, Test Loss: 0.6362, Test Accuracy: 0.7117\n"
     ]
    },
    {
     "name": "stderr",
     "output_type": "stream",
     "text": [
      "2161870it [00:02, 1072427.54it/s]\n"
     ]
    },
    {
     "name": "stdout",
     "output_type": "stream",
     "text": [
      "num data: 4323740\n"
     ]
    },
    {
     "name": "stderr",
     "output_type": "stream",
     "text": [
      "Epoch 21/25: 100%|██████████| 16890/16890 [05:30<00:00, 51.13it/s, train_loss=0.42, train_accuracy=0.797] \n",
      "21838it [00:00, 1273411.43it/s]\n"
     ]
    },
    {
     "name": "stdout",
     "output_type": "stream",
     "text": [
      "num data: 43676\n"
     ]
    },
    {
     "name": "stderr",
     "output_type": "stream",
     "text": [
      "Evaluating: 100%|██████████| 171/171 [00:02<00:00, 58.28it/s, test_loss=0.697, test_accuracy=0.767] \n"
     ]
    },
    {
     "name": "stdout",
     "output_type": "stream",
     "text": [
      "Epoch: 21/25, Train Loss: 0.4203, Train Accuracy: 0.7968, Test Loss: 0.6485, Test Accuracy: 0.7136\n"
     ]
    },
    {
     "name": "stderr",
     "output_type": "stream",
     "text": [
      "2161870it [00:02, 1069658.24it/s]\n"
     ]
    },
    {
     "name": "stdout",
     "output_type": "stream",
     "text": [
      "num data: 4323740\n"
     ]
    },
    {
     "name": "stderr",
     "output_type": "stream",
     "text": [
      "Epoch 22/25: 100%|██████████| 16890/16890 [05:39<00:00, 49.70it/s, train_loss=0.415, train_accuracy=0.8]  \n",
      "21838it [00:00, 1203948.67it/s]\n"
     ]
    },
    {
     "name": "stdout",
     "output_type": "stream",
     "text": [
      "num data: 43676\n"
     ]
    },
    {
     "name": "stderr",
     "output_type": "stream",
     "text": [
      "Evaluating: 100%|██████████| 171/171 [00:03<00:00, 55.96it/s, test_loss=0.67, test_accuracy=0.717]  \n"
     ]
    },
    {
     "name": "stdout",
     "output_type": "stream",
     "text": [
      "Epoch: 22/25, Train Loss: 0.4149, Train Accuracy: 0.8003, Test Loss: 0.6657, Test Accuracy: 0.7133\n"
     ]
    },
    {
     "name": "stderr",
     "output_type": "stream",
     "text": [
      "2161870it [00:01, 1082610.81it/s]\n"
     ]
    },
    {
     "name": "stdout",
     "output_type": "stream",
     "text": [
      "num data: 4323740\n"
     ]
    },
    {
     "name": "stderr",
     "output_type": "stream",
     "text": [
      "Epoch 23/25: 100%|██████████| 16890/16890 [05:29<00:00, 51.25it/s, train_loss=0.411, train_accuracy=0.803]\n",
      "21838it [00:00, 1196775.47it/s]\n"
     ]
    },
    {
     "name": "stdout",
     "output_type": "stream",
     "text": [
      "num data: 43676\n"
     ]
    },
    {
     "name": "stderr",
     "output_type": "stream",
     "text": [
      "Evaluating: 100%|██████████| 171/171 [00:02<00:00, 58.16it/s, test_loss=0.692, test_accuracy=0.73]  \n"
     ]
    },
    {
     "name": "stdout",
     "output_type": "stream",
     "text": [
      "Epoch: 23/25, Train Loss: 0.4106, Train Accuracy: 0.8030, Test Loss: 0.6756, Test Accuracy: 0.7127\n"
     ]
    },
    {
     "name": "stderr",
     "output_type": "stream",
     "text": [
      "2161870it [00:02, 1065297.29it/s]\n"
     ]
    },
    {
     "name": "stdout",
     "output_type": "stream",
     "text": [
      "num data: 4323740\n"
     ]
    },
    {
     "name": "stderr",
     "output_type": "stream",
     "text": [
      "Epoch 24/25: 100%|██████████| 16890/16890 [07:29<00:00, 37.56it/s, train_loss=0.406, train_accuracy=0.806]\n",
      "21838it [00:00, 1255829.92it/s]\n"
     ]
    },
    {
     "name": "stdout",
     "output_type": "stream",
     "text": [
      "num data: 43676\n"
     ]
    },
    {
     "name": "stderr",
     "output_type": "stream",
     "text": [
      "Evaluating: 100%|██████████| 171/171 [00:02<00:00, 58.74it/s, test_loss=0.748, test_accuracy=0.768] \n"
     ]
    },
    {
     "name": "stdout",
     "output_type": "stream",
     "text": [
      "Epoch: 24/25, Train Loss: 0.4060, Train Accuracy: 0.8060, Test Loss: 0.6908, Test Accuracy: 0.7096\n"
     ]
    },
    {
     "name": "stderr",
     "output_type": "stream",
     "text": [
      "2161870it [00:02, 1075803.37it/s]\n"
     ]
    },
    {
     "name": "stdout",
     "output_type": "stream",
     "text": [
      "num data: 4323740\n"
     ]
    },
    {
     "name": "stderr",
     "output_type": "stream",
     "text": [
      "Epoch 25/25: 100%|██████████| 16890/16890 [05:27<00:00, 51.50it/s, train_loss=0.402, train_accuracy=0.809]\n",
      "21838it [00:00, 1286232.81it/s]\n"
     ]
    },
    {
     "name": "stdout",
     "output_type": "stream",
     "text": [
      "num data: 43676\n"
     ]
    },
    {
     "name": "stderr",
     "output_type": "stream",
     "text": [
      "Evaluating: 100%|██████████| 171/171 [00:02<00:00, 58.24it/s, test_loss=0.753, test_accuracy=0.769] "
     ]
    },
    {
     "name": "stdout",
     "output_type": "stream",
     "text": [
      "Epoch: 25/25, Train Loss: 0.4018, Train Accuracy: 0.8090, Test Loss: 0.6962, Test Accuracy: 0.7107\n"
     ]
    },
    {
     "name": "stderr",
     "output_type": "stream",
     "text": [
      "\n"
     ]
    }
   ],
   "source": [
    "def train_step(model, optimizer, batch_data, batch_labels):\n",
    "    model.train()  # モデルを訓練モードに設定\n",
    "    optimizer.zero_grad()  # 勾配を初期化\n",
    "    outputs = model(*batch_data).float()  # モデルで予測を計算\n",
    "    loss = nn.BCELoss()(outputs, batch_labels.float())  # 損失関数（バイナリクロスエントロピー）\n",
    "    accuracy = ((outputs > 0.5).float() == batch_labels).float().mean()  # 精度計算\n",
    "    loss.backward()  # 勾配を計算\n",
    "    optimizer.step()  # パラメータ更新\n",
    "    return loss.item(), accuracy.item()\n",
    "\n",
    "def evaluate(model, batch_data, batch_labels):\n",
    "    model.eval()  # モデルを評価モードに設定\n",
    "    with torch.no_grad():  # 評価時に勾配計算を行わない\n",
    "        outputs = model(*batch_data)\n",
    "        loss = nn.BCELoss()(outputs, batch_labels)\n",
    "        accuracy = ((outputs > 0.5).float() == batch_labels).float().mean()\n",
    "    return loss.item(), accuracy.item()\n",
    "\n",
    "train_loss_history = []\n",
    "train_accuracy_history = []\n",
    "test_loss_history = []\n",
    "test_accuracy_history = []\n",
    "\n",
    "model = CustomModel(CIF.shape[1], CSF.shape[1], LSF.shape[1])\n",
    "optimizer = optim.AdamW(model.parameters(), lr = 0.0001)\n",
    "\n",
    "# 訓練・評価ループ\n",
    "for epoch in range(EPOCH):\n",
    "    # 訓練\n",
    "    train_loss_obj = 0.0\n",
    "    train_accuracy_obj = 0.0\n",
    "    model.train()  # 訓練モード\n",
    "    train_dataloader = make_dataloader(train_boke_datas, train_caption_datas)\n",
    "    pb = tqdm(train_dataloader, desc = f\"Epoch {epoch+1}/{EPOCH}\")\n",
    "    \n",
    "    for CIF, CSF, LSF, TS in pb:\n",
    "        CIF, CSF, LSF, TS = torch.tensor(CIF), torch.tensor(CSF), torch.tensor(LSF), torch.tensor(TS)\n",
    "        batch_data = (CIF, CSF, LSF)  # 入力データ\n",
    "        batch_labels = TS.unsqueeze(1)  # 出力ラベル（shape: [batch_size, 1]）\n",
    "        \n",
    "        loss, accuracy = train_step(model, optimizer, batch_data, batch_labels)\n",
    "        train_loss_obj += loss\n",
    "        train_accuracy_obj += accuracy\n",
    "        pb.set_postfix({\"train_loss\": train_loss_obj / (pb.n + 1), \"train_accuracy\": train_accuracy_obj / (pb.n + 1)})\n",
    "\n",
    "    # 訓練後の損失と精度\n",
    "    train_loss = train_loss_obj / len(train_dataloader)\n",
    "    train_accuracy = train_accuracy_obj / len(train_dataloader)\n",
    "\n",
    "    # テスト\n",
    "    test_loss_obj = 0.0\n",
    "    test_accuracy_obj = 0.0\n",
    "    model.eval()  # 評価モード\n",
    "    test_dataloader = make_dataloader(test_boke_datas, test_caption_datas)\n",
    "    pb = tqdm(test_dataloader, desc = \"Evaluating\")\n",
    "\n",
    "    for CIF, CSF, LSF, TS in pb:\n",
    "        CIF, CSF, LSF, TS = torch.tensor(CIF).float(), torch.tensor(CSF).float(), torch.tensor(LSF).float(), torch.tensor(TS).float()\n",
    "        batch_data = (CIF, CSF, LSF)\n",
    "        batch_labels = TS.unsqueeze(1).float()\n",
    "        \n",
    "        loss, accuracy = evaluate(model, batch_data, batch_labels)\n",
    "        test_loss_obj += loss\n",
    "        test_accuracy_obj += accuracy\n",
    "        pb.set_postfix({\"test_loss\": test_loss_obj / (pb.n + 1), \"test_accuracy\": test_accuracy_obj / (pb.n + 1)})\n",
    "\n",
    "    # テスト後の損失と精度\n",
    "    test_loss = test_loss_obj / len(test_dataloader)\n",
    "    test_accuracy = test_accuracy_obj / len(test_dataloader)\n",
    "\n",
    "    # 結果表示\n",
    "    print(f\"Epoch: {epoch+1}/{EPOCH}, \"\n",
    "          f\"Train Loss: {train_loss:.4f}, Train Accuracy: {train_accuracy:.4f}, \"\n",
    "          f\"Test Loss: {test_loss:.4f}, Test Accuracy: {test_accuracy:.4f}\")\n",
    "\n",
    "    # 履歴の保存\n",
    "    train_loss_history.append(train_loss)\n",
    "    train_accuracy_history.append(train_accuracy)\n",
    "    test_loss_history.append(test_loss)\n",
    "    test_accuracy_history.append(test_accuracy)\n",
    "\n",
    "# 結果をJSONファイルに保存\n",
    "with open(f\"{RESULT_DIR}history.json\", \"w\") as f:\n",
    "    json.dump({\n",
    "        \"train_loss\": train_loss_history,\n",
    "        \"train_accuracy\": train_accuracy_history,\n",
    "        \"test_loss\": test_loss_history,\n",
    "        \"test_accuracy\": test_accuracy_history\n",
    "    }, f)\n"
   ]
  },
  {
   "cell_type": "code",
   "execution_count": null,
   "metadata": {},
   "outputs": [],
   "source": [
    "torch.save(model.state_dict(), f\"{RESULT_DIR}model_weights.pth\")\n",
    "\n",
    "model = CustomModel(CIF.shape[1], CSF.shape[1], LSF.shape[1])\n",
    "model.load_state_dict(torch.load(f\"{RESULT_DIR}model_weights.pth\",\n",
    "                                 map_location=torch.device('cpu')))\n",
    "model.eval()"
   ]
  },
  {
   "cell_type": "code",
   "execution_count": 10,
   "metadata": {},
   "outputs": [
    {
     "data": {
      "image/png": "[encoded data removed]",
      "text/plain": [
       "<Figure size 720x360 with 2 Axes>"
      ]
     },
     "metadata": {
      "needs_background": "light"
     },
     "output_type": "display_data"
    }
   ],
   "source": [
    "fig = plt.figure(figsize = (10, 5))\n",
    "ax = fig.add_subplot(1, 2, 1)\n",
    "ax.plot(train_loss_history, label = \"train\")\n",
    "ax.plot(test_loss_history, label = \"test\")\n",
    "ax.set_xlabel(\"epoch\")\n",
    "ax.set_ylabel(\"loss\")\n",
    "ax.legend()\n",
    "ax.grid()\n",
    "\n",
    "ax = fig.add_subplot(1, 2, 2)\n",
    "ax.plot(train_accuracy_history, label = \"train\")\n",
    "ax.plot(test_accuracy_history, label = \"test\")\n",
    "ax.set_xlabel(\"epoch\")\n",
    "ax.set_ylabel(\"accuracy\")\n",
    "ax.legend()\n",
    "ax.grid()"
   ]
  }
 ],
 "metadata": {
  "kernelspec": {
   "display_name": "Colab_20241111",
   "language": "python",
   "name": "python3"
  },
  "language_info": {
   "codemirror_mode": {
    "name": "ipython",
    "version": 3
   },
   "file_extension": ".py",
   "mimetype": "text/x-python",
   "name": "python",
   "nbconvert_exporter": "python",
   "pygments_lexer": "ipython3",
   "version": "3.10.12"
  }
 },
 "nbformat": 4,
 "nbformat_minor": 2
}
