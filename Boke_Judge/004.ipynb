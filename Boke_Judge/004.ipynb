{
 "cells": [
  {
   "cell_type": "markdown",
   "metadata": {},
   "source": [
    "# 現実写真のみ、文字なし、固有名詞含める、キャプション、ほかの画像の大喜利"
   ]
  },
  {
   "cell_type": "code",
   "execution_count": 1,
   "metadata": {},
   "outputs": [],
   "source": [
    "import os\n",
    "import json\n",
    "import numpy as np\n",
    "from tqdm import tqdm\n",
    "from sklearn.model_selection import train_test_split\n",
    "\n",
    "import tensorflow as tf\n",
    "from tensorflow.keras import layers, models, losses, optimizers, metrics"
   ]
  },
  {
   "cell_type": "code",
   "execution_count": null,
   "metadata": {},
   "outputs": [],
   "source": [
    "EXPERIENCE_NUMBER = \"004\"\n",
    "\n",
    "USE_UNREAL_IMAGE = False\n",
    "USE_WORD_IMAGE = False\n",
    "USE_UNIQUE_NOUN_BOKE = True\n",
    "USE_CAPTION = True\n",
    "USE_MISS_BOKE = True\n",
    "\n",
    "EPOCH = 25\n",
    "BATCH_SIZE = 256\n",
    "\n",
    "RESULT_DIR = f\"../../results/Boke_Judge/{EXPERIENCE_NUMBER}/\"\n",
    "if not os.path.exists(\"../../results/Boke_Judge/\"):\n",
    "    os.mkdir(\"../../results/Boke_Judge/\")\n",
    "if not os.path.exists(RESULT_DIR):\n",
    "    os.mkdir(RESULT_DIR)\n",
    "\n",
    "DATA_DIR = \"../../datas/boke_data_assemble/\"\n",
    "CLIP_IMAGE_FEATURE_DIR = \"../../datas/encoded/clip_image_feature/\"\n",
    "CLIP_SENTENCE_FEATURE_DIR = \"../../datas/encoded/clip_sentence_feature/\"\n",
    "LUKE_SENTENCE_FEATURE_DIR = \"../../datas/encoded/luke_sentence_feature/\""
   ]
  },
  {
   "cell_type": "markdown",
   "metadata": {},
   "source": [
    "# データセットの作成(初回のみ実行)"
   ]
  },
  {
   "cell_type": "code",
   "execution_count": 3,
   "metadata": {},
   "outputs": [
    {
     "name": "stderr",
     "output_type": "stream",
     "text": [
<<<<<<< Updated upstream
      "100%|██████████| 602566/602566 [03:22<00:00, 2968.43it/s]\n"
=======
      "100%|██████████| 602566/602566 [02:06<00:00, 4761.41it/s]\n"
>>>>>>> Stashed changes
     ]
    },
    {
     "data": {
      "text/plain": [
       "(2183708, 230990)"
      ]
     },
     "execution_count": 3,
     "metadata": {},
     "output_type": "execute_result"
    }
   ],
   "source": [
    "boke_datas = list()\n",
    "caption_datas = list()\n",
    "\n",
    "max_num_boke = 0\n",
    "for JP in tqdm(os.listdir(DATA_DIR)):\n",
    "    N = int(JP.split(\".\")[0])\n",
    "\n",
    "    with open(f\"{DATA_DIR}{JP}\", \"r\") as f:\n",
    "        a = json.load(f)\n",
    "\n",
    "    image_information = a[\"image_infomation\"]\n",
    "    is_photographic_probability = image_information[\"is_photographic_probability\"]\n",
    "    ja_caption = image_information[\"ja_caption\"]\n",
    "    ocr = image_information[\"ocr\"]\n",
    "\n",
    "    # 現実写真以外を除去\n",
    "    if not USE_UNREAL_IMAGE:\n",
    "        if is_photographic_probability < 0.8: continue\n",
    "        \n",
    "    # 文字のある画像を除去\n",
    "    if not USE_WORD_IMAGE:\n",
    "        if len(ocr) != 0: continue\n",
    "\n",
    "    bokes = a[\"bokes\"]\n",
    "\n",
    "    max_num_boke = max(max_num_boke, len(a[\"bokes\"]))\n",
    "    for i, B in enumerate(bokes):\n",
    "\n",
    "        # 固有名詞を含む大喜利を除去\n",
    "        if not USE_UNIQUE_NOUN_BOKE:\n",
    "            if len(B[\"unique_nouns\"]) != 0: continue\n",
    "\n",
    "        boke_datas.append({\n",
    "            \"boke_number\": int(f\"1{N:07}{i:05}\"),\n",
    "            \"image_number\": int(f\"3{N:07}\")\n",
    "        })\n",
    "\n",
    "    caption_datas.append({\n",
    "        \"caption_number\": int(f\"2{N:07}\"),\n",
    "        \"image_number\": int(f\"3{N:07}\")\n",
    "    })\n",
    "\n",
    "len(boke_datas), len(caption_datas)"
   ]
  },
  {
   "cell_type": "code",
   "execution_count": 4,
   "metadata": {},
   "outputs": [],
   "source": [
    "train_boke_datas, test_boke_datas = train_test_split(boke_datas, test_size = 0.01)\n",
    "train_caption_datas, test_caption_datas = train_test_split(caption_datas, test_size = 0.01)\n",
    "\n",
    "with open(f\"{RESULT_DIR}train_boke_datas.json\", \"w\") as f:\n",
    "    json.dump(train_boke_datas, f)\n",
    "with open(f\"{RESULT_DIR}train_caption_datas.json\", \"w\") as f:\n",
    "    json.dump(train_caption_datas, f)\n",
    "\n",
    "with open(f\"{RESULT_DIR}test_boke_datas.json\", \"w\") as f:\n",
    "    json.dump(test_boke_datas, f)\n",
    "with open(f\"{RESULT_DIR}test_caption_datas.json\", \"w\") as f:\n",
    "    json.dump(test_caption_datas, f)"
   ]
  },
  {
   "cell_type": "markdown",
   "metadata": {},
   "source": [
    "# モデルの学習"
   ]
  },
  {
   "cell_type": "code",
   "execution_count": 5,
   "metadata": {},
   "outputs": [
    {
     "data": {
      "text/plain": [
       "(2161870, 228680, 21838, 2310)"
      ]
     },
     "execution_count": 5,
     "metadata": {},
     "output_type": "execute_result"
    }
   ],
   "source": [
    "with open(f\"{RESULT_DIR}train_boke_datas.json\", \"r\") as f:\n",
    "    train_boke_datas = json.load(f)\n",
    "with open(f\"{RESULT_DIR}train_caption_datas.json\", \"r\") as f:\n",
    "    train_caption_datas = json.load(f)\n",
    "\n",
    "with open(f\"{RESULT_DIR}test_boke_datas.json\", \"r\") as f:\n",
    "    test_boke_datas = json.load(f)\n",
    "with open(f\"{RESULT_DIR}test_caption_datas.json\", \"r\") as f:\n",
    "    test_caption_datas = json.load(f)\n",
    "\n",
    "len(train_boke_datas), len(train_caption_datas), len(test_boke_datas), len(test_caption_datas)"
   ]
  },
  {
   "cell_type": "code",
   "execution_count": 6,
   "metadata": {},
   "outputs": [
    {
     "name": "stderr",
     "output_type": "stream",
     "text": [
<<<<<<< Updated upstream
      "2161870it [00:01, 1096490.76it/s]\n"
=======
      "2161870it [00:02, 912927.30it/s]\n"
>>>>>>> Stashed changes
     ]
    },
    {
     "name": "stdout",
     "output_type": "stream",
     "text": [
      "num data: 4323740\n"
     ]
    },
    {
     "name": "stderr",
     "output_type": "stream",
     "text": [
<<<<<<< Updated upstream
      "21838it [00:00, 1642138.67it/s]\n"
=======
      "21838it [00:00, 66313.56it/s]"
>>>>>>> Stashed changes
     ]
    },
    {
     "name": "stdout",
     "output_type": "stream",
     "text": [
      "num data: 43676\n"
     ]
    },
    {
     "data": {
      "text/plain": [
       "(TensorShape([32, 512]),\n",
       " TensorShape([32, 512]),\n",
       " TensorShape([32, 768]),\n",
       " TensorShape([32]))"
      ]
     },
     "execution_count": 6,
     "metadata": {},
     "output_type": "execute_result"
    }
   ],
   "source": [
    "def make_dataset(boke_datas, caption_datas):\n",
    "\n",
    "    def make_dataset_with_directory(file_numbers, directory):\n",
    "        def make_feature_dataset(file_numbers):\n",
    "            dataset = tf.data.Dataset.from_tensor_slices((file_numbers))\n",
    "            dataset = dataset.map(load_data_wrapper, \n",
    "                                num_parallel_calls = tf.data.experimental.AUTOTUNE)\n",
    "            dataset = dataset.prefetch(tf.data.experimental.AUTOTUNE)\n",
    "            return dataset\n",
    "\n",
    "        def load_data_wrapper(file_number):\n",
    "            return tf.py_function(func = load_data, inp = [file_number], \n",
    "                                  Tout = tf.float32)\n",
    "\n",
    "        def load_data(file_number):\n",
    "            # file_number = file_number.numpy().decode(\"utf-8\")\n",
    "            feature_path = f\"{directory}{file_number}.npy\"\n",
    "            return np.load(feature_path)\n",
    "        \n",
    "        return make_feature_dataset(file_numbers)\n",
    "    \n",
    "    image_file_numbers = list()\n",
    "    sentence_file_numbers = list()\n",
    "    teacher_signals = list()\n",
    "\n",
    "    for D in boke_datas:\n",
    "        image_file_numbers.append(D[\"image_number\"])\n",
    "        sentence_file_numbers.append(D[\"boke_number\"])\n",
    "        teacher_signals.append(1)\n",
    "    \n",
    "    if USE_CAPTION:\n",
    "        for D in caption_datas:\n",
    "            image_file_numbers.append(D[\"image_number\"])\n",
    "            sentence_file_numbers.append(D[\"caption_number\"])\n",
    "            teacher_signals.append(0)\n",
    "    \n",
    "    if USE_MISS_BOKE:\n",
    "        miss_boke_datas = list()\n",
    "        tmp_idx = np.random.randint(0, len(boke_datas), size = (len(boke_datas), ))\n",
    "        for i, idx in tqdm(enumerate(tmp_idx)):\n",
    "            tmp_boke_number = boke_datas[idx][\"boke_number\"]\n",
    "            while str(tmp_boke_number)[:7] == str(boke_datas[i][\"boke_number\"])[:7]:\n",
    "                idx = np.random.randint(0, len(boke_datas))\n",
    "                tmp_boke_number = boke_datas[idx][\"boke_number\"]\n",
    "\n",
    "            miss_boke_datas.append({\n",
    "                \"boke_number\": tmp_boke_number,\n",
    "                \"image_number\": boke_datas[i][\"image_number\"]\n",
    "            })\n",
    "        \n",
    "        for D in miss_boke_datas:\n",
    "            image_file_numbers.append(D[\"image_number\"])\n",
    "            sentence_file_numbers.append(D[\"boke_number\"])\n",
    "            teacher_signals.append(0)\n",
    "    \n",
    "    print(f\"num data: {len(teacher_signals)}\")\n",
    "    \n",
    "    tmp = list(zip(image_file_numbers, sentence_file_numbers, teacher_signals))\n",
    "    np.random.shuffle(tmp)\n",
    "    image_file_numbers, sentence_file_numbers, teacher_signals = zip(*tmp)\n",
    "    image_file_numbers = tf.constant(image_file_numbers, dtype = tf.int64)\n",
    "    sentence_file_numbers = tf.constant(sentence_file_numbers, dtype = tf.int64)\n",
    "    teacher_signals = tf.constant(teacher_signals, dtype = tf.int32)\n",
    "\n",
    "    clip_image_feature_dataset = make_dataset_with_directory(image_file_numbers, CLIP_IMAGE_FEATURE_DIR)\n",
    "    clip_sentence_feature_dataset = make_dataset_with_directory(sentence_file_numbers, CLIP_SENTENCE_FEATURE_DIR)\n",
    "    luke_sentence_feature_dataset = make_dataset_with_directory(sentence_file_numbers, LUKE_SENTENCE_FEATURE_DIR)\n",
    "    teacher_signal_dataset = tf.data.Dataset.from_tensor_slices(teacher_signals)\n",
    "\n",
    "    dataset = tf.data.Dataset.zip( ((clip_image_feature_dataset, clip_sentence_feature_dataset, luke_sentence_feature_dataset), teacher_signal_dataset) )\n",
    "    return dataset\n",
    "\n",
    "train_dataset = make_dataset(train_boke_datas, train_caption_datas)\n",
    "test_dataset = make_dataset(test_boke_datas, test_caption_datas)\n",
    "\n",
    "(CIF, CSF, LSF), TS = next(iter(train_dataset.batch(32)))\n",
    "CIF.shape, CSF.shape, LSF.shape, TS.shape"
   ]
  },
  {
   "cell_type": "code",
   "execution_count": 7,
   "metadata": {},
   "outputs": [
    {
     "data": {
      "text/html": [
       "<pre style=\"white-space:pre;overflow-x:auto;line-height:normal;font-family:Menlo,'DejaVu Sans Mono',consolas,'Courier New',monospace\"><span style=\"font-weight: bold\">Model: \"functional\"</span>\n",
       "</pre>\n"
      ],
      "text/plain": [
       "\u001b[1mModel: \"functional\"\u001b[0m\n"
      ]
     },
     "metadata": {},
     "output_type": "display_data"
    },
    {
     "data": {
      "text/html": [
       "<pre style=\"white-space:pre;overflow-x:auto;line-height:normal;font-family:Menlo,'DejaVu Sans Mono',consolas,'Courier New',monospace\">┏━━━━━━━━━━━━━━━━━━━━━┳━━━━━━━━━━━━━━━━━━━┳━━━━━━━━━━━━┳━━━━━━━━━━━━━━━━━━━┓\n",
       "┃<span style=\"font-weight: bold\"> Layer (type)        </span>┃<span style=\"font-weight: bold\"> Output Shape      </span>┃<span style=\"font-weight: bold\">    Param # </span>┃<span style=\"font-weight: bold\"> Connected to      </span>┃\n",
       "┡━━━━━━━━━━━━━━━━━━━━━╇━━━━━━━━━━━━━━━━━━━╇━━━━━━━━━━━━╇━━━━━━━━━━━━━━━━━━━┩\n",
       "│ input_layer         │ (<span style=\"color: #00d7ff; text-decoration-color: #00d7ff\">None</span>, <span style=\"color: #00af00; text-decoration-color: #00af00\">512</span>)       │          <span style=\"color: #00af00; text-decoration-color: #00af00\">0</span> │ -                 │\n",
       "│ (<span style=\"color: #0087ff; text-decoration-color: #0087ff\">InputLayer</span>)        │                   │            │                   │\n",
       "├─────────────────────┼───────────────────┼────────────┼───────────────────┤\n",
       "│ input_layer_1       │ (<span style=\"color: #00d7ff; text-decoration-color: #00d7ff\">None</span>, <span style=\"color: #00af00; text-decoration-color: #00af00\">512</span>)       │          <span style=\"color: #00af00; text-decoration-color: #00af00\">0</span> │ -                 │\n",
       "│ (<span style=\"color: #0087ff; text-decoration-color: #0087ff\">InputLayer</span>)        │                   │            │                   │\n",
       "├─────────────────────┼───────────────────┼────────────┼───────────────────┤\n",
       "│ input_layer_2       │ (<span style=\"color: #00d7ff; text-decoration-color: #00d7ff\">None</span>, <span style=\"color: #00af00; text-decoration-color: #00af00\">768</span>)       │          <span style=\"color: #00af00; text-decoration-color: #00af00\">0</span> │ -                 │\n",
       "│ (<span style=\"color: #0087ff; text-decoration-color: #0087ff\">InputLayer</span>)        │                   │            │                   │\n",
       "├─────────────────────┼───────────────────┼────────────┼───────────────────┤\n",
       "│ concatenate         │ (<span style=\"color: #00d7ff; text-decoration-color: #00d7ff\">None</span>, <span style=\"color: #00af00; text-decoration-color: #00af00\">1792</span>)      │          <span style=\"color: #00af00; text-decoration-color: #00af00\">0</span> │ input_layer[<span style=\"color: #00af00; text-decoration-color: #00af00\">0</span>][<span style=\"color: #00af00; text-decoration-color: #00af00\">0</span>… │\n",
       "│ (<span style=\"color: #0087ff; text-decoration-color: #0087ff\">Concatenate</span>)       │                   │            │ input_layer_1[<span style=\"color: #00af00; text-decoration-color: #00af00\">0</span>]… │\n",
       "│                     │                   │            │ input_layer_2[<span style=\"color: #00af00; text-decoration-color: #00af00\">0</span>]… │\n",
       "├─────────────────────┼───────────────────┼────────────┼───────────────────┤\n",
       "│ dense (<span style=\"color: #0087ff; text-decoration-color: #0087ff\">Dense</span>)       │ (<span style=\"color: #00d7ff; text-decoration-color: #00d7ff\">None</span>, <span style=\"color: #00af00; text-decoration-color: #00af00\">1024</span>)      │  <span style=\"color: #00af00; text-decoration-color: #00af00\">1,836,032</span> │ concatenate[<span style=\"color: #00af00; text-decoration-color: #00af00\">0</span>][<span style=\"color: #00af00; text-decoration-color: #00af00\">0</span>] │\n",
       "├─────────────────────┼───────────────────┼────────────┼───────────────────┤\n",
       "│ leaky_re_lu         │ (<span style=\"color: #00d7ff; text-decoration-color: #00d7ff\">None</span>, <span style=\"color: #00af00; text-decoration-color: #00af00\">1024</span>)      │          <span style=\"color: #00af00; text-decoration-color: #00af00\">0</span> │ dense[<span style=\"color: #00af00; text-decoration-color: #00af00\">0</span>][<span style=\"color: #00af00; text-decoration-color: #00af00\">0</span>]       │\n",
       "│ (<span style=\"color: #0087ff; text-decoration-color: #0087ff\">LeakyReLU</span>)         │                   │            │                   │\n",
       "├─────────────────────┼───────────────────┼────────────┼───────────────────┤\n",
       "│ dense_1 (<span style=\"color: #0087ff; text-decoration-color: #0087ff\">Dense</span>)     │ (<span style=\"color: #00d7ff; text-decoration-color: #00d7ff\">None</span>, <span style=\"color: #00af00; text-decoration-color: #00af00\">1024</span>)      │  <span style=\"color: #00af00; text-decoration-color: #00af00\">1,049,600</span> │ leaky_re_lu[<span style=\"color: #00af00; text-decoration-color: #00af00\">0</span>][<span style=\"color: #00af00; text-decoration-color: #00af00\">0</span>] │\n",
       "├─────────────────────┼───────────────────┼────────────┼───────────────────┤\n",
       "│ leaky_re_lu_1       │ (<span style=\"color: #00d7ff; text-decoration-color: #00d7ff\">None</span>, <span style=\"color: #00af00; text-decoration-color: #00af00\">1024</span>)      │          <span style=\"color: #00af00; text-decoration-color: #00af00\">0</span> │ dense_1[<span style=\"color: #00af00; text-decoration-color: #00af00\">0</span>][<span style=\"color: #00af00; text-decoration-color: #00af00\">0</span>]     │\n",
       "│ (<span style=\"color: #0087ff; text-decoration-color: #0087ff\">LeakyReLU</span>)         │                   │            │                   │\n",
       "├─────────────────────┼───────────────────┼────────────┼───────────────────┤\n",
       "│ dense_2 (<span style=\"color: #0087ff; text-decoration-color: #0087ff\">Dense</span>)     │ (<span style=\"color: #00d7ff; text-decoration-color: #00d7ff\">None</span>, <span style=\"color: #00af00; text-decoration-color: #00af00\">1</span>)         │      <span style=\"color: #00af00; text-decoration-color: #00af00\">1,025</span> │ leaky_re_lu_1[<span style=\"color: #00af00; text-decoration-color: #00af00\">0</span>]… │\n",
       "└─────────────────────┴───────────────────┴────────────┴───────────────────┘\n",
       "</pre>\n"
      ],
      "text/plain": [
       "┏━━━━━━━━━━━━━━━━━━━━━┳━━━━━━━━━━━━━━━━━━━┳━━━━━━━━━━━━┳━━━━━━━━━━━━━━━━━━━┓\n",
       "┃\u001b[1m \u001b[0m\u001b[1mLayer (type)       \u001b[0m\u001b[1m \u001b[0m┃\u001b[1m \u001b[0m\u001b[1mOutput Shape     \u001b[0m\u001b[1m \u001b[0m┃\u001b[1m \u001b[0m\u001b[1m   Param #\u001b[0m\u001b[1m \u001b[0m┃\u001b[1m \u001b[0m\u001b[1mConnected to     \u001b[0m\u001b[1m \u001b[0m┃\n",
       "┡━━━━━━━━━━━━━━━━━━━━━╇━━━━━━━━━━━━━━━━━━━╇━━━━━━━━━━━━╇━━━━━━━━━━━━━━━━━━━┩\n",
       "│ input_layer         │ (\u001b[38;5;45mNone\u001b[0m, \u001b[38;5;34m512\u001b[0m)       │          \u001b[38;5;34m0\u001b[0m │ -                 │\n",
       "│ (\u001b[38;5;33mInputLayer\u001b[0m)        │                   │            │                   │\n",
       "├─────────────────────┼───────────────────┼────────────┼───────────────────┤\n",
       "│ input_layer_1       │ (\u001b[38;5;45mNone\u001b[0m, \u001b[38;5;34m512\u001b[0m)       │          \u001b[38;5;34m0\u001b[0m │ -                 │\n",
       "│ (\u001b[38;5;33mInputLayer\u001b[0m)        │                   │            │                   │\n",
       "├─────────────────────┼───────────────────┼────────────┼───────────────────┤\n",
       "│ input_layer_2       │ (\u001b[38;5;45mNone\u001b[0m, \u001b[38;5;34m768\u001b[0m)       │          \u001b[38;5;34m0\u001b[0m │ -                 │\n",
       "│ (\u001b[38;5;33mInputLayer\u001b[0m)        │                   │            │                   │\n",
       "├─────────────────────┼───────────────────┼────────────┼───────────────────┤\n",
       "│ concatenate         │ (\u001b[38;5;45mNone\u001b[0m, \u001b[38;5;34m1792\u001b[0m)      │          \u001b[38;5;34m0\u001b[0m │ input_layer[\u001b[38;5;34m0\u001b[0m][\u001b[38;5;34m0\u001b[0m… │\n",
       "│ (\u001b[38;5;33mConcatenate\u001b[0m)       │                   │            │ input_layer_1[\u001b[38;5;34m0\u001b[0m]… │\n",
       "│                     │                   │            │ input_layer_2[\u001b[38;5;34m0\u001b[0m]… │\n",
       "├─────────────────────┼───────────────────┼────────────┼───────────────────┤\n",
       "│ dense (\u001b[38;5;33mDense\u001b[0m)       │ (\u001b[38;5;45mNone\u001b[0m, \u001b[38;5;34m1024\u001b[0m)      │  \u001b[38;5;34m1,836,032\u001b[0m │ concatenate[\u001b[38;5;34m0\u001b[0m][\u001b[38;5;34m0\u001b[0m] │\n",
       "├─────────────────────┼───────────────────┼────────────┼───────────────────┤\n",
       "│ leaky_re_lu         │ (\u001b[38;5;45mNone\u001b[0m, \u001b[38;5;34m1024\u001b[0m)      │          \u001b[38;5;34m0\u001b[0m │ dense[\u001b[38;5;34m0\u001b[0m][\u001b[38;5;34m0\u001b[0m]       │\n",
       "│ (\u001b[38;5;33mLeakyReLU\u001b[0m)         │                   │            │                   │\n",
       "├─────────────────────┼───────────────────┼────────────┼───────────────────┤\n",
       "│ dense_1 (\u001b[38;5;33mDense\u001b[0m)     │ (\u001b[38;5;45mNone\u001b[0m, \u001b[38;5;34m1024\u001b[0m)      │  \u001b[38;5;34m1,049,600\u001b[0m │ leaky_re_lu[\u001b[38;5;34m0\u001b[0m][\u001b[38;5;34m0\u001b[0m] │\n",
       "├─────────────────────┼───────────────────┼────────────┼───────────────────┤\n",
       "│ leaky_re_lu_1       │ (\u001b[38;5;45mNone\u001b[0m, \u001b[38;5;34m1024\u001b[0m)      │          \u001b[38;5;34m0\u001b[0m │ dense_1[\u001b[38;5;34m0\u001b[0m][\u001b[38;5;34m0\u001b[0m]     │\n",
       "│ (\u001b[38;5;33mLeakyReLU\u001b[0m)         │                   │            │                   │\n",
       "├─────────────────────┼───────────────────┼────────────┼───────────────────┤\n",
       "│ dense_2 (\u001b[38;5;33mDense\u001b[0m)     │ (\u001b[38;5;45mNone\u001b[0m, \u001b[38;5;34m1\u001b[0m)         │      \u001b[38;5;34m1,025\u001b[0m │ leaky_re_lu_1[\u001b[38;5;34m0\u001b[0m]… │\n",
       "└─────────────────────┴───────────────────┴────────────┴───────────────────┘\n"
      ]
     },
     "metadata": {},
     "output_type": "display_data"
    },
    {
     "data": {
      "text/html": [
       "<pre style=\"white-space:pre;overflow-x:auto;line-height:normal;font-family:Menlo,'DejaVu Sans Mono',consolas,'Courier New',monospace\"><span style=\"font-weight: bold\"> Total params: </span><span style=\"color: #00af00; text-decoration-color: #00af00\">2,886,657</span> (11.01 MB)\n",
       "</pre>\n"
      ],
      "text/plain": [
       "\u001b[1m Total params: \u001b[0m\u001b[38;5;34m2,886,657\u001b[0m (11.01 MB)\n"
      ]
     },
     "metadata": {},
     "output_type": "display_data"
    },
    {
     "data": {
      "text/html": [
       "<pre style=\"white-space:pre;overflow-x:auto;line-height:normal;font-family:Menlo,'DejaVu Sans Mono',consolas,'Courier New',monospace\"><span style=\"font-weight: bold\"> Trainable params: </span><span style=\"color: #00af00; text-decoration-color: #00af00\">2,886,657</span> (11.01 MB)\n",
       "</pre>\n"
      ],
      "text/plain": [
       "\u001b[1m Trainable params: \u001b[0m\u001b[38;5;34m2,886,657\u001b[0m (11.01 MB)\n"
      ]
     },
     "metadata": {},
     "output_type": "display_data"
    },
    {
     "data": {
      "text/html": [
       "<pre style=\"white-space:pre;overflow-x:auto;line-height:normal;font-family:Menlo,'DejaVu Sans Mono',consolas,'Courier New',monospace\"><span style=\"font-weight: bold\"> Non-trainable params: </span><span style=\"color: #00af00; text-decoration-color: #00af00\">0</span> (0.00 B)\n",
       "</pre>\n"
      ],
      "text/plain": [
       "\u001b[1m Non-trainable params: \u001b[0m\u001b[38;5;34m0\u001b[0m (0.00 B)\n"
      ]
     },
     "metadata": {},
     "output_type": "display_data"
    }
   ],
   "source": [
    "def build_model():\n",
    "    # clip image feature\n",
    "    input1 = layers.Input(shape = CIF.shape[1:])\n",
    "    # clip sentence feature\n",
    "    input2 = layers.Input(shape = CSF.shape[1:])\n",
    "    # luke sentence feature\n",
    "    input3 = layers.Input(shape = LSF.shape[1:])\n",
    "\n",
    "    x = layers.Concatenate()([input1, input2, input3])\n",
    "    x = layers.Dense(units = 1024)(x)\n",
    "    x = layers.LeakyReLU()(x)\n",
    "    x = layers.Dense(units = 1024)(x)\n",
    "    x = layers.LeakyReLU()(x)\n",
    "    output = layers.Dense(units = 1, activation = \"sigmoid\")(x)\n",
    "\n",
    "    model = models.Model([input1, input2, input3], output)\n",
    "    model.compile(loss = losses.BinaryCrossentropy(),\n",
    "                  optimizer = optimizers.AdamW(),\n",
    "                  metrics = [metrics.BinaryAccuracy()])\n",
    "    return model\n",
    "\n",
    "model = build_model()\n",
    "model.summary()\n"
   ]
  },
  {
   "cell_type": "code",
<<<<<<< Updated upstream
   "execution_count": null,
=======
   "execution_count": 8,
>>>>>>> Stashed changes
   "metadata": {},
   "outputs": [
    {
     "name": "stderr",
     "output_type": "stream",
     "text": [
<<<<<<< Updated upstream
      "2161870it [00:01, 1097113.37it/s]\n"
=======
      "2161870it [00:02, 867630.21it/s]\n"
>>>>>>> Stashed changes
     ]
    },
    {
     "name": "stdout",
     "output_type": "stream",
     "text": [
      "num data: 4323740\n"
     ]
    },
    {
     "name": "stderr",
     "output_type": "stream",
     "text": [
<<<<<<< Updated upstream
      "  0%|          | 4/17783 [00:05<5:03:31,  1.02s/it, train_loss=4.88, train_accuracy=0.503] "
=======
      "Epoch 1/25: 100%|██████████| 16890/16890 [07:33<00:00, 37.24it/s, train_loss=0.62, train_accuracy=0.645] \n",
      "21838it [00:00, 1129800.80it/s]\n"
>>>>>>> Stashed changes
     ]
    },
    {
     "name": "stdout",
     "output_type": "stream",
     "text": [
<<<<<<< Updated upstream
      "WARNING:tensorflow:5 out of the last 5 calls to <function TensorFlowTrainer.make_train_function.<locals>.one_step_on_iterator at 0x7f80e6588e50> triggered tf.function retracing. Tracing is expensive and the excessive number of tracings could be due to (1) creating @tf.function repeatedly in a loop, (2) passing tensors with different shapes, (3) passing Python objects instead of tensors. For (1), please define your @tf.function outside of the loop. For (2), @tf.function has reduce_retracing=True option that can avoid unnecessary retracing. For (3), please refer to https://www.tensorflow.org/guide/function#controlling_retracing and https://www.tensorflow.org/api_docs/python/tf/function for  more details.\n"
=======
      "num data: 43676\n"
>>>>>>> Stashed changes
     ]
    },
    {
     "name": "stderr",
     "output_type": "stream",
     "text": [
<<<<<<< Updated upstream
      "  0%|          | 5/17783 [00:06<4:35:16,  1.08it/s, train_loss=5.04, train_accuracy=0.504]"
=======
      "Evaluating: 100%|██████████| 171/171 [00:02<00:00, 65.60it/s, test_loss=0.611, test_accuracy=0.693]\n"
>>>>>>> Stashed changes
     ]
    },
    {
     "name": "stdout",
     "output_type": "stream",
     "text": [
<<<<<<< Updated upstream
      "WARNING:tensorflow:6 out of the last 6 calls to <function TensorFlowTrainer.make_train_function.<locals>.one_step_on_iterator at 0x7f80e6588e50> triggered tf.function retracing. Tracing is expensive and the excessive number of tracings could be due to (1) creating @tf.function repeatedly in a loop, (2) passing tensors with different shapes, (3) passing Python objects instead of tensors. For (1), please define your @tf.function outside of the loop. For (2), @tf.function has reduce_retracing=True option that can avoid unnecessary retracing. For (3), please refer to https://www.tensorflow.org/guide/function#controlling_retracing and https://www.tensorflow.org/api_docs/python/tf/function for  more details.\n"
=======
      "Epoch: 1/25, Train Loss: 0.6200, Train Accuracy: 0.6445, Test Loss: 0.5930, Test Accuracy: 0.6728\n"
>>>>>>> Stashed changes
     ]
    },
    {
     "name": "stderr",
     "output_type": "stream",
     "text": [
<<<<<<< Updated upstream
      "  0%|          | 70/17783 [00:43<2:36:04,  1.89it/s, train_loss=2.33, train_accuracy=0.514]"
=======
      "2161870it [00:02, 748904.36it/s]\n"
     ]
    },
    {
     "name": "stdout",
     "output_type": "stream",
     "text": [
      "num data: 4323740\n"
     ]
    },
    {
     "name": "stderr",
     "output_type": "stream",
     "text": [
      "Epoch 2/25: 100%|██████████| 16890/16890 [07:26<00:00, 37.82it/s, train_loss=0.584, train_accuracy=0.683]\n",
      "21838it [00:00, 1018675.33it/s]\n"
     ]
    },
    {
     "name": "stdout",
     "output_type": "stream",
     "text": [
      "num data: 43676\n"
     ]
    },
    {
     "name": "stderr",
     "output_type": "stream",
     "text": [
      "Evaluating: 100%|██████████| 171/171 [00:02<00:00, 72.68it/s, test_loss=0.593, test_accuracy=0.71]  \n"
     ]
    },
    {
     "name": "stdout",
     "output_type": "stream",
     "text": [
      "Epoch: 2/25, Train Loss: 0.5836, Train Accuracy: 0.6827, Test Loss: 0.5760, Test Accuracy: 0.6889\n"
     ]
    },
    {
     "name": "stderr",
     "output_type": "stream",
     "text": [
      "2161870it [00:02, 845393.95it/s]\n"
     ]
    },
    {
     "name": "stdout",
     "output_type": "stream",
     "text": [
      "num data: 4323740\n"
     ]
    },
    {
     "name": "stderr",
     "output_type": "stream",
     "text": [
      "Epoch 3/25: 100%|██████████| 16890/16890 [07:33<00:00, 37.21it/s, train_loss=0.566, train_accuracy=0.698]\n",
      "21838it [00:00, 1320805.37it/s]\n"
     ]
    },
    {
     "name": "stdout",
     "output_type": "stream",
     "text": [
      "num data: 43676\n"
     ]
    },
    {
     "name": "stderr",
     "output_type": "stream",
     "text": [
      "Evaluating: 100%|██████████| 171/171 [00:02<00:00, 73.71it/s, test_loss=0.579, test_accuracy=0.717] \n"
     ]
    },
    {
     "name": "stdout",
     "output_type": "stream",
     "text": [
      "Epoch: 3/25, Train Loss: 0.5660, Train Accuracy: 0.6979, Test Loss: 0.5658, Test Accuracy: 0.6999\n"
     ]
    },
    {
     "name": "stderr",
     "output_type": "stream",
     "text": [
      "2161870it [00:02, 828698.70it/s]\n"
     ]
    },
    {
     "name": "stdout",
     "output_type": "stream",
     "text": [
      "num data: 4323740\n"
     ]
    },
    {
     "name": "stderr",
     "output_type": "stream",
     "text": [
      "Epoch 4/25: 100%|██████████| 16890/16890 [07:36<00:00, 36.97it/s, train_loss=0.552, train_accuracy=0.709]\n",
      "21838it [00:00, 1258106.85it/s]\n"
     ]
    },
    {
     "name": "stdout",
     "output_type": "stream",
     "text": [
      "num data: 43676\n"
     ]
    },
    {
     "name": "stderr",
     "output_type": "stream",
     "text": [
      "Evaluating: 100%|██████████| 171/171 [00:02<00:00, 75.02it/s, test_loss=0.586, test_accuracy=0.74]  \n"
     ]
    },
    {
     "name": "stdout",
     "output_type": "stream",
     "text": [
      "Epoch: 4/25, Train Loss: 0.5520, Train Accuracy: 0.7095, Test Loss: 0.5590, Test Accuracy: 0.7058\n"
     ]
    },
    {
     "name": "stderr",
     "output_type": "stream",
     "text": [
      "2161870it [00:02, 842997.66it/s]\n"
     ]
    },
    {
     "name": "stdout",
     "output_type": "stream",
     "text": [
      "num data: 4323740\n"
     ]
    },
    {
     "name": "stderr",
     "output_type": "stream",
     "text": [
      "Epoch 5/25: 100%|██████████| 16890/16890 [07:39<00:00, 36.75it/s, train_loss=0.54, train_accuracy=0.718] \n",
      "21838it [00:00, 1189949.99it/s]\n"
     ]
    },
    {
     "name": "stdout",
     "output_type": "stream",
     "text": [
      "num data: 43676\n"
     ]
    },
    {
     "name": "stderr",
     "output_type": "stream",
     "text": [
      "Evaluating: 100%|██████████| 171/171 [00:02<00:00, 71.47it/s, test_loss=0.578, test_accuracy=0.741] \n"
     ]
    },
    {
     "name": "stdout",
     "output_type": "stream",
     "text": [
      "Epoch: 5/25, Train Loss: 0.5404, Train Accuracy: 0.7183, Test Loss: 0.5546, Test Accuracy: 0.7108\n"
     ]
    },
    {
     "name": "stderr",
     "output_type": "stream",
     "text": [
      "2161870it [00:02, 884751.12it/s]\n"
     ]
    },
    {
     "name": "stdout",
     "output_type": "stream",
     "text": [
      "num data: 4323740\n"
     ]
    },
    {
     "name": "stderr",
     "output_type": "stream",
     "text": [
      "Epoch 6/25: 100%|██████████| 16890/16890 [07:33<00:00, 37.25it/s, train_loss=0.53, train_accuracy=0.726] \n",
      "21838it [00:00, 1232659.25it/s]\n"
     ]
    },
    {
     "name": "stdout",
     "output_type": "stream",
     "text": [
      "num data: 43676\n"
     ]
    },
    {
     "name": "stderr",
     "output_type": "stream",
     "text": [
      "Evaluating: 100%|██████████| 171/171 [00:02<00:00, 68.82it/s, test_loss=0.569, test_accuracy=0.722] \n"
     ]
    },
    {
     "name": "stdout",
     "output_type": "stream",
     "text": [
      "Epoch: 6/25, Train Loss: 0.5301, Train Accuracy: 0.7259, Test Loss: 0.5586, Test Accuracy: 0.7092\n"
     ]
    },
    {
     "name": "stderr",
     "output_type": "stream",
     "text": [
      "2161870it [00:02, 866743.22it/s]\n"
     ]
    },
    {
     "name": "stdout",
     "output_type": "stream",
     "text": [
      "num data: 4323740\n"
     ]
    },
    {
     "name": "stderr",
     "output_type": "stream",
     "text": [
      "Epoch 7/25: 100%|██████████| 16890/16890 [07:33<00:00, 37.24it/s, train_loss=0.52, train_accuracy=0.733] \n",
      "21838it [00:00, 1103344.06it/s]\n"
     ]
    },
    {
     "name": "stdout",
     "output_type": "stream",
     "text": [
      "num data: 43676\n"
     ]
    },
    {
     "name": "stderr",
     "output_type": "stream",
     "text": [
      "Evaluating: 100%|██████████| 171/171 [00:02<00:00, 61.23it/s, test_loss=0.563, test_accuracy=0.722]\n"
     ]
    },
    {
     "name": "stdout",
     "output_type": "stream",
     "text": [
      "Epoch: 7/25, Train Loss: 0.5199, Train Accuracy: 0.7331, Test Loss: 0.5566, Test Accuracy: 0.7139\n"
     ]
    },
    {
     "name": "stderr",
     "output_type": "stream",
     "text": [
      "2161870it [00:02, 814692.23it/s]\n"
     ]
    },
    {
     "name": "stdout",
     "output_type": "stream",
     "text": [
      "num data: 4323740\n"
     ]
    },
    {
     "name": "stderr",
     "output_type": "stream",
     "text": [
      "Epoch 8/25: 100%|██████████| 16890/16890 [07:31<00:00, 37.38it/s, train_loss=0.511, train_accuracy=0.739]\n",
      "21838it [00:00, 1242356.41it/s]\n"
     ]
    },
    {
     "name": "stdout",
     "output_type": "stream",
     "text": [
      "num data: 43676\n"
     ]
    },
    {
     "name": "stderr",
     "output_type": "stream",
     "text": [
      "Evaluating: 100%|██████████| 171/171 [00:03<00:00, 43.15it/s, test_loss=0.578, test_accuracy=0.753]\n"
     ]
    },
    {
     "name": "stdout",
     "output_type": "stream",
     "text": [
      "Epoch: 8/25, Train Loss: 0.5109, Train Accuracy: 0.7390, Test Loss: 0.5505, Test Accuracy: 0.7176\n"
     ]
    },
    {
     "name": "stderr",
     "output_type": "stream",
     "text": [
      "2161870it [00:02, 904401.47it/s]\n"
     ]
    },
    {
     "name": "stdout",
     "output_type": "stream",
     "text": [
      "num data: 4323740\n"
     ]
    },
    {
     "name": "stderr",
     "output_type": "stream",
     "text": [
      "Epoch 9/25: 100%|██████████| 16890/16890 [07:34<00:00, 37.14it/s, train_loss=0.502, train_accuracy=0.745]\n",
      "21838it [00:00, 1342447.76it/s]\n"
     ]
    },
    {
     "name": "stdout",
     "output_type": "stream",
     "text": [
      "num data: 43676\n"
     ]
    },
    {
     "name": "stderr",
     "output_type": "stream",
     "text": [
      "Evaluating: 100%|██████████| 171/171 [00:02<00:00, 72.83it/s, test_loss=0.582, test_accuracy=0.755] \n"
     ]
    },
    {
     "name": "stdout",
     "output_type": "stream",
     "text": [
      "Epoch: 9/25, Train Loss: 0.5017, Train Accuracy: 0.7450, Test Loss: 0.5513, Test Accuracy: 0.7154\n"
     ]
    },
    {
     "name": "stderr",
     "output_type": "stream",
     "text": [
      "2161870it [00:02, 909486.28it/s]\n"
     ]
    },
    {
     "name": "stdout",
     "output_type": "stream",
     "text": [
      "num data: 4323740\n"
     ]
    },
    {
     "name": "stderr",
     "output_type": "stream",
     "text": [
      "Epoch 10/25: 100%|██████████| 16890/16890 [07:58<00:00, 35.33it/s, train_loss=0.493, train_accuracy=0.751]\n",
      "21838it [00:00, 1274811.56it/s]\n"
     ]
    },
    {
     "name": "stdout",
     "output_type": "stream",
     "text": [
      "num data: 43676\n"
     ]
    },
    {
     "name": "stderr",
     "output_type": "stream",
     "text": [
      "Evaluating: 100%|██████████| 171/171 [00:02<00:00, 74.07it/s, test_loss=0.585, test_accuracy=0.753] \n"
     ]
    },
    {
     "name": "stdout",
     "output_type": "stream",
     "text": [
      "Epoch: 10/25, Train Loss: 0.4932, Train Accuracy: 0.7506, Test Loss: 0.5573, Test Accuracy: 0.7179\n"
     ]
    },
    {
     "name": "stderr",
     "output_type": "stream",
     "text": [
      "2161870it [00:02, 835556.56it/s]\n"
     ]
    },
    {
     "name": "stdout",
     "output_type": "stream",
     "text": [
      "num data: 4323740\n"
     ]
    },
    {
     "name": "stderr",
     "output_type": "stream",
     "text": [
      "Epoch 11/25: 100%|██████████| 16890/16890 [07:31<00:00, 37.42it/s, train_loss=0.485, train_accuracy=0.756]\n",
      "21838it [00:00, 1422219.63it/s]\n"
     ]
    },
    {
     "name": "stdout",
     "output_type": "stream",
     "text": [
      "num data: 43676\n"
     ]
    },
    {
     "name": "stderr",
     "output_type": "stream",
     "text": [
      "Evaluating: 100%|██████████| 171/171 [00:02<00:00, 72.04it/s, test_loss=0.579, test_accuracy=0.744] \n"
     ]
    },
    {
     "name": "stdout",
     "output_type": "stream",
     "text": [
      "Epoch: 11/25, Train Loss: 0.4849, Train Accuracy: 0.7557, Test Loss: 0.5590, Test Accuracy: 0.7180\n"
     ]
    },
    {
     "name": "stderr",
     "output_type": "stream",
     "text": [
      "2161870it [00:02, 921520.26it/s] \n"
     ]
    },
    {
     "name": "stdout",
     "output_type": "stream",
     "text": [
      "num data: 4323740\n"
     ]
    },
    {
     "name": "stderr",
     "output_type": "stream",
     "text": [
      "Epoch 12/25: 100%|██████████| 16890/16890 [07:33<00:00, 37.22it/s, train_loss=0.477, train_accuracy=0.761]\n",
      "21838it [00:00, 1003156.50it/s]\n"
     ]
    },
    {
     "name": "stdout",
     "output_type": "stream",
     "text": [
      "num data: 43676\n"
     ]
    },
    {
     "name": "stderr",
     "output_type": "stream",
     "text": [
      "Evaluating: 100%|██████████| 171/171 [00:02<00:00, 69.18it/s, test_loss=0.571, test_accuracy=0.719] \n"
     ]
    },
    {
     "name": "stdout",
     "output_type": "stream",
     "text": [
      "Epoch: 12/25, Train Loss: 0.4766, Train Accuracy: 0.7612, Test Loss: 0.5715, Test Accuracy: 0.7188\n"
     ]
    },
    {
     "name": "stderr",
     "output_type": "stream",
     "text": [
      "2161870it [00:02, 877794.76it/s]\n"
     ]
    },
    {
     "name": "stdout",
     "output_type": "stream",
     "text": [
      "num data: 4323740\n"
     ]
    },
    {
     "name": "stderr",
     "output_type": "stream",
     "text": [
      "Epoch 13/25: 100%|██████████| 16890/16890 [07:35<00:00, 37.11it/s, train_loss=0.469, train_accuracy=0.766]\n",
      "21838it [00:00, 1156023.51it/s]\n"
     ]
    },
    {
     "name": "stdout",
     "output_type": "stream",
     "text": [
      "num data: 43676\n"
     ]
    },
    {
     "name": "stderr",
     "output_type": "stream",
     "text": [
      "Evaluating: 100%|██████████| 171/171 [00:02<00:00, 71.52it/s, test_loss=0.598, test_accuracy=0.758] \n"
     ]
    },
    {
     "name": "stdout",
     "output_type": "stream",
     "text": [
      "Epoch: 13/25, Train Loss: 0.4690, Train Accuracy: 0.7658, Test Loss: 0.5665, Test Accuracy: 0.7181\n"
     ]
    },
    {
     "name": "stderr",
     "output_type": "stream",
     "text": [
      "2161870it [00:02, 828313.31it/s]\n"
     ]
    },
    {
     "name": "stdout",
     "output_type": "stream",
     "text": [
      "num data: 4323740\n"
     ]
    },
    {
     "name": "stderr",
     "output_type": "stream",
     "text": [
      "Epoch 14/25: 100%|██████████| 16890/16890 [07:34<00:00, 37.18it/s, train_loss=0.462, train_accuracy=0.77] \n",
      "21838it [00:00, 1275752.62it/s]\n"
     ]
    },
    {
     "name": "stdout",
     "output_type": "stream",
     "text": [
      "num data: 43676\n"
     ]
    },
    {
     "name": "stderr",
     "output_type": "stream",
     "text": [
      "Evaluating: 100%|██████████| 171/171 [00:02<00:00, 69.45it/s, test_loss=0.581, test_accuracy=0.725] \n"
     ]
    },
    {
     "name": "stdout",
     "output_type": "stream",
     "text": [
      "Epoch: 14/25, Train Loss: 0.4621, Train Accuracy: 0.7703, Test Loss: 0.5780, Test Accuracy: 0.7210\n"
     ]
    },
    {
     "name": "stderr",
     "output_type": "stream",
     "text": [
      "2161870it [00:02, 806279.19it/s]\n"
     ]
    },
    {
     "name": "stdout",
     "output_type": "stream",
     "text": [
      "num data: 4323740\n"
     ]
    },
    {
     "name": "stderr",
     "output_type": "stream",
     "text": [
      "Epoch 15/25: 100%|██████████| 16890/16890 [07:38<00:00, 36.82it/s, train_loss=0.455, train_accuracy=0.774]\n",
      "21838it [00:00, 1202052.66it/s]\n"
     ]
    },
    {
     "name": "stdout",
     "output_type": "stream",
     "text": [
      "num data: 43676\n"
     ]
    },
    {
     "name": "stderr",
     "output_type": "stream",
     "text": [
      "Evaluating: 100%|██████████| 171/171 [00:02<00:00, 70.05it/s, test_loss=0.635, test_accuracy=0.759] \n"
     ]
    },
    {
     "name": "stdout",
     "output_type": "stream",
     "text": [
      "Epoch: 15/25, Train Loss: 0.4553, Train Accuracy: 0.7744, Test Loss: 0.5980, Test Accuracy: 0.7149\n"
     ]
    },
    {
     "name": "stderr",
     "output_type": "stream",
     "text": [
      "2161870it [00:02, 894239.56it/s]\n"
     ]
    },
    {
     "name": "stdout",
     "output_type": "stream",
     "text": [
      "num data: 4323740\n"
     ]
    },
    {
     "name": "stderr",
     "output_type": "stream",
     "text": [
      "Epoch 16/25: 100%|██████████| 16890/16890 [07:28<00:00, 37.65it/s, train_loss=0.448, train_accuracy=0.779]\n",
      "21838it [00:00, 1188884.27it/s]\n"
     ]
    },
    {
     "name": "stdout",
     "output_type": "stream",
     "text": [
      "num data: 43676\n"
     ]
    },
    {
     "name": "stderr",
     "output_type": "stream",
     "text": [
      "Evaluating: 100%|██████████| 171/171 [00:02<00:00, 71.26it/s, test_loss=0.597, test_accuracy=0.713] \n"
     ]
    },
    {
     "name": "stdout",
     "output_type": "stream",
     "text": [
      "Epoch: 16/25, Train Loss: 0.4483, Train Accuracy: 0.7786, Test Loss: 0.5966, Test Accuracy: 0.7132\n"
     ]
    },
    {
     "name": "stderr",
     "output_type": "stream",
     "text": [
      "2161870it [00:02, 823274.39it/s]\n"
     ]
    },
    {
     "name": "stdout",
     "output_type": "stream",
     "text": [
      "num data: 4323740\n"
     ]
    },
    {
     "name": "stderr",
     "output_type": "stream",
     "text": [
      "Epoch 17/25: 100%|██████████| 16890/16890 [07:36<00:00, 37.00it/s, train_loss=0.442, train_accuracy=0.783]\n",
      "21838it [00:00, 972110.96it/s]\n"
     ]
    },
    {
     "name": "stdout",
     "output_type": "stream",
     "text": [
      "num data: 43676\n"
     ]
    },
    {
     "name": "stderr",
     "output_type": "stream",
     "text": [
      "Evaluating: 100%|██████████| 171/171 [00:02<00:00, 70.35it/s, test_loss=0.642, test_accuracy=0.769] \n"
     ]
    },
    {
     "name": "stdout",
     "output_type": "stream",
     "text": [
      "Epoch: 17/25, Train Loss: 0.4423, Train Accuracy: 0.7825, Test Loss: 0.6005, Test Accuracy: 0.7193\n"
     ]
    },
    {
     "name": "stderr",
     "output_type": "stream",
     "text": [
      "2161870it [00:02, 820938.51it/s]\n"
     ]
    },
    {
     "name": "stdout",
     "output_type": "stream",
     "text": [
      "num data: 4323740\n"
     ]
    },
    {
     "name": "stderr",
     "output_type": "stream",
     "text": [
      "Epoch 18/25: 100%|██████████| 16890/16890 [07:13<00:00, 39.00it/s, train_loss=0.436, train_accuracy=0.787]\n",
      "21838it [00:00, 1303864.98it/s]\n"
     ]
    },
    {
     "name": "stdout",
     "output_type": "stream",
     "text": [
      "num data: 43676\n"
     ]
    },
    {
     "name": "stderr",
     "output_type": "stream",
     "text": [
      "Evaluating: 100%|██████████| 171/171 [00:02<00:00, 74.13it/s, test_loss=0.642, test_accuracy=0.735] \n"
     ]
    },
    {
     "name": "stdout",
     "output_type": "stream",
     "text": [
      "Epoch: 18/25, Train Loss: 0.4358, Train Accuracy: 0.7868, Test Loss: 0.6233, Test Accuracy: 0.7134\n"
     ]
    },
    {
     "name": "stderr",
     "output_type": "stream",
     "text": [
      "2161870it [00:02, 889058.79it/s]\n"
     ]
    },
    {
     "name": "stdout",
     "output_type": "stream",
     "text": [
      "num data: 4323740\n"
     ]
    },
    {
     "name": "stderr",
     "output_type": "stream",
     "text": [
      "Epoch 19/25: 100%|██████████| 16890/16890 [07:11<00:00, 39.18it/s, train_loss=0.43, train_accuracy=0.79]  \n",
      "21838it [00:00, 1205501.52it/s]\n"
     ]
    },
    {
     "name": "stdout",
     "output_type": "stream",
     "text": [
      "num data: 43676\n"
     ]
    },
    {
     "name": "stderr",
     "output_type": "stream",
     "text": [
      "Evaluating: 100%|██████████| 171/171 [00:02<00:00, 72.49it/s, test_loss=0.646, test_accuracy=0.746] \n"
     ]
    },
    {
     "name": "stdout",
     "output_type": "stream",
     "text": [
      "Epoch: 19/25, Train Loss: 0.4302, Train Accuracy: 0.7901, Test Loss: 0.6194, Test Accuracy: 0.7156\n"
     ]
    },
    {
     "name": "stderr",
     "output_type": "stream",
     "text": [
      "2161870it [00:02, 813619.03it/s]\n"
     ]
    },
    {
     "name": "stdout",
     "output_type": "stream",
     "text": [
      "num data: 4323740\n"
     ]
    },
    {
     "name": "stderr",
     "output_type": "stream",
     "text": [
      "Epoch 20/25: 100%|██████████| 16890/16890 [07:11<00:00, 39.11it/s, train_loss=0.425, train_accuracy=0.794]\n",
      "21838it [00:00, 1373921.29it/s]\n"
     ]
    },
    {
     "name": "stdout",
     "output_type": "stream",
     "text": [
      "num data: 43676\n"
     ]
    },
    {
     "name": "stderr",
     "output_type": "stream",
     "text": [
      "Evaluating: 100%|██████████| 171/171 [00:02<00:00, 76.34it/s, test_loss=0.685, test_accuracy=0.765] \n"
     ]
    },
    {
     "name": "stdout",
     "output_type": "stream",
     "text": [
      "Epoch: 20/25, Train Loss: 0.4249, Train Accuracy: 0.7938, Test Loss: 0.6406, Test Accuracy: 0.7155\n"
     ]
    },
    {
     "name": "stderr",
     "output_type": "stream",
     "text": [
      "2161870it [00:02, 893053.31it/s]\n"
     ]
    },
    {
     "name": "stdout",
     "output_type": "stream",
     "text": [
      "num data: 4323740\n"
     ]
    },
    {
     "name": "stderr",
     "output_type": "stream",
     "text": [
      "Epoch 21/25: 100%|██████████| 16890/16890 [07:09<00:00, 39.33it/s, train_loss=0.42, train_accuracy=0.797] \n",
      "21838it [00:00, 1236419.74it/s]\n"
     ]
    },
    {
     "name": "stdout",
     "output_type": "stream",
     "text": [
      "num data: 43676\n"
     ]
    },
    {
     "name": "stderr",
     "output_type": "stream",
     "text": [
      "Evaluating: 100%|██████████| 171/171 [00:02<00:00, 74.55it/s, test_loss=0.681, test_accuracy=0.758] \n"
     ]
    },
    {
     "name": "stdout",
     "output_type": "stream",
     "text": [
      "Epoch: 21/25, Train Loss: 0.4201, Train Accuracy: 0.7970, Test Loss: 0.6411, Test Accuracy: 0.7133\n"
     ]
    },
    {
     "name": "stderr",
     "output_type": "stream",
     "text": [
      "2161870it [00:02, 887270.86it/s]\n"
     ]
    },
    {
     "name": "stdout",
     "output_type": "stream",
     "text": [
      "num data: 4323740\n"
     ]
    },
    {
     "name": "stderr",
     "output_type": "stream",
     "text": [
      "Epoch 22/25: 100%|██████████| 16890/16890 [07:14<00:00, 38.91it/s, train_loss=0.415, train_accuracy=0.8]  \n",
      "21838it [00:00, 1376440.16it/s]\n"
     ]
    },
    {
     "name": "stdout",
     "output_type": "stream",
     "text": [
      "num data: 43676\n"
     ]
    },
    {
     "name": "stderr",
     "output_type": "stream",
     "text": [
      "Evaluating: 100%|██████████| 171/171 [00:02<00:00, 78.37it/s, test_loss=0.665, test_accuracy=0.726] \n"
     ]
    },
    {
     "name": "stdout",
     "output_type": "stream",
     "text": [
      "Epoch: 22/25, Train Loss: 0.4152, Train Accuracy: 0.8001, Test Loss: 0.6536, Test Accuracy: 0.7134\n"
     ]
    },
    {
     "name": "stderr",
     "output_type": "stream",
     "text": [
      "2161870it [00:02, 959966.78it/s] \n"
     ]
    },
    {
     "name": "stdout",
     "output_type": "stream",
     "text": [
      "num data: 4323740\n"
     ]
    },
    {
     "name": "stderr",
     "output_type": "stream",
     "text": [
      "Epoch 23/25: 100%|██████████| 16890/16890 [07:12<00:00, 39.05it/s, train_loss=0.41, train_accuracy=0.803] \n",
      "21838it [00:00, 1429076.21it/s]\n"
     ]
    },
    {
     "name": "stdout",
     "output_type": "stream",
     "text": [
      "num data: 43676\n"
     ]
    },
    {
     "name": "stderr",
     "output_type": "stream",
     "text": [
      "Evaluating: 100%|██████████| 171/171 [00:02<00:00, 65.23it/s, test_loss=0.727, test_accuracy=0.773] \n"
     ]
    },
    {
     "name": "stdout",
     "output_type": "stream",
     "text": [
      "Epoch: 23/25, Train Loss: 0.4104, Train Accuracy: 0.8034, Test Loss: 0.6718, Test Accuracy: 0.7141\n"
     ]
    },
    {
     "name": "stderr",
     "output_type": "stream",
     "text": [
      "2161870it [00:02, 836951.10it/s]\n"
     ]
    },
    {
     "name": "stdout",
     "output_type": "stream",
     "text": [
      "num data: 4323740\n"
     ]
    },
    {
     "name": "stderr",
     "output_type": "stream",
     "text": [
      "Epoch 24/25: 100%|██████████| 16890/16890 [07:14<00:00, 38.91it/s, train_loss=0.406, train_accuracy=0.806]\n",
      "21838it [00:00, 1301641.50it/s]\n"
     ]
    },
    {
     "name": "stdout",
     "output_type": "stream",
     "text": [
      "num data: 43676\n"
     ]
    },
    {
     "name": "stderr",
     "output_type": "stream",
     "text": [
      "Evaluating: 100%|██████████| 171/171 [00:02<00:00, 73.17it/s, test_loss=0.693, test_accuracy=0.733] \n"
     ]
    },
    {
     "name": "stdout",
     "output_type": "stream",
     "text": [
      "Epoch: 24/25, Train Loss: 0.4062, Train Accuracy: 0.8060, Test Loss: 0.6729, Test Accuracy: 0.7115\n"
     ]
    },
    {
     "name": "stderr",
     "output_type": "stream",
     "text": [
      "2161870it [00:02, 927705.30it/s] \n"
     ]
    },
    {
     "name": "stdout",
     "output_type": "stream",
     "text": [
      "num data: 4323740\n"
     ]
    },
    {
     "name": "stderr",
     "output_type": "stream",
     "text": [
      "Epoch 25/25: 100%|██████████| 16890/16890 [07:54<00:00, 35.59it/s, train_loss=0.402, train_accuracy=0.809]\n",
      "21838it [00:00, 1199000.05it/s]\n"
     ]
    },
    {
     "name": "stdout",
     "output_type": "stream",
     "text": [
      "num data: 43676\n"
     ]
    },
    {
     "name": "stderr",
     "output_type": "stream",
     "text": [
      "Evaluating: 100%|██████████| 171/171 [00:02<00:00, 68.28it/s, test_loss=0.696, test_accuracy=0.737] "
     ]
    },
    {
     "name": "stdout",
     "output_type": "stream",
     "text": [
      "Epoch: 25/25, Train Loss: 0.4019, Train Accuracy: 0.8088, Test Loss: 0.6718, Test Accuracy: 0.7114\n"
     ]
    },
    {
     "name": "stderr",
     "output_type": "stream",
     "text": [
      "\n"
>>>>>>> Stashed changes
     ]
    }
   ],
   "source": [
    "model = build_model()\n",
    "\n",
    "train_loss_history = list()\n",
    "train_accuracy_history = list()\n",
    "test_loss_history = list()\n",
    "test_accuracy_history = list()\n",
    "\n",
    "for epoch in range(EPOCH):\n",
    "\n",
    "    # train\n",
    "    train_dataset = make_dataset(train_boke_datas, train_caption_datas)\n",
    "    train_loss_obj = metrics.Mean()\n",
    "    train_accuracy_obj = metrics.Mean()\n",
    "\n",
    "    pb = tqdm(train_dataset.batch(BATCH_SIZE))\n",
    "    for (CIF, CSF, LSF), TS in pb:\n",
    "        loss, accuracy = model.train_on_batch([CIF, CSF, LSF], TS)\n",
    "        train_loss_obj(loss)\n",
    "        train_accuracy_obj(accuracy)\n",
    "        pb.set_postfix({\"train_loss\": float(train_loss_obj.result()),\n",
    "                        \"train_accuracy\": float(train_accuracy_obj.result())})\n",
    "\n",
    "    # test\n",
    "    test_dataset = make_dataset(test_boke_datas, test_caption_datas)\n",
    "    test_loss_obj = metrics.Mean()\n",
    "    test_accuracy_obj = metrics.Mean()\n",
    "\n",
    "    pb = tqdm(test_dataset.batch(BATCH_SIZE))\n",
    "    for (CIF, CSF, LSF), TS in pb:\n",
    "        loss, accuracy = model.evaluate([CIF, CSF, LSF], TS,\n",
    "                                        verbose = False, batch_size = BATCH_SIZE)\n",
    "        train_loss_obj(loss)\n",
    "        train_accuracy_obj(accuracy)\n",
    "        pb.set_postfix({\"train_loss\": float(train_loss_obj.result()),\n",
    "                        \"train_accuracy\": float(train_accuracy_obj.result())})\n",
    "    \n",
    "    train_loss = float(train_loss_obj.result())\n",
    "    train_accuracy = float(train_accuracy_obj.result())\n",
    "    test_loss = float(test_loss_obj.result())\n",
    "    test_accuracy = float(test_accuracy_obj.result())\n",
    "\n",
    "    print(f\"epoch: {epoch}, train loss: {train_loss}, train accuracy: {train_accuracy}, test loss: {test_loss}, test accuracy: {test_accuracy}\")\n",
    "\n",
    "    train_loss_history.append(train_loss)\n",
    "    train_accuracy_history.append(train_accuracy)\n",
    "    test_loss_history.append(test_loss)\n",
    "    test_accuracy_history.append(test_accuracy)\n",
    "\n",
    "with open(f\"{RESULT_DIR}history.json\", \"w\") as f:\n",
    "    json.dump({\n",
    "        \"train_loss\": train_loss_history,\n",
    "        \"train_accuracy\": train_accuracy_history,\n",
    "        \"test_loss\": test_loss_history,\n",
    "        \"test_accuracy\": test_accuracy_history\n",
<<<<<<< Updated upstream
    "    }, f)"
=======
    "    }, f)\n"
   ]
  },
  {
   "cell_type": "code",
   "execution_count": 10,
   "metadata": {},
   "outputs": [
    {
     "name": "stderr",
     "output_type": "stream",
     "text": [
      "<ipython-input-10-a5555dbdb8e2>:4: FutureWarning: You are using `torch.load` with `weights_only=False` (the current default value), which uses the default pickle module implicitly. It is possible to construct malicious pickle data which will execute arbitrary code during unpickling (See https://github.com/pytorch/pytorch/blob/main/SECURITY.md#untrusted-models for more details). In a future release, the default value for `weights_only` will be flipped to `True`. This limits the functions that could be executed during unpickling. Arbitrary objects will no longer be allowed to be loaded via this mode unless they are explicitly allowlisted by the user via `torch.serialization.add_safe_globals`. We recommend you start setting `weights_only=True` for any use case where you don't have full control of the loaded file. Please open an issue on GitHub for any issues related to this experimental feature.\n",
      "  model.load_state_dict(torch.load(f\"{RESULT_DIR}model_weights.pth\",\n"
     ]
    },
    {
     "data": {
      "text/plain": [
       "CustomModel(\n",
       "  (fc1): Linear(in_features=1792, out_features=1024, bias=True)\n",
       "  (fc2): Linear(in_features=1024, out_features=1024, bias=True)\n",
       "  (fc3): Linear(in_features=1024, out_features=1024, bias=True)\n",
       "  (output_layer): Linear(in_features=1024, out_features=1, bias=True)\n",
       ")"
      ]
     },
     "execution_count": 10,
     "metadata": {},
     "output_type": "execute_result"
    }
   ],
   "source": [
    "torch.save(model.state_dict(), f\"{RESULT_DIR}model_weights.pth\")\n",
    "\n",
    "model = CustomModel(CIF.shape[1], CSF.shape[1], LSF.shape[1])\n",
    "model.load_state_dict(torch.load(f\"{RESULT_DIR}model_weights.pth\",\n",
    "                                 map_location=torch.device('cpu')))\n",
    "model.eval()"
   ]
  },
  {
   "cell_type": "code",
   "execution_count": 9,
   "metadata": {},
   "outputs": [
    {
     "data": {
      "image/png": "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",
      "text/plain": [
       "<Figure size 720x360 with 2 Axes>"
      ]
     },
     "metadata": {
      "needs_background": "light"
     },
     "output_type": "display_data"
    }
   ],
   "source": [
    "fig = plt.figure(figsize = (10, 5))\n",
    "ax = fig.add_subplot(1, 2, 1)\n",
    "ax.plot(train_loss_history, label = \"train\")\n",
    "ax.plot(test_loss_history, label = \"test\")\n",
    "ax.set_xlabel(\"epoch\")\n",
    "ax.set_ylabel(\"loss\")\n",
    "ax.legend()\n",
    "ax.grid()\n",
    "\n",
    "ax = fig.add_subplot(1, 2, 2)\n",
    "ax.plot(train_accuracy_history, label = \"train\")\n",
    "ax.plot(test_accuracy_history, label = \"test\")\n",
    "ax.set_xlabel(\"epoch\")\n",
    "ax.set_ylabel(\"accuracy\")\n",
    "ax.legend()\n",
    "ax.grid()"
>>>>>>> Stashed changes
   ]
  }
 ],
 "metadata": {
  "kernelspec": {
   "display_name": "Colab_20241111",
   "language": "python",
   "name": "python3"
  },
  "language_info": {
   "codemirror_mode": {
    "name": "ipython",
    "version": 3
   },
   "file_extension": ".py",
   "mimetype": "text/x-python",
   "name": "python",
   "nbconvert_exporter": "python",
   "pygments_lexer": "ipython3",
   "version": "3.10.12"
  }
 },
 "nbformat": 4,
 "nbformat_minor": 2
}
