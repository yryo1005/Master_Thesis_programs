{
 "cells": [
  {
   "cell_type": "markdown",
   "metadata": {},
   "source": [
    "# 001\n",
    "\n",
    "現実写真のみ、文字なし，alpha = 1"
   ]
  },
  {
   "cell_type": "code",
   "execution_count": 1,
   "metadata": {},
   "outputs": [],
   "source": [
    "import os\n",
    "import json\n",
    "import numpy as np\n",
    "import random\n",
    "import shutil\n",
    "import matplotlib.pyplot as plt\n",
    "from PIL import Image, ImageOps\n",
    "from tqdm import tqdm\n",
    "from sklearn.model_selection import train_test_split\n",
    "\n",
    "import torch\n",
    "import torch.nn as nn\n",
    "import torch.nn.functional as F\n",
    "from torch import optim\n",
    "from torch.utils.data import Dataset, DataLoader\n",
    "import torchvision.models as models\n",
    "import torchvision.transforms as transforms\n",
    "\n",
    "import subprocess\n",
    "if not os.path.exists(\"Japanese_BPEEncoder_V2\"):\n",
    "    subprocess.run([\"git\", \"clone\", \"https://github.com/tanreinama/Japanese-BPEEncoder_V2.git\", \"Japanese_BPEEncoder_V2\"])\n",
    "from Japanese_BPEEncoder_V2.encode_swe import SWEEncoder_ja"
   ]
  },
  {
   "cell_type": "code",
   "execution_count": 2,
   "metadata": {},
   "outputs": [],
   "source": [
    "EXPERIENCE_NUMBER = \"001\"\n",
    "ALPHA = 100\n",
    "CHAIN = 3\n",
    "MAX_DEPTH = 3\n",
    "\n",
    "# PCによって変更する\n",
    "NUM_WORKERS = 20\n",
    "# データセットが既に存在する場合に，再度作り直すか\n",
    "RESET_DATA = False\n",
    "# Augmix-Autoencoderを学習しなおすか\n",
    "RETRAIN_AUMIX_AUTOENCODER = False\n",
    "\n",
    "# 現実写真以外を使用するか\n",
    "USE_UNREAL_IMAGE = False\n",
    "# 文字を含む画像を使用するか\n",
    "USE_WORD_IMAGE = False\n",
    "# 固有名詞を含む大喜利を使用するか\n",
    "USE_UNIQUE_NOUN_BOKE = False\n",
    "\n",
    "# 大喜利の最小の星の数\n",
    "MIN_STAR = 0\n",
    "# 単語の最小出現回数\n",
    "MIN_APPER_WORD = 32\n",
    "# 大喜利の最小単語数\n",
    "MIN_SENTENCE_LENGTH = 4\n",
    "# 大喜利の最大単語数\n",
    "MAX_SENTENCE_LENGTH = 31\n",
    "\n",
    "RESULT_DIR = f\"../../results/GUMI_AMAE_{ALPHA}/{EXPERIENCE_NUMBER}/\"\n",
    "if not os.path.exists(f\"../../results/GUMI_AMAE_{ALPHA}/\"):\n",
    "    os.mkdir(f\"../../results/GUMI_AMAE_{ALPHA}/\")\n",
    "if not os.path.exists(RESULT_DIR):\n",
    "    os.mkdir(RESULT_DIR)\n",
    "\n",
    "# \n",
    "BATCH_SIZE_FOR_AUTOENCODER = 32\n",
    "EPOCH_FOR_AUTOENCODER = 25\n",
    "LEARNING_RATO_FOR_AUTOENCODER = 0.0001\n",
    "IMAGE_HEIGHT = 128\n",
    "IMAGE_WIDTH = 128\n",
    "IMAGE_FEATURE_DIM = 16384\n",
    "\n",
    "BATCH_SIZE_FOR_GENERATOR = 32\n",
    "EPOCH_FOR_GENERATOR = 25\n",
    "LEARNING_RATO_FOR_GENERATOR = 0.0001\n",
    "\n",
    "DATA_DIR = \"../../datas/boke_data_assemble/\"\n",
    "IMAGE_DIR = \"../../datas/boke_image/\"\n",
    "\n",
    "IMAGE_FEATURE_DIR = f\"../../datas/encoded/augmix_autoencoder_{ALPHA}_image_feature/\"\n",
    "if not os.path.exists(IMAGE_FEATURE_DIR):\n",
    "    os.mkdir(IMAGE_FEATURE_DIR)"
   ]
  },
  {
   "cell_type": "code",
   "execution_count": 3,
   "metadata": {},
   "outputs": [
    {
     "name": "stderr",
     "output_type": "stream",
     "text": [
      "100%|██████████| 668982/668982 [03:40<00:00, 3027.20it/s]\n"
     ]
    },
    {
     "data": {
      "text/plain": [
       "(228908, 25435)"
      ]
     },
     "execution_count": 3,
     "metadata": {},
     "output_type": "execute_result"
    }
   ],
   "source": [
    "if not os.path.exists(f\"{RESULT_DIR}test_image_paths.json\") or RESET_DATA:\n",
    "    image_paths = list()\n",
    "\n",
    "    for IP in tqdm(os.listdir(IMAGE_DIR)):\n",
    "        \n",
    "        N = int(IP.split(\".\")[0])\n",
    "        if not os.path.exists(f\"{DATA_DIR}{N}.json\"):\n",
    "            continue\n",
    "\n",
    "        with open(f\"{DATA_DIR}{N}.json\", \"r\") as f:\n",
    "            a = json.load(f)\n",
    "        \n",
    "        image_information = a[\"image_information\"]\n",
    "        is_photographic_probability = image_information[\"is_photographic_probability\"]\n",
    "        ocr = image_information[\"ocr\"]\n",
    "\n",
    "        # 現実写真以外を除去\n",
    "        if not USE_UNREAL_IMAGE:\n",
    "            if is_photographic_probability < 0.8: continue\n",
    "            \n",
    "        # 文字のある画像を除去\n",
    "        if not USE_WORD_IMAGE:\n",
    "            if len(ocr) != 0: continue\n",
    "        \n",
    "        image_paths.append(f\"{IMAGE_DIR}{IP}\")\n",
    "\n",
    "    train_image_paths, test_image_paths = train_test_split(image_paths, test_size = 0.1)\n",
    "\n",
    "    with open(f\"{RESULT_DIR}train_image_paths.json\", \"w\") as f:\n",
    "        json.dump(train_image_paths, f)\n",
    "    with open(f\"{RESULT_DIR}test_image_paths.json\", \"w\") as f:\n",
    "        json.dump(test_image_paths, f)\n",
    "    \n",
    "else:\n",
    "    with open(f\"{RESULT_DIR}train_image_paths.json\", \"r\") as f:\n",
    "        train_image_paths = json.load(f)\n",
    "    with open(f\"{RESULT_DIR}test_image_paths.json\", \"r\") as f:\n",
    "        test_image_paths = json.load(f)\n",
    "\n",
    "len(train_image_paths), len(test_image_paths)"
   ]
  },
  {
   "cell_type": "code",
   "execution_count": 4,
   "metadata": {},
   "outputs": [],
   "source": [
    "def autocontrast(pil_img):\n",
    "    return ImageOps.autocontrast(pil_img)\n",
    "\n",
    "def equalize(pil_img):\n",
    "    return ImageOps.equalize(pil_img)\n",
    "\n",
    "def posterize(pil_img):\n",
    "    f = random.randint(4, 7)\n",
    "    return ImageOps.posterize(pil_img, 8 - f)\n",
    "\n",
    "def rotate(pil_img):\n",
    "    d = random.uniform(-10.0, 10.0)\n",
    "    return pil_img.rotate(d, resample = Image.BILINEAR)\n",
    "\n",
    "def solarize(pil_img):\n",
    "    f = random.randint(0, 255)\n",
    "    return ImageOps.solarize(pil_img, 255 - f)\n",
    "\n",
    "def shear_x(pil_img):\n",
    "    w, h = pil_img.size\n",
    "    f = random.uniform(-0.1, 0.1)\n",
    "    return pil_img.transform((w, h),\n",
    "                             Image.AFFINE, (1, f, 0, 0, 1, 0),\n",
    "                             resample = Image.BILINEAR)\n",
    "\n",
    "def shear_y(pil_img):\n",
    "    w, h = pil_img.size\n",
    "    f = random.uniform(-0.1, 0.1)\n",
    "    return pil_img.transform((w, h),\n",
    "                             Image.AFFINE, (1, 0, 0, f, 1, 0),\n",
    "                             resample = Image.BILINEAR)\n",
    "\n",
    "def center_shear_x(pil_img):\n",
    "    w, h = pil_img.size\n",
    "    f = random.uniform(-0.1, 0.1)\n",
    "    return pil_img.transform((w, h),\n",
    "                             Image.AFFINE, (1, f, -f * w / 2, 0, 1, 0),\n",
    "                             resample = Image.BILINEAR)\n",
    "\n",
    "def center_shear_y(pil_img):\n",
    "    w, h = pil_img.size\n",
    "    f = random.uniform(-0.1, 0.1)\n",
    "    return pil_img.transform((w, h),\n",
    "                             Image.AFFINE, (1, 0, 0, f, 1, -f * h / 2),\n",
    "                             resample = Image.BILINEAR)\n",
    "\n",
    "def translate_x(pil_img):\n",
    "    w, h = pil_img.size\n",
    "    f = random.uniform(-0.1, 0.1) * w\n",
    "    return pil_img.transform((w, h),\n",
    "                             Image.AFFINE, (1, 0, f, 0, 1, 0),\n",
    "                             resample = Image.BILINEAR)\n",
    "\n",
    "def translate_y(pil_img):\n",
    "    w, h = pil_img.size\n",
    "    f = random.uniform(-0.1, 0.1) * h\n",
    "    return pil_img.transform((w, h),\n",
    "                             Image.AFFINE, (1, 0, 0, 0, 1, f),\n",
    "                             resample = Image.BILINEAR)\n",
    "\n",
    "def downsampling(pil_img):\n",
    "    w, h = pil_img.size\n",
    "    th = random.randint(w // 8, h // 2)\n",
    "    tw = random.randint(w // 8, h // 2)\n",
    "    return pil_img.resize((tw, th)).resize((w, h))\n",
    "\n",
    "def add_noise(pil_img):\n",
    "    w, h = pil_img.size\n",
    "    v = random.randint(0, 10)\n",
    "    n = np.random.normal(0, v, (h, w, 3))\n",
    "    return Image.fromarray((pil_img + n).astype(np.uint8))\n",
    "\n",
    "def choice_random_operation():\n",
    "    idx = random.randint(0, len(operations) - 1)\n",
    "    return operations[idx]\n",
    "\n",
    "def augmix_operation(pil_img, chain = 3, max_depth = 3):\n",
    "    width, height = pil_img.size\n",
    "\n",
    "    mixed_img = np.zeros((height, width, 3))\n",
    "\n",
    "    weights = np.random.dirichlet([1.0] * chain)\n",
    "\n",
    "    for W in weights:\n",
    "        img = pil_img.copy()\n",
    "\n",
    "        for _ in range(random.randint(1, max_depth)):\n",
    "            operation = choice_random_operation()\n",
    "            img = operation(img)\n",
    "\n",
    "        mixed_img += W * img\n",
    "\n",
    "    weight = np.random.uniform(0, 1)\n",
    "    result = weight * np.array(pil_img) + (1 - weight) * np.array(mixed_img)\n",
    "\n",
    "    return result\n",
    "\n",
    "operations = [\n",
    "            # autocontrast, equalize, posterize, solarize,\n",
    "            rotate,\n",
    "            # shear_x, shear_y,\n",
    "            center_shear_x, center_shear_y,\n",
    "            translate_x, translate_y,\n",
    "            downsampling,\n",
    "            add_noise\n",
    "]"
   ]
  },
  {
   "cell_type": "code",
   "execution_count": 5,
   "metadata": {},
   "outputs": [],
   "source": [
    "# 画像の前処理\n",
    "image_preprocess = transforms.Compose([\n",
    "    transforms.ToTensor(),\n",
    "])\n",
    "\n",
    "# augmixのデータローダを作る関数\n",
    "def make_augmix_image_dataloader(image_paths, batch_size, chain, max_depth, num_workers = 4):\n",
    "\n",
    "    class LoadImageDataset(Dataset):\n",
    "        def __init__(self, image_paths):\n",
    "            \"\"\"\n",
    "                image_paths: 画像のパスからなるリスト\n",
    "            \"\"\"\n",
    "            self.image_paths = image_paths\n",
    "\n",
    "        def __len__(self):\n",
    "            return len(self.image_paths)\n",
    "\n",
    "        def __getitem__(self, idx):\n",
    "            image = Image.open(image_paths[idx]).convert(\"RGB\")\n",
    "\n",
    "            return image, self.image_paths[idx]\n",
    "    \n",
    "    def collate_fn_tf(batch):\n",
    "        images = [B[0].resize((IMAGE_WIDTH, IMAGE_HEIGHT)) for B in batch]\n",
    "        augmix_images1 = torch.stack([ image_preprocess( augmix_operation(I, chain = chain, max_depth = max_depth) / 255.0 ) for I in images ])\n",
    "        augmix_images2 = torch.stack([ image_preprocess( augmix_operation(I, chain = chain, max_depth = max_depth) / 255.0 ) for I in images ])\n",
    "        images = torch.stack([image_preprocess(I) for I in images])\n",
    "        image_numbers = [B[1] for B in batch]\n",
    "\n",
    "        return images, augmix_images1, augmix_images2, image_numbers\n",
    "\n",
    "    print(f\"num data: {len(image_paths)}\")\n",
    "\n",
    "    dataset = LoadImageDataset(image_paths)\n",
    "    dataloader = DataLoader(\n",
    "        dataset, \n",
    "        batch_size = batch_size, \n",
    "        num_workers = num_workers, \n",
    "        collate_fn = collate_fn_tf\n",
    "    )\n",
    "\n",
    "    return dataloader"
   ]
  },
  {
   "cell_type": "code",
   "execution_count": 6,
   "metadata": {},
   "outputs": [],
   "source": [
    "class ImageEncoder(nn.Module):\n",
    "    def __init__(self, image_feature_dim):\n",
    "        \"\"\"\n",
    "            image_feature_dim: \n",
    "        \"\"\"\n",
    "        super(ImageEncoder, self).__init__()\n",
    "\n",
    "        self.conv1 = nn.Conv2d(3, 32, kernel_size = 3, stride = 2, padding = 1)\n",
    "        self.conv2 = nn.Conv2d(32, 64, kernel_size = 3, stride = 2, padding = 1)\n",
    "        self.conv3 = nn.Conv2d(64, 128, kernel_size = 3, stride = 2, padding = 1)\n",
    "        self.conv4 = nn.Conv2d(128, 256, kernel_size = 3, stride = 2, padding = 1)\n",
    "\n",
    "        self.fc1 = nn.Linear(16384, 16384)\n",
    "        self.fc2 = nn.Linear(16384, image_feature_dim)\n",
    "    \n",
    "    def forward(self, images):\n",
    "        x = F.leaky_relu( self.conv1(images) )\n",
    "        # 32, 64, 64\n",
    "        x = F.leaky_relu( self.conv2(x) )\n",
    "        # 64, 32, 32\n",
    "        x = F.leaky_relu( self.conv3(x) )\n",
    "        # 128, 16, 16\n",
    "        x = F.leaky_relu( self.conv4(x) )\n",
    "        # 256, 8, 8\n",
    "\n",
    "        x = nn.Flatten()(x)\n",
    "        x = F.leaky_relu(self.fc1(x))\n",
    "        return F.leaky_relu(self.fc2(x))\n",
    "\n",
    "class ImageDecoder(nn.Module):\n",
    "    def __init__(self, image_feature_dim):\n",
    "        \"\"\"\n",
    "            image_feature_dim: \n",
    "        \"\"\"\n",
    "        super(ImageDecoder, self).__init__()\n",
    "\n",
    "        self.fc1 = nn.Linear(image_feature_dim, 16384)\n",
    "\n",
    "        self.deconv1 = nn.ConvTranspose2d(256, 128, kernel_size = 3, stride = 2, padding = 1, output_padding = 1)\n",
    "        self.deconv2 = nn.ConvTranspose2d(128, 64, kernel_size = 3, stride = 2, padding = 1, output_padding = 1)\n",
    "        self.deconv3 = nn.ConvTranspose2d(64, 32, kernel_size = 3, stride = 2, padding = 1, output_padding = 1)\n",
    "        self.deconv4 = nn.ConvTranspose2d(32, 32, kernel_size = 3, stride = 2, padding = 1, output_padding = 1)\n",
    "        \n",
    "        self.conv1 = nn.Conv2d(32, 3, kernel_size = 3, stride = 1, padding = 1)\n",
    "    \n",
    "    def forward(self, image_features):\n",
    "        x = F.leaky_relu(self.fc1(image_features))\n",
    "        x = nn.Unflatten(1, (256, 8, 8))(x)\n",
    "        # 256, 8, 8\n",
    "\n",
    "        x = F.leaky_relu( self.deconv1(x) )\n",
    "        # 128, 16, 16\n",
    "        x = F.leaky_relu( self.deconv2(x) )\n",
    "        # 64, 32, 32\n",
    "        x = F.leaky_relu( self.deconv3(x) )\n",
    "        # 32, 64, 64\n",
    "        x = F.leaky_relu( self.deconv4(x) )\n",
    "        # 32, 128, 128\n",
    "        return nn.Sigmoid()( self.conv1(x) )\n",
    "        # 3, 128, 128\n",
    "\n",
    "class AugmixAutoencoder(nn.Module):\n",
    "    def __init__(self, image_feature_dim):\n",
    "        \"\"\"\n",
    "            image_feature_dim: \n",
    "        \"\"\"\n",
    "        super(AugmixAutoencoder, self).__init__()\n",
    "\n",
    "        self.encoder = ImageEncoder(image_feature_dim)\n",
    "        self.decoder = ImageDecoder(image_feature_dim)\n",
    "    \n",
    "    def forward(self, images):\n",
    "        image_features = self.encoder(images)\n",
    "        return self.decoder( image_features ), image_features"
   ]
  },
  {
   "cell_type": "code",
   "execution_count": 7,
   "metadata": {},
   "outputs": [],
   "source": [
    "def predict_by_augmix_autoencoder(augmix_autoeuncoder, image_paths, device = \"cuda\"):\n",
    "    tmp_images = [Image.open(IP).resize((IMAGE_WIDTH, IMAGE_WIDTH)) for IP in image_paths]\n",
    "    tmp_images = [image_preprocess(I) for I in tmp_images] + [ image_preprocess( augmix_operation(I, chain = CHAIN, max_depth = MAX_DEPTH) / 255.0 ) for I in tmp_images ]\n",
    "    images = torch.stack(tmp_images).to(torch.float32).to(device)\n",
    "\n",
    "    predict_images, _ = augmix_autoeuncoder(images)\n",
    "    predict_images = predict_images.permute(0, 2, 3, 1).cpu().detach().numpy()\n",
    "\n",
    "    fig = plt.figure()\n",
    "    for i in range(len(tmp_images)):\n",
    "        ax = fig.add_subplot(2, len(tmp_images), i + 1)\n",
    "        ax.imshow(tmp_images[i].permute(1, 2, 0))\n",
    "        ax.axis(\"off\")\n",
    "        ax.set_title(\"input\")\n",
    "\n",
    "        ax = fig.add_subplot(2, len(tmp_images), len(tmp_images) + i + 1)\n",
    "        ax.imshow(predict_images[i])\n",
    "        ax.axis(\"off\")\n",
    "        ax.set_title(\"predict\")\n",
    "    plt.show()"
   ]
  },
  {
   "cell_type": "code",
   "execution_count": null,
   "metadata": {},
   "outputs": [
    {
     "name": "stdout",
     "output_type": "stream",
     "text": [
      "num data: 228908\n",
      "num data: 25435\n"
     ]
    },
    {
     "name": "stderr",
     "output_type": "stream",
     "text": [
      "Epoch 1/25:   6%|▌         | 397/7154 [02:02<32:41,  3.44it/s, train_loss=0.179]"
     ]
    }
   ],
   "source": [
    "if not os.path.exists(f\"{RESULT_DIR}augmix_autoencoder_history.png\") or RETRAIN_AUTOENCODER:\n",
    "    train_loss_history = []\n",
    "    test_loss_history = []\n",
    "\n",
    "    device = \"cuda\" if torch.cuda.is_available() else \"cpu\"\n",
    "    augmix_autoencoder = AugmixAutoencoder(image_feature_dim = IMAGE_FEATURE_DIM)\n",
    "    augmix_autoencoder.to(device)\n",
    "    optimizer = optim.AdamW(augmix_autoencoder.parameters(), lr = LEARNING_RATO_FOR_AUTOENCODER)\n",
    "\n",
    "    train_image_dataloader = make_augmix_image_dataloader(train_image_paths, batch_size = BATCH_SIZE_FOR_AUTOENCODER, chain = CHAIN, max_depth = MAX_DEPTH, num_workers = NUM_WORKERS)\n",
    "    test_image_dataloader = make_augmix_image_dataloader(test_image_paths, batch_size = BATCH_SIZE_FOR_AUTOENCODER, chain = CHAIN, max_depth = MAX_DEPTH, num_workers = NUM_WORKERS)\n",
    "\n",
    "    # 1イテレーション学習する関数\n",
    "    def train_step_for_augmix_autoencoder(augmix_autoencoder, optimizer, images, augmix_images1, augmix_images2):\n",
    "        optimizer.zero_grad()\n",
    "        original_outputs, original_features = augmix_autoencoder(images)\n",
    "        am1_outputs, am1_features = augmix_autoencoder(augmix_images1)\n",
    "        am2_outputs, am2_features = augmix_autoencoder(augmix_images2)\n",
    "\n",
    "        loss1 = nn.MSELoss()(original_outputs, images)\n",
    "        loss2 = nn.MSELoss()(am1_outputs, images)\n",
    "        loss3 = nn.MSELoss()(am2_outputs, images)\n",
    "        loss4 = nn.MSELoss()(original_features, am1_features)\n",
    "        loss5 = nn.MSELoss()(original_features, am2_features)\n",
    "\n",
    "        loss = loss1 + loss2 + loss3 + ALPHA * (loss4 + loss5)\n",
    "\n",
    "        loss.backward()\n",
    "        optimizer.step()\n",
    "        return loss.item()\n",
    "\n",
    "    # 1イテレーション検証する関数\n",
    "    def test_step_for_augmix_autoencoder(augmix_autoencoder, images, augmix_images1, augmix_images2):\n",
    "        with torch.no_grad():\n",
    "            original_outputs, original_features = augmix_autoencoder(images)\n",
    "            am1_outputs, am1_features = augmix_autoencoder(augmix_images1)\n",
    "            am2_outputs, am2_features = augmix_autoencoder(augmix_images2)\n",
    "\n",
    "            loss1 = nn.MSELoss()(original_outputs, images)\n",
    "            loss2 = nn.MSELoss()(am1_outputs, images)\n",
    "            loss3 = nn.MSELoss()(am2_outputs, images)\n",
    "            loss4 = nn.MSELoss()(original_features, am1_features)\n",
    "            loss5 = nn.MSELoss()(original_features, am2_features)\n",
    "\n",
    "            loss = loss1 + loss2 + loss3 + ALPHA * (loss4 + loss5)\n",
    "        return loss.item()\n",
    "\n",
    "    for epoch in range(EPOCH_FOR_AUTOENCODER):\n",
    "\n",
    "        # train\n",
    "        train_loss_obj = 0.0\n",
    "        augmix_autoencoder.train()\n",
    "        pb = tqdm(train_image_dataloader, desc = f\"Epoch {epoch+1}/{EPOCH_FOR_AUTOENCODER}\")\n",
    "        \n",
    "        for images, augmix_images1, augmix_images2, _ in pb:\n",
    "            images = images.float().to(\"cuda\")\n",
    "            augmix_images1 = augmix_images1.float().to(\"cuda\")\n",
    "            augmix_images2 = augmix_images2.float().to(\"cuda\")\n",
    "\n",
    "            loss = train_step_for_augmix_autoencoder(augmix_autoencoder, optimizer, images, augmix_images1, augmix_images2)\n",
    "            train_loss_obj += loss\n",
    "            pb.set_postfix({\"train_loss\": train_loss_obj / (pb.n + 1),})\n",
    "        train_loss = train_loss_obj / len(train_image_dataloader)\n",
    "\n",
    "        # test\n",
    "        test_loss_obj = 0.0\n",
    "        augmix_autoencoder.eval()\n",
    "        pb = tqdm(test_image_dataloader, desc = f\"Epoch {epoch+1}/{EPOCH_FOR_AUTOENCODER}\")\n",
    "        \n",
    "        for images, augmix_images1, augmix_images2, _ in pb:\n",
    "            images = images.float().to(\"cuda\")\n",
    "            augmix_images1 = augmix_images1.float().to(\"cuda\")\n",
    "            augmix_images2 = augmix_images2.float().to(\"cuda\")\n",
    "\n",
    "            loss = test_step_for_augmix_autoencoder(augmix_autoencoder, images, augmix_images1, augmix_images2)\n",
    "            test_loss_obj += loss\n",
    "            pb.set_postfix({\"test_loss\": test_loss_obj / (pb.n + 1),})\n",
    "        test_loss = test_loss_obj / len(test_image_dataloader)\n",
    "\n",
    "        print(f\"Epoch: {epoch+1}/{EPOCH_FOR_AUTOENCODER}, \"\n",
    "            f\"Train Loss: {train_loss:.4f}, Test Loss: {test_loss:.4f}\")\n",
    "        print(\"-\" * 25)\n",
    "\n",
    "        train_loss_history.append(train_loss)\n",
    "        test_loss_history.append(test_loss)\n",
    "\n",
    "        # 検証誤差を更新した場合、重みを保存\n",
    "        if min(test_loss_history) == test_loss:\n",
    "            torch.save(augmix_autoencoder.state_dict(), f\"{RESULT_DIR}best_augmix_autoencoder_weights.pth\")\n",
    "\n",
    "        predict_by_augmix_autoencoder(augmix_autoencoder, test_image_paths[:5])\n",
    "\n",
    "    # 学習結果を保存\n",
    "    with open(f\"{RESULT_DIR}augmix_autoencoder_history.json\", \"w\") as f:\n",
    "        json.dump({\n",
    "            \"train_loss\": train_loss_history,\n",
    "            \"test_loss\": test_loss_history,\n",
    "        }, f)\n",
    "\n",
    "    # 学習結果を描画\n",
    "    fig = plt.figure(figsize = (5, 5))\n",
    "    ax = fig.add_subplot(1, 1, 1)\n",
    "    ax.plot(train_loss_history, label = \"train\")\n",
    "    ax.plot(test_loss_history, label = \"test\")\n",
    "    ax.set_xlabel(\"epoch\")\n",
    "    ax.set_ylabel(\"loss\")\n",
    "    ax.legend()\n",
    "    ax.grid()\n",
    "\n",
    "    fig.savefig(f\"{RESULT_DIR}augmix_autoencoder_history.png\")"
   ]
  },
  {
   "cell_type": "code",
   "execution_count": null,
   "metadata": {},
   "outputs": [
    {
     "name": "stderr",
     "output_type": "stream",
     "text": [
      "100%|██████████| 668970/668970 [04:48<00:00, 2315.31it/s]\n",
      "100%|██████████| 2135982/2135982 [00:02<00:00, 799140.13it/s] \n",
      "100%|██████████| 2051435/2051435 [00:02<00:00, 816468.21it/s]\n"
     ]
    },
    {
     "name": "stdout",
     "output_type": "stream",
     "text": [
      "学習に用いる大喜利の数: 2030920\n",
      " 検証に用いる大喜利の数: 20515\n",
      " 使用する画像の数: 244286\n",
      " 単語の種類: 16705\n"
     ]
    }
   ],
   "source": [
    "# データセットの作成\n",
    "if not os.path.exists(f\"{RESULT_DIR}index_to_word.json\") or RESET_DATA:\n",
    "    # tokenizer\n",
    "    with open('Japanese_BPEEncoder_V2/ja-swe32kfix.txt') as f:\n",
    "        bpe = f.read().split('\\n')\n",
    "\n",
    "    with open('Japanese_BPEEncoder_V2/emoji.json') as f:\n",
    "        emoji = json.loads(f.read())\n",
    "\n",
    "    tokenizer = SWEEncoder_ja(bpe, emoji)\n",
    "\n",
    "    tmp = list()\n",
    "    word_count_dict = dict()\n",
    "\n",
    "    for JP in tqdm(os.listdir(DATA_DIR)):\n",
    "        \n",
    "        N = int(JP.split(\".\")[0])\n",
    "\n",
    "        with open(f\"{DATA_DIR}{JP}\", \"r\") as f:\n",
    "            a = json.load(f)\n",
    "        \n",
    "        image_information = a[\"image_information\"]\n",
    "        is_photographic_probability = image_information[\"is_photographic_probability\"]\n",
    "        ocr = image_information[\"ocr\"]\n",
    "\n",
    "        # 現実写真以外を除去\n",
    "        if not USE_UNREAL_IMAGE:\n",
    "            if is_photographic_probability < 0.8: continue\n",
    "            \n",
    "        # 文字のある画像を除去\n",
    "        if not USE_WORD_IMAGE:\n",
    "            if len(ocr) != 0: continue\n",
    "        \n",
    "        bokes = a[\"bokes\"]\n",
    "\n",
    "        for B in bokes:\n",
    "            # 星が既定の数以下の大喜利を除去\n",
    "            if B[\"star\"] < MIN_STAR:\n",
    "                continue\n",
    "\n",
    "            # 固有名詞を含む大喜利を除去\n",
    "            if not USE_UNIQUE_NOUN_BOKE:\n",
    "                if len(B[\"unique_nouns\"]) != 0: continue\n",
    "\n",
    "            tokenized_boke = tokenizer.encode(B[\"boke\"])\n",
    "            # 単語数が既定の数でない大喜利を除去\n",
    "            if not MIN_SENTENCE_LENGTH <= len(tokenized_boke) < MAX_SENTENCE_LENGTH:\n",
    "                continue\n",
    "\n",
    "            for W in tokenized_boke:\n",
    "                try:\n",
    "                    word_count_dict[W] += 1\n",
    "                except:\n",
    "                    word_count_dict[W] = 1\n",
    "            \n",
    "            tmp.append({\n",
    "                \"image_number\": N,\n",
    "                \"tokenized_boke\": tokenized_boke\n",
    "            })\n",
    "\n",
    "    # 単語の最小出現回数を満たさない大喜利を除去\n",
    "    boke_datas = list()\n",
    "    words = list()\n",
    "\n",
    "    for D in tqdm(tmp):\n",
    "        flag = False\n",
    "        for W in D[\"tokenized_boke\"]:\n",
    "            if word_count_dict[W] < MIN_APPER_WORD:\n",
    "                flag = True\n",
    "                break\n",
    "        if flag: \n",
    "            continue\n",
    "        \n",
    "        boke_datas.append({\n",
    "            \"image_number\": D[\"image_number\"],\n",
    "            \"tokenized_boke\": D[\"tokenized_boke\"]\n",
    "        })\n",
    "        words += D[\"tokenized_boke\"]\n",
    "    words = set(words)\n",
    "    image_numbers = list(set([D[\"image_number\"] for D in boke_datas]))\n",
    "    del tmp\n",
    "\n",
    "    # tokenize\n",
    "    index_to_index = dict()\n",
    "\n",
    "    c = 3\n",
    "    for D in tqdm(boke_datas):\n",
    "        tmp = list()\n",
    "        for W in D[\"tokenized_boke\"]:\n",
    "            try:\n",
    "                index_to_index[W]\n",
    "            except:\n",
    "                index_to_index[W] = c\n",
    "                c += 1\n",
    "            tmp.append(index_to_index[W])\n",
    "        D[\"tokenized_boke\"] = [1] + tmp + [2]\n",
    "\n",
    "    index_to_word = {\n",
    "        V: tokenizer.decode([K]) for K, V in index_to_index.items()\n",
    "    }\n",
    "    index_to_word[0] = \"<PAD>\"\n",
    "    index_to_word[1] = \"<START>\"\n",
    "    index_to_word[2] = \"<END>\"\n",
    "\n",
    "    #\n",
    "    train_boke_datas, test_boke_datas = train_test_split(boke_datas, test_size = 0.01)\n",
    "\n",
    "    with open(f\"{RESULT_DIR}train_boke_datas.json\", \"w\") as f:\n",
    "        json.dump(train_boke_datas, f)\n",
    "    with open(f\"{RESULT_DIR}test_boke_datas.json\", \"w\") as f:\n",
    "        json.dump(test_boke_datas, f)\n",
    "    with open(f\"{RESULT_DIR}index_to_word.json\", \"w\") as f:\n",
    "        json.dump(index_to_word, f)\n",
    "\n",
    "else:\n",
    "    with open(f\"{RESULT_DIR}train_boke_datas.json\", \"r\") as f:\n",
    "        train_boke_datas = json.load(f)\n",
    "    with open(f\"{RESULT_DIR}test_boke_datas.json\", \"r\") as f:\n",
    "        test_boke_datas = json.load(f)\n",
    "    with open(f\"{RESULT_DIR}index_to_word.json\", \"r\") as f:\n",
    "        index_to_word = json.load(f)\n",
    "\n",
    "    image_numbers = [D[\"image_number\"] for D in train_boke_datas] + [D[\"image_number\"] for D in test_boke_datas]\n",
    "    image_numbers = list(set(image_numbers))\n",
    "\n",
    "print(f\"学習に用いる大喜利の数: {len(train_boke_datas)}\\n\", \n",
    "      f\"検証に用いる大喜利の数: {len(test_boke_datas)}\\n\",\n",
    "      f\"使用する画像の数: {len(image_numbers)}\\n\",\n",
    "      f\"単語の種類: {len(index_to_word)}\")"
   ]
  },
  {
   "cell_type": "code",
   "execution_count": 10,
   "metadata": {},
   "outputs": [],
   "source": [
    "# 画像の前処理\n",
    "image_preprocess = transforms.Compose([\n",
    "    transforms.Resize((IMAGE_HEIGHT, IMAGE_WIDTH)),\n",
    "    transforms.ToTensor(),\n",
    "])\n",
    "\n",
    "# 画像のデータローダを作る関数\n",
    "def make_image_dataloader(image_paths, batch_size, num_workers = 4):\n",
    "\n",
    "    class LoadImageDataset(Dataset):\n",
    "        def __init__(self, image_paths):\n",
    "            \"\"\"\n",
    "                image_paths: 画像のパスからなるリスト\n",
    "            \"\"\"\n",
    "            self.image_paths = image_paths\n",
    "\n",
    "        def __len__(self):\n",
    "            return len(self.image_paths)\n",
    "\n",
    "        def __getitem__(self, idx):\n",
    "            image = Image.open(image_paths[idx]).convert(\"RGB\")\n",
    "\n",
    "            return image, self.image_paths[idx]\n",
    "    \n",
    "    def collate_fn_tf(batch):\n",
    "        images = torch.stack([image_preprocess(B[0]) for B in batch])\n",
    "        image_numbers = [B[1] for B in batch]\n",
    "\n",
    "        return images, image_numbers\n",
    "\n",
    "    print(f\"num data: {len(image_paths)}\")\n",
    "\n",
    "    dataset = LoadImageDataset(image_paths)\n",
    "    dataloader = DataLoader(\n",
    "        dataset, \n",
    "        batch_size = batch_size, \n",
    "        num_workers = num_workers, \n",
    "        collate_fn = collate_fn_tf\n",
    "    )\n",
    "\n",
    "    return dataloader"
   ]
  },
  {
   "cell_type": "code",
   "execution_count": 11,
   "metadata": {},
   "outputs": [
    {
     "name": "stderr",
     "output_type": "stream",
     "text": [
      "100%|██████████| 244286/244286 [00:00<00:00, 753413.34it/s]\n"
     ]
    },
    {
     "name": "stdout",
     "output_type": "stream",
     "text": [
      "num data: 244286\n"
     ]
    },
    {
     "name": "stderr",
     "output_type": "stream",
     "text": [
      "<ipython-input-11-db6fd902ca2e>:18: FutureWarning: You are using `torch.load` with `weights_only=False` (the current default value), which uses the default pickle module implicitly. It is possible to construct malicious pickle data which will execute arbitrary code during unpickling (See https://github.com/pytorch/pytorch/blob/main/SECURITY.md#untrusted-models for more details). In a future release, the default value for `weights_only` will be flipped to `True`. This limits the functions that could be executed during unpickling. Arbitrary objects will no longer be allowed to be loaded via this mode unless they are explicitly allowlisted by the user via `torch.serialization.add_safe_globals`. We recommend you start setting `weights_only=True` for any use case where you don't have full control of the loaded file. Please open an issue on GitHub for any issues related to this experimental feature.\n",
      "  augmix_autoencoder.load_state_dict(torch.load(f\"{RESULT_DIR}best_augmix_autoencoder_weights.pth\"))\n",
      "100%|██████████| 1909/1909 [01:49<00:00, 17.39it/s]\n"
     ]
    }
   ],
   "source": [
    "# 画像を特徴量に変換する\n",
    "if RETRAIN_AUMIX_AUTOENCODER:\n",
    "    shutil.rmtree(IMAGE_FEATURE_DIR) \n",
    "    os.mkdir(IMAGE_FEATURE_DIR)\n",
    "\n",
    "tmp = list()\n",
    "for IN in tqdm(image_numbers):\n",
    "    if os.path.exists(f\"{IMAGE_FEATURE_DIR}{IN}.npy\"):\n",
    "        continue\n",
    "    tmp.append(f\"{IMAGE_DIR}{IN}.jpg\")\n",
    "\n",
    "if len(tmp) != 0:\n",
    "    image_dataloader = make_image_dataloader(tmp, batch_size = 128, num_workers = NUM_WORKERS)\n",
    "\n",
    "    # encoder of Autoencoder\n",
    "    device = torch.device(\"cuda\" if torch.cuda.is_available() else \"cpu\")\n",
    "    augmix_autoencoder = AugmixAutoencoder(image_feature_dim = IMAGE_FEATURE_DIM)\n",
    "    augmix_autoencoder.load_state_dict(torch.load(f\"{RESULT_DIR}best_augmix_autoencoder_weights.pth\"))\n",
    "    model = augmix_autoencoder.encoder\n",
    "    model = model.to(device)\n",
    "    model.eval()\n",
    "\n",
    "    for Is, IPs in tqdm(image_dataloader):\n",
    "        Is = Is.to(device)\n",
    "        features = model(Is).detach().cpu().numpy()\n",
    "\n",
    "        for f, IP in zip(features, IPs):\n",
    "            N = IP.split(\"/\")[-1].split(\".\")[0]\n",
    "            np.save(f\"{IMAGE_FEATURE_DIR}{N}\", f)"
   ]
  },
  {
   "cell_type": "code",
   "execution_count": 12,
   "metadata": {},
   "outputs": [],
   "source": [
    "# 大喜利生成モデルのクラス\n",
    "class BokeGeneratorModel(nn.Module):\n",
    "    def __init__(self, num_word, image_feature_dim, sentence_length, embedding_dim = 512):\n",
    "        \"\"\"\n",
    "            num_word: 学習に用いる単語の総数\n",
    "            image_feature_dim: 画像の特徴量の次元数\n",
    "            sentence_length: 入力する文章の単語数\n",
    "            embedding_dim: 単語の埋め込み次元数\n",
    "        \"\"\"\n",
    "        super(BokeGeneratorModel, self).__init__()\n",
    "        self.num_word = num_word\n",
    "        self.image_feature_dim = image_feature_dim\n",
    "        self.sentence_length = sentence_length\n",
    "        self.embedding_dim = embedding_dim\n",
    "        \n",
    "        self.fc1 = nn.Linear(image_feature_dim, embedding_dim)\n",
    "        self.embedding = nn.Embedding(num_word, embedding_dim, padding_idx = 0)\n",
    "        self.lstm = nn.LSTM(input_size = embedding_dim, hidden_size = embedding_dim, \n",
    "                            batch_first = True)\n",
    "        self.fc2 = nn.Linear(embedding_dim + embedding_dim, 2 * embedding_dim)\n",
    "        self.fc3 = nn.Linear(2 * embedding_dim, 2 * embedding_dim)\n",
    "        self.fc4 = nn.Linear(2 * embedding_dim, num_word)\n",
    "    \n",
    "    # LSTMの初期値は0で，画像の特徴量と文章の特徴量を全結合層の前で結合する\n",
    "    def forward(self, image_features, sentences):\n",
    "        \"\"\"\n",
    "            image_features: 画像の特徴量\n",
    "            sentences: 入力する文章\n",
    "        \"\"\"\n",
    "        x1 = F.leaky_relu(self.fc1(image_features))\n",
    "        x1 = x1.unsqueeze(1).repeat(1, self.sentence_length, 1)\n",
    "\n",
    "        x2 = self.embedding(sentences)\n",
    "        x2, _ = self.lstm(x2)\n",
    "\n",
    "        x = torch.cat((x1, x2), dim = -1)\n",
    "        x = F.leaky_relu(self.fc2(x))\n",
    "        x = F.leaky_relu(self.fc3(x))\n",
    "\n",
    "        return self.fc4(x)"
   ]
  },
  {
   "cell_type": "code",
   "execution_count": 13,
   "metadata": {},
   "outputs": [],
   "source": [
    "# 大喜利生成AIの学習用データローダを作る関数\n",
    "def make_dataloader(boke_datas, max_sentence_length, batch_size, num_workers = 4):\n",
    "    \"\"\"\n",
    "        boke_datas: {\"image_number\":画像のお題番号 ,\"tokenized_boke\":トークナイズされた大喜利}からなるリスト\n",
    "        max_sentence_length: 学習データの最大単語数(<START>, <END>トークンを含まない)\n",
    "        num_workers: データローダが使用するCPUのスレッド数\n",
    "    \"\"\"\n",
    "    class SentenceGeneratorDataset(Dataset):\n",
    "        def __init__(self, image_file_numbers, sentences, teacher_signals):\n",
    "            \"\"\"\n",
    "                image_file_numbers: 画像の番号からなるリスト\n",
    "                sentences: 入力文章からなるリスト\n",
    "                teacher_signals: 教師信号からなるリスト\n",
    "            \"\"\"\n",
    "            if len(image_file_numbers) != len(sentences) and len(teacher_signals) != len(sentences):\n",
    "                raise ValueError(\"データリストの長さが一致しません\")\n",
    "\n",
    "            self.image_file_numbers = image_file_numbers\n",
    "            self.sentences = sentences\n",
    "            self.teacher_signals = teacher_signals\n",
    "\n",
    "        def __len__(self):\n",
    "            return len(self.teacher_signals)\n",
    "\n",
    "        def __getitem__(self, idx):\n",
    "            image_feature = np.load(f\"{IMAGE_FEATURE_DIR}{self.image_file_numbers[idx]}.npy\")\n",
    "            sentence = self.sentences[idx]\n",
    "            teacher_signal = self.teacher_signals[idx]\n",
    "\n",
    "            return image_feature, sentence, teacher_signal\n",
    "\n",
    "    def collate_fn_tf(batch):\n",
    "        image_features = torch.tensor(np.array([B[0] for B in batch]))\n",
    "        sentences = torch.tensor(np.array([B[1] for B in batch]))\n",
    "        teacher_signals = torch.tensor(np.array([B[2] for B in batch]))\n",
    "\n",
    "        return image_features, sentences, teacher_signals\n",
    "\n",
    "    image_file_numbers = list()\n",
    "    sentences = list()\n",
    "    teacher_signals = list()\n",
    "\n",
    "    for D in tqdm(boke_datas):\n",
    "        image_file_numbers.append(D[\"image_number\"])\n",
    "        tmp = D[\"tokenized_boke\"] + [0] * (2 + max_sentence_length - len(D[\"tokenized_boke\"]))\n",
    "        sentences.append(tmp[:-1])\n",
    "        teacher_signals.append(tmp[1:])\n",
    "\n",
    "    dataset = SentenceGeneratorDataset(image_file_numbers, sentences, teacher_signals)\n",
    "    dataloader = DataLoader(\n",
    "        dataset, \n",
    "        batch_size = batch_size, \n",
    "        num_workers = num_workers, \n",
    "        collate_fn = collate_fn_tf\n",
    "    )\n",
    "\n",
    "    print(f\"num data: {len(teacher_signals)}\")\n",
    "\n",
    "    return dataloader"
   ]
  },
  {
   "cell_type": "code",
   "execution_count": 14,
   "metadata": {},
   "outputs": [
    {
     "name": "stderr",
     "output_type": "stream",
     "text": [
      "100%|██████████| 2030920/2030920 [00:05<00:00, 348734.23it/s]\n"
     ]
    },
    {
     "name": "stdout",
     "output_type": "stream",
     "text": [
      "num data: 2030920\n"
     ]
    },
    {
     "name": "stderr",
     "output_type": "stream",
     "text": [
      "100%|██████████| 20515/20515 [00:00<00:00, 626054.24it/s]\n"
     ]
    },
    {
     "name": "stdout",
     "output_type": "stream",
     "text": [
      "num data: 20515\n"
     ]
    }
   ],
   "source": [
    "train_dataloader = make_dataloader(train_boke_datas, max_sentence_length = MAX_SENTENCE_LENGTH, batch_size = BATCH_SIZE_FOR_GENERATOR, num_workers = NUM_WORKERS)\n",
    "test_dataloader = make_dataloader(test_boke_datas, max_sentence_length = MAX_SENTENCE_LENGTH, batch_size = BATCH_SIZE_FOR_GENERATOR, num_workers = NUM_WORKERS)\n",
    "\n",
    "# モデルの学習\n",
    "train_loss_history = []\n",
    "train_accuracy_history = []\n",
    "test_loss_history = []\n",
    "test_accuracy_history = []\n",
    "\n",
    "device = \"cuda\" if torch.cuda.is_available() else \"cpu\"\n",
    "model = BokeGeneratorModel(num_word = len(index_to_word), \n",
    "                           image_feature_dim = IMAGE_FEATURE_DIM, \n",
    "                           sentence_length = MAX_SENTENCE_LENGTH + 1, \n",
    "                           embedding_dim = 2048)\n",
    "model.to(device)\n",
    "optimizer = optim.AdamW(model.parameters(), lr = LEARNING_RATO_FOR_GENERATOR)"
   ]
  },
  {
   "cell_type": "code",
   "execution_count": 15,
   "metadata": {},
   "outputs": [
    {
     "name": "stderr",
     "output_type": "stream",
     "text": [
      "Epoch 1/25: 100%|██████████| 63467/63467 [50:56<00:00, 20.76it/s, train_loss=4.28, train_accuracy=0.305]\n",
      "Evaluating: 100%|██████████| 642/642 [00:09<00:00, 66.23it/s, test_loss=4, test_accuracy=0.333]   \n"
     ]
    },
    {
     "name": "stdout",
     "output_type": "stream",
     "text": [
      "Epoch: 1/25, Train Loss: 4.2770, Train Accuracy: 0.3052, Test Loss: 3.9826, Test Accuracy: 0.3316\n",
      "-------------------------\n"
     ]
    },
    {
     "name": "stderr",
     "output_type": "stream",
     "text": [
      "Epoch 2/25: 100%|██████████| 63467/63467 [50:59<00:00, 20.75it/s, train_loss=3.82, train_accuracy=0.348]\n",
      "Evaluating: 100%|██████████| 642/642 [00:09<00:00, 66.10it/s, test_loss=3.92, test_accuracy=0.344]\n"
     ]
    },
    {
     "name": "stdout",
     "output_type": "stream",
     "text": [
      "Epoch: 2/25, Train Loss: 3.8172, Train Accuracy: 0.3478, Test Loss: 3.9040, Test Accuracy: 0.3428\n",
      "-------------------------\n"
     ]
    },
    {
     "name": "stderr",
     "output_type": "stream",
     "text": [
      "Epoch 3/25: 100%|██████████| 63467/63467 [50:58<00:00, 20.75it/s, train_loss=3.63, train_accuracy=0.366]\n",
      "Evaluating: 100%|██████████| 642/642 [00:09<00:00, 66.18it/s, test_loss=3.93, test_accuracy=0.344]\n"
     ]
    },
    {
     "name": "stdout",
     "output_type": "stream",
     "text": [
      "Epoch: 3/25, Train Loss: 3.6319, Train Accuracy: 0.3661, Test Loss: 3.9276, Test Accuracy: 0.3436\n",
      "-------------------------\n"
     ]
    },
    {
     "name": "stderr",
     "output_type": "stream",
     "text": [
      "Epoch 4/25: 100%|██████████| 63467/63467 [50:59<00:00, 20.75it/s, train_loss=3.49, train_accuracy=0.38] \n",
      "Evaluating: 100%|██████████| 642/642 [00:09<00:00, 66.03it/s, test_loss=4.01, test_accuracy=0.343]\n"
     ]
    },
    {
     "name": "stdout",
     "output_type": "stream",
     "text": [
      "Epoch: 4/25, Train Loss: 3.4883, Train Accuracy: 0.3805, Test Loss: 3.9954, Test Accuracy: 0.3417\n",
      "-------------------------\n"
     ]
    },
    {
     "name": "stderr",
     "output_type": "stream",
     "text": [
      "Epoch 5/25: 100%|██████████| 63467/63467 [50:57<00:00, 20.76it/s, train_loss=3.37, train_accuracy=0.393]\n",
      "Evaluating: 100%|██████████| 642/642 [00:09<00:00, 66.13it/s, test_loss=4.11, test_accuracy=0.338]\n"
     ]
    },
    {
     "name": "stdout",
     "output_type": "stream",
     "text": [
      "Epoch: 5/25, Train Loss: 3.3656, Train Accuracy: 0.3934, Test Loss: 4.0932, Test Accuracy: 0.3372\n",
      "-------------------------\n"
     ]
    },
    {
     "name": "stderr",
     "output_type": "stream",
     "text": [
      "Epoch 6/25: 100%|██████████| 63467/63467 [50:57<00:00, 20.75it/s, train_loss=3.26, train_accuracy=0.405]\n",
      "Evaluating: 100%|██████████| 642/642 [00:09<00:00, 66.02it/s, test_loss=4.21, test_accuracy=0.334]\n"
     ]
    },
    {
     "name": "stdout",
     "output_type": "stream",
     "text": [
      "Epoch: 6/25, Train Loss: 3.2575, Train Accuracy: 0.4052, Test Loss: 4.1975, Test Accuracy: 0.3325\n",
      "-------------------------\n"
     ]
    },
    {
     "name": "stderr",
     "output_type": "stream",
     "text": [
      "Epoch 7/25: 100%|██████████| 63467/63467 [50:57<00:00, 20.76it/s, train_loss=3.16, train_accuracy=0.416]\n",
      "Evaluating: 100%|██████████| 642/642 [00:09<00:00, 66.29it/s, test_loss=4.33, test_accuracy=0.329]\n"
     ]
    },
    {
     "name": "stdout",
     "output_type": "stream",
     "text": [
      "Epoch: 7/25, Train Loss: 3.1622, Train Accuracy: 0.4164, Test Loss: 4.3182, Test Accuracy: 0.3279\n",
      "-------------------------\n"
     ]
    },
    {
     "name": "stderr",
     "output_type": "stream",
     "text": [
      "Epoch 8/25: 100%|██████████| 63467/63467 [50:57<00:00, 20.76it/s, train_loss=3.08, train_accuracy=0.427]\n",
      "Evaluating: 100%|██████████| 642/642 [00:09<00:00, 66.24it/s, test_loss=4.45, test_accuracy=0.326]\n"
     ]
    },
    {
     "name": "stdout",
     "output_type": "stream",
     "text": [
      "Epoch: 8/25, Train Loss: 3.0771, Train Accuracy: 0.4266, Test Loss: 4.4326, Test Accuracy: 0.3249\n",
      "-------------------------\n"
     ]
    },
    {
     "name": "stderr",
     "output_type": "stream",
     "text": [
      "Epoch 9/25: 100%|██████████| 63467/63467 [50:59<00:00, 20.74it/s, train_loss=3, train_accuracy=0.436]   \n",
      "Evaluating: 100%|██████████| 642/642 [00:09<00:00, 66.04it/s, test_loss=4.56, test_accuracy=0.324]\n"
     ]
    },
    {
     "name": "stdout",
     "output_type": "stream",
     "text": [
      "Epoch: 9/25, Train Loss: 3.0017, Train Accuracy: 0.4359, Test Loss: 4.5477, Test Accuracy: 0.3234\n",
      "-------------------------\n"
     ]
    },
    {
     "name": "stderr",
     "output_type": "stream",
     "text": [
      "Epoch 10/25: 100%|██████████| 63467/63467 [50:58<00:00, 20.75it/s, train_loss=2.93, train_accuracy=0.445]\n",
      "Evaluating: 100%|██████████| 642/642 [00:09<00:00, 66.37it/s, test_loss=4.67, test_accuracy=0.32] \n"
     ]
    },
    {
     "name": "stdout",
     "output_type": "stream",
     "text": [
      "Epoch: 10/25, Train Loss: 2.9334, Train Accuracy: 0.4447, Test Loss: 4.6569, Test Accuracy: 0.3193\n",
      "-------------------------\n"
     ]
    },
    {
     "name": "stderr",
     "output_type": "stream",
     "text": [
      "Epoch 11/25: 100%|██████████| 63467/63467 [50:56<00:00, 20.77it/s, train_loss=2.87, train_accuracy=0.453]\n",
      "Evaluating: 100%|██████████| 642/642 [00:09<00:00, 66.35it/s, test_loss=4.78, test_accuracy=0.319]\n"
     ]
    },
    {
     "name": "stdout",
     "output_type": "stream",
     "text": [
      "Epoch: 11/25, Train Loss: 2.8711, Train Accuracy: 0.4529, Test Loss: 4.7618, Test Accuracy: 0.3178\n",
      "-------------------------\n"
     ]
    },
    {
     "name": "stderr",
     "output_type": "stream",
     "text": [
      "Epoch 12/25: 100%|██████████| 63467/63467 [50:55<00:00, 20.77it/s, train_loss=2.81, train_accuracy=0.46] \n",
      "Evaluating: 100%|██████████| 642/642 [00:09<00:00, 65.77it/s, test_loss=4.88, test_accuracy=0.316]\n"
     ]
    },
    {
     "name": "stdout",
     "output_type": "stream",
     "text": [
      "Epoch: 12/25, Train Loss: 2.8148, Train Accuracy: 0.4604, Test Loss: 4.8604, Test Accuracy: 0.3145\n",
      "-------------------------\n"
     ]
    },
    {
     "name": "stderr",
     "output_type": "stream",
     "text": [
      "Epoch 13/25: 100%|██████████| 63467/63467 [50:57<00:00, 20.76it/s, train_loss=2.76, train_accuracy=0.468]\n",
      "Evaluating: 100%|██████████| 642/642 [00:09<00:00, 65.62it/s, test_loss=5, test_accuracy=0.309]   \n"
     ]
    },
    {
     "name": "stdout",
     "output_type": "stream",
     "text": [
      "Epoch: 13/25, Train Loss: 2.7637, Train Accuracy: 0.4675, Test Loss: 4.9658, Test Accuracy: 0.3070\n",
      "-------------------------\n"
     ]
    },
    {
     "name": "stderr",
     "output_type": "stream",
     "text": [
      "Epoch 14/25: 100%|██████████| 63467/63467 [50:59<00:00, 20.75it/s, train_loss=2.72, train_accuracy=0.474]\n",
      "Evaluating: 100%|██████████| 642/642 [00:09<00:00, 66.13it/s, test_loss=5.06, test_accuracy=0.309]\n"
     ]
    },
    {
     "name": "stdout",
     "output_type": "stream",
     "text": [
      "Epoch: 14/25, Train Loss: 2.7163, Train Accuracy: 0.4742, Test Loss: 5.0482, Test Accuracy: 0.3076\n",
      "-------------------------\n"
     ]
    },
    {
     "name": "stderr",
     "output_type": "stream",
     "text": [
      "Epoch 15/25: 100%|██████████| 63467/63467 [50:56<00:00, 20.76it/s, train_loss=2.67, train_accuracy=0.48] \n",
      "Evaluating: 100%|██████████| 642/642 [00:09<00:00, 66.19it/s, test_loss=5.13, test_accuracy=0.311]\n"
     ]
    },
    {
     "name": "stdout",
     "output_type": "stream",
     "text": [
      "Epoch: 15/25, Train Loss: 2.6730, Train Accuracy: 0.4802, Test Loss: 5.1181, Test Accuracy: 0.3103\n",
      "-------------------------\n"
     ]
    },
    {
     "name": "stderr",
     "output_type": "stream",
     "text": [
      "Epoch 16/25: 100%|██████████| 63467/63467 [50:57<00:00, 20.75it/s, train_loss=2.63, train_accuracy=0.486]\n",
      "Evaluating: 100%|██████████| 642/642 [00:09<00:00, 66.01it/s, test_loss=5.22, test_accuracy=0.307]\n"
     ]
    },
    {
     "name": "stdout",
     "output_type": "stream",
     "text": [
      "Epoch: 16/25, Train Loss: 2.6331, Train Accuracy: 0.4859, Test Loss: 5.2023, Test Accuracy: 0.3064\n",
      "-------------------------\n"
     ]
    },
    {
     "name": "stderr",
     "output_type": "stream",
     "text": [
      "Epoch 17/25: 100%|██████████| 63467/63467 [50:58<00:00, 20.75it/s, train_loss=2.6, train_accuracy=0.491]\n",
      "Evaluating: 100%|██████████| 642/642 [00:09<00:00, 66.15it/s, test_loss=5.3, test_accuracy=0.308] \n"
     ]
    },
    {
     "name": "stdout",
     "output_type": "stream",
     "text": [
      "Epoch: 17/25, Train Loss: 2.5965, Train Accuracy: 0.4912, Test Loss: 5.2792, Test Accuracy: 0.3070\n",
      "-------------------------\n"
     ]
    },
    {
     "name": "stderr",
     "output_type": "stream",
     "text": [
      "Epoch 18/25: 100%|██████████| 63467/63467 [50:58<00:00, 20.75it/s, train_loss=2.56, train_accuracy=0.496]\n",
      "Evaluating: 100%|██████████| 642/642 [00:09<00:00, 66.29it/s, test_loss=5.34, test_accuracy=0.305]\n"
     ]
    },
    {
     "name": "stdout",
     "output_type": "stream",
     "text": [
      "Epoch: 18/25, Train Loss: 2.5632, Train Accuracy: 0.4963, Test Loss: 5.3304, Test Accuracy: 0.3044\n",
      "-------------------------\n"
     ]
    },
    {
     "name": "stderr",
     "output_type": "stream",
     "text": [
      "Epoch 19/25: 100%|██████████| 63467/63467 [58:37<00:00, 18.04it/s, train_loss=2.53, train_accuracy=0.501]\n",
      "Evaluating: 100%|██████████| 642/642 [00:10<00:00, 64.06it/s, test_loss=5.42, test_accuracy=0.305]\n"
     ]
    },
    {
     "name": "stdout",
     "output_type": "stream",
     "text": [
      "Epoch: 19/25, Train Loss: 2.5318, Train Accuracy: 0.5010, Test Loss: 5.4048, Test Accuracy: 0.3043\n",
      "-------------------------\n"
     ]
    },
    {
     "name": "stderr",
     "output_type": "stream",
     "text": [
      "Epoch 20/25: 100%|██████████| 63467/63467 [58:36<00:00, 18.05it/s, train_loss=2.5, train_accuracy=0.505]   \n",
      "Evaluating: 100%|██████████| 642/642 [00:09<00:00, 65.13it/s, test_loss=5.49, test_accuracy=0.308]\n"
     ]
    },
    {
     "name": "stdout",
     "output_type": "stream",
     "text": [
      "Epoch: 20/25, Train Loss: 2.5025, Train Accuracy: 0.5054, Test Loss: 5.4774, Test Accuracy: 0.3068\n",
      "-------------------------\n"
     ]
    },
    {
     "name": "stderr",
     "output_type": "stream",
     "text": [
      "Epoch 21/25: 100%|██████████| 63467/63467 [58:49<00:00, 17.98it/s, train_loss=2.48, train_accuracy=0.509]  \n",
      "Evaluating: 100%|██████████| 642/642 [00:09<00:00, 65.29it/s, test_loss=5.55, test_accuracy=0.306]\n"
     ]
    },
    {
     "name": "stdout",
     "output_type": "stream",
     "text": [
      "Epoch: 21/25, Train Loss: 2.4756, Train Accuracy: 0.5095, Test Loss: 5.5283, Test Accuracy: 0.3049\n",
      "-------------------------\n"
     ]
    },
    {
     "name": "stderr",
     "output_type": "stream",
     "text": [
      "Epoch 22/25: 100%|██████████| 63467/63467 [57:47<00:00, 18.31it/s, train_loss=2.45, train_accuracy=0.513]\n",
      "Evaluating: 100%|██████████| 642/642 [00:09<00:00, 65.34it/s, test_loss=5.58, test_accuracy=0.3]  \n"
     ]
    },
    {
     "name": "stdout",
     "output_type": "stream",
     "text": [
      "Epoch: 22/25, Train Loss: 2.4508, Train Accuracy: 0.5134, Test Loss: 5.5690, Test Accuracy: 0.2993\n",
      "-------------------------\n"
     ]
    },
    {
     "name": "stderr",
     "output_type": "stream",
     "text": [
      "Epoch 23/25: 100%|██████████| 63467/63467 [51:18<00:00, 20.62it/s, train_loss=2.43, train_accuracy=0.517]\n",
      "Evaluating: 100%|██████████| 642/642 [00:09<00:00, 65.34it/s, test_loss=5.64, test_accuracy=0.299]\n"
     ]
    },
    {
     "name": "stdout",
     "output_type": "stream",
     "text": [
      "Epoch: 23/25, Train Loss: 2.4286, Train Accuracy: 0.5167, Test Loss: 5.6238, Test Accuracy: 0.2986\n",
      "-------------------------\n"
     ]
    },
    {
     "name": "stderr",
     "output_type": "stream",
     "text": [
      "Epoch 24/25: 100%|██████████| 63467/63467 [51:22<00:00, 20.59it/s, train_loss=2.41, train_accuracy=0.52] \n",
      "Evaluating: 100%|██████████| 642/642 [00:09<00:00, 65.33it/s, test_loss=5.7, test_accuracy=0.306] \n"
     ]
    },
    {
     "name": "stdout",
     "output_type": "stream",
     "text": [
      "Epoch: 24/25, Train Loss: 2.4081, Train Accuracy: 0.5199, Test Loss: 5.6951, Test Accuracy: 0.3055\n",
      "-------------------------\n"
     ]
    },
    {
     "name": "stderr",
     "output_type": "stream",
     "text": [
      "Epoch 25/25: 100%|██████████| 63467/63467 [51:10<00:00, 20.67it/s, train_loss=2.39, train_accuracy=0.523]\n",
      "Evaluating: 100%|██████████| 642/642 [00:09<00:00, 65.67it/s, test_loss=5.75, test_accuracy=0.305]\n"
     ]
    },
    {
     "name": "stdout",
     "output_type": "stream",
     "text": [
      "Epoch: 25/25, Train Loss: 2.3892, Train Accuracy: 0.5230, Test Loss: 5.7355, Test Accuracy: 0.3038\n",
      "-------------------------\n"
     ]
    },
    {
     "data": {
      "image/png": "[encoded data removed]",
      "text/plain": [
       "<Figure size 720x360 with 2 Axes>"
      ]
     },
     "metadata": {
      "needs_background": "light"
     },
     "output_type": "display_data"
    }
   ],
   "source": [
    "# 文章生成の精度を計算する関数\n",
    "def calculate_accuracy(teacher_signals, outputs):\n",
    "    \"\"\"\n",
    "        teacher_signals: 教師信号\n",
    "        outputs: モデルの出力\n",
    "    \"\"\"\n",
    "    _, predicted_words = outputs.max(dim = -1)\n",
    "    # パディングに対して精度を計算しない\n",
    "    mask = (teacher_signals != 0)\n",
    "    correct = ((predicted_words == teacher_signals) & mask).sum().item()\n",
    "    total = mask.sum().item()\n",
    "    accuracy = correct / total if total > 0 else 0.0\n",
    "    return accuracy\n",
    "\n",
    "# 1イテレーション学習する関数\n",
    "def train_step(model, optimizer, batch_data, batch_labels):\n",
    "    optimizer.zero_grad()\n",
    "    outputs = model(*batch_data)\n",
    "    # パディングに対して損失を計算しない\n",
    "    loss = F.cross_entropy(outputs.view(-1, outputs.size(-1)), batch_labels.view(-1),\n",
    "                           ignore_index = 0)\n",
    "    accuracy = calculate_accuracy(batch_labels, F.softmax(outputs, dim = -1))\n",
    "    loss.backward()\n",
    "    optimizer.step()\n",
    "    return loss.item(), accuracy\n",
    "\n",
    "# 1イテレーション検証する関数\n",
    "def evaluate(model, batch_data, batch_labels):\n",
    "    with torch.no_grad():\n",
    "        outputs = model(*batch_data)\n",
    "        loss = F.cross_entropy(outputs.view(-1, outputs.size(-1)), batch_labels.view(-1),\n",
    "                               ignore_index = 0)\n",
    "        accuracy = calculate_accuracy(batch_labels, F.softmax(outputs, dim = -1))\n",
    "    return loss.item(), accuracy\n",
    "\n",
    "for epoch in range(EPOCH_FOR_GENERATOR):\n",
    "\n",
    "    # train\n",
    "    train_loss_obj = 0.0\n",
    "    train_accuracy_obj = 0.0\n",
    "    model.train()\n",
    "    pb = tqdm(train_dataloader, desc = f\"Epoch {epoch+1}/{EPOCH_FOR_GENERATOR}\")\n",
    "    \n",
    "    for image_features, sentences, teacher_signals in pb:\n",
    "        image_features = image_features.to(device)\n",
    "        sentences = sentences.to(device)\n",
    "        teacher_signals = teacher_signals.to(device)\n",
    "        \n",
    "        loss, accuracy = train_step(model, optimizer, (image_features, sentences), teacher_signals)\n",
    "        train_loss_obj += loss\n",
    "        train_accuracy_obj += accuracy\n",
    "        pb.set_postfix({\"train_loss\": train_loss_obj / (pb.n + 1), \"train_accuracy\": train_accuracy_obj / (pb.n + 1)})\n",
    "\n",
    "    train_loss = train_loss_obj / len(train_dataloader)\n",
    "    train_accuracy = train_accuracy_obj / len(train_dataloader)\n",
    "\n",
    "    # test\n",
    "    test_loss_obj = 0.0\n",
    "    test_accuracy_obj = 0.0\n",
    "    model.eval()\n",
    "    pb = tqdm(test_dataloader, desc = \"Evaluating\")\n",
    "\n",
    "    for image_features, sentences, teacher_signals in pb:\n",
    "        image_features = image_features.to(device)\n",
    "        sentences = sentences.to(device)\n",
    "        teacher_signals = teacher_signals.to(device)\n",
    "\n",
    "        loss, accuracy = evaluate(model, (image_features, sentences), teacher_signals)\n",
    "        test_loss_obj += loss\n",
    "        test_accuracy_obj += accuracy\n",
    "        pb.set_postfix({\"test_loss\": test_loss_obj / (pb.n + 1), \"test_accuracy\": test_accuracy_obj / (pb.n + 1)})\n",
    "\n",
    "    test_loss = test_loss_obj / len(test_dataloader)\n",
    "    test_accuracy = test_accuracy_obj / len(test_dataloader)\n",
    "\n",
    "    print(f\"Epoch: {epoch+1}/{EPOCH_FOR_GENERATOR}, \"\n",
    "          f\"Train Loss: {train_loss:.4f}, Train Accuracy: {train_accuracy:.4f}, \"\n",
    "          f\"Test Loss: {test_loss:.4f}, Test Accuracy: {test_accuracy:.4f}\")\n",
    "    print(\"-\" * 25)\n",
    "\n",
    "    train_loss_history.append(train_loss)\n",
    "    train_accuracy_history.append(train_accuracy)\n",
    "    test_loss_history.append(test_loss)\n",
    "    test_accuracy_history.append(test_accuracy)\n",
    "\n",
    "    # 学習精度を更新した場合、重みを保存\n",
    "    if max(train_accuracy_history) == train_accuracy:\n",
    "        torch.save(model.state_dict(), f\"{RESULT_DIR}best_model_weights.pth\")\n",
    "\n",
    "# 学習結果を保存\n",
    "with open(f\"{RESULT_DIR}history.json\", \"w\") as f:\n",
    "    json.dump({\n",
    "        \"train_loss\": train_loss_history,\n",
    "        \"train_accuracy\": train_accuracy_history,\n",
    "        \"test_loss\": test_loss_history,\n",
    "        \"test_accuracy\": test_accuracy_history\n",
    "    }, f)\n",
    "\n",
    "# 学習結果を描画\n",
    "fig = plt.figure(figsize = (10, 5))\n",
    "ax = fig.add_subplot(1, 2, 1)\n",
    "ax.plot(train_loss_history, label = \"train\")\n",
    "ax.plot(test_loss_history, label = \"test\")\n",
    "ax.set_xlabel(\"epoch\")\n",
    "ax.set_ylabel(\"loss\")\n",
    "ax.legend()\n",
    "ax.grid()\n",
    "\n",
    "ax = fig.add_subplot(1, 2, 2)\n",
    "ax.plot(train_accuracy_history, label = \"train\")\n",
    "ax.plot(test_accuracy_history, label = \"test\")\n",
    "ax.set_xlabel(\"epoch\")\n",
    "ax.set_ylabel(\"accuracy\")\n",
    "ax.legend()\n",
    "ax.grid()\n",
    "\n",
    "fig.savefig(f\"{RESULT_DIR}history.png\")"
   ]
  }
 ],
 "metadata": {
  "kernelspec": {
   "display_name": "Colab_20241111",
   "language": "python",
   "name": "python3"
  },
  "language_info": {
   "codemirror_mode": {
    "name": "ipython",
    "version": 3
   },
   "file_extension": ".py",
   "mimetype": "text/x-python",
   "name": "python",
   "nbconvert_exporter": "python",
   "pygments_lexer": "ipython3",
   "version": "3.10.12"
  }
 },
 "nbformat": 4,
 "nbformat_minor": 2
}
