{
 "cells": [
  {
   "cell_type": "markdown",
   "metadata": {},
   "source": [
    "- イラスト画像を学習に用いない\n",
    "- 文字が含まれる画像を学習に用いない\n",
    "- 固有名詞を含む大喜利を学習に用いない\n",
    "- 大喜利の最小の星の数: 0\n",
    "- 単語の最小出現回数: 32\n",
    "- 大喜利の最小単語数: 4\n",
    "- 大喜利の最大単語数: 31\n",
    "- 画像の高さ: 128\n",
    "- 画像の幅: 128\n",
    "- AMAEの特徴量次元数: 16384\n",
    "- AMAE EPOCH: 25\n",
    "- AMAE BATCH SIZE: 32\n",
    "- AMAE LEARNING RATE: 0.0001\n",
    "- AMAE ALPHA: 1.0\n",
    "- AMAE CHAIN: 3\n",
    "- EPOCH: 25\n",
    "- BATCH SIZE: 512\n",
    "- LEARNING RATE: 0.0001\n",
    "- FEATURE DIM: 1024"
   ]
  },
  {
   "cell_type": "code",
   "execution_count": null,
   "metadata": {},
   "outputs": [
    {
     "name": "stdout",
     "output_type": "stream",
     "text": [
      "19\n",
      "result directory: ../../results/Augmix_Autoencoder/False_False_False_0_32_4_31_128_128_25_32_0.0001_16384_1.0_3_3/\n",
      "result directory: ../../results/GUMI_AMAE/False_False_False_0_32_4_31_128_128_25_32_0.0001_16384_1.0_3_3_25_512_0.0001_1024/\n",
      "  6%|██                                 | 39433/668982 [01:53<22:28, 466.78it/s]"
     ]
    }
   ],
   "source": [
    "import os\n",
    "\n",
    "num_workers = int(os.cpu_count() * 0.8)\n",
    "print(num_workers)\n",
    "\n",
    "!python train.py \\\n",
    "    --num_workers {num_workers} \\\n",
    "    --min_star 0 \\\n",
    "    --min_apper_word 32 \\\n",
    "    --min_sentence_length 4\\\n",
    "    --max_sentence_length 31 \\\n",
    "    --image_height 128 \\\n",
    "    --image_width 128 \\\n",
    "    --amae_feature_dim 16384 \\\n",
    "    --amae_epoch 25 \\\n",
    "    --amae_batch_size 32 \\\n",
    "    --amae_learning_rate 0.0001 \\\n",
    "    --amae_alpha 1.0 \\\n",
    "    --amae_chain 3 \\\n",
    "    --amae_depth 3 \\\n",
    "    --epoch 25 \\\n",
    "    --batch_size 512 \\\n",
    "    --learning_rate 0.0001 \\\n",
    "    --feature_dim 1024"
   ]
  },
  {
   "cell_type": "markdown",
   "metadata": {},
   "source": [
    "- イラスト画像を学習に用いない\n",
    "- 文字が含まれる画像を学習に用いない\n",
    "- 固有名詞を含む大喜利を学習に用いない\n",
    "- 大喜利の最小の星の数: 0\n",
    "- 単語の最小出現回数: 32\n",
    "- 大喜利の最小単語数: 4\n",
    "- 大喜利の最大単語数: 31\n",
    "- 画像の高さ: 128\n",
    "- 画像の幅: 128\n",
    "- AMAEの特徴量次元数: 16384\n",
    "- AMAE EPOCH: 25\n",
    "- AMAE BATCH SIZE: 32\n",
    "- AMAE LEARNING RATE: 0.0001\n",
    "- AMAE ALPHA: **10.0**\n",
    "- AMAE CHAIN: 3\n",
    "- EPOCH: 25\n",
    "- BATCH SIZE: 512\n",
    "- LEARNING RATE: 0.0001\n",
    "- FEATURE DIM: 1024"
   ]
  },
  {
   "cell_type": "code",
   "execution_count": null,
   "metadata": {},
   "outputs": [],
   "source": [
    "import os\n",
    "\n",
    "num_workers = int(os.cpu_count() * 0.8)\n",
    "print(num_workers)\n",
    "\n",
    "!python train.py \\\n",
    "    --num_workers {num_workers} \\\n",
    "    --min_star 0 \\\n",
    "    --min_apper_word 32 \\\n",
    "    --min_sentence_length 4\\\n",
    "    --max_sentence_length 31 \\\n",
    "    --image_height 128 \\\n",
    "    --image_width 128 \\\n",
    "    --amae_feature_dim 16384 \\\n",
    "    --amae_epoch 25 \\\n",
    "    --amae_batch_size 32 \\\n",
    "    --amae_learning_rate 0.0001 \\\n",
    "    --amae_alpha 10.0 \\\n",
    "    --amae_chain 3 \\\n",
    "    --amae_depth 3 \\\n",
    "    --epoch 25 \\\n",
    "    --batch_size 512 \\\n",
    "    --learning_rate 0.0001 \\\n",
    "    --feature_dim 1024"
   ]
  },
  {
   "cell_type": "markdown",
   "metadata": {},
   "source": [
    "- イラスト画像を学習に用いない\n",
    "- 文字が含まれる画像を学習に用いない\n",
    "- 固有名詞を含む大喜利を学習に用いない\n",
    "- 大喜利の最小の星の数: 0\n",
    "- 単語の最小出現回数: 32\n",
    "- 大喜利の最小単語数: 4\n",
    "- 大喜利の最大単語数: 31\n",
    "- 画像の高さ: 128\n",
    "- 画像の幅: 128\n",
    "- AMAEの特徴量次元数: 16384\n",
    "- AMAE EPOCH: 25\n",
    "- AMAE BATCH SIZE: 32\n",
    "- AMAE LEARNING RATE: 0.0001\n",
    "- AMAE ALPHA: **100.0**\n",
    "- AMAE CHAIN: 3\n",
    "- EPOCH: 25\n",
    "- BATCH SIZE: 512\n",
    "- LEARNING RATE: 0.0001\n",
    "- FEATURE DIM: 1024"
   ]
  },
  {
   "cell_type": "code",
   "execution_count": null,
   "metadata": {},
   "outputs": [],
   "source": [
    "import os\n",
    "\n",
    "num_workers = int(os.cpu_count() * 0.8)\n",
    "print(num_workers)\n",
    "\n",
    "!python train.py \\\n",
    "    --num_workers {num_workers} \\\n",
    "    --min_star 0 \\\n",
    "    --min_apper_word 32 \\\n",
    "    --min_sentence_length 4\\\n",
    "    --max_sentence_length 31 \\\n",
    "    --image_height 128 \\\n",
    "    --image_width 128 \\\n",
    "    --amae_feature_dim 16384 \\\n",
    "    --amae_epoch 25 \\\n",
    "    --amae_batch_size 32 \\\n",
    "    --amae_learning_rate 0.0001 \\\n",
    "    --amae_alpha 100.0 \\\n",
    "    --amae_chain 3 \\\n",
    "    --amae_depth 3 \\\n",
    "    --epoch 25 \\\n",
    "    --batch_size 512 \\\n",
    "    --learning_rate 0.0001 \\\n",
    "    --feature_dim 1024"
   ]
  }
 ],
 "metadata": {
  "kernelspec": {
   "display_name": "Python 3",
   "language": "python",
   "name": "python3"
  },
  "language_info": {
   "codemirror_mode": {
    "name": "ipython",
    "version": 3
   },
   "file_extension": ".py",
   "mimetype": "text/x-python",
   "name": "python",
   "nbconvert_exporter": "python",
   "pygments_lexer": "ipython3",
   "version": "3.10.12"
  }
 },
 "nbformat": 4,
 "nbformat_minor": 2
}
