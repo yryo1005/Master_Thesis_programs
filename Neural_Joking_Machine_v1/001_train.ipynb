{
 "cells": [
  {
   "cell_type": "markdown",
   "metadata": {},
   "source": [
    "# 001\n",
    "\n",
    "現実写真のみ、文字なし、固有名詞全部なし"
   ]
  },
  {
   "cell_type": "code",
   "execution_count": 1,
   "metadata": {},
   "outputs": [
    {
     "name": "stdout",
     "output_type": "stream",
     "text": [
      "25\n",
      "result directory: ../../results/Neural_Joking_Machine/001/\n",
      "学習に用いる大喜利の数: 2030920\n",
      " 検証に用いる大喜利の数: 20515\n",
      " 使用する画像の数: 244286\n",
      " 単語の種類: 16705\n",
      "100%|███████████████████████████████| 244286/244286 [00:00<00:00, 303405.85it/s]\n",
      "100%|█████████████████████████████| 2030920/2030920 [00:03<00:00, 617227.70it/s]\n",
      "num data: 2030920\n",
      "100%|████████████████████████████████| 20515/20515 [00:00<00:00, 1276043.22it/s]\n",
      "num data: 20515\n",
      "Epoch 1/25: 100%|█| 63467/63467 [51:33<00:00, 20.52it/s, train_loss=4.26, train_\n",
      "Evaluating: 100%|█| 642/642 [00:07<00:00, 90.53it/s, test_loss=4, test_accuracy=\n",
      "Epoch: 1/25, Train Loss: 4.2646, Train Accuracy: 0.3057, Test Loss: 3.9524, Test Accuracy: 0.3348\n",
      "-------------------------\n",
      "Epoch 2/25: 100%|█| 63467/63467 [56:19<00:00, 18.78it/s, train_loss=3.79, train_\n",
      "Evaluating: 100%|█| 642/642 [00:07<00:00, 91.62it/s, test_loss=3.92, test_accura\n",
      "Epoch: 2/25, Train Loss: 3.7942, Train Accuracy: 0.3489, Test Loss: 3.8755, Test Accuracy: 0.3468\n",
      "-------------------------\n",
      "Epoch 3/25: 100%|█| 63467/63467 [44:53<00:00, 23.56it/s, train_loss=3.61, train_\n",
      "Evaluating: 100%|█| 642/642 [00:07<00:00, 89.82it/s, test_loss=3.93, test_accura\n",
      "Epoch: 3/25, Train Loss: 3.6067, Train Accuracy: 0.3673, Test Loss: 3.8982, Test Accuracy: 0.3477\n",
      "-------------------------\n",
      "Epoch 4/25: 100%|█| 63467/63467 [44:05<00:00, 23.99it/s, train_loss=3.47, train_\n",
      "Evaluating: 100%|█| 642/642 [00:07<00:00, 91.18it/s, test_loss=3.98, test_accura\n",
      "Epoch: 4/25, Train Loss: 3.4656, Train Accuracy: 0.3816, Test Loss: 3.9717, Test Accuracy: 0.3451\n",
      "-------------------------\n",
      "Epoch 5/25: 100%|█| 63467/63467 [44:02<00:00, 24.02it/s, train_loss=3.35, train_\n",
      "Evaluating: 100%|█| 642/642 [00:07<00:00, 91.59it/s, test_loss=4.05, test_accura\n",
      "Epoch: 5/25, Train Loss: 3.3478, Train Accuracy: 0.3940, Test Loss: 4.0517, Test Accuracy: 0.3418\n",
      "-------------------------\n",
      "Epoch 6/25: 100%|█| 63467/63467 [44:13<00:00, 23.91it/s, train_loss=3.25, train_\n",
      "Evaluating: 100%|█| 642/642 [00:07<00:00, 91.33it/s, test_loss=4.18, test_accura\n",
      "Epoch: 6/25, Train Loss: 3.2460, Train Accuracy: 0.4053, Test Loss: 4.1531, Test Accuracy: 0.3373\n",
      "-------------------------\n",
      "Epoch 7/25: 100%|█| 63467/63467 [44:09<00:00, 23.95it/s, train_loss=3.16, train_\n",
      "Evaluating: 100%|█| 642/642 [00:07<00:00, 91.38it/s, test_loss=4.31, test_accura\n",
      "Epoch: 7/25, Train Loss: 3.1573, Train Accuracy: 0.4157, Test Loss: 4.2596, Test Accuracy: 0.3336\n",
      "-------------------------\n",
      "Epoch 8/25: 100%|█| 63467/63467 [50:57<00:00, 20.75it/s, train_loss=3.08, train_\n",
      "Evaluating: 100%|█| 642/642 [00:07<00:00, 83.76it/s, test_loss=4.4, test_accurac\n",
      "Epoch: 8/25, Train Loss: 3.0798, Train Accuracy: 0.4251, Test Loss: 4.3743, Test Accuracy: 0.3288\n",
      "-------------------------\n",
      "Epoch 9/25: 100%|█| 63467/63467 [42:08<00:00, 25.10it/s, train_loss=3.01, train_\n",
      "Evaluating: 100%|█| 642/642 [00:06<00:00, 94.03it/s, test_loss=4.47, test_accura\n",
      "Epoch: 9/25, Train Loss: 3.0115, Train Accuracy: 0.4336, Test Loss: 4.4675, Test Accuracy: 0.3246\n",
      "-------------------------\n",
      "Epoch 10/25: 100%|█| 63467/63467 [41:54<00:00, 25.24it/s, train_loss=2.95, train\n",
      "Evaluating: 100%|█| 642/642 [00:06<00:00, 95.30it/s, test_loss=4.55, test_accura\n",
      "Epoch: 10/25, Train Loss: 2.9505, Train Accuracy: 0.4416, Test Loss: 4.5548, Test Accuracy: 0.3226\n",
      "-------------------------\n",
      "Epoch 11/25: 100%|█| 63467/63467 [41:45<00:00, 25.33it/s, train_loss=2.9, train_\n",
      "Evaluating: 100%|█| 642/642 [00:06<00:00, 94.89it/s, test_loss=4.65, test_accura\n",
      "Epoch: 11/25, Train Loss: 2.8955, Train Accuracy: 0.4490, Test Loss: 4.6549, Test Accuracy: 0.3205\n",
      "-------------------------\n",
      "Epoch 12/25: 100%|█| 63467/63467 [41:50<00:00, 25.28it/s, train_loss=2.85, train\n",
      "Evaluating: 100%|█| 642/642 [00:06<00:00, 94.73it/s, test_loss=4.77, test_accura\n",
      "Epoch: 12/25, Train Loss: 2.8459, Train Accuracy: 0.4557, Test Loss: 4.7601, Test Accuracy: 0.3166\n",
      "-------------------------\n",
      "Epoch 13/25: 100%|█| 63467/63467 [41:52<00:00, 25.26it/s, train_loss=2.8, train_\n",
      "Evaluating: 100%|█| 642/642 [00:06<00:00, 95.31it/s, test_loss=4.85, test_accura\n",
      "Epoch: 13/25, Train Loss: 2.8009, Train Accuracy: 0.4620, Test Loss: 4.8451, Test Accuracy: 0.3152\n",
      "-------------------------\n",
      "Epoch 14/25: 100%|█| 63467/63467 [42:01<00:00, 25.17it/s, train_loss=2.76, train\n",
      "Evaluating: 100%|█| 642/642 [00:06<00:00, 94.95it/s, test_loss=4.95, test_accura\n",
      "Epoch: 14/25, Train Loss: 2.7602, Train Accuracy: 0.4677, Test Loss: 4.9266, Test Accuracy: 0.3135\n",
      "-------------------------\n",
      "Epoch 15/25: 100%|█| 63467/63467 [42:00<00:00, 25.18it/s, train_loss=2.72, train\n",
      "Evaluating: 100%|█| 642/642 [00:06<00:00, 94.69it/s, test_loss=5.04, test_accura\n",
      "Epoch: 15/25, Train Loss: 2.7225, Train Accuracy: 0.4732, Test Loss: 4.9981, Test Accuracy: 0.3089\n",
      "-------------------------\n",
      "Epoch 16/25: 100%|█| 63467/63467 [42:53<00:00, 24.67it/s, train_loss=2.69, train\n",
      "Evaluating: 100%|█| 642/642 [00:07<00:00, 90.10it/s, test_loss=5.13, test_accura\n",
      "Epoch: 16/25, Train Loss: 2.6878, Train Accuracy: 0.4783, Test Loss: 5.0673, Test Accuracy: 0.3120\n",
      "-------------------------\n",
      "Epoch 17/25: 100%|█| 63467/63467 [44:32<00:00, 23.75it/s, train_loss=2.66, train\n",
      "Evaluating: 100%|█| 642/642 [00:07<00:00, 90.10it/s, test_loss=5.16, test_accura\n",
      "Epoch: 17/25, Train Loss: 2.6561, Train Accuracy: 0.4829, Test Loss: 5.1244, Test Accuracy: 0.3114\n",
      "-------------------------\n",
      "Epoch 18/25: 100%|█| 63467/63467 [44:26<00:00, 23.80it/s, train_loss=2.63, train\n",
      "Evaluating: 100%|█| 642/642 [00:07<00:00, 89.62it/s, test_loss=5.22, test_accura\n",
      "Epoch: 18/25, Train Loss: 2.6273, Train Accuracy: 0.4873, Test Loss: 5.1862, Test Accuracy: 0.3051\n",
      "-------------------------\n",
      "Epoch 19/25: 100%|█| 63467/63467 [44:22<00:00, 23.84it/s, train_loss=2.6, train_\n",
      "Evaluating: 100%|█| 642/642 [00:07<00:00, 90.53it/s, test_loss=5.25, test_accura\n",
      "Epoch: 19/25, Train Loss: 2.6002, Train Accuracy: 0.4914, Test Loss: 5.2292, Test Accuracy: 0.3043\n",
      "-------------------------\n",
      "Epoch 20/25: 100%|█| 63467/63467 [44:24<00:00, 23.82it/s, train_loss=2.58, train\n",
      "Evaluating: 100%|█| 642/642 [00:07<00:00, 89.19it/s, test_loss=5.37, test_accura\n",
      "Epoch: 20/25, Train Loss: 2.5755, Train Accuracy: 0.4952, Test Loss: 5.3228, Test Accuracy: 0.3081\n",
      "-------------------------\n",
      "Epoch 21/25: 100%|█| 63467/63467 [44:26<00:00, 23.80it/s, train_loss=2.55, train\n",
      "Evaluating: 100%|█| 642/642 [00:07<00:00, 90.17it/s, test_loss=5.38, test_accura\n",
      "Epoch: 21/25, Train Loss: 2.5532, Train Accuracy: 0.4986, Test Loss: 5.3518, Test Accuracy: 0.3060\n",
      "-------------------------\n",
      "Epoch 22/25: 100%|█| 63467/63467 [44:26<00:00, 23.80it/s, train_loss=2.53, train\n",
      "Evaluating: 100%|█| 642/642 [00:07<00:00, 90.06it/s, test_loss=5.45, test_accura\n",
      "Epoch: 22/25, Train Loss: 2.5318, Train Accuracy: 0.5020, Test Loss: 5.4150, Test Accuracy: 0.3067\n",
      "-------------------------\n",
      "Epoch 23/25: 100%|█| 63467/63467 [44:23<00:00, 23.83it/s, train_loss=2.51, train\n",
      "Evaluating: 100%|█| 642/642 [00:07<00:00, 89.09it/s, test_loss=5.45, test_accura\n",
      "Epoch: 23/25, Train Loss: 2.5129, Train Accuracy: 0.5049, Test Loss: 5.4418, Test Accuracy: 0.3014\n",
      "-------------------------\n",
      "Epoch 24/25: 100%|█| 63467/63467 [44:18<00:00, 23.87it/s, train_loss=2.49, train\n",
      "Evaluating: 100%|█| 642/642 [00:07<00:00, 89.68it/s, test_loss=5.52, test_accura\n",
      "Epoch: 24/25, Train Loss: 2.4950, Train Accuracy: 0.5077, Test Loss: 5.4958, Test Accuracy: 0.3006\n",
      "-------------------------\n",
      "Epoch 25/25: 100%|█| 63467/63467 [44:20<00:00, 23.86it/s, train_loss=2.48, train\n",
      "Evaluating: 100%|█| 642/642 [00:07<00:00, 90.09it/s, test_loss=5.57, test_accura\n",
      "Epoch: 25/25, Train Loss: 2.4789, Train Accuracy: 0.5103, Test Loss: 5.5436, Test Accuracy: 0.3031\n",
      "-------------------------\n"
     ]
    }
   ],
   "source": [
    "import os\n",
    "# データローダが使用するCPUのスレッド数(GPUの総スレッド数の8割が推奨)\n",
    "num_workers = int(os.cpu_count() * 0.8)\n",
    "print(num_workers)\n",
    "\n",
    "!python train.py \\\n",
    "    --num_workers {num_workers} \\\n",
    "    --experience_number \"001\""
   ]
  },
  {
   "cell_type": "markdown",
   "metadata": {},
   "source": [
    "# 002\n",
    "\n",
    "現実写真以外も使用、文字なし、固有名詞全部なし"
   ]
  },
  {
   "cell_type": "code",
   "execution_count": null,
   "metadata": {},
   "outputs": [],
   "source": [
    "import os\n",
    "# データローダが使用するCPUのスレッド数(GPUの総スレッド数の8割が推奨)\n",
    "num_workers = int(os.cpu_count() * 0.8)\n",
    "print(num_workers)\n",
    "\n",
    "!python train.py \\\n",
    "    --num_workers {num_workers} \\\n",
    "    --experience_number \"002\" \\\n",
    "    --use_unreal_image"
   ]
  },
  {
   "cell_type": "markdown",
   "metadata": {},
   "source": [
    "# 003\n",
    "\n",
    "現実写真のみ、文字なし、固有名詞含む大喜利も使用"
   ]
  },
  {
   "cell_type": "code",
   "execution_count": null,
   "metadata": {},
   "outputs": [],
   "source": [
    "import os\n",
    "# データローダが使用するCPUのスレッド数(GPUの総スレッド数の8割が推奨)\n",
    "num_workers = int(os.cpu_count() * 0.8)\n",
    "print(num_workers)\n",
    "\n",
    "!python train.py \\\n",
    "    --num_workers {num_workers} \\\n",
    "    --experience_number \"003\" \\\n",
    "    --use_unique_noun_boke"
   ]
  },
  {
   "cell_type": "markdown",
   "metadata": {},
   "source": [
    "# 004\n",
    "\n",
    "現実写真のみ、文字含む画像あり、固有名詞全部なし"
   ]
  },
  {
   "cell_type": "code",
   "execution_count": null,
   "metadata": {},
   "outputs": [],
   "source": [
    "import os\n",
    "# データローダが使用するCPUのスレッド数(GPUの総スレッド数の8割が推奨)\n",
    "num_workers = int(os.cpu_count() * 0.8)\n",
    "print(num_workers)\n",
    "\n",
    "!python train.py \\\n",
    "    --num_workers {num_workers} \\\n",
    "    --experience_number \"004\" \\\n",
    "    --use_word_image"
   ]
  },
  {
   "cell_type": "markdown",
   "metadata": {},
   "source": [
    "# 005\n",
    "\n",
    "現実写真以外も使用、文字含む画像なし、固有名詞含む大喜利も使用"
   ]
  },
  {
   "cell_type": "code",
   "execution_count": null,
   "metadata": {},
   "outputs": [],
   "source": [
    "import os\n",
    "# データローダが使用するCPUのスレッド数(GPUの総スレッド数の8割が推奨)\n",
    "num_workers = int(os.cpu_count() * 0.8)\n",
    "print(num_workers)\n",
    "\n",
    "!python train.py \\\n",
    "    --num_workers {num_workers} \\\n",
    "    --experience_number \"005\" \\\n",
    "    --use_unique_noun_boke \\\n",
    "    --use_unreal_image"
   ]
  }
 ],
 "metadata": {
  "kernelspec": {
   "display_name": "Colab_20241111",
   "language": "python",
   "name": "python3"
  },
  "language_info": {
   "codemirror_mode": {
    "name": "ipython",
    "version": 3
   },
   "file_extension": ".py",
   "mimetype": "text/x-python",
   "name": "python",
   "nbconvert_exporter": "python",
   "pygments_lexer": "ipython3",
   "version": "3.10.12"
  }
 },
 "nbformat": 4,
 "nbformat_minor": 2
}
