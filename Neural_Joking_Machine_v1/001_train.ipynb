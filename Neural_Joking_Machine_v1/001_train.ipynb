{
 "cells": [
  {
   "cell_type": "markdown",
   "metadata": {},
   "source": [
    "# 001\n",
    "\n",
    "現実写真のみ、文字なし、固有名詞全部なし"
   ]
  },
  {
   "cell_type": "code",
   "execution_count": 1,
   "metadata": {},
   "outputs": [
    {
     "name": "stdout",
     "output_type": "stream",
     "text": [
      "6\n",
      "result directory: ../../results/Neural_Joking_Machine/001/\n",
<<<<<<< Updated upstream
      "100%|██████████████████████████████████| 668970/668970 [12:26<00:00, 896.22it/s]\n",
      "100%|█████████████████████████████| 2135982/2135982 [00:08<00:00, 261546.78it/s]\n",
      "100%|█████████████████████████████| 2051435/2051435 [00:07<00:00, 264916.27it/s]\n"
=======
      "100%|██████████████████████████████████| 668970/668970 [11:50<00:00, 941.12it/s]\n",
      "100%|█████████████████████████████| 2135982/2135982 [00:07<00:00, 281354.89it/s]\n",
      "100%|█████████████████████████████| 2051435/2051435 [00:06<00:00, 308590.69it/s]\n",
      "学習に用いる大喜利の数: 2030920\n",
      " 検証に用いる大喜利の数: 20515\n",
      " 使用する画像の数: 244286\n",
      " 単語の種類: 16705\n",
      "100%|███████████████████████████████| 244286/244286 [00:01<00:00, 242655.74it/s]\n",
      "num data: 244286\n",
      "/home/user/.conda/envs/Colab_20241111/lib/python3.10/site-packages/torchvision/models/_utils.py:208: UserWarning: The parameter 'pretrained' is deprecated since 0.13 and may be removed in the future, please use 'weights' instead.\n",
      "  warnings.warn(\n",
      "/home/user/.conda/envs/Colab_20241111/lib/python3.10/site-packages/torchvision/models/_utils.py:223: UserWarning: Arguments other than a weight enum or `None` for 'weights' are deprecated since 0.13 and may be removed in the future. The current behavior is equivalent to passing `weights=ResNet152_Weights.IMAGENET1K_V1`. You can also use `weights=ResNet152_Weights.DEFAULT` to get the most up-to-date weights.\n",
      "  warnings.warn(msg)\n",
      "Downloading: \"https://download.pytorch.org/models/resnet152-394f9c45.pth\" to /root/.cache/torch/hub/checkpoints/resnet152-394f9c45.pth\n",
      "100%|████████████████████████████████████████| 230M/230M [00:20<00:00, 11.5MB/s]\n",
      "100%|███████████████████████████████████████| 7634/7634 [18:09<00:00,  7.01it/s]\n",
      "100%|█████████████████████████████| 2030920/2030920 [00:10<00:00, 196477.53it/s]\n",
      "num data: 2030920\n",
      "100%|█████████████████████████████████| 20515/20515 [00:00<00:00, 237122.73it/s]\n",
      "num data: 20515\n",
      "Epoch 1/25: 100%|█| 63467/63467 [1:38:07<00:00, 10.78it/s, train_loss=4.24, trai\n",
      "Evaluating: 100%|█| 642/642 [00:18<00:00, 33.89it/s, test_loss=3.93, test_accura\n",
      "Epoch: 1/25, Train Loss: 4.2357, Train Accuracy: 0.3091, Test Loss: 3.9320, Test Accuracy: 0.3360\n",
      "-------------------------\n",
      "Epoch 2/25: 100%|█| 63467/63467 [1:38:04<00:00, 10.79it/s, train_loss=3.79, trai\n",
      "Evaluating: 100%|█| 642/642 [00:19<00:00, 33.27it/s, test_loss=3.88, test_accura\n",
      "Epoch: 2/25, Train Loss: 3.7851, Train Accuracy: 0.3494, Test Loss: 3.8753, Test Accuracy: 0.3458\n",
      "-------------------------\n",
      "Epoch 3/25: 100%|█| 63467/63467 [1:38:18<00:00, 10.76it/s, train_loss=3.62, trai\n",
      "Evaluating: 100%|█| 642/642 [00:18<00:00, 33.83it/s, test_loss=3.9, test_accurac\n",
      "Epoch: 3/25, Train Loss: 3.6233, Train Accuracy: 0.3652, Test Loss: 3.8986, Test Accuracy: 0.3462\n",
      "-------------------------\n",
      "Epoch 4/25: 100%|█| 63467/63467 [1:38:18<00:00, 10.76it/s, train_loss=3.51, trai\n",
      "Evaluating: 100%|█| 642/642 [00:18<00:00, 34.12it/s, test_loss=3.95, test_accura\n",
      "Epoch: 4/25, Train Loss: 3.5081, Train Accuracy: 0.3767, Test Loss: 3.9543, Test Accuracy: 0.3454\n",
      "-------------------------\n",
      "Epoch 5/25:  55%|▌| 34904/63467 [51:37<23:15, 20.47it/s, train_loss=3.43, train_^C\n",
      "Epoch 5/25:  55%|▌| 34905/63467 [51:37<42:14, 11.27it/s, train_loss=3.43, train_\n",
      "Traceback (most recent call last):\n",
      "  File \"/home/user/workspace/Master_Thesis/Master_Thesis_programs/Neural_Joking_Machine_v1/train.py\", line 243, in <module>\n",
      "    image_features = image_features.to(device)\n",
      "KeyboardInterrupt\n"
>>>>>>> Stashed changes
     ]
    }
   ],
   "source": [
    "import os\n",
    "# データローダが使用するCPUのスレッド数(GPUの総スレッド数の8割が推奨)\n",
    "num_workers = int(os.cpu_count() * 0.8)\n",
    "print(num_workers)\n",
    "\n",
    "!python train.py \\\n",
    "    --num_workers {num_workers} \\\n",
    "    --experience_number \"001\""
   ]
  },
  {
   "cell_type": "markdown",
   "metadata": {},
   "source": [
    "# 002\n",
    "\n",
    "現実写真以外も使用、文字なし、固有名詞全部なし"
   ]
  },
  {
   "cell_type": "code",
   "execution_count": null,
   "metadata": {},
   "outputs": [],
   "source": [
    "import os\n",
    "# データローダが使用するCPUのスレッド数(GPUの総スレッド数の8割が推奨)\n",
    "num_workers = int(os.cpu_count() * 0.8)\n",
    "print(num_workers)\n",
    "\n",
    "!python train.py \\\n",
    "    --num_workers {num_workers} \\\n",
    "    --experience_number \"002\" \\\n",
    "    --use_unreal_image"
   ]
  },
  {
   "cell_type": "markdown",
   "metadata": {},
   "source": [
    "# 003\n",
    "\n",
    "現実写真のみ、文字なし、固有名詞含む大喜利も使用"
   ]
  },
  {
   "cell_type": "code",
   "execution_count": null,
   "metadata": {},
   "outputs": [],
   "source": [
    "import os\n",
    "# データローダが使用するCPUのスレッド数(GPUの総スレッド数の8割が推奨)\n",
    "num_workers = int(os.cpu_count() * 0.8)\n",
    "print(num_workers)\n",
    "\n",
    "!python train.py \\\n",
    "    --num_workers {num_workers} \\\n",
    "    --experience_number \"003\" \\\n",
    "    --use_unique_noun_boke"
   ]
  },
  {
   "cell_type": "markdown",
   "metadata": {},
   "source": [
    "# 004\n",
    "\n",
    "現実写真のみ、文字含む画像あり、固有名詞全部なし"
   ]
  },
  {
   "cell_type": "code",
   "execution_count": null,
   "metadata": {},
   "outputs": [],
   "source": [
    "import os\n",
    "# データローダが使用するCPUのスレッド数(GPUの総スレッド数の8割が推奨)\n",
    "num_workers = int(os.cpu_count() * 0.8)\n",
    "print(num_workers)\n",
    "\n",
    "!python train.py \\\n",
    "    --num_workers {num_workers} \\\n",
    "    --experience_number \"004\" \\\n",
    "    --use_word_image"
   ]
  },
  {
   "cell_type": "markdown",
   "metadata": {},
   "source": [
    "# 005\n",
    "\n",
    "現実写真以外も使用、文字含む画像なし、固有名詞含む大喜利も使用"
   ]
  },
  {
   "cell_type": "code",
   "execution_count": null,
   "metadata": {},
   "outputs": [],
   "source": [
    "import os\n",
    "# データローダが使用するCPUのスレッド数(GPUの総スレッド数の8割が推奨)\n",
    "num_workers = int(os.cpu_count() * 0.8)\n",
    "print(num_workers)\n",
    "\n",
    "!python train.py \\\n",
    "    --num_workers {num_workers} \\\n",
    "    --experience_number \"005\" \\\n",
    "    --use_unique_noun_boke \\\n",
    "    --use_unreal_image"
   ]
  }
 ],
 "metadata": {
  "kernelspec": {
   "display_name": "Python 3",
   "language": "python",
   "name": "python3"
  },
  "language_info": {
   "codemirror_mode": {
    "name": "ipython",
    "version": 3
   },
   "file_extension": ".py",
   "mimetype": "text/x-python",
   "name": "python",
   "nbconvert_exporter": "python",
   "pygments_lexer": "ipython3",
   "version": "3.10.12"
  }
 },
 "nbformat": 4,
 "nbformat_minor": 2
}
