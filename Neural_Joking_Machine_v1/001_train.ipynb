{
 "cells": [
  {
   "cell_type": "markdown",
   "metadata": {},
   "source": [
    "# 001\n",
    "\n",
    "現実写真のみ、文字なし、固有名詞全部なし"
   ]
  },
  {
   "cell_type": "code",
   "execution_count": 1,
   "metadata": {},
   "outputs": [
    {
     "name": "stdout",
     "output_type": "stream",
     "text": [
      "19\n",
      "result directory: ../../results/Neural_Joking_Machine/001/\n",
      "学習に用いる大喜利の数: 2030920\n",
      " 検証に用いる大喜利の数: 20515\n",
      " 使用する画像の数: 244286\n",
      " 単語の種類: 16705\n",
      "100%|███████████████████████████████| 244286/244286 [00:00<00:00, 748310.36it/s]\n",
      "100%|█████████████████████████████| 2030920/2030920 [00:04<00:00, 479298.65it/s]\n",
      "num data: 2030920\n",
      "100%|████████████████████████████████| 20515/20515 [00:00<00:00, 1173970.21it/s]\n",
      "num data: 20515\n",
      "Epoch 1/25: 100%|█| 31734/31734 [35:23<00:00, 14.94it/s, train_loss=9.64, train_\n",
      "Evaluating: 100%|█| 321/321 [00:08<00:00, 38.05it/s, test_loss=9.64, test_accura\n",
      "Epoch: 1/25, Train Loss: 9.6431, Train Accuracy: 0.0804, Test Loss: 9.6428, Test Accuracy: 0.0807\n",
      "-------------------------\n",
      "Epoch 2/25: 100%|█| 31734/31734 [33:56<00:00, 15.58it/s, train_loss=9.64, train_\n",
      "Evaluating: 100%|█| 321/321 [00:07<00:00, 42.13it/s, test_loss=9.64, test_accura\n",
      "Epoch: 2/25, Train Loss: 9.6431, Train Accuracy: 0.0804, Test Loss: 9.6428, Test Accuracy: 0.0807\n",
      "-------------------------\n",
      "Epoch 3/25: 100%|█| 31734/31734 [33:01<00:00, 16.02it/s, train_loss=9.64, train_\n",
      "Evaluating: 100%|█| 321/321 [00:07<00:00, 41.52it/s, test_loss=9.64, test_accura\n",
      "Epoch: 3/25, Train Loss: 9.6431, Train Accuracy: 0.0804, Test Loss: 9.6428, Test Accuracy: 0.0807\n",
      "-------------------------\n",
      "Epoch 4/25: 100%|█| 31734/31734 [33:00<00:00, 16.03it/s, train_loss=9.64, train_\n",
      "Evaluating: 100%|█| 321/321 [00:07<00:00, 41.70it/s, test_loss=9.64, test_accura\n",
      "Epoch: 4/25, Train Loss: 9.6431, Train Accuracy: 0.0804, Test Loss: 9.6428, Test Accuracy: 0.0807\n",
      "-------------------------\n",
      "Epoch 5/25: 100%|█| 31734/31734 [33:16<00:00, 15.89it/s, train_loss=9.64, train_\n",
      "Evaluating: 100%|█| 321/321 [00:08<00:00, 39.95it/s, test_loss=9.64, test_accura\n",
      "Epoch: 5/25, Train Loss: 9.6431, Train Accuracy: 0.0804, Test Loss: 9.6428, Test Accuracy: 0.0807\n",
      "-------------------------\n",
      "Epoch 6/25: 100%|█| 31734/31734 [33:30<00:00, 15.78it/s, train_loss=9.64, train_\n",
      "Evaluating: 100%|█| 321/321 [00:07<00:00, 41.77it/s, test_loss=9.64, test_accura\n",
      "Epoch: 6/25, Train Loss: 9.6431, Train Accuracy: 0.0804, Test Loss: 9.6428, Test Accuracy: 0.0807\n",
      "-------------------------\n",
      "Epoch 7/25: 100%|█| 31734/31734 [32:36<00:00, 16.22it/s, train_loss=9.64, train_\n",
      "Evaluating: 100%|█| 321/321 [00:07<00:00, 42.23it/s, test_loss=9.64, test_accura\n",
      "Epoch: 7/25, Train Loss: 9.6431, Train Accuracy: 0.0804, Test Loss: 9.6428, Test Accuracy: 0.0807\n",
      "-------------------------\n",
      "Epoch 8/25: 100%|█| 31734/31734 [32:40<00:00, 16.19it/s, train_loss=9.64, train_\n",
      "Evaluating: 100%|█| 321/321 [00:07<00:00, 42.23it/s, test_loss=9.64, test_accura\n",
      "Epoch: 8/25, Train Loss: 9.6431, Train Accuracy: 0.0804, Test Loss: 9.6428, Test Accuracy: 0.0807\n",
      "-------------------------\n",
      "Epoch 9/25: 100%|█| 31734/31734 [32:50<00:00, 16.10it/s, train_loss=9.64, train_\n",
      "Evaluating: 100%|█| 321/321 [00:07<00:00, 41.89it/s, test_loss=9.64, test_accura\n",
      "Epoch: 9/25, Train Loss: 9.6431, Train Accuracy: 0.0804, Test Loss: 9.6428, Test Accuracy: 0.0807\n",
      "-------------------------\n",
      "Epoch 10/25: 100%|█| 31734/31734 [33:06<00:00, 15.98it/s, train_loss=9.64, train\n",
      "Evaluating: 100%|█| 321/321 [00:07<00:00, 41.41it/s, test_loss=9.64, test_accura\n",
      "Epoch: 10/25, Train Loss: 9.6431, Train Accuracy: 0.0804, Test Loss: 9.6428, Test Accuracy: 0.0807\n",
      "-------------------------\n",
      "Epoch 11/25: 100%|█| 31734/31734 [35:11<00:00, 15.03it/s, train_loss=9.65, train\n",
      "Evaluating: 100%|█| 321/321 [00:08<00:00, 37.44it/s, test_loss=9.75, test_accura\n",
      "Epoch: 11/25, Train Loss: 9.6456, Train Accuracy: 0.0780, Test Loss: 9.6942, Test Accuracy: 0.0294\n",
      "-------------------------\n",
      "Epoch 12/25:  48%|▍| 15179/31734 [17:00<18:52, 14.61it/s, train_loss=9.69, train"
     ]
    }
   ],
   "source": [
    "import os\n",
    "# データローダが使用するCPUのスレッド数(GPUの総スレッド数の8割が推奨)\n",
    "num_workers = int(os.cpu_count() * 0.8)\n",
    "print(num_workers)\n",
    "\n",
    "!python train.py \\\n",
    "    --num_workers {num_workers} \\\n",
    "    --experience_number \"001\""
   ]
  },
  {
   "cell_type": "markdown",
   "metadata": {},
   "source": [
    "# 002\n",
    "\n",
    "現実写真以外も使用、文字なし、固有名詞全部なし"
   ]
  },
  {
   "cell_type": "code",
   "execution_count": null,
   "metadata": {},
   "outputs": [],
   "source": [
    "import os\n",
    "# データローダが使用するCPUのスレッド数(GPUの総スレッド数の8割が推奨)\n",
    "num_workers = int(os.cpu_count() * 0.8)\n",
    "print(num_workers)\n",
    "\n",
    "!python train.py \\\n",
    "    --num_workers {num_workers} \\\n",
    "    --experience_number \"002\" \\\n",
    "    --use_unreal_image"
   ]
  },
  {
   "cell_type": "markdown",
   "metadata": {},
   "source": [
    "# 003\n",
    "\n",
    "現実写真のみ、文字なし、固有名詞含む大喜利も使用"
   ]
  },
  {
   "cell_type": "code",
   "execution_count": null,
   "metadata": {},
   "outputs": [],
   "source": [
    "import os\n",
    "# データローダが使用するCPUのスレッド数(GPUの総スレッド数の8割が推奨)\n",
    "num_workers = int(os.cpu_count() * 0.8)\n",
    "print(num_workers)\n",
    "\n",
    "!python train.py \\\n",
    "    --num_workers {num_workers} \\\n",
    "    --experience_number \"003\" \\\n",
    "    --use_unique_noun_boke"
   ]
  },
  {
   "cell_type": "markdown",
   "metadata": {},
   "source": [
    "# 004\n",
    "\n",
    "現実写真のみ、文字含む画像あり、固有名詞全部なし"
   ]
  },
  {
   "cell_type": "code",
   "execution_count": null,
   "metadata": {},
   "outputs": [],
   "source": [
    "import os\n",
    "# データローダが使用するCPUのスレッド数(GPUの総スレッド数の8割が推奨)\n",
    "num_workers = int(os.cpu_count() * 0.8)\n",
    "print(num_workers)\n",
    "\n",
    "!python train.py \\\n",
    "    --num_workers {num_workers} \\\n",
    "    --experience_number \"004\" \\\n",
    "    --use_word_image"
   ]
  },
  {
   "cell_type": "markdown",
   "metadata": {},
   "source": [
    "# 005\n",
    "\n",
    "現実写真以外も使用、文字含む画像なし、固有名詞含む大喜利も使用"
   ]
  },
  {
   "cell_type": "code",
   "execution_count": null,
   "metadata": {},
   "outputs": [],
   "source": [
    "import os\n",
    "# データローダが使用するCPUのスレッド数(GPUの総スレッド数の8割が推奨)\n",
    "num_workers = int(os.cpu_count() * 0.8)\n",
    "print(num_workers)\n",
    "\n",
    "!python train.py \\\n",
    "    --num_workers {num_workers} \\\n",
    "    --experience_number \"005\" \\\n",
    "    --use_unique_noun_boke \\\n",
    "    --use_unreal_image"
   ]
  }
 ],
 "metadata": {
  "kernelspec": {
   "display_name": "Python 3",
   "language": "python",
   "name": "python3"
  },
  "language_info": {
   "codemirror_mode": {
    "name": "ipython",
    "version": 3
   },
   "file_extension": ".py",
   "mimetype": "text/x-python",
   "name": "python",
   "nbconvert_exporter": "python",
   "pygments_lexer": "ipython3",
   "version": "3.10.12"
  }
 },
 "nbformat": 4,
 "nbformat_minor": 2
}
