{
 "cells": [
  {
   "cell_type": "markdown",
   "metadata": {},
   "source": [
    "# 001\n",
    "\n",
    "現実写真のみ、文字なし、固有名詞全部なし"
   ]
  },
  {
   "cell_type": "code",
   "execution_count": 1,
   "metadata": {},
   "outputs": [
    {
     "name": "stdout",
     "output_type": "stream",
     "text": [
      "25\n",
      "result directory: ../../results/Neural_Joking_Machine/001/\n",
      "学習に用いる大喜利の数: 2030920\n",
      " 検証に用いる大喜利の数: 20515\n",
      " 使用する画像の数: 244286\n",
      " 単語の種類: 16705\n",
      "100%|███████████████████████████████| 244286/244286 [00:00<00:00, 432720.63it/s]\n",
      "100%|█████████████████████████████| 2030920/2030920 [00:03<00:00, 610682.40it/s]\n",
      "num data: 2030920\n",
      "100%|████████████████████████████████| 20515/20515 [00:00<00:00, 1269753.96it/s]\n",
      "num data: 20515\n",
      "Epoch 1/25: 100%|█| 3967/3967 [13:06<00:00,  5.05it/s, train_loss=4.62, train_ac\n",
      "Evaluating: 100%|█| 41/41 [00:03<00:00, 11.45it/s, test_loss=4.24, test_accuracy\n",
      "Epoch: 1/25, Train Loss: 4.6241, Train Accuracy: 0.2776, Test Loss: 4.1408, Test Accuracy: 0.3161\n",
      "-------------------------\n",
      "Epoch 2/25: 100%|█| 3967/3967 [11:26<00:00,  5.77it/s, train_loss=3.96, train_ac\n",
      "Evaluating: 100%|█| 41/41 [00:03<00:00, 10.88it/s, test_loss=3.92, test_accuracy\n",
      "Epoch: 2/25, Train Loss: 3.9584, Train Accuracy: 0.3318, Test Loss: 3.9236, Test Accuracy: 0.3357\n",
      "-------------------------\n",
      "Epoch 3/25: 100%|█| 3967/3967 [11:31<00:00,  5.73it/s, train_loss=3.74, train_ac\n",
      "Evaluating: 100%|█| 41/41 [00:03<00:00, 11.06it/s, test_loss=3.93, test_accuracy\n",
      "Epoch: 3/25, Train Loss: 3.7374, Train Accuracy: 0.3521, Test Loss: 3.8319, Test Accuracy: 0.3442\n",
      "-------------------------\n",
      "Epoch 4/25: 100%|█| 3967/3967 [11:32<00:00,  5.73it/s, train_loss=3.58, train_ac\n",
      "Evaluating: 100%|█| 41/41 [00:03<00:00, 11.02it/s, test_loss=3.89, test_accuracy\n",
      "Epoch: 4/25, Train Loss: 3.5845, Train Accuracy: 0.3670, Test Loss: 3.7908, Test Accuracy: 0.3481\n",
      "-------------------------\n",
      "Epoch 5/25: 100%|█| 3967/3967 [11:32<00:00,  5.73it/s, train_loss=3.46, train_ac\n",
      "Evaluating: 100%|█| 41/41 [00:03<00:00, 10.94it/s, test_loss=3.87, test_accuracy\n",
      "Epoch: 5/25, Train Loss: 3.4595, Train Accuracy: 0.3799, Test Loss: 3.7777, Test Accuracy: 0.3494\n",
      "-------------------------\n",
      "Epoch 6/25: 100%|█| 3967/3967 [11:33<00:00,  5.72it/s, train_loss=3.35, train_ac\n",
      "Evaluating: 100%|█| 41/41 [00:04<00:00,  9.56it/s, test_loss=3.88, test_accuracy\n",
      "Epoch: 6/25, Train Loss: 3.3490, Train Accuracy: 0.3919, Test Loss: 3.7845, Test Accuracy: 0.3492\n",
      "-------------------------\n",
      "Epoch 7/25: 100%|█| 3967/3967 [11:32<00:00,  5.73it/s, train_loss=3.25, train_ac\n",
      "Evaluating: 100%|█| 41/41 [00:03<00:00, 11.02it/s, test_loss=3.9, test_accuracy=\n",
      "Epoch: 7/25, Train Loss: 3.2473, Train Accuracy: 0.4035, Test Loss: 3.8046, Test Accuracy: 0.3484\n",
      "-------------------------\n",
      "Epoch 8/25: 100%|█| 3967/3967 [11:32<00:00,  5.73it/s, train_loss=3.15, train_ac\n",
      "Evaluating: 100%|█| 41/41 [00:03<00:00, 10.92it/s, test_loss=3.93, test_accuracy\n",
      "Epoch: 8/25, Train Loss: 3.1516, Train Accuracy: 0.4152, Test Loss: 3.8370, Test Accuracy: 0.3462\n",
      "-------------------------\n",
      "Epoch 9/25: 100%|█| 3967/3967 [11:32<00:00,  5.73it/s, train_loss=3.06, train_ac\n",
      "Evaluating: 100%|█| 41/41 [00:04<00:00,  9.86it/s, test_loss=3.98, test_accuracy\n",
      "Epoch: 9/25, Train Loss: 3.0607, Train Accuracy: 0.4268, Test Loss: 3.8791, Test Accuracy: 0.3437\n",
      "-------------------------\n",
      "Epoch 10/25: 100%|█| 3967/3967 [11:33<00:00,  5.72it/s, train_loss=2.97, train_a\n",
      "Evaluating: 100%|█| 41/41 [00:04<00:00, 10.25it/s, test_loss=4.03, test_accuracy\n",
      "Epoch: 10/25, Train Loss: 2.9738, Train Accuracy: 0.4386, Test Loss: 3.9294, Test Accuracy: 0.3414\n",
      "-------------------------\n",
      "Epoch 11/25: 100%|█| 3967/3967 [11:32<00:00,  5.72it/s, train_loss=2.89, train_a\n",
      "Evaluating: 100%|█| 41/41 [00:04<00:00, 10.20it/s, test_loss=4.09, test_accuracy\n",
      "Epoch: 11/25, Train Loss: 2.8906, Train Accuracy: 0.4504, Test Loss: 3.9872, Test Accuracy: 0.3386\n",
      "-------------------------\n",
      "Epoch 12/25: 100%|█| 3967/3967 [11:33<00:00,  5.72it/s, train_loss=2.81, train_a\n",
      "Evaluating: 100%|█| 41/41 [00:03<00:00, 10.98it/s, test_loss=4.15, test_accuracy\n",
      "Epoch: 12/25, Train Loss: 2.8109, Train Accuracy: 0.4622, Test Loss: 4.0504, Test Accuracy: 0.3357\n",
      "-------------------------\n",
      "Epoch 13/25: 100%|█| 3967/3967 [11:33<00:00,  5.72it/s, train_loss=2.73, train_a\n",
      "Evaluating: 100%|█| 41/41 [00:04<00:00, 10.03it/s, test_loss=4.12, test_accuracy\n",
      "Epoch: 13/25, Train Loss: 2.7348, Train Accuracy: 0.4741, Test Loss: 4.1163, Test Accuracy: 0.3328\n",
      "-------------------------\n",
      "Epoch 14/25: 100%|█| 3967/3967 [11:33<00:00,  5.72it/s, train_loss=2.66, train_a\n",
      "Evaluating: 100%|█| 41/41 [00:03<00:00, 11.02it/s, test_loss=4.29, test_accuracy\n",
      "Epoch: 14/25, Train Loss: 2.6621, Train Accuracy: 0.4858, Test Loss: 4.1869, Test Accuracy: 0.3294\n",
      "-------------------------\n",
      "Epoch 15/25: 100%|█| 3967/3967 [11:34<00:00,  5.72it/s, train_loss=2.59, train_a\n",
      "Evaluating: 100%|█| 41/41 [00:03<00:00, 10.99it/s, test_loss=4.37, test_accuracy\n",
      "Epoch: 15/25, Train Loss: 2.5928, Train Accuracy: 0.4973, Test Loss: 4.2639, Test Accuracy: 0.3268\n",
      "-------------------------\n",
      "Epoch 16/25: 100%|█| 3967/3967 [11:33<00:00,  5.72it/s, train_loss=2.53, train_a\n",
      "Evaluating: 100%|█| 41/41 [00:04<00:00, 10.24it/s, test_loss=4.45, test_accuracy\n",
      "Epoch: 16/25, Train Loss: 2.5269, Train Accuracy: 0.5087, Test Loss: 4.3426, Test Accuracy: 0.3241\n",
      "-------------------------\n",
      "Epoch 17/25: 100%|█| 3967/3967 [11:33<00:00,  5.72it/s, train_loss=2.46, train_a\n",
      "Evaluating: 100%|█| 41/41 [00:04<00:00, 10.14it/s, test_loss=4.53, test_accuracy\n",
      "Epoch: 17/25, Train Loss: 2.4644, Train Accuracy: 0.5197, Test Loss: 4.4215, Test Accuracy: 0.3205\n",
      "-------------------------\n",
      "Epoch 18/25: 100%|█| 3967/3967 [11:34<00:00,  5.71it/s, train_loss=2.4, train_ac\n",
      "Evaluating: 100%|█| 41/41 [00:03<00:00, 11.00it/s, test_loss=4.62, test_accuracy\n",
      "Epoch: 18/25, Train Loss: 2.4048, Train Accuracy: 0.5304, Test Loss: 4.5074, Test Accuracy: 0.3159\n",
      "-------------------------\n",
      "Epoch 19/25: 100%|█| 3967/3967 [11:34<00:00,  5.72it/s, train_loss=2.35, train_a\n",
      "Evaluating: 100%|█| 41/41 [00:04<00:00, 10.17it/s, test_loss=4.71, test_accuracy\n",
      "Epoch: 19/25, Train Loss: 2.3482, Train Accuracy: 0.5408, Test Loss: 4.5904, Test Accuracy: 0.3144\n",
      "-------------------------\n",
      "Epoch 20/25: 100%|█| 3967/3967 [11:33<00:00,  5.72it/s, train_loss=2.29, train_a\n",
      "Evaluating: 100%|█| 41/41 [00:03<00:00, 10.93it/s, test_loss=4.79, test_accuracy\n",
      "Epoch: 20/25, Train Loss: 2.2946, Train Accuracy: 0.5507, Test Loss: 4.6779, Test Accuracy: 0.3127\n",
      "-------------------------\n",
      "Epoch 21/25: 100%|█| 3967/3967 [11:33<00:00,  5.72it/s, train_loss=2.24, train_a\n",
      "Evaluating: 100%|█| 41/41 [00:04<00:00, 10.16it/s, test_loss=4.89, test_accuracy\n",
      "Epoch: 21/25, Train Loss: 2.2439, Train Accuracy: 0.5601, Test Loss: 4.7681, Test Accuracy: 0.3076\n",
      "-------------------------\n",
      "Epoch 22/25: 100%|█| 3967/3967 [11:34<00:00,  5.72it/s, train_loss=2.2, train_ac\n",
      "Evaluating: 100%|█| 41/41 [00:03<00:00, 10.98it/s, test_loss=4.99, test_accuracy\n",
      "Epoch: 22/25, Train Loss: 2.1960, Train Accuracy: 0.5691, Test Loss: 4.8721, Test Accuracy: 0.3027\n",
      "-------------------------\n",
      "Epoch 23/25: 100%|█| 3967/3967 [11:33<00:00,  5.72it/s, train_loss=2.15, train_a\n",
      "Evaluating: 100%|█| 41/41 [00:04<00:00,  9.64it/s, test_loss=5.11, test_accuracy\n",
      "Epoch: 23/25, Train Loss: 2.1504, Train Accuracy: 0.5778, Test Loss: 4.9844, Test Accuracy: 0.3031\n",
      "-------------------------\n",
      "Epoch 24/25: 100%|█| 3967/3967 [11:33<00:00,  5.72it/s, train_loss=2.11, train_a\n",
      "Evaluating: 100%|█| 41/41 [00:04<00:00, 10.07it/s, test_loss=5.23, test_accuracy\n",
      "Epoch: 24/25, Train Loss: 2.1068, Train Accuracy: 0.5862, Test Loss: 5.1069, Test Accuracy: 0.3033\n",
      "-------------------------\n",
      "Epoch 25/25: 100%|█| 3967/3967 [11:33<00:00,  5.72it/s, train_loss=2.07, train_a\n",
      "Evaluating: 100%|█| 41/41 [00:04<00:00, 10.20it/s, test_loss=5.35, test_accuracy\n",
      "Epoch: 25/25, Train Loss: 2.0655, Train Accuracy: 0.5941, Test Loss: 5.2170, Test Accuracy: 0.3012\n",
      "-------------------------\n",
      "Traceback (most recent call last):\n",
      "  File \"/home/user/workspace/Master_Thesis/Master_Thesis_programs/Neural_Joking_Machine_v1/train.py\", line 298, in <module>\n",
      "    fig = plt.figure(figsize = (10, 5))\n",
      "NameError: name 'plt' is not defined\n"
     ]
    }
   ],
   "source": [
    "import os\n",
    "# データローダが使用するCPUのスレッド数(GPUの総スレッド数の8割が推奨)\n",
    "num_workers = int(os.cpu_count() * 0.8)\n",
    "print(num_workers)\n",
    "\n",
    "!python train.py \\\n",
    "    --num_workers {num_workers} \\\n",
    "    --experience_number \"001\""
   ]
  },
  {
   "cell_type": "markdown",
   "metadata": {},
   "source": [
    "# 002\n",
    "\n",
    "現実写真以外も使用、文字なし、固有名詞全部なし"
   ]
  },
  {
   "cell_type": "code",
   "execution_count": null,
   "metadata": {},
   "outputs": [],
   "source": [
    "import os\n",
    "# データローダが使用するCPUのスレッド数(GPUの総スレッド数の8割が推奨)\n",
    "num_workers = int(os.cpu_count() * 0.8)\n",
    "print(num_workers)\n",
    "\n",
    "!python train.py \\\n",
    "    --num_workers {num_workers} \\\n",
    "    --experience_number \"002\" \\\n",
    "    --use_unreal_image"
   ]
  },
  {
   "cell_type": "markdown",
   "metadata": {},
   "source": [
    "# 003\n",
    "\n",
    "現実写真のみ、文字なし、固有名詞含む大喜利も使用"
   ]
  },
  {
   "cell_type": "code",
   "execution_count": null,
   "metadata": {},
   "outputs": [],
   "source": [
    "import os\n",
    "# データローダが使用するCPUのスレッド数(GPUの総スレッド数の8割が推奨)\n",
    "num_workers = int(os.cpu_count() * 0.8)\n",
    "print(num_workers)\n",
    "\n",
    "!python train.py \\\n",
    "    --num_workers {num_workers} \\\n",
    "    --experience_number \"003\" \\\n",
    "    --use_unique_noun_boke"
   ]
  },
  {
   "cell_type": "markdown",
   "metadata": {},
   "source": [
    "# 004\n",
    "\n",
    "現実写真のみ、文字含む画像あり、固有名詞全部なし"
   ]
  },
  {
   "cell_type": "code",
   "execution_count": null,
   "metadata": {},
   "outputs": [],
   "source": [
    "import os\n",
    "# データローダが使用するCPUのスレッド数(GPUの総スレッド数の8割が推奨)\n",
    "num_workers = int(os.cpu_count() * 0.8)\n",
    "print(num_workers)\n",
    "\n",
    "!python train.py \\\n",
    "    --num_workers {num_workers} \\\n",
    "    --experience_number \"004\" \\\n",
    "    --use_word_image"
   ]
  },
  {
   "cell_type": "markdown",
   "metadata": {},
   "source": [
    "# 005\n",
    "\n",
    "現実写真以外も使用、文字含む画像なし、固有名詞含む大喜利も使用"
   ]
  },
  {
   "cell_type": "code",
   "execution_count": null,
   "metadata": {},
   "outputs": [],
   "source": [
    "import os\n",
    "# データローダが使用するCPUのスレッド数(GPUの総スレッド数の8割が推奨)\n",
    "num_workers = int(os.cpu_count() * 0.8)\n",
    "print(num_workers)\n",
    "\n",
    "!python train.py \\\n",
    "    --num_workers {num_workers} \\\n",
    "    --experience_number \"005\" \\\n",
    "    --use_unique_noun_boke \\\n",
    "    --use_unreal_image"
   ]
  }
 ],
 "metadata": {
  "kernelspec": {
   "display_name": "Colab_20241111",
   "language": "python",
   "name": "python3"
  },
  "language_info": {
   "codemirror_mode": {
    "name": "ipython",
    "version": 3
   },
   "file_extension": ".py",
   "mimetype": "text/x-python",
   "name": "python",
   "nbconvert_exporter": "python",
   "pygments_lexer": "ipython3",
   "version": "3.10.12"
  }
 },
 "nbformat": 4,
 "nbformat_minor": 2
}
