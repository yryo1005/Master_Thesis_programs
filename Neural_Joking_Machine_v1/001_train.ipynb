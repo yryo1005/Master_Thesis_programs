{
 "cells": [
  {
   "cell_type": "markdown",
   "metadata": {},
   "source": [
    "# 001\n",
    "\n",
    "現実写真のみ、文字なし、固有名詞全部なし"
   ]
  },
  {
   "cell_type": "code",
   "execution_count": 1,
   "metadata": {},
   "outputs": [
    {
     "name": "stdout",
     "output_type": "stream",
     "text": [
      "6\n",
      "result directory: ../../results/Neural_Joking_Machine/001/\n",
      "100%|██████████████████████████████████| 668970/668970 [12:26<00:00, 896.22it/s]\n",
      "100%|█████████████████████████████| 2135982/2135982 [00:08<00:00, 261546.78it/s]\n",
      "100%|█████████████████████████████| 2051435/2051435 [00:07<00:00, 264916.27it/s]\n"
     ]
    }
   ],
   "source": [
    "import os\n",
    "# データローダが使用するCPUのスレッド数(GPUの総スレッド数の8割が推奨)\n",
    "num_workers = int(os.cpu_count() * 0.8)\n",
    "print(num_workers)\n",
    "\n",
    "!python train.py \\\n",
    "    --num_workers {num_workers} \\\n",
    "    --experience_number \"001\""
   ]
  },
  {
   "cell_type": "markdown",
   "metadata": {},
   "source": [
    "# 002\n",
    "\n",
    "現実写真以外も使用、文字なし、固有名詞全部なし"
   ]
  },
  {
   "cell_type": "code",
   "execution_count": null,
   "metadata": {},
   "outputs": [],
   "source": [
    "import os\n",
    "# データローダが使用するCPUのスレッド数(GPUの総スレッド数の8割が推奨)\n",
    "num_workers = int(os.cpu_count() * 0.8)\n",
    "print(num_workers)\n",
    "\n",
    "!python train.py \\\n",
    "    --num_workers {num_workers} \\\n",
    "    --experience_number \"002\" \\\n",
    "    --use_unreal_image"
   ]
  },
  {
   "cell_type": "markdown",
   "metadata": {},
   "source": [
    "# 003\n",
    "\n",
    "現実写真のみ、文字なし、固有名詞含む大喜利も使用"
   ]
  },
  {
   "cell_type": "code",
   "execution_count": null,
   "metadata": {},
   "outputs": [],
   "source": [
    "import os\n",
    "# データローダが使用するCPUのスレッド数(GPUの総スレッド数の8割が推奨)\n",
    "num_workers = int(os.cpu_count() * 0.8)\n",
    "print(num_workers)\n",
    "\n",
    "!python train.py \\\n",
    "    --num_workers {num_workers} \\\n",
    "    --experience_number \"003\" \\\n",
    "    --use_unique_noun_boke"
   ]
  },
  {
   "cell_type": "markdown",
   "metadata": {},
   "source": [
    "# 004\n",
    "\n",
    "現実写真のみ、文字含む画像あり、固有名詞全部なし"
   ]
  },
  {
   "cell_type": "code",
   "execution_count": null,
   "metadata": {},
   "outputs": [],
   "source": [
    "import os\n",
    "# データローダが使用するCPUのスレッド数(GPUの総スレッド数の8割が推奨)\n",
    "num_workers = int(os.cpu_count() * 0.8)\n",
    "print(num_workers)\n",
    "\n",
    "!python train.py \\\n",
    "    --num_workers {num_workers} \\\n",
    "    --experience_number \"004\" \\\n",
    "    --use_word_image"
   ]
  },
  {
   "cell_type": "markdown",
   "metadata": {},
   "source": [
    "# 005\n",
    "\n",
    "現実写真以外も使用、文字含む画像なし、固有名詞含む大喜利も使用"
   ]
  },
  {
   "cell_type": "code",
   "execution_count": null,
   "metadata": {},
   "outputs": [],
   "source": [
    "import os\n",
    "# データローダが使用するCPUのスレッド数(GPUの総スレッド数の8割が推奨)\n",
    "num_workers = int(os.cpu_count() * 0.8)\n",
    "print(num_workers)\n",
    "\n",
    "!python train.py \\\n",
    "    --num_workers {num_workers} \\\n",
    "    --experience_number \"005\" \\\n",
    "    --use_unique_noun_boke \\\n",
    "    --use_unreal_image"
   ]
  }
 ],
 "metadata": {
  "kernelspec": {
   "display_name": "Python 3",
   "language": "python",
   "name": "python3"
  },
  "language_info": {
   "codemirror_mode": {
    "name": "ipython",
    "version": 3
   },
   "file_extension": ".py",
   "mimetype": "text/x-python",
   "name": "python",
   "nbconvert_exporter": "python",
   "pygments_lexer": "ipython3",
   "version": "3.10.12"
  }
 },
 "nbformat": 4,
 "nbformat_minor": 2
}
