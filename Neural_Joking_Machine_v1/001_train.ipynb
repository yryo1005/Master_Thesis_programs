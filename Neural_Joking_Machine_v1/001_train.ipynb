{
 "cells": [
  {
   "cell_type": "markdown",
   "metadata": {},
   "source": [
    "# 001\n",
    "\n",
    "現実写真のみ、文字なし、固有名詞全部なし"
   ]
  },
  {
   "cell_type": "code",
   "execution_count": null,
   "metadata": {},
   "outputs": [
    {
     "name": "stdout",
     "output_type": "stream",
     "text": [
      "25\n",
      "result directory: ../../results/Neural_Joking_Machine/001/\n",
      "学習に用いる大喜利の数: 2030920\n",
      " 検証に用いる大喜利の数: 20515\n",
      " 使用する画像の数: 244286\n",
      " 単語の種類: 16705\n",
      "100%|███████████████████████████████| 244286/244286 [00:00<00:00, 432720.63it/s]\n",
      "100%|█████████████████████████████| 2030920/2030920 [00:03<00:00, 610682.40it/s]\n",
      "num data: 2030920\n",
      "100%|████████████████████████████████| 20515/20515 [00:00<00:00, 1269753.96it/s]\n",
      "num data: 20515\n",
      "Epoch 1/25:   1%| | 38/3967 [00:13<21:17,  3.08it/s, train_loss=7.62, train_accu"
     ]
    }
   ],
   "source": [
    "import os\n",
    "# データローダが使用するCPUのスレッド数(GPUの総スレッド数の8割が推奨)\n",
    "num_workers = int(os.cpu_count() * 0.8)\n",
    "print(num_workers)\n",
    "\n",
    "!python train.py \\\n",
    "    --num_workers {num_workers} \\\n",
    "    --experience_number \"001\""
   ]
  },
  {
   "cell_type": "markdown",
   "metadata": {},
   "source": [
    "# 002\n",
    "\n",
    "現実写真以外も使用、文字なし、固有名詞全部なし"
   ]
  },
  {
   "cell_type": "code",
   "execution_count": null,
   "metadata": {},
   "outputs": [],
   "source": [
    "import os\n",
    "# データローダが使用するCPUのスレッド数(GPUの総スレッド数の8割が推奨)\n",
    "num_workers = int(os.cpu_count() * 0.8)\n",
    "print(num_workers)\n",
    "\n",
    "!python train.py \\\n",
    "    --num_workers {num_workers} \\\n",
    "    --experience_number \"002\" \\\n",
    "    --use_unreal_image"
   ]
  },
  {
   "cell_type": "markdown",
   "metadata": {},
   "source": [
    "# 003\n",
    "\n",
    "現実写真のみ、文字なし、固有名詞含む大喜利も使用"
   ]
  },
  {
   "cell_type": "code",
   "execution_count": null,
   "metadata": {},
   "outputs": [],
   "source": [
    "import os\n",
    "# データローダが使用するCPUのスレッド数(GPUの総スレッド数の8割が推奨)\n",
    "num_workers = int(os.cpu_count() * 0.8)\n",
    "print(num_workers)\n",
    "\n",
    "!python train.py \\\n",
    "    --num_workers {num_workers} \\\n",
    "    --experience_number \"003\" \\\n",
    "    --use_unique_noun_boke"
   ]
  },
  {
   "cell_type": "markdown",
   "metadata": {},
   "source": [
    "# 004\n",
    "\n",
    "現実写真のみ、文字含む画像あり、固有名詞全部なし"
   ]
  },
  {
   "cell_type": "code",
   "execution_count": null,
   "metadata": {},
   "outputs": [],
   "source": [
    "import os\n",
    "# データローダが使用するCPUのスレッド数(GPUの総スレッド数の8割が推奨)\n",
    "num_workers = int(os.cpu_count() * 0.8)\n",
    "print(num_workers)\n",
    "\n",
    "!python train.py \\\n",
    "    --num_workers {num_workers} \\\n",
    "    --experience_number \"004\" \\\n",
    "    --use_word_image"
   ]
  },
  {
   "cell_type": "markdown",
   "metadata": {},
   "source": [
    "# 005\n",
    "\n",
    "現実写真以外も使用、文字含む画像なし、固有名詞含む大喜利も使用"
   ]
  },
  {
   "cell_type": "code",
   "execution_count": null,
   "metadata": {},
   "outputs": [],
   "source": [
    "import os\n",
    "# データローダが使用するCPUのスレッド数(GPUの総スレッド数の8割が推奨)\n",
    "num_workers = int(os.cpu_count() * 0.8)\n",
    "print(num_workers)\n",
    "\n",
    "!python train.py \\\n",
    "    --num_workers {num_workers} \\\n",
    "    --experience_number \"005\" \\\n",
    "    --use_unique_noun_boke \\\n",
    "    --use_unreal_image"
   ]
  }
 ],
 "metadata": {
  "kernelspec": {
   "display_name": "Colab_20241111",
   "language": "python",
   "name": "python3"
  },
  "language_info": {
   "codemirror_mode": {
    "name": "ipython",
    "version": 3
   },
   "file_extension": ".py",
   "mimetype": "text/x-python",
   "name": "python",
   "nbconvert_exporter": "python",
   "pygments_lexer": "ipython3",
   "version": "3.10.12"
  }
 },
 "nbformat": 4,
 "nbformat_minor": 2
}
