{
 "cells": [
  {
   "cell_type": "markdown",
   "metadata": {},
   "source": [
    "# 001\n",
    "\n",
    "現実写真のみ、文字なし、固有名詞全部なし"
   ]
  },
  {
   "cell_type": "code",
   "execution_count": 1,
   "metadata": {},
   "outputs": [
    {
     "name": "stdout",
     "output_type": "stream",
     "text": [
      "19\n",
      "result directory: ../../results/Neural_Joking_Machine/001/\n",
      "学習に用いる大喜利の数: 2030920\n",
      " 検証に用いる大喜利の数: 20515\n",
      " 使用する画像の数: 244286\n",
      " 単語の種類: 16705\n",
<<<<<<< Updated upstream
      "100%|███████████████████████████████| 244286/244286 [00:00<00:00, 748310.36it/s]\n",
      "100%|█████████████████████████████| 2030920/2030920 [00:04<00:00, 479298.65it/s]\n",
      "num data: 2030920\n",
      "100%|████████████████████████████████| 20515/20515 [00:00<00:00, 1173970.21it/s]\n",
      "num data: 20515\n",
      "Epoch 1/25: 100%|█| 31734/31734 [35:23<00:00, 14.94it/s, train_loss=9.64, train_\n",
      "Evaluating: 100%|█| 321/321 [00:08<00:00, 38.05it/s, test_loss=9.64, test_accura\n",
      "Epoch: 1/25, Train Loss: 9.6431, Train Accuracy: 0.0804, Test Loss: 9.6428, Test Accuracy: 0.0807\n",
      "-------------------------\n",
      "Epoch 2/25: 100%|█| 31734/31734 [33:56<00:00, 15.58it/s, train_loss=9.64, train_\n",
      "Evaluating: 100%|█| 321/321 [00:07<00:00, 42.13it/s, test_loss=9.64, test_accura\n",
      "Epoch: 2/25, Train Loss: 9.6431, Train Accuracy: 0.0804, Test Loss: 9.6428, Test Accuracy: 0.0807\n",
      "-------------------------\n",
      "Epoch 3/25: 100%|█| 31734/31734 [33:01<00:00, 16.02it/s, train_loss=9.64, train_\n",
      "Evaluating: 100%|█| 321/321 [00:07<00:00, 41.52it/s, test_loss=9.64, test_accura\n",
      "Epoch: 3/25, Train Loss: 9.6431, Train Accuracy: 0.0804, Test Loss: 9.6428, Test Accuracy: 0.0807\n",
      "-------------------------\n",
      "Epoch 4/25: 100%|█| 31734/31734 [33:00<00:00, 16.03it/s, train_loss=9.64, train_\n",
      "Evaluating: 100%|█| 321/321 [00:07<00:00, 41.70it/s, test_loss=9.64, test_accura\n",
      "Epoch: 4/25, Train Loss: 9.6431, Train Accuracy: 0.0804, Test Loss: 9.6428, Test Accuracy: 0.0807\n",
      "-------------------------\n",
      "Epoch 5/25: 100%|█| 31734/31734 [33:16<00:00, 15.89it/s, train_loss=9.64, train_\n",
      "Evaluating: 100%|█| 321/321 [00:08<00:00, 39.95it/s, test_loss=9.64, test_accura\n",
      "Epoch: 5/25, Train Loss: 9.6431, Train Accuracy: 0.0804, Test Loss: 9.6428, Test Accuracy: 0.0807\n",
      "-------------------------\n",
      "Epoch 6/25: 100%|█| 31734/31734 [33:30<00:00, 15.78it/s, train_loss=9.64, train_\n",
      "Evaluating: 100%|█| 321/321 [00:07<00:00, 41.77it/s, test_loss=9.64, test_accura\n",
      "Epoch: 6/25, Train Loss: 9.6431, Train Accuracy: 0.0804, Test Loss: 9.6428, Test Accuracy: 0.0807\n",
      "-------------------------\n",
      "Epoch 7/25: 100%|█| 31734/31734 [32:36<00:00, 16.22it/s, train_loss=9.64, train_\n",
      "Evaluating: 100%|█| 321/321 [00:07<00:00, 42.23it/s, test_loss=9.64, test_accura\n",
      "Epoch: 7/25, Train Loss: 9.6431, Train Accuracy: 0.0804, Test Loss: 9.6428, Test Accuracy: 0.0807\n",
      "-------------------------\n",
      "Epoch 8/25: 100%|█| 31734/31734 [32:40<00:00, 16.19it/s, train_loss=9.64, train_\n",
      "Evaluating: 100%|█| 321/321 [00:07<00:00, 42.23it/s, test_loss=9.64, test_accura\n",
      "Epoch: 8/25, Train Loss: 9.6431, Train Accuracy: 0.0804, Test Loss: 9.6428, Test Accuracy: 0.0807\n",
      "-------------------------\n",
      "Epoch 9/25: 100%|█| 31734/31734 [32:50<00:00, 16.10it/s, train_loss=9.64, train_\n",
      "Evaluating: 100%|█| 321/321 [00:07<00:00, 41.89it/s, test_loss=9.64, test_accura\n",
      "Epoch: 9/25, Train Loss: 9.6431, Train Accuracy: 0.0804, Test Loss: 9.6428, Test Accuracy: 0.0807\n",
      "-------------------------\n",
      "Epoch 10/25: 100%|█| 31734/31734 [33:06<00:00, 15.98it/s, train_loss=9.64, train\n",
      "Evaluating: 100%|█| 321/321 [00:07<00:00, 41.41it/s, test_loss=9.64, test_accura\n",
      "Epoch: 10/25, Train Loss: 9.6431, Train Accuracy: 0.0804, Test Loss: 9.6428, Test Accuracy: 0.0807\n",
      "-------------------------\n",
      "Epoch 11/25: 100%|█| 31734/31734 [35:11<00:00, 15.03it/s, train_loss=9.65, train\n",
      "Evaluating: 100%|█| 321/321 [00:08<00:00, 37.44it/s, test_loss=9.75, test_accura\n",
      "Epoch: 11/25, Train Loss: 9.6456, Train Accuracy: 0.0780, Test Loss: 9.6942, Test Accuracy: 0.0294\n",
      "-------------------------\n",
      "Epoch 12/25:  48%|▍| 15179/31734 [17:00<18:52, 14.61it/s, train_loss=9.69, train"
=======
      "100%|███████████████████████████████| 244286/244286 [00:00<00:00, 715326.77it/s]\n",
      "100%|█████████████████████████████| 2030920/2030920 [00:04<00:00, 473808.97it/s]\n",
      "num data: 2030920\n",
      "100%|████████████████████████████████| 20515/20515 [00:00<00:00, 1134096.20it/s]\n",
      "num data: 20515\n",
      "Epoch 1/25: 100%|█| 15867/15867 [27:58<00:00,  9.45it/s, train_loss=4.34, train_\n",
      "Evaluating: 100%|█| 161/161 [00:06<00:00, 25.38it/s, test_loss=3.94, test_accura\n",
      "Epoch: 1/25, Train Loss: 4.3439, Train Accuracy: 0.2992, Test Loss: 3.9422, Test Accuracy: 0.3323\n",
      "-------------------------\n",
      "Epoch 2/25: 100%|█| 15867/15867 [28:04<00:00,  9.42it/s, train_loss=3.76, train_\n",
      "Evaluating: 100%|█| 161/161 [00:06<00:00, 24.77it/s, test_loss=3.79, test_accura\n",
      "Epoch: 2/25, Train Loss: 3.7595, Train Accuracy: 0.3486, Test Loss: 3.7894, Test Accuracy: 0.3470\n",
      "-------------------------\n",
      "Epoch 3/25: 100%|█| 15867/15867 [28:00<00:00,  9.44it/s, train_loss=3.53, train_\n",
      "Evaluating: 100%|█| 161/161 [00:06<00:00, 24.69it/s, test_loss=3.75, test_accura\n",
      "Epoch: 3/25, Train Loss: 3.5323, Train Accuracy: 0.3704, Test Loss: 3.7536, Test Accuracy: 0.3516\n",
      "-------------------------\n",
      "Epoch 4/25: 100%|█| 15867/15867 [28:09<00:00,  9.39it/s, train_loss=3.36, train_\n",
      "Evaluating: 100%|█| 161/161 [00:06<00:00, 25.41it/s, test_loss=3.77, test_accura\n",
      "Epoch: 4/25, Train Loss: 3.3587, Train Accuracy: 0.3885, Test Loss: 3.7684, Test Accuracy: 0.3517\n",
      "-------------------------\n",
      "Epoch 5/25: 100%|█| 15867/15867 [28:17<00:00,  9.35it/s, train_loss=3.21, train_\n",
      "Evaluating: 100%|█| 161/161 [00:06<00:00, 25.24it/s, test_loss=3.81, test_accura\n",
      "Epoch: 5/25, Train Loss: 3.2078, Train Accuracy: 0.4056, Test Loss: 3.8149, Test Accuracy: 0.3487\n",
      "-------------------------\n",
      "Epoch 6/25: 100%|█| 15867/15867 [28:12<00:00,  9.37it/s, train_loss=3.07, train_\n",
      "Evaluating: 100%|█| 161/161 [00:06<00:00, 25.05it/s, test_loss=3.89, test_accura\n",
      "Epoch: 6/25, Train Loss: 3.0706, Train Accuracy: 0.4225, Test Loss: 3.8864, Test Accuracy: 0.3452\n",
      "-------------------------\n",
      "Epoch 7/25: 100%|█| 15867/15867 [28:18<00:00,  9.34it/s, train_loss=2.94, train_\n",
      "Evaluating: 100%|█| 161/161 [00:06<00:00, 24.62it/s, test_loss=3.97, test_accura\n",
      "Epoch: 7/25, Train Loss: 2.9449, Train Accuracy: 0.4394, Test Loss: 3.9669, Test Accuracy: 0.3412\n",
      "-------------------------\n",
      "Epoch 8/25: 100%|█| 15867/15867 [28:12<00:00,  9.37it/s, train_loss=2.83, train_\n",
      "Evaluating: 100%|█| 161/161 [00:06<00:00, 24.99it/s, test_loss=4.07, test_accura\n",
      "Epoch: 8/25, Train Loss: 2.8297, Train Accuracy: 0.4561, Test Loss: 4.0652, Test Accuracy: 0.3372\n",
      "-------------------------\n",
      "Epoch 9/25: 100%|█| 15867/15867 [28:18<00:00,  9.34it/s, train_loss=2.72, train_\n",
      "Evaluating: 100%|█| 161/161 [00:06<00:00, 24.26it/s, test_loss=4.17, test_accura\n",
      "Epoch: 9/25, Train Loss: 2.7244, Train Accuracy: 0.4722, Test Loss: 4.1736, Test Accuracy: 0.3334\n",
      "-------------------------\n",
      "Epoch 10/25: 100%|█| 15867/15867 [28:13<00:00,  9.37it/s, train_loss=2.63, train\n",
      "Evaluating: 100%|█| 161/161 [00:06<00:00, 24.48it/s, test_loss=4.29, test_accura\n",
      "Epoch: 10/25, Train Loss: 2.6284, Train Accuracy: 0.4876, Test Loss: 4.2871, Test Accuracy: 0.3289\n",
      "-------------------------\n",
      "Epoch 11/25: 100%|█| 15867/15867 [28:17<00:00,  9.34it/s, train_loss=2.54, train\n",
      "Evaluating: 100%|█| 161/161 [00:06<00:00, 24.51it/s, test_loss=4.4, test_accurac\n",
      "Epoch: 11/25, Train Loss: 2.5408, Train Accuracy: 0.5023, Test Loss: 4.4046, Test Accuracy: 0.3243\n",
      "-------------------------\n",
      "Epoch 12/25: 100%|█| 15867/15867 [28:16<00:00,  9.35it/s, train_loss=2.46, train\n",
      "Evaluating: 100%|█| 161/161 [00:06<00:00, 24.78it/s, test_loss=4.55, test_accura\n",
      "Epoch: 12/25, Train Loss: 2.4609, Train Accuracy: 0.5161, Test Loss: 4.5260, Test Accuracy: 0.3200\n",
      "-------------------------\n",
      "Epoch 13/25: 100%|█| 15867/15867 [28:18<00:00,  9.34it/s, train_loss=2.39, train\n",
      "Evaluating: 100%|█| 161/161 [00:06<00:00, 24.85it/s, test_loss=4.65, test_accura\n",
      "Epoch: 13/25, Train Loss: 2.3882, Train Accuracy: 0.5288, Test Loss: 4.6487, Test Accuracy: 0.3168\n",
      "-------------------------\n",
      "Epoch 14/25: 100%|█| 15867/15867 [28:15<00:00,  9.36it/s, train_loss=2.32, train\n",
      "Evaluating: 100%|█| 161/161 [00:06<00:00, 24.09it/s, test_loss=4.78, test_accura\n",
      "Epoch: 14/25, Train Loss: 2.3219, Train Accuracy: 0.5406, Test Loss: 4.7760, Test Accuracy: 0.3132\n",
      "-------------------------\n",
      "Epoch 15/25: 100%|█| 15867/15867 [28:20<00:00,  9.33it/s, train_loss=2.26, train\n",
      "Evaluating: 100%|█| 161/161 [00:06<00:00, 24.69it/s, test_loss=4.89, test_accura\n",
      "Epoch: 15/25, Train Loss: 2.2614, Train Accuracy: 0.5514, Test Loss: 4.8917, Test Accuracy: 0.3104\n",
      "-------------------------\n",
      "Epoch 16/25: 100%|█| 15867/15867 [28:21<00:00,  9.33it/s, train_loss=2.21, train\n",
      "Evaluating: 100%|█| 161/161 [00:06<00:00, 23.77it/s, test_loss=5.01, test_accura\n",
      "Epoch: 16/25, Train Loss: 2.2067, Train Accuracy: 0.5610, Test Loss: 5.0092, Test Accuracy: 0.3072\n",
      "-------------------------\n",
      "Epoch 17/25:  99%|▉| 15677/15867 [28:43<00:21,  8.69it/s, train_loss=2.16, train"
>>>>>>> Stashed changes
     ]
    }
   ],
   "source": [
    "import os\n",
    "# データローダが使用するCPUのスレッド数(GPUの総スレッド数の8割が推奨)\n",
    "num_workers = int(os.cpu_count() * 0.8)\n",
    "print(num_workers)\n",
    "\n",
    "!python train.py \\\n",
    "    --num_workers {num_workers} \\\n",
    "    --experience_number \"001\""
   ]
  },
  {
   "cell_type": "markdown",
   "metadata": {},
   "source": [
    "# 002\n",
    "\n",
    "現実写真以外も使用、文字なし、固有名詞全部なし"
   ]
  },
  {
   "cell_type": "code",
   "execution_count": null,
   "metadata": {},
   "outputs": [],
   "source": [
    "import os\n",
    "# データローダが使用するCPUのスレッド数(GPUの総スレッド数の8割が推奨)\n",
    "num_workers = int(os.cpu_count() * 0.8)\n",
    "print(num_workers)\n",
    "\n",
    "!python train.py \\\n",
    "    --num_workers {num_workers} \\\n",
    "    --experience_number \"002\" \\\n",
    "    --use_unreal_image"
   ]
  },
  {
   "cell_type": "markdown",
   "metadata": {},
   "source": [
    "# 003\n",
    "\n",
    "現実写真のみ、文字なし、固有名詞含む大喜利も使用"
   ]
  },
  {
   "cell_type": "code",
   "execution_count": null,
   "metadata": {},
   "outputs": [],
   "source": [
    "import os\n",
    "# データローダが使用するCPUのスレッド数(GPUの総スレッド数の8割が推奨)\n",
    "num_workers = int(os.cpu_count() * 0.8)\n",
    "print(num_workers)\n",
    "\n",
    "!python train.py \\\n",
    "    --num_workers {num_workers} \\\n",
    "    --experience_number \"003\" \\\n",
    "    --use_unique_noun_boke"
   ]
  },
  {
   "cell_type": "markdown",
   "metadata": {},
   "source": [
    "# 004\n",
    "\n",
    "現実写真のみ、文字含む画像あり、固有名詞全部なし"
   ]
  },
  {
   "cell_type": "code",
   "execution_count": null,
   "metadata": {},
   "outputs": [],
   "source": [
    "import os\n",
    "# データローダが使用するCPUのスレッド数(GPUの総スレッド数の8割が推奨)\n",
    "num_workers = int(os.cpu_count() * 0.8)\n",
    "print(num_workers)\n",
    "\n",
    "!python train.py \\\n",
    "    --num_workers {num_workers} \\\n",
    "    --experience_number \"004\" \\\n",
    "    --use_word_image"
   ]
  },
  {
   "cell_type": "markdown",
   "metadata": {},
   "source": [
    "# 005\n",
    "\n",
    "現実写真以外も使用、文字含む画像なし、固有名詞含む大喜利も使用"
   ]
  },
  {
   "cell_type": "code",
   "execution_count": null,
   "metadata": {},
   "outputs": [],
   "source": [
    "import os\n",
    "# データローダが使用するCPUのスレッド数(GPUの総スレッド数の8割が推奨)\n",
    "num_workers = int(os.cpu_count() * 0.8)\n",
    "print(num_workers)\n",
    "\n",
    "!python train.py \\\n",
    "    --num_workers {num_workers} \\\n",
    "    --experience_number \"005\" \\\n",
    "    --use_unique_noun_boke \\\n",
    "    --use_unreal_image"
   ]
  }
 ],
 "metadata": {
  "kernelspec": {
   "display_name": "Python 3",
   "language": "python",
   "name": "python3"
  },
  "language_info": {
   "codemirror_mode": {
    "name": "ipython",
    "version": 3
   },
   "file_extension": ".py",
   "mimetype": "text/x-python",
   "name": "python",
   "nbconvert_exporter": "python",
   "pygments_lexer": "ipython3",
   "version": "3.10.12"
  }
 },
 "nbformat": 4,
 "nbformat_minor": 2
}
