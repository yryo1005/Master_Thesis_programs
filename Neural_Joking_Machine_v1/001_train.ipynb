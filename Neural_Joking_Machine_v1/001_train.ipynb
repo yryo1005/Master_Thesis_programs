{
 "cells": [
  {
   "cell_type": "markdown",
   "metadata": {},
   "source": [
    "# 001\n",
    "\n",
    "現実写真のみ、文字なし、固有名詞全部なし"
   ]
  },
  {
   "cell_type": "code",
   "execution_count": 1,
   "metadata": {},
   "outputs": [
    {
     "name": "stdout",
     "output_type": "stream",
     "text": [
      "6\n",
      "result directory: ../../results/Neural_Joking_Machine/001/\n",
<<<<<<< Updated upstream
      "100%|██████████████████████████████████| 668970/668970 [12:26<00:00, 896.22it/s]\n",
      "100%|█████████████████████████████| 2135982/2135982 [00:08<00:00, 261546.78it/s]\n",
      "100%|█████████████████████████████| 2051435/2051435 [00:07<00:00, 264916.27it/s]\n"
=======
      "100%|██████████████████████████████████| 668970/668970 [11:50<00:00, 941.12it/s]\n",
      "100%|█████████████████████████████| 2135982/2135982 [00:07<00:00, 281354.89it/s]\n",
      "100%|█████████████████████████████| 2051435/2051435 [00:06<00:00, 308590.69it/s]\n",
      "学習に用いる大喜利の数: 2030920\n",
      " 検証に用いる大喜利の数: 20515\n",
      " 使用する画像の数: 244286\n",
      " 単語の種類: 16705\n",
<<<<<<< Updated upstream
      "100%|███████████████████████████████| 244286/244286 [00:01<00:00, 242655.74it/s]\n",
      "num data: 244286\n",
      "/home/user/.conda/envs/Colab_20241111/lib/python3.10/site-packages/torchvision/models/_utils.py:208: UserWarning: The parameter 'pretrained' is deprecated since 0.13 and may be removed in the future, please use 'weights' instead.\n",
      "  warnings.warn(\n",
      "/home/user/.conda/envs/Colab_20241111/lib/python3.10/site-packages/torchvision/models/_utils.py:223: UserWarning: Arguments other than a weight enum or `None` for 'weights' are deprecated since 0.13 and may be removed in the future. The current behavior is equivalent to passing `weights=ResNet152_Weights.IMAGENET1K_V1`. You can also use `weights=ResNet152_Weights.DEFAULT` to get the most up-to-date weights.\n",
      "  warnings.warn(msg)\n",
      "Downloading: \"https://download.pytorch.org/models/resnet152-394f9c45.pth\" to /root/.cache/torch/hub/checkpoints/resnet152-394f9c45.pth\n",
      "100%|████████████████████████████████████████| 230M/230M [00:20<00:00, 11.5MB/s]\n",
      "100%|███████████████████████████████████████| 7634/7634 [18:09<00:00,  7.01it/s]\n",
      "100%|█████████████████████████████| 2030920/2030920 [00:10<00:00, 196477.53it/s]\n",
      "num data: 2030920\n",
      "100%|█████████████████████████████████| 20515/20515 [00:00<00:00, 237122.73it/s]\n",
      "num data: 20515\n",
      "Epoch 1/25: 100%|█| 63467/63467 [1:38:07<00:00, 10.78it/s, train_loss=4.24, trai\n",
      "Evaluating: 100%|█| 642/642 [00:18<00:00, 33.89it/s, test_loss=3.93, test_accura\n",
      "Epoch: 1/25, Train Loss: 4.2357, Train Accuracy: 0.3091, Test Loss: 3.9320, Test Accuracy: 0.3360\n",
      "-------------------------\n",
      "Epoch 2/25: 100%|█| 63467/63467 [1:38:04<00:00, 10.79it/s, train_loss=3.79, trai\n",
      "Evaluating: 100%|█| 642/642 [00:19<00:00, 33.27it/s, test_loss=3.88, test_accura\n",
      "Epoch: 2/25, Train Loss: 3.7851, Train Accuracy: 0.3494, Test Loss: 3.8753, Test Accuracy: 0.3458\n",
      "-------------------------\n",
      "Epoch 3/25: 100%|█| 63467/63467 [1:38:18<00:00, 10.76it/s, train_loss=3.62, trai\n",
      "Evaluating: 100%|█| 642/642 [00:18<00:00, 33.83it/s, test_loss=3.9, test_accurac\n",
      "Epoch: 3/25, Train Loss: 3.6233, Train Accuracy: 0.3652, Test Loss: 3.8986, Test Accuracy: 0.3462\n",
      "-------------------------\n",
      "Epoch 4/25: 100%|█| 63467/63467 [1:38:18<00:00, 10.76it/s, train_loss=3.51, trai\n",
      "Evaluating: 100%|█| 642/642 [00:18<00:00, 34.12it/s, test_loss=3.95, test_accura\n",
      "Epoch: 4/25, Train Loss: 3.5081, Train Accuracy: 0.3767, Test Loss: 3.9543, Test Accuracy: 0.3454\n",
      "-------------------------\n",
      "Epoch 5/25:  55%|▌| 34904/63467 [51:37<23:15, 20.47it/s, train_loss=3.43, train_^C\n",
      "Epoch 5/25:  55%|▌| 34905/63467 [51:37<42:14, 11.27it/s, train_loss=3.43, train_\n",
      "Traceback (most recent call last):\n",
      "  File \"/home/user/workspace/Master_Thesis/Master_Thesis_programs/Neural_Joking_Machine_v1/train.py\", line 243, in <module>\n",
      "    image_features = image_features.to(device)\n",
      "KeyboardInterrupt\n"
>>>>>>> Stashed changes
=======
      "100%|███████████████████████████████| 244286/244286 [00:00<00:00, 266910.19it/s]\n",
      "100%|█████████████████████████████| 2030920/2030920 [00:06<00:00, 326822.61it/s]\n",
      "num data: 2030920\n",
      "100%|█████████████████████████████████| 20515/20515 [00:00<00:00, 627515.25it/s]\n",
      "num data: 20515\n",
      "Epoch 1/25: 100%|█| 63467/63467 [1:17:50<00:00, 13.59it/s, train_loss=4.77, trai\n",
      "Evaluating: 100%|█| 642/642 [00:16<00:00, 38.09it/s, test_loss=4.54, test_accura\n",
      "Epoch: 1/25, Train Loss: 4.7660, Train Accuracy: 0.2621, Test Loss: 4.5371, Test Accuracy: 0.2774\n",
      "-------------------------\n",
      "Epoch 2/25: 100%|█| 63467/63467 [1:29:49<00:00, 11.78it/s, train_loss=4.55, trai\n",
      "Evaluating: 100%|█| 642/642 [00:28<00:00, 22.45it/s, test_loss=4.45, test_accura\n",
      "Epoch: 2/25, Train Loss: 4.5517, Train Accuracy: 0.2819, Test Loss: 4.4451, Test Accuracy: 0.2879\n",
      "-------------------------\n",
      "Epoch 3/25: 100%|█| 63467/63467 [2:01:17<00:00,  8.72it/s, train_loss=5.14, trai\n",
      "Evaluating: 100%|█| 642/642 [00:28<00:00, 22.68it/s, test_loss=5.12, test_accura\n",
      "Epoch: 3/25, Train Loss: 5.1395, Train Accuracy: 0.2852, Test Loss: 5.1134, Test Accuracy: 0.2456\n",
      "-------------------------\n",
      "Epoch 4/25: 100%|█| 63467/63467 [1:34:44<00:00, 11.16it/s, train_loss=4.45, trai\n",
      "Evaluating: 100%|█| 642/642 [00:15<00:00, 42.73it/s, test_loss=4.41, test_accura\n",
      "Epoch: 4/25, Train Loss: 4.4472, Train Accuracy: 0.2945, Test Loss: 4.4146, Test Accuracy: 0.2964\n",
      "-------------------------\n",
      "Epoch 5/25: 100%|█| 63467/63467 [1:40:09<00:00, 10.56it/s, train_loss=5.96, trai\n",
      "Evaluating: 100%|█| 642/642 [00:28<00:00, 22.87it/s, test_loss=4.47, test_accura\n",
      "Epoch: 5/25, Train Loss: 5.9615, Train Accuracy: 0.2667, Test Loss: 4.4614, Test Accuracy: 0.2860\n",
      "-------------------------\n",
      "Epoch 6/25: 100%|█| 63467/63467 [2:02:36<00:00,  8.63it/s, train_loss=10.4, trai\n",
      "Evaluating: 100%|█| 642/642 [00:27<00:00, 22.93it/s, test_loss=6.44, test_accura\n",
      "Epoch: 6/25, Train Loss: 10.4304, Train Accuracy: 0.2449, Test Loss: 6.4345, Test Accuracy: 0.1913\n",
      "-------------------------\n",
      "Epoch 7/25: 100%|█| 63467/63467 [2:02:03<00:00,  8.67it/s, train_loss=19.7, trai\n",
      "Evaluating: 100%|█| 642/642 [00:28<00:00, 22.88it/s, test_loss=11.1, test_accura\n",
      "Epoch: 7/25, Train Loss: 19.6704, Train Accuracy: 0.2237, Test Loss: 11.1140, Test Accuracy: 0.1803\n",
      "-------------------------\n",
      "Epoch 8/25: 100%|█| 63467/63467 [2:06:32<00:00,  8.36it/s, train_loss=138, train\n",
      "Evaluating: 100%|█| 642/642 [00:29<00:00, 21.74it/s, test_loss=845, test_accurac\n",
      "Epoch: 8/25, Train Loss: 137.8854, Train Accuracy: 0.1034, Test Loss: 844.1640, Test Accuracy: 0.0844\n",
      "-------------------------\n",
      "Epoch 9/25: 100%|█| 63467/63467 [2:09:36<00:00,  8.16it/s, train_loss=298, train\n",
      "Evaluating: 100%|█| 642/642 [00:29<00:00, 21.70it/s, test_loss=39.1, test_accura\n",
      "Epoch: 9/25, Train Loss: 298.0924, Train Accuracy: 0.0686, Test Loss: 39.0272, Test Accuracy: 0.0278\n",
      "-------------------------\n",
      "Epoch 10/25: 100%|█| 63467/63467 [2:04:15<00:00,  8.51it/s, train_loss=297, trai\n",
      "Evaluating: 100%|█| 642/642 [00:28<00:00, 22.81it/s, test_loss=93.1, test_accura\n",
      "Epoch: 10/25, Train Loss: 297.4338, Train Accuracy: 0.0763, Test Loss: 92.9812, Test Accuracy: 0.0119\n",
      "-------------------------\n",
      "Epoch 11/25: 100%|█| 63467/63467 [2:02:18<00:00,  8.65it/s, train_loss=183, trai\n",
      "Evaluating: 100%|█| 642/642 [00:28<00:00, 22.32it/s, test_loss=11.9, test_accura\n",
      "Epoch: 11/25, Train Loss: 182.9803, Train Accuracy: 0.0735, Test Loss: 11.9287, Test Accuracy: 0.1305\n",
      "-------------------------\n",
      "Epoch 12/25: 100%|█| 63467/63467 [2:03:02<00:00,  8.60it/s, train_loss=137, trai\n",
      "Evaluating: 100%|█| 642/642 [00:28<00:00, 22.62it/s, test_loss=14.4, test_accura\n",
      "Epoch: 12/25, Train Loss: 137.4736, Train Accuracy: 0.0843, Test Loss: 14.3484, Test Accuracy: 0.1411\n",
      "-------------------------\n",
      "Epoch 13/25: 100%|█| 63467/63467 [1:53:56<00:00,  9.28it/s, train_loss=131, trai\n",
      "Evaluating: 100%|█| 642/642 [00:28<00:00, 22.74it/s, test_loss=285, test_accurac\n",
      "Epoch: 13/25, Train Loss: 130.6412, Train Accuracy: 0.0891, Test Loss: 284.3365, Test Accuracy: 0.0754\n",
      "-------------------------\n",
      "Epoch 14/25: 100%|█| 63467/63467 [1:39:15<00:00, 10.66it/s, train_loss=128, trai\n",
      "Evaluating: 100%|█| 642/642 [00:14<00:00, 42.91it/s, test_loss=12.8, test_accura\n",
      "Epoch: 14/25, Train Loss: 128.3965, Train Accuracy: 0.0853, Test Loss: 12.8373, Test Accuracy: 0.0615\n",
      "-------------------------\n",
      "Epoch 15/25: 100%|█| 63467/63467 [1:16:42<00:00, 13.79it/s, train_loss=108, trai\n",
      "Evaluating: 100%|█| 642/642 [00:15<00:00, 41.09it/s, test_loss=68.9, test_accura\n",
      "Epoch: 15/25, Train Loss: 108.4641, Train Accuracy: 0.0951, Test Loss: 68.4857, Test Accuracy: 0.0749\n",
      "-------------------------\n",
      "Epoch 16/25: 100%|█| 63467/63467 [1:17:47<00:00, 13.60it/s, train_loss=94.1, tra\n",
      "Evaluating: 100%|█| 642/642 [00:14<00:00, 43.29it/s, test_loss=6.67, test_accura\n",
      "Epoch: 16/25, Train Loss: 94.0623, Train Accuracy: 0.0958, Test Loss: 6.6716, Test Accuracy: 0.1619\n",
      "-------------------------\n",
      "Epoch 17/25: 100%|█| 63467/63467 [1:29:13<00:00, 11.86it/s, train_loss=74.1, tra\n",
      "Evaluating: 100%|█| 642/642 [00:15<00:00, 42.05it/s, test_loss=21.9, test_accura\n",
      "Epoch: 17/25, Train Loss: 74.0531, Train Accuracy: 0.1083, Test Loss: 21.8790, Test Accuracy: 0.1177\n",
      "-------------------------\n",
      "Epoch 18/25: 100%|█| 63467/63467 [1:16:41<00:00, 13.79it/s, train_loss=46.2, tra\n",
      "Evaluating: 100%|█| 642/642 [00:14<00:00, 43.36it/s, test_loss=549, test_accurac\n",
      "Epoch: 18/25, Train Loss: 46.2382, Train Accuracy: 0.1354, Test Loss: 546.6448, Test Accuracy: 0.0050\n",
      "-------------------------\n",
      "Epoch 19/25:  23%|▏| 14631/63467 [17:30<58:50, 13.83it/s, train_loss=98, train_a"
>>>>>>> Stashed changes
     ]
    }
   ],
   "source": [
    "import os\n",
    "# データローダが使用するCPUのスレッド数(GPUの総スレッド数の8割が推奨)\n",
    "num_workers = int(os.cpu_count() * 0.8)\n",
    "print(num_workers)\n",
    "\n",
    "!python train.py \\\n",
    "    --num_workers {num_workers} \\\n",
    "    --experience_number \"001\""
   ]
  },
  {
   "cell_type": "markdown",
   "metadata": {},
   "source": [
    "# 002\n",
    "\n",
    "現実写真以外も使用、文字なし、固有名詞全部なし"
   ]
  },
  {
   "cell_type": "code",
   "execution_count": null,
   "metadata": {},
   "outputs": [],
   "source": [
    "import os\n",
    "# データローダが使用するCPUのスレッド数(GPUの総スレッド数の8割が推奨)\n",
    "num_workers = int(os.cpu_count() * 0.8)\n",
    "print(num_workers)\n",
    "\n",
    "!python train.py \\\n",
    "    --num_workers {num_workers} \\\n",
    "    --experience_number \"002\" \\\n",
    "    --use_unreal_image"
   ]
  },
  {
   "cell_type": "markdown",
   "metadata": {},
   "source": [
    "# 003\n",
    "\n",
    "現実写真のみ、文字なし、固有名詞含む大喜利も使用"
   ]
  },
  {
   "cell_type": "code",
   "execution_count": null,
   "metadata": {},
   "outputs": [],
   "source": [
    "import os\n",
    "# データローダが使用するCPUのスレッド数(GPUの総スレッド数の8割が推奨)\n",
    "num_workers = int(os.cpu_count() * 0.8)\n",
    "print(num_workers)\n",
    "\n",
    "!python train.py \\\n",
    "    --num_workers {num_workers} \\\n",
    "    --experience_number \"003\" \\\n",
    "    --use_unique_noun_boke"
   ]
  },
  {
   "cell_type": "markdown",
   "metadata": {},
   "source": [
    "# 004\n",
    "\n",
    "現実写真のみ、文字含む画像あり、固有名詞全部なし"
   ]
  },
  {
   "cell_type": "code",
   "execution_count": null,
   "metadata": {},
   "outputs": [],
   "source": [
    "import os\n",
    "# データローダが使用するCPUのスレッド数(GPUの総スレッド数の8割が推奨)\n",
    "num_workers = int(os.cpu_count() * 0.8)\n",
    "print(num_workers)\n",
    "\n",
    "!python train.py \\\n",
    "    --num_workers {num_workers} \\\n",
    "    --experience_number \"004\" \\\n",
    "    --use_word_image"
   ]
  },
  {
   "cell_type": "markdown",
   "metadata": {},
   "source": [
    "# 005\n",
    "\n",
    "現実写真以外も使用、文字含む画像なし、固有名詞含む大喜利も使用"
   ]
  },
  {
   "cell_type": "code",
   "execution_count": null,
   "metadata": {},
   "outputs": [],
   "source": [
    "import os\n",
    "# データローダが使用するCPUのスレッド数(GPUの総スレッド数の8割が推奨)\n",
    "num_workers = int(os.cpu_count() * 0.8)\n",
    "print(num_workers)\n",
    "\n",
    "!python train.py \\\n",
    "    --num_workers {num_workers} \\\n",
    "    --experience_number \"005\" \\\n",
    "    --use_unique_noun_boke \\\n",
    "    --use_unreal_image"
   ]
  }
 ],
 "metadata": {
  "kernelspec": {
   "display_name": "Python 3",
   "language": "python",
   "name": "python3"
  },
  "language_info": {
   "codemirror_mode": {
    "name": "ipython",
    "version": 3
   },
   "file_extension": ".py",
   "mimetype": "text/x-python",
   "name": "python",
   "nbconvert_exporter": "python",
   "pygments_lexer": "ipython3",
   "version": "3.10.12"
  }
 },
 "nbformat": 4,
 "nbformat_minor": 2
}
