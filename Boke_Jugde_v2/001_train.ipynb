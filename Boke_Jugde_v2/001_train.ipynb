{
 "cells": [
  {
   "cell_type": "markdown",
   "metadata": {},
   "source": [
    "# データローダが使用するCPUのスレッド数(GPUの総スレッド数の8割が推奨)"
   ]
  },
  {
   "cell_type": "code",
   "execution_count": 1,
   "metadata": {},
   "outputs": [
    {
     "data": {
      "text/plain": [
       "25"
      ]
     },
     "execution_count": 1,
     "metadata": {},
     "output_type": "execute_result"
    }
   ],
   "source": [
    "import os\n",
    "\n",
    "num_workers = int(os.cpu_count() * 0.8)\n",
    "\n",
    "# \n",
    "num_workers"
   ]
  },
  {
   "cell_type": "markdown",
   "metadata": {},
   "source": [
    "# 001\n",
    "\n",
    "現実写真のみ、文字なし、固有名詞全部なし、キャプション、ほかの画像の大喜利"
   ]
  },
  {
   "cell_type": "code",
   "execution_count": null,
   "metadata": {},
   "outputs": [
    {
     "name": "stdout",
     "output_type": "stream",
     "text": [
      "2024-12-13 12:04:55.739077: E external/local_xla/xla/stream_executor/cuda/cuda_fft.cc:485] Unable to register cuFFT factory: Attempting to register factory for plugin cuFFT when one has already been registered\n",
      "2024-12-13 12:04:55.747611: E external/local_xla/xla/stream_executor/cuda/cuda_dnn.cc:8454] Unable to register cuDNN factory: Attempting to register factory for plugin cuDNN when one has already been registered\n",
      "2024-12-13 12:04:55.751597: E external/local_xla/xla/stream_executor/cuda/cuda_blas.cc:1452] Unable to register cuBLAS factory: Attempting to register factory for plugin cuBLAS when one has already been registered\n",
      "2024-12-13 12:04:55.764583: I tensorflow/core/platform/cpu_feature_guard.cc:210] This TensorFlow binary is optimized to use available CPU instructions in performance-critical operations.\n",
      "To enable the following instructions: AVX2 FMA, in other operations, rebuild TensorFlow with the appropriate compiler flags.\n",
      "2024-12-13 12:04:56.376240: W tensorflow/compiler/tf2tensorrt/utils/py_utils.cc:38] TF-TRT Warning: Could not find TensorRT\n",
      "学習に用いる大喜利の数: 2297194, 学習に用いるキャプションの数: 251799, 検証に用いる大喜利の数: 23204, 検証に用いるキャプションの数: 2544\n",
      "2297194it [00:01, 1184082.17it/s]\n",
      "num data: 4846187\n",
      "Epoch 1/25:   2%| | 1726/75722 [00:19<13:00, 94.79it/s, train_loss=0.669, train_"
     ]
    }
   ],
   "source": [
    "!python train.py \\\n",
    "    --num_workers {num_workers} \\\n",
    "    --experience_number \"001\" \\\n",
    "    --use_caption \\\n",
    "    --use_miss_boke \\\n",
    "    --num_ratio_miss_boke 1"
   ]
  },
  {
   "cell_type": "markdown",
   "metadata": {},
   "source": [
    "# 002\n",
    "\n",
    "現実写真以外を含む、文字なし、固有名詞全部なし、キャプション、ほかの画像の大喜利"
   ]
  },
  {
   "cell_type": "code",
   "execution_count": 4,
   "metadata": {},
   "outputs": [
    {
     "name": "stdout",
     "output_type": "stream",
     "text": [
      "2024-12-13 11:56:34.636369: E external/local_xla/xla/stream_executor/cuda/cuda_fft.cc:485] Unable to register cuFFT factory: Attempting to register factory for plugin cuFFT when one has already been registered\n",
      "2024-12-13 11:56:34.644877: E external/local_xla/xla/stream_executor/cuda/cuda_dnn.cc:8454] Unable to register cuDNN factory: Attempting to register factory for plugin cuDNN when one has already been registered\n",
      "2024-12-13 11:56:34.647324: E external/local_xla/xla/stream_executor/cuda/cuda_blas.cc:1452] Unable to register cuBLAS factory: Attempting to register factory for plugin cuBLAS when one has already been registered\n",
      "2024-12-13 11:56:34.653481: I tensorflow/core/platform/cpu_feature_guard.cc:210] This TensorFlow binary is optimized to use available CPU instructions in performance-critical operations.\n",
      "To enable the following instructions: AVX2 FMA, in other operations, rebuild TensorFlow with the appropriate compiler flags.\n",
      "2024-12-13 11:56:35.165996: W tensorflow/compiler/tf2tensorrt/utils/py_utils.cc:38] TF-TRT Warning: Could not find TensorRT\n",
      "100%|█████████████████████████████████| 668970/668970 [02:17<00:00, 4870.61it/s]\n",
      "学習に用いる大喜利の数: 2966872, 学習に用いるキャプションの数: 317069, 検証に用いる大喜利の数: 29969, 検証に用いるキャプションの数: 3203\n",
      "2966872it [00:03, 888499.87it/s]\n",
      "num data: 6250813\n",
      "Epoch 1/25:   3%| | 3286/97669 [00:35<16:26, 95.70it/s, train_loss=0.662, train_^C\n",
      "Exception ignored in: <function _xla_gc_callback at 0x7fc3a441fc70>\n",
      "Traceback (most recent call last):\n",
      "  File \"/home/user/.conda/envs/Colab_20241111/lib/python3.10/site-packages/jax/_src/lib/__init__.py\", line 96, in _xla_gc_callback\n",
      "    def _xla_gc_callback(*args):\n",
      "KeyboardInterrupt: \n",
      "Epoch 1/25:   3%| | 3295/97669 [00:36<17:11, 91.47it/s, train_loss=0.662, train_\n",
      "Traceback (most recent call last):\n",
      "  File \"/home/user/workspace/Master_Thesis/Master_Thesis_programs/Boke_Jugde_v2/train.py\", line 152, in <module>\n",
      "    loss, accuracy = train_step(model, optimizer, (CIF, CSF, LSF), TS)\n",
      "  File \"/home/user/workspace/Master_Thesis/Master_Thesis_programs/Boke_Jugde_v2/utils.py\", line 173, in train_step\n",
      "    loss.backward()\n",
      "  File \"/home/user/.conda/envs/Colab_20241111/lib/python3.10/site-packages/torch/_tensor.py\", line 581, in backward\n",
      "    torch.autograd.backward(\n",
      "  File \"/home/user/.conda/envs/Colab_20241111/lib/python3.10/site-packages/torch/autograd/__init__.py\", line 347, in backward\n",
      "    _engine_run_backward(\n",
      "  File \"/home/user/.conda/envs/Colab_20241111/lib/python3.10/site-packages/torch/autograd/graph.py\", line 825, in _engine_run_backward\n",
      "    return Variable._execution_engine.run_backward(  # Calls into the C++ engine to run the backward pass\n",
      "KeyboardInterrupt\n"
     ]
    }
   ],
   "source": [
    "!python train.py \\\n",
    "    --num_workers {num_workers} \\\n",
    "    --experience_number \"002\" \\\n",
    "    --use_unreal_image \\\n",
    "    --use_caption \\\n",
    "    --use_miss_boke \\\n",
    "    --num_ratio_miss_boke 1"
   ]
  },
  {
   "cell_type": "markdown",
   "metadata": {},
   "source": [
    "# 003\n",
    "\n",
    "現実写真のみ、文字なし、固有名詞含む、キャプション、ほかの画像の大喜利"
   ]
  },
  {
   "cell_type": "code",
   "execution_count": 5,
   "metadata": {},
   "outputs": [
    {
     "name": "stdout",
     "output_type": "stream",
     "text": [
      "2024-12-13 11:59:54.343059: E external/local_xla/xla/stream_executor/cuda/cuda_fft.cc:485] Unable to register cuFFT factory: Attempting to register factory for plugin cuFFT when one has already been registered\n",
      "2024-12-13 11:59:54.351346: E external/local_xla/xla/stream_executor/cuda/cuda_dnn.cc:8454] Unable to register cuDNN factory: Attempting to register factory for plugin cuDNN when one has already been registered\n",
      "2024-12-13 11:59:54.353744: E external/local_xla/xla/stream_executor/cuda/cuda_blas.cc:1452] Unable to register cuBLAS factory: Attempting to register factory for plugin cuBLAS when one has already been registered\n",
      "2024-12-13 11:59:54.359603: I tensorflow/core/platform/cpu_feature_guard.cc:210] This TensorFlow binary is optimized to use available CPU instructions in performance-critical operations.\n",
      "To enable the following instructions: AVX2 FMA, in other operations, rebuild TensorFlow with the appropriate compiler flags.\n",
      "2024-12-13 11:59:54.957311: W tensorflow/compiler/tf2tensorrt/utils/py_utils.cc:38] TF-TRT Warning: Could not find TensorRT\n",
      "100%|█████████████████████████████████| 668970/668970 [02:05<00:00, 5309.89it/s]\n",
      "学習に用いる大喜利の数: 4723798, 学習に用いるキャプションの数: 251799, 検証に用いる大喜利の数: 47716, 検証に用いるキャプションの数: 2544\n",
      "4723798it [00:05, 831846.02it/s]\n",
      "num data: 9699395\n",
      "Epoch 1/25:   0%| | 248/151554 [00:05<38:04, 66.24it/s, train_loss=0.695, train_^C\n",
      "Epoch 1/25:   0%| | 249/151554 [00:05<59:42, 42.23it/s, train_loss=0.695, train_\n",
      "Traceback (most recent call last):\n",
      "  File \"/home/user/workspace/Master_Thesis/Master_Thesis_programs/Boke_Jugde_v2/train.py\", line 152, in <module>\n",
      "    loss, accuracy = train_step(model, optimizer, (CIF, CSF, LSF), TS)\n",
      "  File \"/home/user/workspace/Master_Thesis/Master_Thesis_programs/Boke_Jugde_v2/utils.py\", line 174, in train_step\n",
      "    optimizer.step()\n",
      "  File \"/home/user/.conda/envs/Colab_20241111/lib/python3.10/site-packages/torch/optim/optimizer.py\", line 487, in wrapper\n",
      "    out = func(*args, **kwargs)\n",
      "  File \"/home/user/.conda/envs/Colab_20241111/lib/python3.10/site-packages/torch/optim/optimizer.py\", line 91, in _use_grad\n",
      "    ret = func(self, *args, **kwargs)\n",
      "  File \"/home/user/.conda/envs/Colab_20241111/lib/python3.10/site-packages/torch/optim/adamw.py\", line 220, in step\n",
      "    adamw(\n",
      "  File \"/home/user/.conda/envs/Colab_20241111/lib/python3.10/site-packages/torch/optim/optimizer.py\", line 154, in maybe_fallback\n",
      "    return func(*args, **kwargs)\n",
      "  File \"/home/user/.conda/envs/Colab_20241111/lib/python3.10/site-packages/torch/optim/adamw.py\", line 782, in adamw\n",
      "    func(\n",
      "  File \"/home/user/.conda/envs/Colab_20241111/lib/python3.10/site-packages/torch/optim/adamw.py\", line 427, in _single_tensor_adamw\n",
      "    denom = (exp_avg_sq.sqrt() / bias_correction2_sqrt).add_(eps)\n",
      "KeyboardInterrupt\n"
     ]
    }
   ],
   "source": [
    "!python train.py \\\n",
    "    --num_workers {num_workers} \\\n",
    "    --experience_number \"003\" \\\n",
    "    --use_unique_noun_boke \\\n",
    "    --use_caption \\\n",
    "    --use_miss_boke \\\n",
    "    --num_ratio_miss_boke 1"
   ]
  },
  {
   "cell_type": "markdown",
   "metadata": {},
   "source": [
    "# 004\n",
    "\n",
    "現実写真のみ、文字なし、固有名詞全部なし、キャプション無し、ほかの画像の大喜利"
   ]
  },
  {
   "cell_type": "code",
   "execution_count": 6,
   "metadata": {},
   "outputs": [
    {
     "name": "stdout",
     "output_type": "stream",
     "text": [
      "2024-12-13 12:02:43.813813: E external/local_xla/xla/stream_executor/cuda/cuda_fft.cc:485] Unable to register cuFFT factory: Attempting to register factory for plugin cuFFT when one has already been registered\n",
      "2024-12-13 12:02:43.822087: E external/local_xla/xla/stream_executor/cuda/cuda_dnn.cc:8454] Unable to register cuDNN factory: Attempting to register factory for plugin cuDNN when one has already been registered\n",
      "2024-12-13 12:02:43.824539: E external/local_xla/xla/stream_executor/cuda/cuda_blas.cc:1452] Unable to register cuBLAS factory: Attempting to register factory for plugin cuBLAS when one has already been registered\n",
      "2024-12-13 12:02:43.830560: I tensorflow/core/platform/cpu_feature_guard.cc:210] This TensorFlow binary is optimized to use available CPU instructions in performance-critical operations.\n",
      "To enable the following instructions: AVX2 FMA, in other operations, rebuild TensorFlow with the appropriate compiler flags.\n",
      "2024-12-13 12:02:44.369080: W tensorflow/compiler/tf2tensorrt/utils/py_utils.cc:38] TF-TRT Warning: Could not find TensorRT\n",
      "100%|████████████████████████████████| 668970/668970 [00:22<00:00, 30107.96it/s]\n",
      "学習に用いる大喜利の数: 2297194, 学習に用いるキャプションの数: 251799, 検証に用いる大喜利の数: 23204, 検証に用いるキャプションの数: 2544\n",
      "2297194it [00:02, 875489.05it/s]\n",
      "num data: 4594388\n",
      "Epoch 1/25:   0%| | 159/71788 [00:03<13:06, 91.09it/s, train_loss=0.713, train_a^C\n",
      "Epoch 1/25:   0%| | 164/71788 [00:03<22:23, 53.33it/s, train_loss=0.713, train_a\n",
      "Traceback (most recent call last):\n",
      "  File \"/home/user/workspace/Master_Thesis/Master_Thesis_programs/Boke_Jugde_v2/train.py\", line 152, in <module>\n",
      "    loss, accuracy = train_step(model, optimizer, (CIF, CSF, LSF), TS)\n",
      "  File \"/home/user/workspace/Master_Thesis/Master_Thesis_programs/Boke_Jugde_v2/utils.py\", line 174, in train_step\n",
      "    optimizer.step()\n",
      "  File \"/home/user/.conda/envs/Colab_20241111/lib/python3.10/site-packages/torch/optim/optimizer.py\", line 472, in wrapper\n",
      "    with torch.autograd.profiler.record_function(profile_name):\n",
      "  File \"/home/user/.conda/envs/Colab_20241111/lib/python3.10/site-packages/torch/autograd/profiler.py\", line 733, in __enter__\n",
      "    self.record = torch.ops.profiler._record_function_enter_new(\n",
      "  File \"/home/user/.conda/envs/Colab_20241111/lib/python3.10/site-packages/torch/_ops.py\", line 1116, in __call__\n",
      "    return self._op(*args, **(kwargs or {}))\n",
      "KeyboardInterrupt\n"
     ]
    }
   ],
   "source": [
    "!python train.py \\\n",
    "    --num_workers {num_workers} \\\n",
    "    --experience_number \"004\" \\\n",
    "    --use_miss_boke \\\n",
    "    --num_ratio_miss_boke 1"
   ]
  },
  {
   "cell_type": "markdown",
   "metadata": {},
   "source": [
    "# 005\n",
    "\n",
    "現実写真のみ、文字なし、固有名詞全部なし、キャプション、ほかの画像の大喜利を正例の2倍"
   ]
  },
  {
   "cell_type": "code",
   "execution_count": 7,
   "metadata": {},
   "outputs": [
    {
     "name": "stdout",
     "output_type": "stream",
     "text": [
      "2024-12-13 12:03:29.734421: E external/local_xla/xla/stream_executor/cuda/cuda_fft.cc:485] Unable to register cuFFT factory: Attempting to register factory for plugin cuFFT when one has already been registered\n",
      "2024-12-13 12:03:29.742873: E external/local_xla/xla/stream_executor/cuda/cuda_dnn.cc:8454] Unable to register cuDNN factory: Attempting to register factory for plugin cuDNN when one has already been registered\n",
      "2024-12-13 12:03:29.745382: E external/local_xla/xla/stream_executor/cuda/cuda_blas.cc:1452] Unable to register cuBLAS factory: Attempting to register factory for plugin cuBLAS when one has already been registered\n",
      "2024-12-13 12:03:29.751656: I tensorflow/core/platform/cpu_feature_guard.cc:210] This TensorFlow binary is optimized to use available CPU instructions in performance-critical operations.\n",
      "To enable the following instructions: AVX2 FMA, in other operations, rebuild TensorFlow with the appropriate compiler flags.\n",
      "2024-12-13 12:03:30.261305: W tensorflow/compiler/tf2tensorrt/utils/py_utils.cc:38] TF-TRT Warning: Could not find TensorRT\n",
      "100%|████████████████████████████████| 668970/668970 [00:21<00:00, 30986.67it/s]\n",
      "学習に用いる大喜利の数: 2297194, 学習に用いるキャプションの数: 251799, 検証に用いる大喜利の数: 23204, 検証に用いるキャプションの数: 2544\n",
      "2297194it [00:02, 899527.62it/s]\n",
      "2297194it [00:02, 984127.42it/s]\n",
      "num data: 7143381\n",
      "Epoch 1/25:   2%| | 2326/111616 [00:26<19:11, 94.88it/s, train_loss=0.618, train^C\n",
      "Epoch 1/25:   2%| | 2330/111616 [00:26<20:59, 86.78it/s, train_loss=0.618, train\n",
      "Traceback (most recent call last):\n",
      "  File \"/home/user/workspace/Master_Thesis/Master_Thesis_programs/Boke_Jugde_v2/train.py\", line 152, in <module>\n",
      "    loss, accuracy = train_step(model, optimizer, (CIF, CSF, LSF), TS)\n",
      "  File \"/home/user/workspace/Master_Thesis/Master_Thesis_programs/Boke_Jugde_v2/utils.py\", line 174, in train_step\n",
      "    optimizer.step()\n",
      "  File \"/home/user/.conda/envs/Colab_20241111/lib/python3.10/site-packages/torch/optim/optimizer.py\", line 487, in wrapper\n",
      "    out = func(*args, **kwargs)\n",
      "  File \"/home/user/.conda/envs/Colab_20241111/lib/python3.10/site-packages/torch/optim/optimizer.py\", line 91, in _use_grad\n",
      "    ret = func(self, *args, **kwargs)\n",
      "  File \"/home/user/.conda/envs/Colab_20241111/lib/python3.10/site-packages/torch/optim/adamw.py\", line 220, in step\n",
      "    adamw(\n",
      "  File \"/home/user/.conda/envs/Colab_20241111/lib/python3.10/site-packages/torch/optim/optimizer.py\", line 154, in maybe_fallback\n",
      "    return func(*args, **kwargs)\n",
      "  File \"/home/user/.conda/envs/Colab_20241111/lib/python3.10/site-packages/torch/optim/adamw.py\", line 782, in adamw\n",
      "    func(\n",
      "  File \"/home/user/.conda/envs/Colab_20241111/lib/python3.10/site-packages/torch/optim/adamw.py\", line 372, in _single_tensor_adamw\n",
      "    param.mul_(1 - lr * weight_decay)\n",
      "KeyboardInterrupt\n"
     ]
    }
   ],
   "source": [
    "!python train.py \\\n",
    "    --num_workers {num_workers} \\\n",
    "    --experience_number \"005\" \\\n",
    "    --use_caption \\\n",
    "    --use_miss_boke \\\n",
    "    --num_ratio_miss_boke 2 "
   ]
  }
 ],
 "metadata": {
  "kernelspec": {
   "display_name": "Colab_20241111",
   "language": "python",
   "name": "python3"
  },
  "language_info": {
   "codemirror_mode": {
    "name": "ipython",
    "version": 3
   },
   "file_extension": ".py",
   "mimetype": "text/x-python",
   "name": "python",
   "nbconvert_exporter": "python",
   "pygments_lexer": "ipython3",
   "version": "3.10.12"
  }
 },
 "nbformat": 4,
 "nbformat_minor": 2
}
